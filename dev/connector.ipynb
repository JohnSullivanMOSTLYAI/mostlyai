{
 "cells": [
  {
   "cell_type": "code",
   "execution_count": 13,
   "id": "17cdd2998de94b15",
   "metadata": {
    "collapsed": false,
    "jupyter": {
     "outputs_hidden": false
    }
   },
   "outputs": [],
   "source": [
    "# ensure that any code changes are immediately reflected\n",
    "%reload_ext autoreload\n",
    "%autoreload 2"
   ]
  },
  {
   "cell_type": "code",
   "execution_count": 14,
   "id": "4c1dc3be1c98389b",
   "metadata": {
    "collapsed": false,
    "jupyter": {
     "outputs_hidden": false
    }
   },
   "outputs": [],
   "source": [
    "from mostlyai import MostlyAI"
   ]
  },
  {
   "cell_type": "code",
   "execution_count": 15,
   "id": "73003c20e1b5a902",
   "metadata": {
    "collapsed": false,
    "jupyter": {
     "outputs_hidden": false
    }
   },
   "outputs": [
    {
     "name": "stdout",
     "output_type": "stream",
     "text": [
      "env: MOSTLY_PASSWORD=Mostly01!\n"
     ]
    }
   ],
   "source": [
    "%env MOSTLY_PASSWORD Mostly01!"
   ]
  },
  {
   "cell_type": "code",
   "execution_count": 16,
   "id": "a53102e34ee059c3",
   "metadata": {
    "collapsed": false,
    "jupyter": {
     "outputs_hidden": false
    }
   },
   "outputs": [],
   "source": [
    "client = MostlyAI()"
   ]
  },
  {
   "cell_type": "code",
   "execution_count": 18,
   "id": "6490411f-db1a-4840-9c19-22990b53a9c1",
   "metadata": {},
   "outputs": [
    {
     "data": {
      "text/plain": [
       "<generator object _MostlyConnectorClient.list at 0x1166222e0>"
      ]
     },
     "execution_count": 18,
     "metadata": {},
     "output_type": "execute_result"
    }
   ],
   "source": [
    "client.connectors.list()"
   ]
  },
  {
   "cell_type": "code",
   "execution_count": 30,
   "id": "8a197e92d7b12d04",
   "metadata": {
    "collapsed": false,
    "jupyter": {
     "outputs_hidden": false
    }
   },
   "outputs": [
    {
     "name": "stdout",
     "output_type": "stream",
     "text": [
      "158x S3_STORAGE: \n",
      "105x GOOGLE_CLOUD_STORAGE: \n",
      "121x AZURE_STORAGE: \n",
      " 92x DATABRICKS: \n",
      "113x BIGQUERY: \n",
      " 90x SNOWFLAKE: \n",
      " 87x MARIADB: \n",
      " 82x ORACLE: \n",
      "102x POSTGRES: \n",
      " 87x MSSQL: \n",
      " 96x MYSQL: \n"
     ]
    }
   ],
   "source": [
    "# count connectors by type\n",
    "cnt_connectors = {}\n",
    "for connector in client.connectors.list():\n",
    "    cnt_connectors[connector.type] = cnt_connectors.get(connector.type, 0) + 1\n",
    "\n",
    "for type in connector_types:\n",
    "    print(f\"{connector_types[type]:3d}x {type.value}\")"
   ]
  },
  {
   "cell_type": "code",
   "execution_count": 34,
   "id": "1566fc588c5db0f1",
   "metadata": {
    "collapsed": false,
    "jupyter": {
     "outputs_hidden": false
    }
   },
   "outputs": [
    {
     "data": {
      "text/plain": [
       "Connector(client=<mostlyai.api._MostlyConnectorClient object at 0x110aa2bb0>, id=UUID('9a075999-b758-44cb-a5a6-0c50864ee777'), name='Michi New POSTGRES Connector', type=<ConnectorType.postgres: 'POSTGRES'>, access_type=<ConnectorAccessType.source: 'SOURCE'>, config={'host': 'postgres-test.cppq7davohkj.eu-central-1.rds.amazonaws.com', 'username': 'postgres', 'database': 'order_management_seq_10k'}, secrets={'password': '****************'}, ssl=None, metadata=Metadata(client=None, created_at='2023-12-22T13:00:27.491445Z', owner_id='dummy_user_id', owner_name='dummy_user'), table_id=None)"
      ]
     },
     "execution_count": 34,
     "metadata": {},
     "output_type": "execute_result"
    }
   ],
   "source": [
    "# create new connector\n",
    "new_connector = {\n",
    "    \"name\": f\"Michi New POSTGRES Connector\",\n",
    "    \"type\": \"POSTGRES\",\n",
    "    \"accessType\": \"SOURCE\",\n",
    "    \"config\": {\n",
    "        \"host\": \"postgres-test.cppq7davohkj.eu-central-1.rds.amazonaws.com\",\n",
    "        \"username\": \"postgres\",\n",
    "        \"database\": \"order_management_seq_10k\",\n",
    "    },\n",
    "    \"secrets\": {\n",
    "        \"password\": \"Ger#ofted6\",\n",
    "    },\n",
    "}\n",
    "\n",
    "result = client.connectors.create(**new_connector)\n",
    "result"
   ]
  },
  {
   "cell_type": "code",
   "execution_count": 35,
   "id": "19d3b3813d4bbee0",
   "metadata": {
    "collapsed": false,
    "jupyter": {
     "outputs_hidden": false
    }
   },
   "outputs": [
    {
     "data": {
      "text/plain": [
       "Connector(client=<mostlyai.api._MostlyConnectorClient object at 0x110aa2bb0>, id=UUID('9a075999-b758-44cb-a5a6-0c50864ee777'), name='Updated POSTGRES Connector', type=<ConnectorType.postgres: 'POSTGRES'>, access_type=<ConnectorAccessType.source: 'SOURCE'>, config={'host': 'postgres-test.cppq7davohkj.eu-central-1.rds.amazonaws.com', 'username': 'postgres', 'database': 'order_management_seq_10k'}, secrets={'password': '****************'}, ssl=None, metadata=Metadata(client=None, created_at='2023-12-22T13:00:27.491445Z', owner_id='dummy_user_id', owner_name='dummy_user'), table_id=None)"
      ]
     },
     "execution_count": 35,
     "metadata": {},
     "output_type": "execute_result"
    }
   ],
   "source": [
    "# update existing connector\n",
    "connector_id = result.id\n",
    "edited_connector = {\"name\": \"Updated POSTGRES Connector\"}\n",
    "client.connectors.update(connector_id, **edited_connector)"
   ]
  },
  {
   "cell_type": "code",
   "execution_count": 38,
   "id": "9bf0596a-9199-49c7-8a8c-2a7cf9b03f7d",
   "metadata": {},
   "outputs": [
    {
     "data": {
      "text/plain": [
       "Connector(client=<mostlyai.api._MostlyConnectorClient object at 0x110aa2bb0>, id=UUID('9a075999-b758-44cb-a5a6-0c50864ee777'), name='Updated POSTGRES Connector', type=<ConnectorType.postgres: 'POSTGRES'>, access_type=<ConnectorAccessType.source: 'SOURCE'>, config={'host': 'postgres-test.cppq7davohkj.eu-central-1.rds.amazonaws.com', 'username': 'postgres', 'database': 'order_management_seq_10k'}, secrets={'password': '****************'}, ssl=None, metadata=Metadata(client=None, created_at='2023-12-22T13:00:27.491445Z', owner_id='dummy_user_id', owner_name='dummy_user'), table_id=None)"
      ]
     },
     "execution_count": 38,
     "metadata": {},
     "output_type": "execute_result"
    }
   ],
   "source": [
    "updated_connector = client.connectors.get(connector_id)\n",
    "updated_connector"
   ]
  },
  {
   "cell_type": "code",
   "execution_count": 39,
   "id": "e481e137bd1a899d",
   "metadata": {
    "collapsed": false,
    "jupyter": {
     "outputs_hidden": false
    }
   },
   "outputs": [
    {
     "ename": "NameError",
     "evalue": "name 'updated_connectors' is not defined",
     "output_type": "error",
     "traceback": [
      "\u001b[0;31m---------------------------------------------------------------------------\u001b[0m",
      "\u001b[0;31mNameError\u001b[0m                                 Traceback (most recent call last)",
      "Cell \u001b[0;32mIn[39], line 2\u001b[0m\n\u001b[1;32m      1\u001b[0m \u001b[38;5;66;03m# mostly_client.connector.locations(connector_id)\u001b[39;00m\n\u001b[0;32m----> 2\u001b[0m \u001b[43mupdated_connectors\u001b[49m\u001b[38;5;241m.\u001b[39mlocations()\n",
      "\u001b[0;31mNameError\u001b[0m: name 'updated_connectors' is not defined"
     ]
    }
   ],
   "source": [
    "# mostly_client.connector.locations(connector_id)\n",
    "updated_connectors.locations()"
   ]
  },
  {
   "cell_type": "code",
   "execution_count": null,
   "id": "52aaf2e08f62abad",
   "metadata": {
    "collapsed": false,
    "jupyter": {
     "outputs_hidden": false
    }
   },
   "outputs": [],
   "source": [
    "# mostly_client.connector.locations(connector_id, \"public\")\n",
    "updated_connector.locations(\"public\")"
   ]
  },
  {
   "cell_type": "code",
   "execution_count": null,
   "id": "8517f6c3b9179821",
   "metadata": {
    "collapsed": false,
    "jupyter": {
     "outputs_hidden": false
    }
   },
   "outputs": [],
   "source": [
    "mostly_client.connector.delete(connector_id)"
   ]
  }
 ],
 "metadata": {
  "kernelspec": {
   "display_name": "Python 3 (ipykernel)",
   "language": "python",
   "name": "python3"
  },
  "language_info": {
   "codemirror_mode": {
    "name": "ipython",
    "version": 3
   },
   "file_extension": ".py",
   "mimetype": "text/x-python",
   "name": "python",
   "nbconvert_exporter": "python",
   "pygments_lexer": "ipython3",
   "version": "3.9.18"
  }
 },
 "nbformat": 4,
 "nbformat_minor": 5
}
