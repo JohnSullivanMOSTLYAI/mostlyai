{
 "cells": [
  {
   "cell_type": "code",
   "execution_count": null,
   "outputs": [],
   "source": [
    "# ensure that any code changes are immediately reflected\n",
    "%reload_ext autoreload\n",
    "%autoreload 2"
   ],
   "metadata": {
    "collapsed": false
   },
   "id": "17cdd2998de94b15"
  },
  {
   "cell_type": "code",
   "execution_count": null,
   "outputs": [],
   "source": [
    "from mostlyai import MostlyAI"
   ],
   "metadata": {
    "collapsed": false
   },
   "id": "4c1dc3be1c98389b"
  },
  {
   "cell_type": "code",
   "execution_count": null,
   "outputs": [],
   "source": [
    "%env MOSTLY_PASSWORD Mostly01!"
   ],
   "metadata": {
    "collapsed": false
   },
   "id": "73003c20e1b5a902"
  },
  {
   "cell_type": "code",
   "execution_count": null,
   "outputs": [],
   "source": [
    "mostly_client = MostlyAI()"
   ],
   "metadata": {
    "collapsed": false
   },
   "id": "a53102e34ee059c3"
  },
  {
   "cell_type": "code",
   "execution_count": null,
   "outputs": [],
   "source": [
    "connector_types = {}\n",
    "for connector in mostly_client.connector.list():\n",
    "    if connector.type not in connector_types:\n",
    "        connector_types[connector.type] = 0\n",
    "    connector_types[connector.type] += 1\n",
    "print(connector_types)"
   ],
   "metadata": {
    "collapsed": false
   },
   "id": "8a197e92d7b12d04"
  },
  {
   "cell_type": "code",
   "execution_count": null,
   "outputs": [],
   "source": [
    "new_connector = {\n",
    "        \"name\": f\"New POSTGRES Connector\",\n",
    "        \"type\": \"POSTGRES\",\n",
    "        \"accessType\": \"SOURCE\",\n",
    "        \"config\": {\n",
    "            \"host\": \"postgres-test.cppq7davohkj.eu-central-1.rds.amazonaws.com\",\n",
    "            \"username\": \"postgres\",\n",
    "            \"database\": \"order_management_seq_10k\",\n",
    "        },\n",
    "        \"secrets\": {\n",
    "            \"password\": \"Ger#ofted6\",\n",
    "        },\n",
    "    }"
   ],
   "metadata": {
    "collapsed": false
   },
   "id": "1566fc588c5db0f1"
  },
  {
   "cell_type": "code",
   "execution_count": null,
   "outputs": [],
   "source": [
    "result = mostly_client.connector.create(**new_connector)"
   ],
   "metadata": {
    "collapsed": false
   },
   "id": "902b21edb3c67c2f"
  },
  {
   "cell_type": "code",
   "execution_count": null,
   "outputs": [],
   "source": [
    "result"
   ],
   "metadata": {
    "collapsed": false
   },
   "id": "9aa780a49852b779"
  },
  {
   "cell_type": "code",
   "execution_count": null,
   "outputs": [],
   "source": [
    "connector_id = result.id\n",
    "edited_connector = {\"name\": \"Updated POSTGRES Connector\"}\n",
    "mostly_client.connector.update(connector_id, **edited_connector)\n",
    "updated_connector = mostly_client.connector.get(connector_id)\n",
    "updated_connector"
   ],
   "metadata": {
    "collapsed": false
   },
   "id": "19d3b3813d4bbee0"
  },
  {
   "cell_type": "code",
   "execution_count": null,
   "outputs": [],
   "source": [
    "# mostly_client.connector.locations(connector_id)\n",
    "updated_connector.locations()"
   ],
   "metadata": {
    "collapsed": false
   },
   "id": "e481e137bd1a899d"
  },
  {
   "cell_type": "code",
   "execution_count": null,
   "outputs": [],
   "source": [
    "# mostly_client.connector.locations(connector_id, \"public\")\n",
    "updated_connector.locations(\"public\")"
   ],
   "metadata": {
    "collapsed": false
   },
   "id": "52aaf2e08f62abad"
  },
  {
   "cell_type": "code",
   "execution_count": null,
   "outputs": [],
   "source": [
    "mostly_client.connector.delete(connector_id)"
   ],
   "metadata": {
    "collapsed": false
   },
   "id": "8517f6c3b9179821"
  }
 ],
 "metadata": {
  "kernelspec": {
   "display_name": "Python 3",
   "language": "python",
   "name": "python3"
  },
  "language_info": {
   "codemirror_mode": {
    "name": "ipython",
    "version": 2
   },
   "file_extension": ".py",
   "mimetype": "text/x-python",
   "name": "python",
   "nbconvert_exporter": "python",
   "pygments_lexer": "ipython2",
   "version": "2.7.6"
  }
 },
 "nbformat": 4,
 "nbformat_minor": 5
}
