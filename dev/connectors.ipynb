{
 "cells": [
  {
   "cell_type": "markdown",
   "id": "26ba35ca-a722-4daf-926a-4f9bd3371f42",
   "metadata": {},
   "source": [
    "# MOSTLY AI - Python Client"
   ]
  },
  {
   "cell_type": "code",
   "execution_count": 10,
   "id": "17cdd2998de94b15",
   "metadata": {
    "collapsed": false,
    "ExecuteTime": {
     "end_time": "2024-02-14T13:14:46.716492Z",
     "start_time": "2024-02-14T13:14:46.676210Z"
    }
   },
   "outputs": [],
   "source": [
    "# ensure that any code changes are immediately reflected\n",
    "%reload_ext autoreload\n",
    "%autoreload 2"
   ]
  },
  {
   "cell_type": "code",
   "execution_count": 11,
   "id": "4c1dc3be1c98389b",
   "metadata": {
    "collapsed": false,
    "ExecuteTime": {
     "end_time": "2024-02-14T13:14:47.939981Z",
     "start_time": "2024-02-14T13:14:47.285270Z"
    }
   },
   "outputs": [],
   "source": [
    "from mostlyai import MostlyAI"
   ]
  },
  {
   "cell_type": "code",
   "execution_count": 12,
   "id": "73003c20e1b5a902",
   "metadata": {
    "collapsed": false,
    "ExecuteTime": {
     "end_time": "2024-02-14T13:14:48.565201Z",
     "start_time": "2024-02-14T13:14:48.515997Z"
    }
   },
   "outputs": [
    {
     "name": "stdout",
     "output_type": "stream",
     "text": [
      "env: MOSTLY_PASSWORD=Mostly01!\n"
     ]
    }
   ],
   "source": [
    "%env MOSTLY_PASSWORD Mostly01!"
   ]
  },
  {
   "cell_type": "code",
   "execution_count": 13,
   "id": "a53102e34ee059c3",
   "metadata": {
    "collapsed": false,
    "ExecuteTime": {
     "end_time": "2024-02-14T13:14:49.806525Z",
     "start_time": "2024-02-14T13:14:49.416563Z"
    }
   },
   "outputs": [],
   "source": [
    "client = MostlyAI()"
   ]
  },
  {
   "cell_type": "markdown",
   "id": "74f1ecd7-cbab-4015-bebc-0badf2245945",
   "metadata": {},
   "source": [
    "## Connectors"
   ]
  },
  {
   "cell_type": "code",
   "execution_count": 14,
   "id": "6490411f-db1a-4840-9c19-22990b53a9c1",
   "metadata": {
    "ExecuteTime": {
     "end_time": "2024-02-14T13:14:53.256102Z",
     "start_time": "2024-02-14T13:14:52.213165Z"
    }
   },
   "outputs": [
    {
     "name": "stdout",
     "output_type": "stream",
     "text": [
      "ConnectorAccessType.source\n",
      "ConnectorAccessType.source\n",
      "ConnectorAccessType.source\n",
      "ConnectorAccessType.source\n",
      "ConnectorAccessType.destination\n",
      "ConnectorAccessType.destination\n",
      "ConnectorAccessType.destination\n",
      "ConnectorAccessType.source\n",
      "ConnectorAccessType.source\n",
      "ConnectorAccessType.destination\n",
      "ConnectorAccessType.destination\n",
      "ConnectorAccessType.source\n",
      "ConnectorAccessType.source\n",
      "ConnectorAccessType.source\n",
      "ConnectorAccessType.source\n",
      "ConnectorAccessType.destination\n",
      "ConnectorAccessType.source\n",
      "ConnectorAccessType.destination\n",
      "ConnectorAccessType.destination\n",
      "ConnectorAccessType.destination\n",
      "ConnectorAccessType.source\n",
      "ConnectorAccessType.source\n",
      "ConnectorAccessType.source\n",
      "ConnectorAccessType.source\n",
      "ConnectorAccessType.source\n",
      "ConnectorAccessType.source\n",
      "ConnectorAccessType.source\n",
      "ConnectorAccessType.source\n",
      "ConnectorAccessType.source\n",
      "ConnectorAccessType.source\n",
      "ConnectorAccessType.source\n",
      "ConnectorAccessType.source\n",
      "ConnectorAccessType.source\n",
      "ConnectorAccessType.source\n",
      "ConnectorAccessType.source\n",
      "ConnectorAccessType.source\n",
      "ConnectorAccessType.source\n",
      "ConnectorAccessType.source\n",
      "ConnectorAccessType.source\n",
      "ConnectorAccessType.source\n",
      "ConnectorAccessType.source\n",
      "ConnectorAccessType.source\n",
      "ConnectorAccessType.source\n",
      "ConnectorAccessType.source\n",
      "ConnectorAccessType.source\n",
      "ConnectorAccessType.source\n",
      "ConnectorAccessType.source\n",
      "ConnectorAccessType.source\n",
      "ConnectorAccessType.source\n",
      "ConnectorAccessType.source\n",
      "ConnectorAccessType.source\n",
      "ConnectorAccessType.source\n",
      "ConnectorAccessType.source\n",
      "ConnectorAccessType.source\n",
      "ConnectorAccessType.source\n",
      "ConnectorAccessType.source\n",
      "ConnectorAccessType.source\n",
      "ConnectorAccessType.source\n",
      "ConnectorAccessType.source\n",
      "ConnectorAccessType.source\n",
      "ConnectorAccessType.source\n",
      "ConnectorAccessType.source\n",
      "ConnectorAccessType.source\n",
      "ConnectorAccessType.source\n",
      "ConnectorAccessType.source\n",
      "ConnectorAccessType.source\n",
      "ConnectorAccessType.source\n",
      "ConnectorAccessType.source\n",
      "ConnectorAccessType.source\n",
      "ConnectorAccessType.source\n",
      "ConnectorAccessType.source\n",
      "ConnectorAccessType.source\n",
      "ConnectorAccessType.source\n",
      "ConnectorAccessType.source\n",
      "ConnectorAccessType.source\n",
      "ConnectorAccessType.source\n",
      "ConnectorAccessType.source\n",
      "ConnectorAccessType.source\n",
      "ConnectorAccessType.source\n",
      "ConnectorAccessType.source\n",
      "ConnectorAccessType.source\n",
      "ConnectorAccessType.source\n",
      "ConnectorAccessType.destination\n",
      "ConnectorAccessType.destination\n",
      "ConnectorAccessType.source\n",
      "ConnectorAccessType.source\n",
      "ConnectorAccessType.source\n",
      "ConnectorAccessType.source\n",
      "ConnectorAccessType.source\n",
      "ConnectorAccessType.source\n",
      "ConnectorAccessType.source\n",
      "ConnectorAccessType.source\n",
      "ConnectorAccessType.source\n",
      "ConnectorAccessType.source\n",
      "ConnectorAccessType.source\n",
      "ConnectorAccessType.source\n",
      "ConnectorAccessType.source\n",
      "ConnectorAccessType.source\n",
      "ConnectorAccessType.source\n",
      "ConnectorAccessType.source\n",
      "ConnectorAccessType.destination\n",
      "ConnectorAccessType.source\n",
      "ConnectorAccessType.source\n",
      "ConnectorAccessType.source\n",
      "ConnectorAccessType.source\n",
      "ConnectorAccessType.source\n",
      "ConnectorAccessType.source\n",
      "ConnectorAccessType.source\n",
      "ConnectorAccessType.source\n",
      "ConnectorAccessType.source\n",
      "ConnectorAccessType.source\n",
      "ConnectorAccessType.source\n",
      "ConnectorAccessType.source\n",
      "ConnectorAccessType.source\n",
      "ConnectorAccessType.source\n",
      "ConnectorAccessType.source\n",
      "ConnectorAccessType.source\n",
      "ConnectorAccessType.source\n",
      "ConnectorAccessType.source\n",
      "ConnectorAccessType.source\n",
      "ConnectorAccessType.destination\n",
      "ConnectorAccessType.source\n",
      "ConnectorAccessType.source\n",
      "ConnectorAccessType.source\n",
      "ConnectorAccessType.source\n"
     ]
    }
   ],
   "source": [
    "# list connectors\n",
    "for c in client.connectors.list():\n",
    "    print(c.access_type)"
   ]
  },
  {
   "cell_type": "code",
   "execution_count": null,
   "id": "8a197e92d7b12d04",
   "metadata": {
    "collapsed": false
   },
   "outputs": [],
   "source": [
    "# count connectors by type\n",
    "cnt_connectors = {}\n",
    "for connector in client.connectors.list():\n",
    "    cnt_connectors[connector.type] = cnt_connectors.get(connector.type, 0) + 1\n",
    "\n",
    "for type in cnt_connectors:\n",
    "    print(f\"{cnt_connectors[type]:3d}x {type.value}\")"
   ]
  },
  {
   "cell_type": "code",
   "execution_count": null,
   "id": "1afc1fc7-ca90-423e-bef3-31a70e255f53",
   "metadata": {},
   "outputs": [],
   "source": [
    "# create new connector\n",
    "new_connector = client.connectors.create(\n",
    "    name = \"New POSTGRES Connector\",\n",
    "    type = \"POSTGRES\",\n",
    "    accessType = \"SOURCE\",\n",
    "    config = {\n",
    "        \"host\": \"postgres-test.cppq7davohkj.eu-central-1.rds.amazonaws.com\",\n",
    "        \"username\": \"postgres\",\n",
    "        \"database\": \"order_management_seq_10k\",\n",
    "    },\n",
    "    secrets = {\n",
    "        \"password\": \"Ger#ofted6\",\n",
    "    },\n",
    "    testConnection = True,\n",
    ")\n",
    "new_connector"
   ]
  },
  {
   "cell_type": "code",
   "execution_count": null,
   "id": "19d3b3813d4bbee0",
   "metadata": {
    "collapsed": false
   },
   "outputs": [],
   "source": [
    "# update that newly created connector\n",
    "updated_connector = client.connectors.update(\n",
    "    new_connector.id, \n",
    "    name=\"Updated POSTGRES Connector\"\n",
    ")\n",
    "updated_connector"
   ]
  },
  {
   "cell_type": "code",
   "execution_count": null,
   "id": "9bf0596a-9199-49c7-8a8c-2a7cf9b03f7d",
   "metadata": {},
   "outputs": [],
   "source": [
    "# retrieve connector\n",
    "client.connectors.get(new_connector.id)"
   ]
  },
  {
   "cell_type": "code",
   "execution_count": null,
   "id": "e481e137bd1a899d",
   "metadata": {
    "collapsed": false
   },
   "outputs": [],
   "source": [
    "# list locations I\n",
    "updated_connector.locations()"
   ]
  },
  {
   "cell_type": "code",
   "execution_count": null,
   "id": "52aaf2e08f62abad",
   "metadata": {
    "collapsed": false
   },
   "outputs": [],
   "source": [
    "# list locations II\n",
    "updated_connector.locations(\"public\")"
   ]
  },
  {
   "cell_type": "code",
   "execution_count": null,
   "id": "8517f6c3b9179821",
   "metadata": {
    "collapsed": false
   },
   "outputs": [],
   "source": [
    "# delete a connector\n",
    "client.connectors.delete(new_connector.id)"
   ]
  }
 ],
 "metadata": {
  "kernelspec": {
   "display_name": "Python 3 (ipykernel)",
   "language": "python",
   "name": "python3"
  },
  "language_info": {
   "codemirror_mode": {
    "name": "ipython",
    "version": 3
   },
   "file_extension": ".py",
   "mimetype": "text/x-python",
   "name": "python",
   "nbconvert_exporter": "python",
   "pygments_lexer": "ipython3",
   "version": "3.9.18"
  }
 },
 "nbformat": 4,
 "nbformat_minor": 5
}
