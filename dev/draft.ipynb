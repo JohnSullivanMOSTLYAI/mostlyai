{
 "cells": [
  {
   "cell_type": "code",
   "execution_count": 90,
   "id": "initial_id",
   "metadata": {
    "collapsed": true,
    "ExecuteTime": {
     "end_time": "2024-01-09T17:24:48.283611Z",
     "start_time": "2024-01-09T17:24:47.832693Z"
    }
   },
   "outputs": [
    {
     "name": "stdout",
     "output_type": "stream",
     "text": [
      "env: MOSTLY_PASSWORD=Mostly01!\n"
     ]
    }
   ],
   "source": [
    "# ensure that any code changes are immediately reflected\n",
    "%reload_ext autoreload\n",
    "%autoreload 2\n",
    "import pandas as pd\n",
    "from mostlyai import MostlyAI\n",
    "%env MOSTLY_PASSWORD Mostly01!\n",
    "\n",
    "client = MostlyAI()"
   ]
  },
  {
   "cell_type": "markdown",
   "source": [
    "## Draft"
   ],
   "metadata": {
    "collapsed": false
   },
   "id": "42047a63bde33d6d"
  },
  {
   "cell_type": "code",
   "execution_count": 91,
   "outputs": [],
   "source": [
    "g = client.generators.create(name=\"Mike's new generator\")\n",
    "table = g.add_table(location=\"public.Customer\", name=\"Customer\", sourceConnectorId=\"f18ec85f-a4b0-4c79-bacb-2693418d4587\")\n",
    "df = pd.DataFrame({'A': [1, 2], 'B': [3, 4]})"
   ],
   "metadata": {
    "collapsed": false,
    "ExecuteTime": {
     "end_time": "2024-01-09T17:24:50.570562Z",
     "start_time": "2024-01-09T17:24:49.262601Z"
    }
   },
   "id": "cb5268ace3a8ff92"
  },
  {
   "cell_type": "code",
   "execution_count": 92,
   "outputs": [],
   "source": [
    "uploaded_table = g.add_table_by_upload(file='/Users/michaeldruk/Desktop/datasets/players_seasons/players.csv')"
   ],
   "metadata": {
    "collapsed": false,
    "ExecuteTime": {
     "end_time": "2024-01-09T17:24:52.110514Z",
     "start_time": "2024-01-09T17:24:50.575343Z"
    }
   },
   "id": "f19fc9b2a0a12a5b"
  },
  {
   "cell_type": "code",
   "execution_count": 93,
   "outputs": [
    {
     "data": {
      "text/plain": "SourceTable(client=<mostlyai.generators._MostlyGeneratorsClient object at 0x12173bdc0>, id=UUID('2a227aee-956b-4d50-8225-025849a77753'), source_connector=None, location='dummy_locations', name='players', primary_key=None, columns=[SourceColumn(client=None, id=UUID('a291cd42-2bab-4958-af03-d2429a7e5fff'), name='id', included=True, model_encoding_type=<SourceColumnModelEncodingType.categorical: 'CATEGORICAL'>), SourceColumn(client=None, id=UUID('e63463af-f62d-4320-b333-b2cdc95cebdc'), name='country', included=True, model_encoding_type=<SourceColumnModelEncodingType.categorical: 'CATEGORICAL'>), SourceColumn(client=None, id=UUID('3783eb58-8386-4b51-8c48-f830c8a28f3c'), name='birthDate', included=True, model_encoding_type=<SourceColumnModelEncodingType.datetime: 'DATETIME'>), SourceColumn(client=None, id=UUID('e10c389b-f5f3-4573-a1b0-33feae41db58'), name='deathDate', included=True, model_encoding_type=<SourceColumnModelEncodingType.datetime: 'DATETIME'>), SourceColumn(client=None, id=UUID('d2240421-acee-4bf2-a683-c6d14b7e5583'), name='nameFirst', included=True, model_encoding_type=<SourceColumnModelEncodingType.categorical: 'CATEGORICAL'>), SourceColumn(client=None, id=UUID('124b4a16-bdbc-47f2-840c-2439962298d9'), name='nameLast', included=True, model_encoding_type=<SourceColumnModelEncodingType.categorical: 'CATEGORICAL'>), SourceColumn(client=None, id=UUID('072d72b1-6a66-4cd5-8fc5-b995e397167c'), name='weight', included=True, model_encoding_type=<SourceColumnModelEncodingType.numeric_auto: 'NUMERIC_AUTO'>), SourceColumn(client=None, id=UUID('0cacc35b-23ef-4d2e-9ef0-dbedd062ebfd'), name='height', included=True, model_encoding_type=<SourceColumnModelEncodingType.numeric_auto: 'NUMERIC_AUTO'>), SourceColumn(client=None, id=UUID('4dabba82-6706-4208-9ed5-b6604cd0e020'), name='bats', included=True, model_encoding_type=<SourceColumnModelEncodingType.categorical: 'CATEGORICAL'>), SourceColumn(client=None, id=UUID('b8e81e3e-4081-492a-a67d-3b67c9efdf51'), name='throws', included=True, model_encoding_type=<SourceColumnModelEncodingType.categorical: 'CATEGORICAL'>)], foreign_keys=None, model=Model(client=None, id='403401f8-64f6-4ecf-9883-f18d6c3e0648', configuration=ModelConfiguration(client=None, sample_fraction=1.0, max_sample_size=None, batch_size=None, model_size=<ModelSize.m: 'M'>, max_epochs=100, max_sequence_length=100, enable_flexible_generation=True, value_protection=True, rare_category_replacement_method=<RareCategoryReplacementMethod.constant: 'CONSTANT'>), qa=None, sample_size=None), text_model=Model(client=None, id='a8a42327-85fb-44a4-b3da-f01be2cdcdd8', configuration=ModelConfiguration(client=None, sample_fraction=1.0, max_sample_size=None, batch_size=None, model_size=<ModelSize.m: 'M'>, max_epochs=100, max_sequence_length=100, enable_flexible_generation=True, value_protection=True, rare_category_replacement_method=<RareCategoryReplacementMethod.constant: 'CONSTANT'>), qa=None, sample_size=None), total_rows=None)"
     },
     "execution_count": 93,
     "metadata": {},
     "output_type": "execute_result"
    }
   ],
   "source": [
    "uploaded_table"
   ],
   "metadata": {
    "collapsed": false,
    "ExecuteTime": {
     "end_time": "2024-01-09T17:24:52.297943Z",
     "start_time": "2024-01-09T17:24:52.110976Z"
    }
   },
   "id": "533a3d207f4dcdff"
  },
  {
   "cell_type": "code",
   "execution_count": 96,
   "outputs": [],
   "source": [
    "df_uploaded_table = g.add_table_from_df_by_upload(df=df)"
   ],
   "metadata": {
    "collapsed": false,
    "ExecuteTime": {
     "end_time": "2024-01-09T17:25:23.035951Z",
     "start_time": "2024-01-09T17:25:21.242217Z"
    }
   },
   "id": "ed37ff0b1715a8c3"
  },
  {
   "cell_type": "code",
   "execution_count": 98,
   "outputs": [
    {
     "data": {
      "text/plain": "['A', 'B']"
     },
     "execution_count": 98,
     "metadata": {},
     "output_type": "execute_result"
    }
   ],
   "source": [
    "[c.name for c in df_uploaded_table.columns]"
   ],
   "metadata": {
    "collapsed": false,
    "ExecuteTime": {
     "end_time": "2024-01-09T17:25:44.073427Z",
     "start_time": "2024-01-09T17:25:43.870091Z"
    }
   },
   "id": "f9c4ee6dd93c58e8"
  },
  {
   "cell_type": "code",
   "execution_count": null,
   "outputs": [],
   "source": [
    "# generator = client.generators.get(\"uuid\")\n",
    "# tables = generator.tables\n",
    "# customer_table = ... #\n",
    "# table = generator.add_table(**kwargs)  # order\n",
    "# generator.add_foreign_key_to_table()\n",
    "# OR\n",
    "# table.add_foreign_key()  # \n",
    "# generator.add_table(**kwargs).add_foreign_key().add_foreign_key.update(...)\n",
    "# generator.update_table(\"uuid\", {})\n",
    "# generator.delete_table(\"\")\n",
    "# \n",
    "# generator.training_status()  # ?\n",
    "# generator.start_training()\n",
    "# generator.stop_training()\n",
    "# generator.logs()\n",
    "\n",
    "# table.add_column()\n",
    "# table.upload(open(file, \"rb\"))"
   ],
   "metadata": {
    "collapsed": false
   },
   "id": "e98fa87e403c6b93"
  }
 ],
 "metadata": {
  "kernelspec": {
   "display_name": "Python 3",
   "language": "python",
   "name": "python3"
  },
  "language_info": {
   "codemirror_mode": {
    "name": "ipython",
    "version": 2
   },
   "file_extension": ".py",
   "mimetype": "text/x-python",
   "name": "python",
   "nbconvert_exporter": "python",
   "pygments_lexer": "ipython2",
   "version": "2.7.6"
  }
 },
 "nbformat": 4,
 "nbformat_minor": 5
}
