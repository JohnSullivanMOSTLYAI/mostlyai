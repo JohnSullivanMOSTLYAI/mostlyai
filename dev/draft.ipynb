{
 "cells": [
  {
   "cell_type": "code",
   "execution_count": null,
   "id": "initial_id",
   "metadata": {
    "collapsed": true
   },
   "outputs": [],
   "source": [
    "# ensure that any code changes are immediately reflected\n",
    "%reload_ext autoreload\n",
    "%autoreload 2\n",
    "import pandas as pd\n",
    "from mostlyai import MostlyAI\n",
    "%env MOSTLY_PASSWORD Mostly01!\n",
    "\n",
    "client = MostlyAI()"
   ]
  },
  {
   "cell_type": "markdown",
   "source": [
    "## Draft"
   ],
   "metadata": {
    "collapsed": false
   },
   "id": "42047a63bde33d6d"
  },
  {
   "cell_type": "code",
   "execution_count": null,
   "outputs": [],
   "source": [
    "g = client.generators.create(name=\"Mike's new generator\")\n",
    "table = g.add_table(location=\"public.Customer\", name=\"Customer\", sourceConnectorId=\"f18ec85f-a4b0-4c79-bacb-2693418d4587\")\n",
    "df = pd.DataFrame({'A': [1, 2], 'B': [3, 4]})"
   ],
   "metadata": {
    "collapsed": false
   },
   "id": "cb5268ace3a8ff92"
  },
  {
   "cell_type": "code",
   "execution_count": null,
   "outputs": [],
   "source": [
    "uploaded_table = g.add_table_from_df_by_upload(df=df, name=\"SimpleTable\")"
   ],
   "metadata": {
    "collapsed": false
   },
   "id": "ed37ff0b1715a8c3"
  },
  {
   "cell_type": "code",
   "execution_count": null,
   "outputs": [],
   "source": [
    "# generator = client.generators.get(\"uuid\")\n",
    "# tables = generator.tables\n",
    "# customer_table = ... #\n",
    "# table = generator.add_table(**kwargs)  # order\n",
    "# table.add_foreign_key()  # \n",
    "# generator.add_table(**kwargs).add_foreign_key().add_foreign_key.update(...)\n",
    "# generator.update_table(\"uuid\", {})\n",
    "# generator.delete_table(\"\")\n",
    "# \n",
    "# generator.training_status()  # ?\n",
    "# generator.start_training()\n",
    "# generator.stop_training()\n",
    "# generator.logs()\n",
    "\n",
    "# table.add_column()\n",
    "# table.upload(open(file, \"rb\"))"
   ],
   "metadata": {
    "collapsed": false
   },
   "id": "e98fa87e403c6b93"
  }
 ],
 "metadata": {
  "kernelspec": {
   "display_name": "Python 3",
   "language": "python",
   "name": "python3"
  },
  "language_info": {
   "codemirror_mode": {
    "name": "ipython",
    "version": 2
   },
   "file_extension": ".py",
   "mimetype": "text/x-python",
   "name": "python",
   "nbconvert_exporter": "python",
   "pygments_lexer": "ipython2",
   "version": "2.7.6"
  }
 },
 "nbformat": 4,
 "nbformat_minor": 5
}
