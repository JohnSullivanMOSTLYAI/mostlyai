{
 "cells": [
  {
   "cell_type": "code",
   "execution_count": 92,
   "id": "initial_id",
   "metadata": {
    "collapsed": true,
    "ExecuteTime": {
     "end_time": "2024-01-09T13:05:07.290762Z",
     "start_time": "2024-01-09T13:04:43.419976Z"
    }
   },
   "outputs": [],
   "source": [
    "# ensure that any code changes are immediately reflected\n",
    "%reload_ext autoreload\n",
    "%autoreload 2"
   ]
  },
  {
   "cell_type": "code",
   "execution_count": 93,
   "outputs": [],
   "source": [
    "import pandas as pd"
   ],
   "metadata": {
    "collapsed": false,
    "ExecuteTime": {
     "end_time": "2024-01-09T13:05:07.397761Z",
     "start_time": "2024-01-09T13:05:07.293831Z"
    }
   },
   "id": "b7a7774c162bbee5"
  },
  {
   "cell_type": "code",
   "execution_count": 94,
   "outputs": [],
   "source": [
    "from mostlyai import MostlyAI"
   ],
   "metadata": {
    "collapsed": false,
    "ExecuteTime": {
     "end_time": "2024-01-09T13:05:07.511736Z",
     "start_time": "2024-01-09T13:05:07.398184Z"
    }
   },
   "id": "277b89906cfc8274"
  },
  {
   "cell_type": "code",
   "execution_count": 95,
   "outputs": [
    {
     "name": "stdout",
     "output_type": "stream",
     "text": [
      "env: MOSTLY_PASSWORD=Mostly01!\n"
     ]
    }
   ],
   "source": [
    "%env MOSTLY_PASSWORD Mostly01!\n"
   ],
   "metadata": {
    "collapsed": false,
    "ExecuteTime": {
     "end_time": "2024-01-09T13:05:07.626333Z",
     "start_time": "2024-01-09T13:05:07.512049Z"
    }
   },
   "id": "c45aff6fe9104e8e"
  },
  {
   "cell_type": "code",
   "execution_count": 96,
   "outputs": [],
   "source": [
    "client = MostlyAI()\n"
   ],
   "metadata": {
    "collapsed": false,
    "ExecuteTime": {
     "end_time": "2024-01-09T13:05:08.049836Z",
     "start_time": "2024-01-09T13:05:07.628740Z"
    }
   },
   "id": "83cea1be36c131b2"
  },
  {
   "cell_type": "markdown",
   "source": [
    "## Generators\n"
   ],
   "metadata": {
    "collapsed": false
   },
   "id": "e2e3be19c54d5486"
  },
  {
   "cell_type": "code",
   "execution_count": 97,
   "outputs": [
    {
     "name": "stdout",
     "output_type": "stream",
     "text": [
      "37e320a5-e86b-42a5-af92-373cdc28465c QA_Automation_Mssql_API-write-1704720684503\n",
      "53cfd08d-0a62-45ea-b913-b18736a0640b QA_Automation_Mssql_API-write-1704720647970\n",
      "937491be-51d4-424f-af11-313b32bd9e9f QA_Automation_Mysql_API-write-1704720505757\n",
      "53d75e03-9d2c-4a02-aaaf-471a385efd1e QA_Automation_Mssql_API-write-1704488206665\n",
      "f2a3da7a-53d7-4bcf-8f3f-b1bf730f7ac0 QA_Automation_Mysql_API-write-1704487935643\n",
      "76725411-8b7b-4f09-8b06-9a3220ef2408 QA_Automation_Mssql_API-write-1704197683699\n",
      "e7aa6ddf-7c23-4a50-b10e-cbdefb660999 QA_Automation_Mssql_API-write-1704197683657\n",
      "ca36bfb9-b499-4c57-80d1-216a4c3efce7 QA_Automation_Mssql_API-write-1704197682486\n",
      "266a80bb-fac2-4e1a-8ea0-c874383deddf QA_Automation_Mssql_API-write-1704197682479\n",
      "643ddb2f-1d90-4424-bf3f-3af99950fccb QA_Automation_Mssql_API-write-1704197682459\n",
      "179cf741-b0b5-4455-92bb-d7fc4f20c3c8 QA_Automation_Mssql_API-write-1704197682339\n",
      "4a148c73-b091-4584-bfe3-9406124049a0 QA_Automation_Mssql_API-write-1704197681035\n",
      "365cdd7c-8945-4402-8831-60eb49d6e3c2 QA_Automation_Mssql_API-write-1704197681040\n",
      "2c5a350d-9415-4b2c-8225-778a74f4ea50 QA_Automation_Mssql_API-write-1704197681070\n",
      "289a0d1f-c9fc-4c12-b60a-57b5c34eda38 QA_Automation_Mssql_API-write-1704197681019\n",
      "71c6ca38-9863-48e6-b36d-0db52038256b QA_Automation_Mssql_API-write-1704197631921\n",
      "a34afaf5-6394-4ae3-bc6f-ff0c733187aa QA_Automation_Mssql_API-write-1704197631939\n",
      "0c164219-f838-4033-a4dc-804e71d1ae39 QA_Automation_Mssql_API-write-1704197630644\n",
      "77101992-f626-4e18-bf0b-64ce61082261 QA_Automation_Mssql_API-write-1704197630622\n",
      "f9d7e7c5-6e00-41dd-b3b3-e08210b72adc QA_Automation_Mssql_API-write-1704197630604\n",
      "10df35f6-42da-45f6-ab01-b597928234eb QA_Automation_Mssql_API-write-1704197630570\n",
      "b999f9dd-abee-43f6-b8d2-fb32f4c01f25 QA_Automation_Mssql_API-write-1704197629358\n",
      "773b03e2-6f64-4184-bfcd-5dff92247de2 QA_Automation_Mssql_API-write-1704197629357\n",
      "73835c46-a975-4191-993b-bf8b4b5cb2e0 QA_Automation_Mssql_API-write-1704197629349\n",
      "5beb9cf6-cef5-46a9-b98c-e11ad76e2a17 QA_Automation_Mssql_API-write-1704197629309\n",
      "80643bbc-5277-4d6d-a82c-6873362b14ce QA_Automation_Mysql_API-write-1703170247454\n",
      "475644f8-fdad-4b62-8300-d0c0ef9a3869 QA_Automation_Mssql_API-write-1703170241136\n"
     ]
    }
   ],
   "source": [
    "# list generators\n",
    "for g in client.generators.list():\n",
    "    if \"sql\" in g.name:\n",
    "        print(g.id, g.name)"
   ],
   "metadata": {
    "collapsed": false,
    "ExecuteTime": {
     "end_time": "2024-01-09T13:05:10.219613Z",
     "start_time": "2024-01-09T13:05:08.050364Z"
    }
   },
   "id": "6e15d02c338eb6b5"
  },
  {
   "cell_type": "code",
   "execution_count": 98,
   "outputs": [],
   "source": [
    "g = client.generators.create(name=\"Mike's new generator\")"
   ],
   "metadata": {
    "collapsed": false,
    "ExecuteTime": {
     "end_time": "2024-01-09T13:05:10.587627Z",
     "start_time": "2024-01-09T13:05:10.220016Z"
    }
   },
   "id": "e26f45f58b404a96"
  },
  {
   "cell_type": "code",
   "execution_count": 99,
   "outputs": [],
   "source": [
    "cloned = client.generators.create(cloneFromId=str(g.id))"
   ],
   "metadata": {
    "collapsed": false,
    "ExecuteTime": {
     "end_time": "2024-01-09T13:05:10.935118Z",
     "start_time": "2024-01-09T13:05:10.588112Z"
    }
   },
   "id": "1a1e29131b0578d1"
  },
  {
   "cell_type": "code",
   "execution_count": 100,
   "outputs": [],
   "source": [
    "table = g.add_table(location=\"public.Customer\", name=\"Customer\", sourceConnectorId=\"f18ec85f-a4b0-4c79-bacb-2693418d4587\")"
   ],
   "metadata": {
    "collapsed": false,
    "ExecuteTime": {
     "end_time": "2024-01-09T13:05:11.857Z",
     "start_time": "2024-01-09T13:05:10.935597Z"
    }
   },
   "id": "e7b180dc8959b68e"
  },
  {
   "cell_type": "code",
   "execution_count": 101,
   "outputs": [],
   "source": [
    "gen = client.generators.get(g.id)"
   ],
   "metadata": {
    "collapsed": false,
    "ExecuteTime": {
     "end_time": "2024-01-09T13:05:12.235533Z",
     "start_time": "2024-01-09T13:05:11.857381Z"
    }
   },
   "id": "e61eca1cce2849cc"
  },
  {
   "cell_type": "code",
   "execution_count": 102,
   "outputs": [
    {
     "name": "stdout",
     "output_type": "stream",
     "text": [
      "1cc747af-67f3-4aa7-b16b-036dea9da1a6 Customer ['id', 'name', 'surname', 'gender_id', 'district_id', 'birthdate', 'customer_type_id', 'creation_user_id', 'creation_date', 'customer_desc']\n"
     ]
    }
   ],
   "source": [
    "for t in gen.tables:\n",
    "    cols = [c.name for c in t.columns]\n",
    "    print(t.id, t.name, cols)"
   ],
   "metadata": {
    "collapsed": false,
    "ExecuteTime": {
     "end_time": "2024-01-09T13:05:12.365236Z",
     "start_time": "2024-01-09T13:05:12.238144Z"
    }
   },
   "id": "3e40e6b22dc6c30a"
  },
  {
   "cell_type": "code",
   "execution_count": 103,
   "outputs": [
    {
     "data": {
      "text/plain": "SourceTable(client=<mostlyai.generators._MostlyGeneratorsClient object at 0x11c436ef0>, id=UUID('1cc747af-67f3-4aa7-b16b-036dea9da1a6'), source_connector=BaseResource(client=None, id=UUID('f18ec85f-a4b0-4c79-bacb-2693418d4587'), name='f18ec85f-a4b0-4c79-bacb-2693418d4587', uri='/connectors/f18ec85f-a4b0-4c79-bacb-2693418d4587'), location='public.Customer', name='Customer', primary_key='id', columns=[SourceColumn(client=None, id=UUID('3eb90543-8df1-4dcd-9c06-4d4694fe564b'), name='id', included=True, model_encoding_type=<SourceColumnModelEncodingType.numeric_auto: 'NUMERIC_AUTO'>), SourceColumn(client=None, id=UUID('ea6af03c-b5bb-4e04-8b96-851e17a9c201'), name='name', included=True, model_encoding_type=<SourceColumnModelEncodingType.categorical: 'CATEGORICAL'>), SourceColumn(client=None, id=UUID('6356a625-b76e-4627-9655-5062dd0f5de3'), name='surname', included=True, model_encoding_type=<SourceColumnModelEncodingType.categorical: 'CATEGORICAL'>), SourceColumn(client=None, id=UUID('31c8941e-0453-416d-b77f-4ce106727027'), name='gender_id', included=True, model_encoding_type=<SourceColumnModelEncodingType.numeric_auto: 'NUMERIC_AUTO'>), SourceColumn(client=None, id=UUID('8e7cdaf5-d96c-44fd-9057-fcd81df45ec6'), name='district_id', included=True, model_encoding_type=<SourceColumnModelEncodingType.categorical: 'CATEGORICAL'>), SourceColumn(client=None, id=UUID('d213190b-29f5-4554-8abd-03c832c5cbaf'), name='birthdate', included=True, model_encoding_type=<SourceColumnModelEncodingType.datetime: 'DATETIME'>), SourceColumn(client=None, id=UUID('92427bfb-02aa-41ba-b125-3bc3c579a94c'), name='customer_type_id', included=True, model_encoding_type=<SourceColumnModelEncodingType.numeric_auto: 'NUMERIC_AUTO'>), SourceColumn(client=None, id=UUID('2ad082aa-4183-4f64-9da7-8dd4b5e41431'), name='creation_user_id', included=True, model_encoding_type=<SourceColumnModelEncodingType.numeric_auto: 'NUMERIC_AUTO'>), SourceColumn(client=None, id=UUID('d1c28254-70fd-4116-a524-5849b38ae90e'), name='creation_date', included=True, model_encoding_type=<SourceColumnModelEncodingType.datetime: 'DATETIME'>), SourceColumn(client=None, id=UUID('5edb05a8-bf57-43bf-a606-87f26ec6f1e0'), name='customer_desc', included=True, model_encoding_type=<SourceColumnModelEncodingType.categorical: 'CATEGORICAL'>)], foreign_keys=None, model=Model(client=None, id='35fa6125-02d4-40dc-b550-b3947ab2020d', configuration=ModelConfiguration(client=None, sample_fraction=1.0, max_sample_size=None, batch_size=None, model_size=<ModelSize.m: 'M'>, max_epochs=100, max_sequence_length=100, enable_flexible_generation=True, value_protection=True, rare_category_replacement_method=<RareCategoryReplacementMethod.constant: 'CONSTANT'>), qa=None, sample_size=None), text_model=None, total_rows=None)"
     },
     "execution_count": 103,
     "metadata": {},
     "output_type": "execute_result"
    }
   ],
   "source": [
    "table"
   ],
   "metadata": {
    "collapsed": false,
    "ExecuteTime": {
     "end_time": "2024-01-09T13:17:39.481177Z",
     "start_time": "2024-01-09T13:17:39.287169Z"
    }
   },
   "id": "71685c5b2f50382"
  },
  {
   "cell_type": "code",
   "execution_count": null,
   "outputs": [],
   "source": [],
   "metadata": {
    "collapsed": false
   },
   "id": "7f028967297414ea"
  }
 ],
 "metadata": {
  "kernelspec": {
   "display_name": "Python 3",
   "language": "python",
   "name": "python3"
  },
  "language_info": {
   "codemirror_mode": {
    "name": "ipython",
    "version": 2
   },
   "file_extension": ".py",
   "mimetype": "text/x-python",
   "name": "python",
   "nbconvert_exporter": "python",
   "pygments_lexer": "ipython2",
   "version": "2.7.6"
  }
 },
 "nbformat": 4,
 "nbformat_minor": 5
}
