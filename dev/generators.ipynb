{
 "cells": [
  {
   "cell_type": "code",
   "execution_count": 113,
   "id": "initial_id",
   "metadata": {
    "collapsed": true,
    "ExecuteTime": {
     "end_time": "2024-01-05T12:05:22.946474Z",
     "start_time": "2024-01-05T12:05:21.819963Z"
    }
   },
   "outputs": [],
   "source": [
    "# ensure that any code changes are immediately reflected\n",
    "%reload_ext autoreload\n",
    "%autoreload 2"
   ]
  },
  {
   "cell_type": "code",
   "execution_count": 114,
   "outputs": [],
   "source": [
    "from mostlyai import MostlyAI"
   ],
   "metadata": {
    "collapsed": false,
    "ExecuteTime": {
     "end_time": "2024-01-05T12:05:23.097886Z",
     "start_time": "2024-01-05T12:05:22.951245Z"
    }
   },
   "id": "277b89906cfc8274"
  },
  {
   "cell_type": "code",
   "execution_count": 115,
   "outputs": [
    {
     "name": "stdout",
     "output_type": "stream",
     "text": [
      "env: MOSTLY_PASSWORD=Mostly01!\n"
     ]
    }
   ],
   "source": [
    "%env MOSTLY_PASSWORD Mostly01!\n"
   ],
   "metadata": {
    "collapsed": false,
    "ExecuteTime": {
     "end_time": "2024-01-05T12:05:23.249881Z",
     "start_time": "2024-01-05T12:05:23.096922Z"
    }
   },
   "id": "c45aff6fe9104e8e"
  },
  {
   "cell_type": "code",
   "execution_count": 116,
   "outputs": [],
   "source": [
    "client = MostlyAI()\n"
   ],
   "metadata": {
    "collapsed": false,
    "ExecuteTime": {
     "end_time": "2024-01-05T12:05:23.787925Z",
     "start_time": "2024-01-05T12:05:23.296359Z"
    }
   },
   "id": "83cea1be36c131b2"
  },
  {
   "cell_type": "markdown",
   "source": [
    "## Generators\n"
   ],
   "metadata": {
    "collapsed": false
   },
   "id": "e2e3be19c54d5486"
  },
  {
   "cell_type": "code",
   "execution_count": 117,
   "outputs": [
    {
     "name": "stdout",
     "output_type": "stream",
     "text": [
      "None\n",
      "None\n",
      "None\n",
      "None\n",
      "None\n",
      "None\n",
      "None\n",
      "None\n",
      "None\n",
      "None\n",
      "None\n",
      "None\n",
      "None\n",
      "None\n",
      "None\n",
      "None\n",
      "None\n",
      "None\n",
      "None\n",
      "None\n",
      "None\n",
      "None\n",
      "None\n",
      "None\n",
      "None\n",
      "None\n",
      "None\n",
      "None\n",
      "None\n",
      "None\n",
      "None\n",
      "None\n",
      "None\n",
      "None\n",
      "None\n",
      "None\n",
      "None\n",
      "None\n",
      "None\n",
      "None\n",
      "None\n",
      "None\n",
      "None\n",
      "None\n",
      "None\n",
      "None\n",
      "None\n",
      "None\n",
      "None\n",
      "None\n",
      "None\n",
      "None\n",
      "None\n",
      "None\n",
      "None\n",
      "None\n",
      "None\n",
      "None\n",
      "None\n",
      "None\n",
      "None\n",
      "None\n",
      "None\n",
      "None\n",
      "None\n",
      "None\n",
      "None\n",
      "None\n",
      "None\n",
      "None\n",
      "None\n",
      "None\n",
      "None\n",
      "None\n",
      "None\n",
      "None\n",
      "None\n",
      "None\n",
      "None\n",
      "None\n",
      "None\n",
      "None\n",
      "None\n",
      "None\n",
      "None\n",
      "None\n",
      "None\n",
      "None\n",
      "None\n",
      "None\n",
      "None\n",
      "None\n",
      "None\n",
      "None\n",
      "None\n",
      "None\n",
      "None\n",
      "None\n",
      "None\n",
      "None\n",
      "None\n",
      "None\n",
      "None\n",
      "None\n",
      "None\n",
      "None\n",
      "None\n",
      "None\n",
      "None\n",
      "None\n",
      "None\n",
      "None\n",
      "None\n",
      "None\n",
      "None\n",
      "None\n",
      "None\n",
      "None\n",
      "None\n",
      "None\n",
      "None\n",
      "None\n",
      "None\n",
      "None\n",
      "None\n",
      "None\n",
      "None\n",
      "None\n",
      "None\n",
      "None\n",
      "None\n",
      "None\n",
      "None\n",
      "None\n",
      "None\n",
      "None\n",
      "None\n",
      "None\n",
      "None\n",
      "None\n",
      "None\n",
      "None\n",
      "None\n",
      "None\n",
      "None\n",
      "None\n"
     ]
    }
   ],
   "source": [
    "# list generators\n",
    "for g in client.generators.list():\n",
    "    print(g.tables)"
   ],
   "metadata": {
    "collapsed": false,
    "ExecuteTime": {
     "end_time": "2024-01-05T12:05:26.165616Z",
     "start_time": "2024-01-05T12:05:25.123883Z"
    }
   },
   "id": "6e15d02c338eb6b5"
  },
  {
   "cell_type": "code",
   "execution_count": 118,
   "outputs": [],
   "source": [
    "g = client.generators.create(name=\"Mike's new generator\")"
   ],
   "metadata": {
    "collapsed": false,
    "ExecuteTime": {
     "end_time": "2024-01-05T12:05:26.570944Z",
     "start_time": "2024-01-05T12:05:26.161513Z"
    }
   },
   "id": "e26f45f58b404a96"
  },
  {
   "cell_type": "code",
   "execution_count": 119,
   "outputs": [
    {
     "data": {
      "text/plain": "Generator(client=<mostlyai.generators._MostlyGeneratorsClient object at 0x111c7a530>, id=UUID('55f90c2c-744a-457e-8f08-107cdeb713ab'), name=\"Mike's new generator\", description=None, training_status=<ProgressStatus.new: 'NEW'>, metadata=Metadata(client=None, created_at='2024-01-05T12:05:26.643105Z', owner_id='dummy_user_id', owner_name='dummy_owner'), accuracy=None, usage=None, tables=[], synthetic_datasets=[])"
     },
     "execution_count": 119,
     "metadata": {},
     "output_type": "execute_result"
    }
   ],
   "source": [
    "g"
   ],
   "metadata": {
    "collapsed": false,
    "ExecuteTime": {
     "end_time": "2024-01-05T12:05:27.552693Z",
     "start_time": "2024-01-05T12:05:27.398369Z"
    }
   },
   "id": "1a1e29131b0578d1"
  },
  {
   "cell_type": "code",
   "execution_count": 120,
   "outputs": [],
   "source": [
    "table = g.add_table(location=\"public.Customer\", name=\"Customer\", sourceConnectorId=\"f18ec85f-a4b0-4c79-bacb-2693418d4587\")"
   ],
   "metadata": {
    "collapsed": false,
    "ExecuteTime": {
     "end_time": "2024-01-05T12:05:29.206420Z",
     "start_time": "2024-01-05T12:05:28.434254Z"
    }
   },
   "id": "e7b180dc8959b68e"
  },
  {
   "cell_type": "code",
   "execution_count": 121,
   "outputs": [],
   "source": [
    "g = client.generators.get(g.id)"
   ],
   "metadata": {
    "collapsed": false,
    "ExecuteTime": {
     "end_time": "2024-01-05T12:05:30.460256Z",
     "start_time": "2024-01-05T12:05:29.806742Z"
    }
   },
   "id": "8ff12e9604774a72"
  },
  {
   "cell_type": "code",
   "execution_count": 122,
   "outputs": [
    {
     "data": {
      "text/plain": "Generator(client=<mostlyai.generators._MostlyGeneratorsClient object at 0x111c7a530>, id=UUID('55f90c2c-744a-457e-8f08-107cdeb713ab'), name=\"Mike's updated generator\", description=None, training_status=<ProgressStatus.new: 'NEW'>, metadata=Metadata(client=None, created_at='2024-01-05T12:05:26.643105Z', owner_id='dummy_user_id', owner_name='dummy_owner'), accuracy=None, usage=None, tables=[SourceTable(client=None, id=UUID('5322137f-1913-4af6-a491-18eb1d399cc2'), source_connector=BaseResource(client=None, id=UUID('f18ec85f-a4b0-4c79-bacb-2693418d4587'), name='f18ec85f-a4b0-4c79-bacb-2693418d4587', uri='/connectors/f18ec85f-a4b0-4c79-bacb-2693418d4587'), location='public.Customer', name='Customer', primary_key='id', columns=[SourceColumn(client=None, id=UUID('c3ff7342-a6d5-4627-8889-14b1e5906c4f'), name='id', included=True, model_encoding_type=<SourceColumnModelEncodingType.numeric_auto: 'NUMERIC_AUTO'>), SourceColumn(client=None, id=UUID('5d9dad0e-4a7c-45a9-9c11-a7d071799c6a'), name='name', included=True, model_encoding_type=<SourceColumnModelEncodingType.categorical: 'CATEGORICAL'>), SourceColumn(client=None, id=UUID('b1ce7266-a97d-417e-a02f-ba42f0644cd0'), name='surname', included=True, model_encoding_type=<SourceColumnModelEncodingType.categorical: 'CATEGORICAL'>), SourceColumn(client=None, id=UUID('97714fe5-8bf5-4f72-8eba-21a73563602a'), name='gender_id', included=True, model_encoding_type=<SourceColumnModelEncodingType.numeric_auto: 'NUMERIC_AUTO'>), SourceColumn(client=None, id=UUID('38cfa6c3-f414-40e4-9885-97527a66b2b8'), name='district_id', included=True, model_encoding_type=<SourceColumnModelEncodingType.categorical: 'CATEGORICAL'>), SourceColumn(client=None, id=UUID('6101f6d0-f82b-46b2-ba89-973493525044'), name='birthdate', included=True, model_encoding_type=<SourceColumnModelEncodingType.datetime: 'DATETIME'>), SourceColumn(client=None, id=UUID('45d63567-4deb-43c8-915b-f448995b32d0'), name='customer_type_id', included=True, model_encoding_type=<SourceColumnModelEncodingType.numeric_auto: 'NUMERIC_AUTO'>), SourceColumn(client=None, id=UUID('64f020fd-2fca-4878-84cb-8fe77bae0bf8'), name='creation_user_id', included=True, model_encoding_type=<SourceColumnModelEncodingType.numeric_auto: 'NUMERIC_AUTO'>), SourceColumn(client=None, id=UUID('3ecfd142-388e-4844-a662-1536ffb6bd72'), name='creation_date', included=True, model_encoding_type=<SourceColumnModelEncodingType.datetime: 'DATETIME'>), SourceColumn(client=None, id=UUID('5951d9ee-24b3-4f36-86da-fbab7e6e98e7'), name='customer_desc', included=True, model_encoding_type=<SourceColumnModelEncodingType.categorical: 'CATEGORICAL'>)], foreign_keys=None, model=Model(client=None, id='6e328b1a-6d98-44b3-9020-db61c9baf50e', configuration=ModelConfiguration(client=None, sample_fraction=1.0, max_sample_size=None, batch_size=None, model_size=<ModelSize.m: 'M'>, max_epochs=100, max_sequence_length=100, enable_flexible_generation=True, value_protection=True, rare_category_replacement_method=<RareCategoryReplacementMethod.constant: 'CONSTANT'>), qa=None, sample_size=None), text_model=None, total_rows=None)], synthetic_datasets=[])"
     },
     "execution_count": 122,
     "metadata": {},
     "output_type": "execute_result"
    }
   ],
   "source": [
    "client.generators.update(g.id, name=\"Mike's updated generator\")"
   ],
   "metadata": {
    "collapsed": false,
    "ExecuteTime": {
     "end_time": "2024-01-05T12:05:31.664138Z",
     "start_time": "2024-01-05T12:05:31.150287Z"
    }
   },
   "id": "78579c8211611842"
  },
  {
   "cell_type": "code",
   "execution_count": 123,
   "outputs": [],
   "source": [
    "client.generators.delete(g.id)"
   ],
   "metadata": {
    "collapsed": false,
    "ExecuteTime": {
     "end_time": "2024-01-05T12:05:32.816097Z",
     "start_time": "2024-01-05T12:05:32.440633Z"
    }
   },
   "id": "80d08d753fd3019d"
  },
  {
   "cell_type": "code",
   "execution_count": 91,
   "outputs": [
    {
     "data": {
      "text/plain": "SourceTable(client=<mostlyai.api._MostlyGeneratorsClient object at 0x111456ec0>, id=UUID('89cadbd8-713f-451b-846a-67324f62b9a6'), source_connector=BaseResource(client=None, id=UUID('f18ec85f-a4b0-4c79-bacb-2693418d4587'), name='f18ec85f-a4b0-4c79-bacb-2693418d4587', uri='/connectors/f18ec85f-a4b0-4c79-bacb-2693418d4587'), location='public.Customer', name='Customer', primary_key='id', columns=[SourceColumn(client=None, id=UUID('e6e722a4-7ead-4158-9a04-89aed7f8f15d'), name='id', included=True, model_encoding_type=<SourceColumnModelEncodingType.numeric_auto: 'NUMERIC_AUTO'>), SourceColumn(client=None, id=UUID('6e301374-794c-4c09-9096-ec75f6a66045'), name='name', included=True, model_encoding_type=<SourceColumnModelEncodingType.categorical: 'CATEGORICAL'>), SourceColumn(client=None, id=UUID('d3ac676a-0245-4f0d-af55-9495b722e09a'), name='surname', included=True, model_encoding_type=<SourceColumnModelEncodingType.categorical: 'CATEGORICAL'>), SourceColumn(client=None, id=UUID('4ec92631-ff07-4c72-8273-593c0628720b'), name='gender_id', included=True, model_encoding_type=<SourceColumnModelEncodingType.numeric_auto: 'NUMERIC_AUTO'>), SourceColumn(client=None, id=UUID('939cf3d0-2689-436d-aa8d-79b03118e410'), name='district_id', included=True, model_encoding_type=<SourceColumnModelEncodingType.categorical: 'CATEGORICAL'>), SourceColumn(client=None, id=UUID('735fbeea-5630-4c64-abe3-24ae58229b6f'), name='birthdate', included=True, model_encoding_type=<SourceColumnModelEncodingType.datetime: 'DATETIME'>), SourceColumn(client=None, id=UUID('eaefcf30-92c5-483d-8737-f1b5f2bf14af'), name='customer_type_id', included=True, model_encoding_type=<SourceColumnModelEncodingType.numeric_auto: 'NUMERIC_AUTO'>), SourceColumn(client=None, id=UUID('94631ed8-12c5-497d-be18-3367f051bf10'), name='creation_user_id', included=True, model_encoding_type=<SourceColumnModelEncodingType.numeric_auto: 'NUMERIC_AUTO'>), SourceColumn(client=None, id=UUID('88248646-8466-45c8-9f60-2090c9ce0f83'), name='creation_date', included=True, model_encoding_type=<SourceColumnModelEncodingType.datetime: 'DATETIME'>), SourceColumn(client=None, id=UUID('d6f0c533-a898-4c96-97b5-adb0831b3704'), name='customer_desc', included=True, model_encoding_type=<SourceColumnModelEncodingType.categorical: 'CATEGORICAL'>)], foreign_keys=None, model=Model(client=None, id='8ea5709a-176e-4f9f-b1b0-e28ff31c6afb', configuration=ModelConfiguration(client=None, sample_fraction=1.0, max_sample_size=None, batch_size=None, model_size=<ModelSize.m: 'M'>, max_epochs=100, max_sequence_length=100, enable_flexible_generation=True, value_protection=True, rare_category_replacement_method=<RareCategoryReplacementMethod.constant: 'CONSTANT'>), qa=None, sample_size=None), text_model=None, total_rows=None)"
     },
     "execution_count": 91,
     "metadata": {},
     "output_type": "execute_result"
    }
   ],
   "source": [
    "table"
   ],
   "metadata": {
    "collapsed": false,
    "ExecuteTime": {
     "end_time": "2024-01-04T18:48:19.345568Z",
     "start_time": "2024-01-04T18:48:19.178827Z"
    }
   },
   "id": "b69ec8b5b8228ef"
  },
  {
   "cell_type": "code",
   "execution_count": null,
   "outputs": [],
   "source": [
    "# generator = client.generators.get(\"uuid\")\n",
    "# tables = generator.tables()  # GET tables\n",
    "# customer_table = ... #\n",
    "# table = generator.add_table(**kwargs)  # order\n",
    "# table.add_foreign_key()  # \n",
    "# generator.add_table(**kwargs).add_foreign_key().add_foreign_key.update(...)\n",
    "# generator.update_table(\"uuid\", {})\n",
    "# generator.delete_table(\"\")\n",
    "# \n",
    "# generator.training_status()  # ?\n",
    "# generator.start_training()\n",
    "# generator.stop_training()\n",
    "# generator.logs()\n",
    "\n",
    "# table.add_column()\n",
    "# table.upload(open(file, \"rb\"))"
   ],
   "metadata": {
    "collapsed": false
   },
   "id": "5a2b83777c665290"
  }
 ],
 "metadata": {
  "kernelspec": {
   "display_name": "Python 3",
   "language": "python",
   "name": "python3"
  },
  "language_info": {
   "codemirror_mode": {
    "name": "ipython",
    "version": 2
   },
   "file_extension": ".py",
   "mimetype": "text/x-python",
   "name": "python",
   "nbconvert_exporter": "python",
   "pygments_lexer": "ipython2",
   "version": "2.7.6"
  }
 },
 "nbformat": 4,
 "nbformat_minor": 5
}
