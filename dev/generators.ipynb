{
 "cells": [
  {
   "cell_type": "code",
   "execution_count": 48,
   "id": "initial_id",
   "metadata": {
    "collapsed": true,
    "ExecuteTime": {
     "end_time": "2024-01-08T17:56:16.199052Z",
     "start_time": "2024-01-08T17:56:14.928472Z"
    }
   },
   "outputs": [],
   "source": [
    "# ensure that any code changes are immediately reflected\n",
    "%reload_ext autoreload\n",
    "%autoreload 2"
   ]
  },
  {
   "cell_type": "code",
   "execution_count": 49,
   "outputs": [],
   "source": [
    "import pandas as pd"
   ],
   "metadata": {
    "collapsed": false,
    "ExecuteTime": {
     "end_time": "2024-01-08T17:56:16.297740Z",
     "start_time": "2024-01-08T17:56:16.201543Z"
    }
   },
   "id": "b7a7774c162bbee5"
  },
  {
   "cell_type": "code",
   "execution_count": 50,
   "outputs": [],
   "source": [
    "from mostlyai import MostlyAI"
   ],
   "metadata": {
    "collapsed": false,
    "ExecuteTime": {
     "end_time": "2024-01-08T17:56:16.561644Z",
     "start_time": "2024-01-08T17:56:16.442113Z"
    }
   },
   "id": "277b89906cfc8274"
  },
  {
   "cell_type": "code",
   "execution_count": 51,
   "outputs": [
    {
     "name": "stdout",
     "output_type": "stream",
     "text": [
      "env: MOSTLY_PASSWORD=Mostly01!\n"
     ]
    }
   ],
   "source": [
    "%env MOSTLY_PASSWORD Mostly01!\n"
   ],
   "metadata": {
    "collapsed": false,
    "ExecuteTime": {
     "end_time": "2024-01-08T17:56:17.233501Z",
     "start_time": "2024-01-08T17:56:17.082657Z"
    }
   },
   "id": "c45aff6fe9104e8e"
  },
  {
   "cell_type": "code",
   "execution_count": 52,
   "outputs": [],
   "source": [
    "client = MostlyAI()\n"
   ],
   "metadata": {
    "collapsed": false,
    "ExecuteTime": {
     "end_time": "2024-01-08T17:56:18.715391Z",
     "start_time": "2024-01-08T17:56:18.191566Z"
    }
   },
   "id": "83cea1be36c131b2"
  },
  {
   "cell_type": "markdown",
   "source": [
    "## Generators\n"
   ],
   "metadata": {
    "collapsed": false
   },
   "id": "e2e3be19c54d5486"
  },
  {
   "cell_type": "code",
   "execution_count": 39,
   "outputs": [
    {
     "name": "stdout",
     "output_type": "stream",
     "text": [
      "None\n",
      "None\n",
      "None\n",
      "None\n",
      "None\n",
      "None\n",
      "None\n",
      "None\n",
      "None\n",
      "None\n",
      "None\n",
      "None\n",
      "None\n",
      "None\n",
      "None\n",
      "None\n",
      "None\n",
      "None\n",
      "None\n",
      "None\n",
      "None\n",
      "None\n",
      "None\n",
      "None\n",
      "None\n",
      "None\n",
      "None\n",
      "None\n",
      "None\n",
      "None\n",
      "None\n",
      "None\n",
      "None\n",
      "None\n",
      "None\n",
      "None\n",
      "None\n",
      "None\n",
      "None\n",
      "None\n",
      "None\n",
      "None\n",
      "None\n",
      "None\n",
      "None\n",
      "None\n",
      "None\n",
      "None\n",
      "None\n",
      "None\n",
      "None\n",
      "None\n",
      "None\n",
      "None\n",
      "None\n",
      "None\n",
      "None\n",
      "None\n",
      "None\n",
      "None\n",
      "None\n",
      "None\n",
      "None\n",
      "None\n",
      "None\n",
      "None\n",
      "None\n",
      "None\n",
      "None\n",
      "None\n",
      "None\n",
      "None\n",
      "None\n",
      "None\n",
      "None\n",
      "None\n",
      "None\n",
      "None\n",
      "None\n",
      "None\n",
      "None\n",
      "None\n",
      "None\n",
      "None\n",
      "None\n",
      "None\n",
      "None\n",
      "None\n",
      "None\n",
      "None\n",
      "None\n",
      "None\n",
      "None\n",
      "None\n",
      "None\n",
      "None\n",
      "None\n",
      "None\n",
      "None\n",
      "None\n",
      "None\n",
      "None\n",
      "None\n",
      "None\n",
      "None\n",
      "None\n",
      "None\n",
      "None\n",
      "None\n",
      "None\n",
      "None\n",
      "None\n",
      "None\n",
      "None\n",
      "None\n",
      "None\n",
      "None\n",
      "None\n",
      "None\n",
      "None\n",
      "None\n",
      "None\n",
      "None\n",
      "None\n",
      "None\n",
      "None\n",
      "None\n",
      "None\n",
      "None\n",
      "None\n",
      "None\n",
      "None\n",
      "None\n",
      "None\n",
      "None\n",
      "None\n",
      "None\n",
      "None\n",
      "None\n",
      "None\n",
      "None\n",
      "None\n",
      "None\n",
      "None\n",
      "None\n",
      "None\n",
      "None\n",
      "None\n",
      "None\n",
      "None\n",
      "None\n",
      "None\n",
      "None\n",
      "None\n",
      "None\n",
      "None\n",
      "None\n",
      "None\n",
      "None\n",
      "None\n",
      "None\n",
      "None\n",
      "None\n",
      "None\n",
      "None\n",
      "None\n",
      "None\n",
      "None\n",
      "None\n",
      "None\n",
      "None\n",
      "None\n",
      "None\n",
      "None\n",
      "None\n",
      "None\n",
      "None\n",
      "None\n",
      "None\n",
      "None\n",
      "None\n",
      "None\n",
      "None\n",
      "None\n",
      "None\n",
      "None\n",
      "None\n"
     ]
    }
   ],
   "source": [
    "# list generators\n",
    "for g in client.generators.list():\n",
    "    print(g.tables)"
   ],
   "metadata": {
    "collapsed": false,
    "ExecuteTime": {
     "end_time": "2024-01-05T15:51:43.628896Z",
     "start_time": "2024-01-05T15:51:42.376486Z"
    }
   },
   "id": "6e15d02c338eb6b5"
  },
  {
   "cell_type": "code",
   "execution_count": 53,
   "outputs": [],
   "source": [
    "g = client.generators.create(name=\"Mike's new generator\")"
   ],
   "metadata": {
    "collapsed": false,
    "ExecuteTime": {
     "end_time": "2024-01-08T17:56:23.393839Z",
     "start_time": "2024-01-08T17:56:22.973327Z"
    }
   },
   "id": "e26f45f58b404a96"
  },
  {
   "cell_type": "code",
   "execution_count": 54,
   "outputs": [
    {
     "data": {
      "text/plain": "Generator(client=<mostlyai.generators._MostlyGeneratorsClient object at 0x11bf6a950>, id=UUID('e3ddc1b7-bde4-409f-a986-d6092d30a9b1'), name=\"Mike's new generator\", description=None, training_status=<ProgressStatus.new: 'NEW'>, metadata=Metadata(client=None, created_at='2024-01-08T17:56:23.377103Z', owner_id='dummy_user_id', owner_name='dummy_owner'), accuracy=None, usage=None, tables=[], synthetic_datasets=[])"
     },
     "execution_count": 54,
     "metadata": {},
     "output_type": "execute_result"
    }
   ],
   "source": [
    "g"
   ],
   "metadata": {
    "collapsed": false,
    "ExecuteTime": {
     "end_time": "2024-01-08T17:56:24.018609Z",
     "start_time": "2024-01-08T17:56:23.915675Z"
    }
   },
   "id": "1a1e29131b0578d1"
  },
  {
   "cell_type": "code",
   "execution_count": 55,
   "outputs": [],
   "source": [
    "table = g.add_table(location=\"public.Customer\", name=\"Customer\", sourceConnectorId=\"f18ec85f-a4b0-4c79-bacb-2693418d4587\")"
   ],
   "metadata": {
    "collapsed": false,
    "ExecuteTime": {
     "end_time": "2024-01-08T17:56:31.401137Z",
     "start_time": "2024-01-08T17:56:30.484795Z"
    }
   },
   "id": "e7b180dc8959b68e"
  },
  {
   "cell_type": "code",
   "execution_count": 56,
   "outputs": [],
   "source": [
    "gen = client.generators.get(g.id)"
   ],
   "metadata": {
    "collapsed": false,
    "ExecuteTime": {
     "end_time": "2024-01-08T17:56:32.754935Z",
     "start_time": "2024-01-08T17:56:31.952765Z"
    }
   },
   "id": "e61eca1cce2849cc"
  },
  {
   "cell_type": "code",
   "execution_count": 57,
   "outputs": [
    {
     "data": {
      "text/plain": "[SourceTable(client=None, id=UUID('0f786af6-e0a6-479f-9454-a58efeeaecbd'), source_connector=BaseResource(client=None, id=UUID('f18ec85f-a4b0-4c79-bacb-2693418d4587'), name='f18ec85f-a4b0-4c79-bacb-2693418d4587', uri='/connectors/f18ec85f-a4b0-4c79-bacb-2693418d4587'), location='public.Customer', name='Customer', primary_key='id', columns=[SourceColumn(client=None, id=UUID('8467558b-2aa1-495f-89d6-c5921ad60c14'), name='id', included=True, model_encoding_type=<SourceColumnModelEncodingType.numeric_auto: 'NUMERIC_AUTO'>), SourceColumn(client=None, id=UUID('3d7935bf-9b2c-4afe-a593-ef5ddb272cb6'), name='name', included=True, model_encoding_type=<SourceColumnModelEncodingType.categorical: 'CATEGORICAL'>), SourceColumn(client=None, id=UUID('47bbf4c3-e801-4de5-a2dd-ea5812a86915'), name='surname', included=True, model_encoding_type=<SourceColumnModelEncodingType.categorical: 'CATEGORICAL'>), SourceColumn(client=None, id=UUID('7d9f3362-0f33-40ec-ad10-bf23b86dc607'), name='gender_id', included=True, model_encoding_type=<SourceColumnModelEncodingType.numeric_auto: 'NUMERIC_AUTO'>), SourceColumn(client=None, id=UUID('3b75a000-3456-48f1-bb40-9bd80e12e309'), name='district_id', included=True, model_encoding_type=<SourceColumnModelEncodingType.categorical: 'CATEGORICAL'>), SourceColumn(client=None, id=UUID('75648c1c-423d-4a2c-ad8b-47dda09521a0'), name='birthdate', included=True, model_encoding_type=<SourceColumnModelEncodingType.datetime: 'DATETIME'>), SourceColumn(client=None, id=UUID('6847ff4b-2592-4ce6-8119-39ec2dc08cac'), name='customer_type_id', included=True, model_encoding_type=<SourceColumnModelEncodingType.numeric_auto: 'NUMERIC_AUTO'>), SourceColumn(client=None, id=UUID('394091fd-d2fd-497a-af2d-3da634057975'), name='creation_user_id', included=True, model_encoding_type=<SourceColumnModelEncodingType.numeric_auto: 'NUMERIC_AUTO'>), SourceColumn(client=None, id=UUID('595d67cb-6999-4009-8702-984561eea252'), name='creation_date', included=True, model_encoding_type=<SourceColumnModelEncodingType.datetime: 'DATETIME'>), SourceColumn(client=None, id=UUID('c026065d-7d3f-41ca-b562-b628b370137f'), name='customer_desc', included=True, model_encoding_type=<SourceColumnModelEncodingType.categorical: 'CATEGORICAL'>)], foreign_keys=None, model=Model(client=None, id='b5bd4115-b027-428a-9b22-2d55c72baece', configuration=ModelConfiguration(client=None, sample_fraction=1.0, max_sample_size=None, batch_size=None, model_size=<ModelSize.m: 'M'>, max_epochs=100, max_sequence_length=100, enable_flexible_generation=True, value_protection=True, rare_category_replacement_method=<RareCategoryReplacementMethod.constant: 'CONSTANT'>), qa=None, sample_size=None), text_model=None, total_rows=None)]"
     },
     "execution_count": 57,
     "metadata": {},
     "output_type": "execute_result"
    }
   ],
   "source": [
    "gen.tables"
   ],
   "metadata": {
    "collapsed": false,
    "ExecuteTime": {
     "end_time": "2024-01-08T17:56:33.018807Z",
     "start_time": "2024-01-08T17:56:32.893501Z"
    }
   },
   "id": "3e40e6b22dc6c30a"
  },
  {
   "cell_type": "code",
   "execution_count": 32,
   "outputs": [],
   "source": [
    "df = pd.DataFrame({'A': [1, 2], 'B': [3, 4]})"
   ],
   "metadata": {
    "collapsed": false,
    "ExecuteTime": {
     "end_time": "2024-01-05T14:37:14.749859Z",
     "start_time": "2024-01-05T14:37:14.704436Z"
    }
   },
   "id": "3fb3461c3733d8b4"
  },
  {
   "cell_type": "code",
   "execution_count": 33,
   "outputs": [
    {
     "ename": "APIStatusError",
     "evalue": "HTTP error occurred: 500 b'{\"timestamp\":\"2024-01-05T14:37:15.793+00:00\",\"status\":500,\"error\":\"Internal Server Error\",\"path\":\"/api/v2/generators/37808973-ca75-427a-8ba0-c8f4feda0808/tables/upload\"}'",
     "output_type": "error",
     "traceback": [
      "\u001B[0;31m---------------------------------------------------------------------------\u001B[0m",
      "\u001B[0;31mHTTPStatusError\u001B[0m                           Traceback (most recent call last)",
      "File \u001B[0;32m~/Dev/python-client/mostlyai/base.py:103\u001B[0m, in \u001B[0;36m_MostlyBaseClient.request\u001B[0;34m(self, path, verb, response_type, is_api_call, do_include_client, **kwargs)\u001B[0m\n\u001B[1;32m    102\u001B[0m     response \u001B[38;5;241m=\u001B[39m req_func(full_url, \u001B[38;5;241m*\u001B[39m\u001B[38;5;241m*\u001B[39mkwargs)  \u001B[38;5;66;03m# type: ignore\u001B[39;00m\n\u001B[0;32m--> 103\u001B[0m     \u001B[43mresponse\u001B[49m\u001B[38;5;241;43m.\u001B[39;49m\u001B[43mraise_for_status\u001B[49m\u001B[43m(\u001B[49m\u001B[43m)\u001B[49m\n\u001B[1;32m    104\u001B[0m \u001B[38;5;28;01mexcept\u001B[39;00m httpx\u001B[38;5;241m.\u001B[39mHTTPStatusError \u001B[38;5;28;01mas\u001B[39;00m exc:\n\u001B[1;32m    105\u001B[0m     \u001B[38;5;66;03m# Handle HTTP errors (not in 2XX range)\u001B[39;00m\n",
      "File \u001B[0;32m~/Dev/python-client/.venv/lib/python3.10/site-packages/httpx/_models.py:758\u001B[0m, in \u001B[0;36mResponse.raise_for_status\u001B[0;34m(self)\u001B[0m\n\u001B[1;32m    757\u001B[0m message \u001B[38;5;241m=\u001B[39m message\u001B[38;5;241m.\u001B[39mformat(\u001B[38;5;28mself\u001B[39m, error_type\u001B[38;5;241m=\u001B[39merror_type)\n\u001B[0;32m--> 758\u001B[0m \u001B[38;5;28;01mraise\u001B[39;00m HTTPStatusError(message, request\u001B[38;5;241m=\u001B[39mrequest, response\u001B[38;5;241m=\u001B[39m\u001B[38;5;28mself\u001B[39m)\n",
      "\u001B[0;31mHTTPStatusError\u001B[0m: Server error '500 ' for url 'https://llb2.dev.mostlylab.com/api/v2/generators/37808973-ca75-427a-8ba0-c8f4feda0808/tables/upload'\nFor more information check: https://developer.mozilla.org/en-US/docs/Web/HTTP/Status/500",
      "\nThe above exception was the direct cause of the following exception:\n",
      "\u001B[0;31mAPIStatusError\u001B[0m                            Traceback (most recent call last)",
      "Cell \u001B[0;32mIn[33], line 1\u001B[0m\n\u001B[0;32m----> 1\u001B[0m uploaded_table \u001B[38;5;241m=\u001B[39m \u001B[43mg\u001B[49m\u001B[38;5;241;43m.\u001B[39;49m\u001B[43madd_table_from_df_by_upload\u001B[49m\u001B[43m(\u001B[49m\u001B[43mdf\u001B[49m\u001B[38;5;241;43m=\u001B[39;49m\u001B[43mdf\u001B[49m\u001B[43m,\u001B[49m\u001B[43m \u001B[49m\u001B[43mname\u001B[49m\u001B[38;5;241;43m=\u001B[39;49m\u001B[38;5;124;43m\"\u001B[39;49m\u001B[38;5;124;43mSimpleTable\u001B[39;49m\u001B[38;5;124;43m\"\u001B[39;49m\u001B[43m)\u001B[49m\n",
      "File \u001B[0;32m~/Dev/python-client/mostlyai/model.py:691\u001B[0m, in \u001B[0;36mGenerator.add_table_from_df_by_upload\u001B[0;34m(self, **kwargs)\u001B[0m\n\u001B[1;32m    689\u001B[0m \u001B[38;5;28;01mdef\u001B[39;00m \u001B[38;5;21madd_table_from_df_by_upload\u001B[39m(\u001B[38;5;28mself\u001B[39m, \u001B[38;5;241m*\u001B[39m\u001B[38;5;241m*\u001B[39mkwargs):\n\u001B[1;32m    690\u001B[0m     \u001B[38;5;28;01mif\u001B[39;00m \u001B[38;5;28mself\u001B[39m\u001B[38;5;241m.\u001B[39mclient \u001B[38;5;129;01mand\u001B[39;00m \u001B[38;5;28mhasattr\u001B[39m(\u001B[38;5;28mself\u001B[39m\u001B[38;5;241m.\u001B[39mclient, \u001B[38;5;124m\"\u001B[39m\u001B[38;5;124madd_table_from_df_by_upload\u001B[39m\u001B[38;5;124m\"\u001B[39m):\n\u001B[0;32m--> 691\u001B[0m         \u001B[38;5;28;01mreturn\u001B[39;00m \u001B[38;5;28;43mself\u001B[39;49m\u001B[38;5;241;43m.\u001B[39;49m\u001B[43mclient\u001B[49m\u001B[38;5;241;43m.\u001B[39;49m\u001B[43madd_table_from_df_by_upload\u001B[49m\u001B[43m(\u001B[49m\n\u001B[1;32m    692\u001B[0m \u001B[43m            \u001B[49m\u001B[43mgenerator_id\u001B[49m\u001B[38;5;241;43m=\u001B[39;49m\u001B[38;5;28;43mself\u001B[39;49m\u001B[38;5;241;43m.\u001B[39;49m\u001B[43mid\u001B[49m\u001B[43m,\u001B[49m\u001B[43m \u001B[49m\u001B[38;5;241;43m*\u001B[39;49m\u001B[38;5;241;43m*\u001B[39;49m\u001B[43mkwargs\u001B[49m\n\u001B[1;32m    693\u001B[0m \u001B[43m        \u001B[49m\u001B[43m)\u001B[49m\n",
      "File \u001B[0;32m~/Dev/python-client/mostlyai/generators.py:77\u001B[0m, in \u001B[0;36m_MostlyGeneratorsClient.add_table_from_df_by_upload\u001B[0;34m(self, generator_id, **params)\u001B[0m\n\u001B[1;32m     74\u001B[0m         temp_file_content \u001B[38;5;241m=\u001B[39m file\u001B[38;5;241m.\u001B[39mread()\n\u001B[1;32m     75\u001B[0m         params[\u001B[38;5;124m\"\u001B[39m\u001B[38;5;124mfile\u001B[39m\u001B[38;5;124m\"\u001B[39m] \u001B[38;5;241m=\u001B[39m (temp_file_name, temp_file_content)\n\u001B[0;32m---> 77\u001B[0m \u001B[38;5;28;01mreturn\u001B[39;00m \u001B[38;5;28;43mself\u001B[39;49m\u001B[38;5;241;43m.\u001B[39;49m\u001B[43madd_table_by_upload\u001B[49m\u001B[43m(\u001B[49m\u001B[43mgenerator_id\u001B[49m\u001B[38;5;241;43m=\u001B[39;49m\u001B[43mgenerator_id\u001B[49m\u001B[43m,\u001B[49m\u001B[43m \u001B[49m\u001B[38;5;241;43m*\u001B[39;49m\u001B[38;5;241;43m*\u001B[39;49m\u001B[43mparams\u001B[49m\u001B[43m)\u001B[49m\n",
      "File \u001B[0;32m~/Dev/python-client/mostlyai/generators.py:59\u001B[0m, in \u001B[0;36m_MostlyGeneratorsClient.add_table_by_upload\u001B[0;34m(self, generator_id, **params)\u001B[0m\n\u001B[1;32m     55\u001B[0m files \u001B[38;5;241m=\u001B[39m {\n\u001B[1;32m     56\u001B[0m     \u001B[38;5;124m'\u001B[39m\u001B[38;5;124mfile\u001B[39m\u001B[38;5;124m'\u001B[39m: file_content\n\u001B[1;32m     57\u001B[0m }\n\u001B[1;32m     58\u001B[0m new_table \u001B[38;5;241m=\u001B[39m \u001B[38;5;28mdict\u001B[39m(params)\n\u001B[0;32m---> 59\u001B[0m response \u001B[38;5;241m=\u001B[39m \u001B[38;5;28;43mself\u001B[39;49m\u001B[38;5;241;43m.\u001B[39;49m\u001B[43mrequest\u001B[49m\u001B[43m(\u001B[49m\n\u001B[1;32m     60\u001B[0m \u001B[43m    \u001B[49m\u001B[43mverb\u001B[49m\u001B[38;5;241;43m=\u001B[39;49m\u001B[43mPOST\u001B[49m\u001B[43m,\u001B[49m\n\u001B[1;32m     61\u001B[0m \u001B[43m    \u001B[49m\u001B[43mpath\u001B[49m\u001B[38;5;241;43m=\u001B[39;49m\u001B[43m[\u001B[49m\u001B[43mgenerator_id\u001B[49m\u001B[43m,\u001B[49m\u001B[43m \u001B[49m\u001B[38;5;124;43m\"\u001B[39;49m\u001B[38;5;124;43mtables\u001B[39;49m\u001B[38;5;124;43m\"\u001B[39;49m\u001B[43m,\u001B[49m\u001B[43m \u001B[49m\u001B[38;5;124;43m\"\u001B[39;49m\u001B[38;5;124;43mupload\u001B[39;49m\u001B[38;5;124;43m\"\u001B[39;49m\u001B[43m]\u001B[49m\u001B[43m,\u001B[49m\n\u001B[1;32m     62\u001B[0m \u001B[43m    \u001B[49m\u001B[43mfiles\u001B[49m\u001B[38;5;241;43m=\u001B[39;49m\u001B[43mfiles\u001B[49m\u001B[43m,\u001B[49m\n\u001B[1;32m     63\u001B[0m \u001B[43m    \u001B[49m\u001B[43mjson\u001B[49m\u001B[38;5;241;43m=\u001B[39;49m\u001B[43mnew_table\u001B[49m\u001B[43m,\u001B[49m\n\u001B[1;32m     64\u001B[0m \u001B[43m    \u001B[49m\u001B[43mresponse_type\u001B[49m\u001B[38;5;241;43m=\u001B[39;49m\u001B[43mSourceTable\u001B[49m\u001B[43m,\u001B[49m\n\u001B[1;32m     65\u001B[0m \u001B[43m\u001B[49m\u001B[43m)\u001B[49m\n\u001B[1;32m     66\u001B[0m \u001B[38;5;28;01mreturn\u001B[39;00m response\n",
      "File \u001B[0;32m~/Dev/python-client/mostlyai/base.py:106\u001B[0m, in \u001B[0;36m_MostlyBaseClient.request\u001B[0;34m(self, path, verb, response_type, is_api_call, do_include_client, **kwargs)\u001B[0m\n\u001B[1;32m    103\u001B[0m     response\u001B[38;5;241m.\u001B[39mraise_for_status()\n\u001B[1;32m    104\u001B[0m \u001B[38;5;28;01mexcept\u001B[39;00m httpx\u001B[38;5;241m.\u001B[39mHTTPStatusError \u001B[38;5;28;01mas\u001B[39;00m exc:\n\u001B[1;32m    105\u001B[0m     \u001B[38;5;66;03m# Handle HTTP errors (not in 2XX range)\u001B[39;00m\n\u001B[0;32m--> 106\u001B[0m     \u001B[38;5;28;01mraise\u001B[39;00m APIStatusError(\n\u001B[1;32m    107\u001B[0m         \u001B[38;5;124mf\u001B[39m\u001B[38;5;124m\"\u001B[39m\u001B[38;5;124mHTTP error occurred: \u001B[39m\u001B[38;5;132;01m{\u001B[39;00mexc\u001B[38;5;241m.\u001B[39mresponse\u001B[38;5;241m.\u001B[39mstatus_code\u001B[38;5;132;01m}\u001B[39;00m\u001B[38;5;124m \u001B[39m\u001B[38;5;132;01m{\u001B[39;00mexc\u001B[38;5;241m.\u001B[39mresponse\u001B[38;5;241m.\u001B[39mcontent\u001B[38;5;132;01m}\u001B[39;00m\u001B[38;5;124m\"\u001B[39m,\n\u001B[1;32m    108\u001B[0m     ) \u001B[38;5;28;01mfrom\u001B[39;00m \u001B[38;5;21;01mexc\u001B[39;00m\n\u001B[1;32m    109\u001B[0m \u001B[38;5;28;01mexcept\u001B[39;00m httpx\u001B[38;5;241m.\u001B[39mRequestError \u001B[38;5;28;01mas\u001B[39;00m exc:\n\u001B[1;32m    110\u001B[0m     \u001B[38;5;66;03m# Handle request errors (e.g., network issues)\u001B[39;00m\n\u001B[1;32m    111\u001B[0m     \u001B[38;5;28;01mraise\u001B[39;00m APIError(\n\u001B[1;32m    112\u001B[0m         \u001B[38;5;124mf\u001B[39m\u001B[38;5;124m\"\u001B[39m\u001B[38;5;124mAn error occurred while requesting \u001B[39m\u001B[38;5;132;01m{\u001B[39;00mexc\u001B[38;5;241m.\u001B[39mrequest\u001B[38;5;241m.\u001B[39murl\u001B[38;5;132;01m!r}\u001B[39;00m\u001B[38;5;124m.\u001B[39m\u001B[38;5;124m\"\u001B[39m\n\u001B[1;32m    113\u001B[0m     ) \u001B[38;5;28;01mfrom\u001B[39;00m \u001B[38;5;21;01mexc\u001B[39;00m\n",
      "\u001B[0;31mAPIStatusError\u001B[0m: HTTP error occurred: 500 b'{\"timestamp\":\"2024-01-05T14:37:15.793+00:00\",\"status\":500,\"error\":\"Internal Server Error\",\"path\":\"/api/v2/generators/37808973-ca75-427a-8ba0-c8f4feda0808/tables/upload\"}'"
     ]
    }
   ],
   "source": [
    "uploaded_table = g.add_table_from_df_by_upload(df=df, name=\"SimpleTable\")"
   ],
   "metadata": {
    "collapsed": false,
    "ExecuteTime": {
     "end_time": "2024-01-05T14:37:15.849219Z",
     "start_time": "2024-01-05T14:37:15.345172Z"
    }
   },
   "id": "e807c237b7e60430"
  },
  {
   "cell_type": "code",
   "execution_count": 58,
   "outputs": [],
   "source": [
    "g = client.generators.get(g.id)"
   ],
   "metadata": {
    "collapsed": false,
    "ExecuteTime": {
     "end_time": "2024-01-08T17:56:37.686196Z",
     "start_time": "2024-01-08T17:56:37.151526Z"
    }
   },
   "id": "8ff12e9604774a72"
  },
  {
   "cell_type": "code",
   "execution_count": 59,
   "outputs": [
    {
     "ename": "APIStatusError",
     "evalue": "HTTP error occurred: 500 b'{\"timestamp\":\"2024-01-08T17:56:38.673+00:00\",\"status\":500,\"error\":\"Internal Server Error\",\"path\":\"/api/v2/generators/e3ddc1b7-bde4-409f-a986-d6092d30a9b1\"}'",
     "output_type": "error",
     "traceback": [
      "\u001B[0;31m---------------------------------------------------------------------------\u001B[0m",
      "\u001B[0;31mHTTPStatusError\u001B[0m                           Traceback (most recent call last)",
      "File \u001B[0;32m~/Dev/python-client/mostlyai/base.py:103\u001B[0m, in \u001B[0;36m_MostlyBaseClient.request\u001B[0;34m(self, path, verb, response_type, is_api_call, do_include_client, **kwargs)\u001B[0m\n\u001B[1;32m    102\u001B[0m     response \u001B[38;5;241m=\u001B[39m req_func(full_url, \u001B[38;5;241m*\u001B[39m\u001B[38;5;241m*\u001B[39mkwargs)  \u001B[38;5;66;03m# type: ignore\u001B[39;00m\n\u001B[0;32m--> 103\u001B[0m     \u001B[43mresponse\u001B[49m\u001B[38;5;241;43m.\u001B[39;49m\u001B[43mraise_for_status\u001B[49m\u001B[43m(\u001B[49m\u001B[43m)\u001B[49m\n\u001B[1;32m    104\u001B[0m \u001B[38;5;28;01mexcept\u001B[39;00m httpx\u001B[38;5;241m.\u001B[39mHTTPStatusError \u001B[38;5;28;01mas\u001B[39;00m exc:\n\u001B[1;32m    105\u001B[0m     \u001B[38;5;66;03m# Handle HTTP errors (not in 2XX range)\u001B[39;00m\n",
      "File \u001B[0;32m~/Dev/python-client/.venv/lib/python3.10/site-packages/httpx/_models.py:758\u001B[0m, in \u001B[0;36mResponse.raise_for_status\u001B[0;34m(self)\u001B[0m\n\u001B[1;32m    757\u001B[0m message \u001B[38;5;241m=\u001B[39m message\u001B[38;5;241m.\u001B[39mformat(\u001B[38;5;28mself\u001B[39m, error_type\u001B[38;5;241m=\u001B[39merror_type)\n\u001B[0;32m--> 758\u001B[0m \u001B[38;5;28;01mraise\u001B[39;00m HTTPStatusError(message, request\u001B[38;5;241m=\u001B[39mrequest, response\u001B[38;5;241m=\u001B[39m\u001B[38;5;28mself\u001B[39m)\n",
      "\u001B[0;31mHTTPStatusError\u001B[0m: Server error '500 ' for url 'https://llb2.dev.mostlylab.com/api/v2/generators/e3ddc1b7-bde4-409f-a986-d6092d30a9b1'\nFor more information check: https://developer.mozilla.org/en-US/docs/Web/HTTP/Status/500",
      "\nThe above exception was the direct cause of the following exception:\n",
      "\u001B[0;31mAPIStatusError\u001B[0m                            Traceback (most recent call last)",
      "Cell \u001B[0;32mIn[59], line 1\u001B[0m\n\u001B[0;32m----> 1\u001B[0m \u001B[43mclient\u001B[49m\u001B[38;5;241;43m.\u001B[39;49m\u001B[43mgenerators\u001B[49m\u001B[38;5;241;43m.\u001B[39;49m\u001B[43mupdate\u001B[49m\u001B[43m(\u001B[49m\u001B[43mg\u001B[49m\u001B[38;5;241;43m.\u001B[39;49m\u001B[43mid\u001B[49m\u001B[43m,\u001B[49m\u001B[43m \u001B[49m\u001B[43mname\u001B[49m\u001B[38;5;241;43m=\u001B[39;49m\u001B[38;5;124;43m\"\u001B[39;49m\u001B[38;5;124;43mMike\u001B[39;49m\u001B[38;5;124;43m'\u001B[39;49m\u001B[38;5;124;43ms updated generator\u001B[39;49m\u001B[38;5;124;43m\"\u001B[39;49m\u001B[43m)\u001B[49m\n",
      "File \u001B[0;32m~/Dev/python-client/mostlyai/generators.py:32\u001B[0m, in \u001B[0;36m_MostlyGeneratorsClient.update\u001B[0;34m(self, generator_id, **params)\u001B[0m\n\u001B[1;32m     28\u001B[0m \u001B[38;5;28;01mdef\u001B[39;00m \u001B[38;5;21mupdate\u001B[39m(\n\u001B[1;32m     29\u001B[0m     \u001B[38;5;28mself\u001B[39m, generator_id: Union[\u001B[38;5;28mstr\u001B[39m, UUID], \u001B[38;5;241m*\u001B[39m\u001B[38;5;241m*\u001B[39mparams: \u001B[38;5;28mdict\u001B[39m[\u001B[38;5;28mstr\u001B[39m, Any]\n\u001B[1;32m     30\u001B[0m ) \u001B[38;5;241m-\u001B[39m\u001B[38;5;241m>\u001B[39m Connector:\n\u001B[1;32m     31\u001B[0m     updated_generator \u001B[38;5;241m=\u001B[39m \u001B[38;5;28mdict\u001B[39m(params)\n\u001B[0;32m---> 32\u001B[0m     response \u001B[38;5;241m=\u001B[39m \u001B[38;5;28;43mself\u001B[39;49m\u001B[38;5;241;43m.\u001B[39;49m\u001B[43mrequest\u001B[49m\u001B[43m(\u001B[49m\n\u001B[1;32m     33\u001B[0m \u001B[43m        \u001B[49m\u001B[43mverb\u001B[49m\u001B[38;5;241;43m=\u001B[39;49m\u001B[43mPATCH\u001B[49m\u001B[43m,\u001B[49m\n\u001B[1;32m     34\u001B[0m \u001B[43m        \u001B[49m\u001B[43mpath\u001B[49m\u001B[38;5;241;43m=\u001B[39;49m\u001B[43m[\u001B[49m\u001B[43mgenerator_id\u001B[49m\u001B[43m]\u001B[49m\u001B[43m,\u001B[49m\n\u001B[1;32m     35\u001B[0m \u001B[43m        \u001B[49m\u001B[43mjson\u001B[49m\u001B[38;5;241;43m=\u001B[39;49m\u001B[43mupdated_generator\u001B[49m\u001B[43m,\u001B[49m\n\u001B[1;32m     36\u001B[0m \u001B[43m        \u001B[49m\u001B[43mresponse_type\u001B[49m\u001B[38;5;241;43m=\u001B[39;49m\u001B[43mGenerator\u001B[49m\u001B[43m,\u001B[49m\n\u001B[1;32m     37\u001B[0m \u001B[43m    \u001B[49m\u001B[43m)\u001B[49m\n\u001B[1;32m     38\u001B[0m     \u001B[38;5;28;01mreturn\u001B[39;00m response\n",
      "File \u001B[0;32m~/Dev/python-client/mostlyai/base.py:106\u001B[0m, in \u001B[0;36m_MostlyBaseClient.request\u001B[0;34m(self, path, verb, response_type, is_api_call, do_include_client, **kwargs)\u001B[0m\n\u001B[1;32m    103\u001B[0m     response\u001B[38;5;241m.\u001B[39mraise_for_status()\n\u001B[1;32m    104\u001B[0m \u001B[38;5;28;01mexcept\u001B[39;00m httpx\u001B[38;5;241m.\u001B[39mHTTPStatusError \u001B[38;5;28;01mas\u001B[39;00m exc:\n\u001B[1;32m    105\u001B[0m     \u001B[38;5;66;03m# Handle HTTP errors (not in 2XX range)\u001B[39;00m\n\u001B[0;32m--> 106\u001B[0m     \u001B[38;5;28;01mraise\u001B[39;00m APIStatusError(\n\u001B[1;32m    107\u001B[0m         \u001B[38;5;124mf\u001B[39m\u001B[38;5;124m\"\u001B[39m\u001B[38;5;124mHTTP error occurred: \u001B[39m\u001B[38;5;132;01m{\u001B[39;00mexc\u001B[38;5;241m.\u001B[39mresponse\u001B[38;5;241m.\u001B[39mstatus_code\u001B[38;5;132;01m}\u001B[39;00m\u001B[38;5;124m \u001B[39m\u001B[38;5;132;01m{\u001B[39;00mexc\u001B[38;5;241m.\u001B[39mresponse\u001B[38;5;241m.\u001B[39mcontent\u001B[38;5;132;01m}\u001B[39;00m\u001B[38;5;124m\"\u001B[39m,\n\u001B[1;32m    108\u001B[0m     ) \u001B[38;5;28;01mfrom\u001B[39;00m \u001B[38;5;21;01mexc\u001B[39;00m\n\u001B[1;32m    109\u001B[0m \u001B[38;5;28;01mexcept\u001B[39;00m httpx\u001B[38;5;241m.\u001B[39mRequestError \u001B[38;5;28;01mas\u001B[39;00m exc:\n\u001B[1;32m    110\u001B[0m     \u001B[38;5;66;03m# Handle request errors (e.g., network issues)\u001B[39;00m\n\u001B[1;32m    111\u001B[0m     \u001B[38;5;28;01mraise\u001B[39;00m APIError(\n\u001B[1;32m    112\u001B[0m         \u001B[38;5;124mf\u001B[39m\u001B[38;5;124m\"\u001B[39m\u001B[38;5;124mAn error occurred while requesting \u001B[39m\u001B[38;5;132;01m{\u001B[39;00mexc\u001B[38;5;241m.\u001B[39mrequest\u001B[38;5;241m.\u001B[39murl\u001B[38;5;132;01m!r}\u001B[39;00m\u001B[38;5;124m.\u001B[39m\u001B[38;5;124m\"\u001B[39m\n\u001B[1;32m    113\u001B[0m     ) \u001B[38;5;28;01mfrom\u001B[39;00m \u001B[38;5;21;01mexc\u001B[39;00m\n",
      "\u001B[0;31mAPIStatusError\u001B[0m: HTTP error occurred: 500 b'{\"timestamp\":\"2024-01-08T17:56:38.673+00:00\",\"status\":500,\"error\":\"Internal Server Error\",\"path\":\"/api/v2/generators/e3ddc1b7-bde4-409f-a986-d6092d30a9b1\"}'"
     ]
    }
   ],
   "source": [
    "client.generators.update(g.id, name=\"Mike's updated generator\")"
   ],
   "metadata": {
    "collapsed": false,
    "ExecuteTime": {
     "end_time": "2024-01-08T17:56:38.780145Z",
     "start_time": "2024-01-08T17:56:38.291618Z"
    }
   },
   "id": "78579c8211611842"
  },
  {
   "cell_type": "code",
   "execution_count": null,
   "outputs": [],
   "source": [
    "client.generators.delete(g.id)"
   ],
   "metadata": {
    "collapsed": false
   },
   "id": "80d08d753fd3019d"
  },
  {
   "cell_type": "code",
   "execution_count": null,
   "outputs": [],
   "source": [
    "table"
   ],
   "metadata": {
    "collapsed": false
   },
   "id": "b69ec8b5b8228ef"
  },
  {
   "cell_type": "code",
   "execution_count": null,
   "outputs": [],
   "source": [
    "# generator = client.generators.get(\"uuid\")\n",
    "# tables = generator.tables()  # GET tables\n",
    "# customer_table = ... #\n",
    "# table = generator.add_table(**kwargs)  # order\n",
    "# table.add_foreign_key()  # \n",
    "# generator.add_table(**kwargs).add_foreign_key().add_foreign_key.update(...)\n",
    "# generator.update_table(\"uuid\", {})\n",
    "# generator.delete_table(\"\")\n",
    "# \n",
    "# generator.training_status()  # ?\n",
    "# generator.start_training()\n",
    "# generator.stop_training()\n",
    "# generator.logs()\n",
    "\n",
    "# table.add_column()\n",
    "# table.upload(open(file, \"rb\"))"
   ],
   "metadata": {
    "collapsed": false
   },
   "id": "5a2b83777c665290"
  }
 ],
 "metadata": {
  "kernelspec": {
   "display_name": "Python 3",
   "language": "python",
   "name": "python3"
  },
  "language_info": {
   "codemirror_mode": {
    "name": "ipython",
    "version": 2
   },
   "file_extension": ".py",
   "mimetype": "text/x-python",
   "name": "python",
   "nbconvert_exporter": "python",
   "pygments_lexer": "ipython2",
   "version": "2.7.6"
  }
 },
 "nbformat": 4,
 "nbformat_minor": 5
}
