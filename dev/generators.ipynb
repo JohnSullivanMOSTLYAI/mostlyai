{
 "cells": [
  {
   "cell_type": "markdown",
   "source": [
    "# MOSTLY AI - Python Client"
   ],
   "metadata": {
    "collapsed": false
   },
   "id": "ed30a1d7d4de649b"
  },
  {
   "cell_type": "code",
   "execution_count": null,
   "outputs": [],
   "source": [
    "# ensure that any code changes are immediately reflected\n",
    "%reload_ext autoreload\n",
    "%autoreload 2"
   ],
   "metadata": {
    "collapsed": false
   },
   "id": "initial_id"
  },
  {
   "cell_type": "code",
   "execution_count": null,
   "outputs": [],
   "source": [
    "import pandas as pd"
   ],
   "metadata": {
    "collapsed": false
   },
   "id": "b7a7774c162bbee5"
  },
  {
   "cell_type": "code",
   "execution_count": null,
   "outputs": [],
   "source": [
    "from mostlyai import MostlyAI"
   ],
   "metadata": {
    "collapsed": false
   },
   "id": "277b89906cfc8274"
  },
  {
   "cell_type": "code",
   "execution_count": null,
   "outputs": [],
   "source": [
    "%env MOSTLY_PASSWORD Mostly01!"
   ],
   "metadata": {
    "collapsed": false
   },
   "id": "c45aff6fe9104e8e"
  },
  {
   "cell_type": "code",
   "execution_count": null,
   "outputs": [],
   "source": [
    "client = MostlyAI()"
   ],
   "metadata": {
    "collapsed": false
   },
   "id": "83cea1be36c131b2"
  },
  {
   "cell_type": "markdown",
   "source": [
    "## Generators\n"
   ],
   "metadata": {
    "collapsed": false
   },
   "id": "e2e3be19c54d5486"
  },
  {
   "cell_type": "code",
   "execution_count": null,
   "outputs": [],
   "source": [
    "# list generators that have \"sql\" in their name\n",
    "for g in client.generators.list():\n",
    "    if \"sql\" in g.name:\n",
    "        print(g.id, g.name)"
   ],
   "metadata": {
    "collapsed": false
   },
   "id": "6e15d02c338eb6b5"
  },
  {
   "cell_type": "code",
   "execution_count": null,
   "outputs": [],
   "source": [
    "g = client.generators.create(name=\"New generator\")"
   ],
   "metadata": {
    "collapsed": false
   },
   "id": "e26f45f58b404a96"
  },
  {
   "cell_type": "code",
   "execution_count": null,
   "outputs": [],
   "source": [
    "# another option for creating a new generator\n",
    "cloned = client.generators.create(cloneFromId=str(g.id))"
   ],
   "metadata": {
    "collapsed": false
   },
   "id": "1a1e29131b0578d1"
  },
  {
   "cell_type": "code",
   "execution_count": null,
   "outputs": [],
   "source": [
    "# using an existing postgres connector\n",
    "table = g.add_table(location=\"public.Customer\", name=\"Customer\", sourceConnectorId=\"f18ec85f-a4b0-4c79-bacb-2693418d4587\")"
   ],
   "metadata": {
    "collapsed": false
   },
   "id": "e7b180dc8959b68e"
  },
  {
   "cell_type": "code",
   "execution_count": null,
   "outputs": [],
   "source": [
    "g = client.generators.get(g.id)  # \"refresh\" the generator object to reflect the newly added table"
   ],
   "metadata": {
    "collapsed": false
   },
   "id": "92eeaee36e872e58"
  },
  {
   "cell_type": "code",
   "execution_count": null,
   "outputs": [],
   "source": [
    "for t in g.tables:\n",
    "    cols = [c.name for c in t.columns]\n",
    "    print(t.id, t.name, cols)"
   ],
   "metadata": {
    "collapsed": false
   },
   "id": "3e40e6b22dc6c30a"
  },
  {
   "cell_type": "code",
   "execution_count": null,
   "outputs": [],
   "source": [
    "# upload a subject table directly from df\n",
    "df = pd.DataFrame({'id': [1, 2], 'num': [3, 4]})\n",
    "subject = g.add_table_from_df_by_upload(df=df, name=\"subject\")"
   ],
   "metadata": {
    "collapsed": false
   },
   "id": "71685c5b2f50382"
  },
  {
   "cell_type": "code",
   "execution_count": null,
   "outputs": [],
   "source": [
    "[c.name for c in subject.columns]"
   ],
   "metadata": {
    "collapsed": false
   },
   "id": "7f028967297414ea"
  },
  {
   "cell_type": "code",
   "execution_count": null,
   "outputs": [],
   "source": [
    "table_id = str(subject.id)\n",
    "subj = g.update_table(table_id=table_id, primaryKey=\"id\")"
   ],
   "metadata": {
    "collapsed": false
   },
   "id": "b965de13d1eef902"
  },
  {
   "cell_type": "code",
   "execution_count": null,
   "outputs": [],
   "source": [
    "subj.primary_key"
   ],
   "metadata": {
    "collapsed": false
   },
   "id": "4a7b253565bce187"
  },
  {
   "cell_type": "code",
   "execution_count": null,
   "outputs": [],
   "source": [
    "# upload a subject table directly from df\n",
    "df = pd.DataFrame({'id': [\"a\", \"b\"], 'fk': [1, 2]})\n",
    "linked = g.add_table_from_df_by_upload(df=df, name=\"linked.csv\")"
   ],
   "metadata": {
    "collapsed": false
   },
   "id": "e99028cc4133cf3e"
  },
  {
   "cell_type": "code",
   "execution_count": null,
   "outputs": [],
   "source": [
    "print(linked.name, [c.name for c in linked.columns])"
   ],
   "metadata": {
    "collapsed": false
   },
   "id": "2e5fd2519868d169"
  },
  {
   "cell_type": "code",
   "execution_count": null,
   "outputs": [],
   "source": [
    "# \"status\":405,\"error\":\"Method Not Allowed\"\n",
    "# fk = linked.create_foreign_key(column=\"fk\", referencedTable=\"subj\")"
   ],
   "metadata": {
    "collapsed": false
   },
   "id": "b8a0b45ac434c2bc"
  }
 ],
 "metadata": {
  "kernelspec": {
   "display_name": "Python 3",
   "language": "python",
   "name": "python3"
  },
  "language_info": {
   "codemirror_mode": {
    "name": "ipython",
    "version": 2
   },
   "file_extension": ".py",
   "mimetype": "text/x-python",
   "name": "python",
   "nbconvert_exporter": "python",
   "pygments_lexer": "ipython2",
   "version": "2.7.6"
  }
 },
 "nbformat": 4,
 "nbformat_minor": 5
}
