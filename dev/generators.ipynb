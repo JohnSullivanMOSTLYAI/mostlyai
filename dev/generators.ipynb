{
 "cells": [
  {
   "cell_type": "code",
   "execution_count": null,
   "id": "initial_id",
   "metadata": {
    "collapsed": true
   },
   "outputs": [],
   "source": [
    "# ensure that any code changes are immediately reflected\n",
    "%reload_ext autoreload\n",
    "%autoreload 2"
   ]
  },
  {
   "cell_type": "code",
   "execution_count": null,
   "outputs": [],
   "source": [
    "import pandas as pd"
   ],
   "metadata": {
    "collapsed": false
   },
   "id": "b7a7774c162bbee5"
  },
  {
   "cell_type": "code",
   "execution_count": null,
   "outputs": [],
   "source": [
    "from mostlyai import MostlyAI"
   ],
   "metadata": {
    "collapsed": false
   },
   "id": "277b89906cfc8274"
  },
  {
   "cell_type": "code",
   "execution_count": null,
   "outputs": [],
   "source": [
    "%env MOSTLY_PASSWORD Mostly01!\n"
   ],
   "metadata": {
    "collapsed": false
   },
   "id": "c45aff6fe9104e8e"
  },
  {
   "cell_type": "code",
   "execution_count": null,
   "outputs": [],
   "source": [
    "client = MostlyAI()\n"
   ],
   "metadata": {
    "collapsed": false
   },
   "id": "83cea1be36c131b2"
  },
  {
   "cell_type": "markdown",
   "source": [
    "## Generators\n"
   ],
   "metadata": {
    "collapsed": false
   },
   "id": "e2e3be19c54d5486"
  },
  {
   "cell_type": "code",
   "execution_count": null,
   "outputs": [],
   "source": [
    "# list generators\n",
    "for g in client.generators.list():\n",
    "    if \"sql\" in g.name:\n",
    "        print(g.id, g.name)"
   ],
   "metadata": {
    "collapsed": false
   },
   "id": "6e15d02c338eb6b5"
  },
  {
   "cell_type": "code",
   "execution_count": null,
   "outputs": [],
   "source": [
    "g = client.generators.create(name=\"Mike's new generator\")"
   ],
   "metadata": {
    "collapsed": false
   },
   "id": "e26f45f58b404a96"
  },
  {
   "cell_type": "code",
   "execution_count": null,
   "outputs": [],
   "source": [
    "cloned = client.generators.create(cloneFromId=str(g.id))"
   ],
   "metadata": {
    "collapsed": false
   },
   "id": "1a1e29131b0578d1"
  },
  {
   "cell_type": "code",
   "execution_count": null,
   "outputs": [],
   "source": [
    "table = g.add_table(location=\"public.Customer\", name=\"Customer\", sourceConnectorId=\"f18ec85f-a4b0-4c79-bacb-2693418d4587\")"
   ],
   "metadata": {
    "collapsed": false
   },
   "id": "e7b180dc8959b68e"
  },
  {
   "cell_type": "code",
   "execution_count": null,
   "outputs": [],
   "source": [
    "gen = client.generators.get(g.id)"
   ],
   "metadata": {
    "collapsed": false
   },
   "id": "e61eca1cce2849cc"
  },
  {
   "cell_type": "code",
   "execution_count": null,
   "outputs": [],
   "source": [
    "for t in gen.tables:\n",
    "    cols = [c.name for c in t.columns]\n",
    "    print(t.id, t.name, cols)"
   ],
   "metadata": {
    "collapsed": false
   },
   "id": "3e40e6b22dc6c30a"
  }
 ],
 "metadata": {
  "kernelspec": {
   "display_name": "Python 3",
   "language": "python",
   "name": "python3"
  },
  "language_info": {
   "codemirror_mode": {
    "name": "ipython",
    "version": 2
   },
   "file_extension": ".py",
   "mimetype": "text/x-python",
   "name": "python",
   "nbconvert_exporter": "python",
   "pygments_lexer": "ipython2",
   "version": "2.7.6"
  }
 },
 "nbformat": 4,
 "nbformat_minor": 5
}
