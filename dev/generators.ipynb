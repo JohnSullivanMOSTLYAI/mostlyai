{
 "cells": [
  {
   "cell_type": "code",
   "execution_count": 7,
   "id": "initial_id",
   "metadata": {
    "collapsed": true,
    "ExecuteTime": {
     "end_time": "2024-01-02T15:44:39.610840Z",
     "start_time": "2024-01-02T15:44:39.513591Z"
    }
   },
   "outputs": [],
   "source": [
    "# ensure that any code changes are immediately reflected\n",
    "%reload_ext autoreload\n",
    "%autoreload 2"
   ]
  },
  {
   "cell_type": "code",
   "execution_count": 8,
   "outputs": [],
   "source": [
    "from mostlyai import MostlyAI"
   ],
   "metadata": {
    "collapsed": false,
    "ExecuteTime": {
     "end_time": "2024-01-02T15:44:40.755910Z",
     "start_time": "2024-01-02T15:44:40.704544Z"
    }
   },
   "id": "277b89906cfc8274"
  },
  {
   "cell_type": "code",
   "execution_count": 9,
   "outputs": [
    {
     "name": "stdout",
     "output_type": "stream",
     "text": [
      "env: MOSTLY_PASSWORD=Mostly01!\n"
     ]
    }
   ],
   "source": [
    "%env MOSTLY_PASSWORD Mostly01!\n"
   ],
   "metadata": {
    "collapsed": false,
    "ExecuteTime": {
     "end_time": "2024-01-02T15:44:41.337478Z",
     "start_time": "2024-01-02T15:44:41.284910Z"
    }
   },
   "id": "c45aff6fe9104e8e"
  },
  {
   "cell_type": "code",
   "execution_count": 10,
   "outputs": [],
   "source": [
    "client = MostlyAI()\n"
   ],
   "metadata": {
    "collapsed": false,
    "ExecuteTime": {
     "end_time": "2024-01-02T15:44:42.338187Z",
     "start_time": "2024-01-02T15:44:41.894349Z"
    }
   },
   "id": "83cea1be36c131b2"
  },
  {
   "cell_type": "markdown",
   "source": [
    "## Generators\n"
   ],
   "metadata": {
    "collapsed": false
   },
   "id": "e2e3be19c54d5486"
  },
  {
   "cell_type": "code",
   "execution_count": 12,
   "outputs": [
    {
     "name": "stdout",
     "output_type": "stream",
     "text": [
      "client=<mostlyai.api._MostlyGeneratorsClient object at 0x1101eb8e0> id=UUID('387c5360-d70c-45e2-a93b-eae50415ee34') name='QA_Automation_Gcs_API-write-1704206496702 Edit again 1' description=None training_status=<ProgressStatus.new: 'NEW'> metadata=Metadata(client=None, created_at='2024-01-02T14:41:37.019576Z', owner_id='dummy_user_id', owner_name='dummy_user') accuracy=None usage=None tables=None synthetic_datasets=None\n",
      "client=<mostlyai.api._MostlyGeneratorsClient object at 0x1101eb8e0> id=UUID('8692c91f-9e51-40bf-b1e3-c5d13bd6933a') name='QA_Automation_Gcs_API-write-1704197720979 Edit 2' description=None training_status=<ProgressStatus.new: 'NEW'> metadata=Metadata(client=None, created_at='2024-01-02T12:15:21.452019Z', owner_id='dummy_user_id', owner_name='dummy_user') accuracy=None usage=None tables=None synthetic_datasets=None\n",
      "client=<mostlyai.api._MostlyGeneratorsClient object at 0x1101eb8e0> id=UUID('92dbd51d-5993-4b0a-ac6d-3c48a30aee86') name='QA_Automation_Gcs_API-write-1704197712243' description=None training_status=<ProgressStatus.new: 'NEW'> metadata=Metadata(client=None, created_at='2024-01-02T12:15:12.728019Z', owner_id='dummy_user_id', owner_name='dummy_user') accuracy=None usage=None tables=None synthetic_datasets=None\n",
      "client=<mostlyai.api._MostlyGeneratorsClient object at 0x1101eb8e0> id=UUID('bddba4b6-25d8-44b9-b254-445df0263b28') name='QA_Automation_Gcs_API-write-1704197712259' description=None training_status=<ProgressStatus.new: 'NEW'> metadata=Metadata(client=None, created_at='2024-01-02T12:15:12.728014Z', owner_id='dummy_user_id', owner_name='dummy_user') accuracy=None usage=None tables=None synthetic_datasets=None\n",
      "client=<mostlyai.api._MostlyGeneratorsClient object at 0x1101eb8e0> id=UUID('90ac2634-d38e-4edc-ad6b-e97e462abc61') name='QA_Automation_Gcs_API-write-1704197710989' description=None training_status=<ProgressStatus.new: 'NEW'> metadata=Metadata(client=None, created_at='2024-01-02T12:15:11.427845Z', owner_id='dummy_user_id', owner_name='dummy_user') accuracy=None usage=None tables=None synthetic_datasets=None\n",
      "client=<mostlyai.api._MostlyGeneratorsClient object at 0x1101eb8e0> id=UUID('f593384f-15f3-43dc-a7ca-c5270e2657da') name='QA_Automation_Gcs_API-write-1704197710986' description=None training_status=<ProgressStatus.new: 'NEW'> metadata=Metadata(client=None, created_at='2024-01-02T12:15:11.415268Z', owner_id='dummy_user_id', owner_name='dummy_user') accuracy=None usage=None tables=None synthetic_datasets=None\n",
      "client=<mostlyai.api._MostlyGeneratorsClient object at 0x1101eb8e0> id=UUID('ea691e03-3b89-42ec-b5a2-3b389ab1e8d8') name='QA_Automation_Gcs_API-write-1704197710969' description=None training_status=<ProgressStatus.new: 'NEW'> metadata=Metadata(client=None, created_at='2024-01-02T12:15:11.410707Z', owner_id='dummy_user_id', owner_name='dummy_user') accuracy=None usage=None tables=None synthetic_datasets=None\n",
      "client=<mostlyai.api._MostlyGeneratorsClient object at 0x1101eb8e0> id=UUID('bd3eb679-08df-45fb-9557-d71cec416b67') name='QA_Automation_Gcs_API-write-1704197710937' description=None training_status=<ProgressStatus.new: 'NEW'> metadata=Metadata(client=None, created_at='2024-01-02T12:15:11.390090Z', owner_id='dummy_user_id', owner_name='dummy_user') accuracy=None usage=None tables=None synthetic_datasets=None\n",
      "client=<mostlyai.api._MostlyGeneratorsClient object at 0x1101eb8e0> id=UUID('6893a8fa-c409-47e0-96fe-9aafb5c45058') name='QA_Automation_Gcs_API-write-1704197709696' description=None training_status=<ProgressStatus.new: 'NEW'> metadata=Metadata(client=None, created_at='2024-01-02T12:15:10.161352Z', owner_id='dummy_user_id', owner_name='dummy_user') accuracy=None usage=None tables=None synthetic_datasets=None\n",
      "client=<mostlyai.api._MostlyGeneratorsClient object at 0x1101eb8e0> id=UUID('a11d66e9-ed08-489e-b18d-99ae2c61431f') name='QA_Automation_Gcs_API-write-1704197709697' description=None training_status=<ProgressStatus.new: 'NEW'> metadata=Metadata(client=None, created_at='2024-01-02T12:15:10.161349Z', owner_id='dummy_user_id', owner_name='dummy_user') accuracy=None usage=None tables=None synthetic_datasets=None\n",
      "client=<mostlyai.api._MostlyGeneratorsClient object at 0x1101eb8e0> id=UUID('dbe5cdbc-0112-456e-8cf1-c41f0e48a8e0') name='QA_Automation_Gcs_API-write-1704197709670' description=None training_status=<ProgressStatus.new: 'NEW'> metadata=Metadata(client=None, created_at='2024-01-02T12:15:10.126463Z', owner_id='dummy_user_id', owner_name='dummy_user') accuracy=None usage=None tables=None synthetic_datasets=None\n",
      "client=<mostlyai.api._MostlyGeneratorsClient object at 0x1101eb8e0> id=UUID('eac1eaed-0460-45be-840f-30992edddf69') name='QA_Automation_Gcs_API-write-1704197709661' description=None training_status=<ProgressStatus.new: 'NEW'> metadata=Metadata(client=None, created_at='2024-01-02T12:15:10.104034Z', owner_id='dummy_user_id', owner_name='dummy_user') accuracy=None usage=None tables=None synthetic_datasets=None\n",
      "client=<mostlyai.api._MostlyGeneratorsClient object at 0x1101eb8e0> id=UUID('76725411-8b7b-4f09-8b06-9a3220ef2408') name='QA_Automation_Mssql_API-write-1704197683699' description=None training_status=<ProgressStatus.new: 'NEW'> metadata=Metadata(client=None, created_at='2024-01-02T12:14:44.140628Z', owner_id='dummy_user_id', owner_name='dummy_user') accuracy=None usage=None tables=None synthetic_datasets=None\n",
      "client=<mostlyai.api._MostlyGeneratorsClient object at 0x1101eb8e0> id=UUID('e7aa6ddf-7c23-4a50-b10e-cbdefb660999') name='QA_Automation_Mssql_API-write-1704197683657' description=None training_status=<ProgressStatus.new: 'NEW'> metadata=Metadata(client=None, created_at='2024-01-02T12:14:44.092121Z', owner_id='dummy_user_id', owner_name='dummy_user') accuracy=None usage=None tables=None synthetic_datasets=None\n",
      "client=<mostlyai.api._MostlyGeneratorsClient object at 0x1101eb8e0> id=UUID('ca36bfb9-b499-4c57-80d1-216a4c3efce7') name='QA_Automation_Mssql_API-write-1704197682486' description=None training_status=<ProgressStatus.new: 'NEW'> metadata=Metadata(client=None, created_at='2024-01-02T12:14:42.960041Z', owner_id='dummy_user_id', owner_name='dummy_user') accuracy=None usage=None tables=None synthetic_datasets=None\n",
      "client=<mostlyai.api._MostlyGeneratorsClient object at 0x1101eb8e0> id=UUID('266a80bb-fac2-4e1a-8ea0-c874383deddf') name='QA_Automation_Mssql_API-write-1704197682479' description=None training_status=<ProgressStatus.new: 'NEW'> metadata=Metadata(client=None, created_at='2024-01-02T12:14:42.959836Z', owner_id='dummy_user_id', owner_name='dummy_user') accuracy=None usage=None tables=None synthetic_datasets=None\n",
      "client=<mostlyai.api._MostlyGeneratorsClient object at 0x1101eb8e0> id=UUID('643ddb2f-1d90-4424-bf3f-3af99950fccb') name='QA_Automation_Mssql_API-write-1704197682459' description=None training_status=<ProgressStatus.new: 'NEW'> metadata=Metadata(client=None, created_at='2024-01-02T12:14:42.914530Z', owner_id='dummy_user_id', owner_name='dummy_user') accuracy=None usage=None tables=None synthetic_datasets=None\n",
      "client=<mostlyai.api._MostlyGeneratorsClient object at 0x1101eb8e0> id=UUID('179cf741-b0b5-4455-92bb-d7fc4f20c3c8') name='QA_Automation_Mssql_API-write-1704197682339' description=None training_status=<ProgressStatus.new: 'NEW'> metadata=Metadata(client=None, created_at='2024-01-02T12:14:42.838541Z', owner_id='dummy_user_id', owner_name='dummy_user') accuracy=None usage=None tables=None synthetic_datasets=None\n",
      "client=<mostlyai.api._MostlyGeneratorsClient object at 0x1101eb8e0> id=UUID('4a148c73-b091-4584-bfe3-9406124049a0') name='QA_Automation_Mssql_API-write-1704197681035' description=None training_status=<ProgressStatus.new: 'NEW'> metadata=Metadata(client=None, created_at='2024-01-02T12:14:41.635307Z', owner_id='dummy_user_id', owner_name='dummy_user') accuracy=None usage=None tables=None synthetic_datasets=None\n",
      "client=<mostlyai.api._MostlyGeneratorsClient object at 0x1101eb8e0> id=UUID('365cdd7c-8945-4402-8831-60eb49d6e3c2') name='QA_Automation_Mssql_API-write-1704197681040' description=None training_status=<ProgressStatus.new: 'NEW'> metadata=Metadata(client=None, created_at='2024-01-02T12:14:41.634119Z', owner_id='dummy_user_id', owner_name='dummy_user') accuracy=None usage=None tables=None synthetic_datasets=None\n",
      "client=<mostlyai.api._MostlyGeneratorsClient object at 0x1101eb8e0> id=UUID('2c5a350d-9415-4b2c-8225-778a74f4ea50') name='QA_Automation_Mssql_API-write-1704197681070' description=None training_status=<ProgressStatus.new: 'NEW'> metadata=Metadata(client=None, created_at='2024-01-02T12:14:41.634066Z', owner_id='dummy_user_id', owner_name='dummy_user') accuracy=None usage=None tables=None synthetic_datasets=None\n",
      "client=<mostlyai.api._MostlyGeneratorsClient object at 0x1101eb8e0> id=UUID('289a0d1f-c9fc-4c12-b60a-57b5c34eda38') name='QA_Automation_Mssql_API-write-1704197681019' description=None training_status=<ProgressStatus.new: 'NEW'> metadata=Metadata(client=None, created_at='2024-01-02T12:14:41.540709Z', owner_id='dummy_user_id', owner_name='dummy_user') accuracy=None usage=None tables=None synthetic_datasets=None\n",
      "client=<mostlyai.api._MostlyGeneratorsClient object at 0x1101eb8e0> id=UUID('71c6ca38-9863-48e6-b36d-0db52038256b') name='QA_Automation_Mssql_API-write-1704197631921' description=None training_status=<ProgressStatus.new: 'NEW'> metadata=Metadata(client=None, created_at='2024-01-02T12:13:52.378031Z', owner_id='dummy_user_id', owner_name='dummy_user') accuracy=None usage=None tables=None synthetic_datasets=None\n",
      "client=<mostlyai.api._MostlyGeneratorsClient object at 0x1101eb8e0> id=UUID('a34afaf5-6394-4ae3-bc6f-ff0c733187aa') name='QA_Automation_Mssql_API-write-1704197631939' description=None training_status=<ProgressStatus.new: 'NEW'> metadata=Metadata(client=None, created_at='2024-01-02T12:13:52.377634Z', owner_id='dummy_user_id', owner_name='dummy_user') accuracy=None usage=None tables=None synthetic_datasets=None\n",
      "client=<mostlyai.api._MostlyGeneratorsClient object at 0x1101eb8e0> id=UUID('0c164219-f838-4033-a4dc-804e71d1ae39') name='QA_Automation_Mssql_API-write-1704197630644' description=None training_status=<ProgressStatus.new: 'NEW'> metadata=Metadata(client=None, created_at='2024-01-02T12:13:51.066548Z', owner_id='dummy_user_id', owner_name='dummy_user') accuracy=None usage=None tables=None synthetic_datasets=None\n",
      "client=<mostlyai.api._MostlyGeneratorsClient object at 0x1101eb8e0> id=UUID('77101992-f626-4e18-bf0b-64ce61082261') name='QA_Automation_Mssql_API-write-1704197630622' description=None training_status=<ProgressStatus.new: 'NEW'> metadata=Metadata(client=None, created_at='2024-01-02T12:13:51.050012Z', owner_id='dummy_user_id', owner_name='dummy_user') accuracy=None usage=None tables=None synthetic_datasets=None\n",
      "client=<mostlyai.api._MostlyGeneratorsClient object at 0x1101eb8e0> id=UUID('f9d7e7c5-6e00-41dd-b3b3-e08210b72adc') name='QA_Automation_Mssql_API-write-1704197630604' description=None training_status=<ProgressStatus.new: 'NEW'> metadata=Metadata(client=None, created_at='2024-01-02T12:13:51.048965Z', owner_id='dummy_user_id', owner_name='dummy_user') accuracy=None usage=None tables=None synthetic_datasets=None\n",
      "client=<mostlyai.api._MostlyGeneratorsClient object at 0x1101eb8e0> id=UUID('10df35f6-42da-45f6-ab01-b597928234eb') name='QA_Automation_Mssql_API-write-1704197630570' description=None training_status=<ProgressStatus.new: 'NEW'> metadata=Metadata(client=None, created_at='2024-01-02T12:13:51.015494Z', owner_id='dummy_user_id', owner_name='dummy_user') accuracy=None usage=None tables=None synthetic_datasets=None\n",
      "client=<mostlyai.api._MostlyGeneratorsClient object at 0x1101eb8e0> id=UUID('b999f9dd-abee-43f6-b8d2-fb32f4c01f25') name='QA_Automation_Mssql_API-write-1704197629358' description=None training_status=<ProgressStatus.new: 'NEW'> metadata=Metadata(client=None, created_at='2024-01-02T12:13:49.812768Z', owner_id='dummy_user_id', owner_name='dummy_user') accuracy=None usage=None tables=None synthetic_datasets=None\n",
      "client=<mostlyai.api._MostlyGeneratorsClient object at 0x1101eb8e0> id=UUID('773b03e2-6f64-4184-bfcd-5dff92247de2') name='QA_Automation_Mssql_API-write-1704197629357' description=None training_status=<ProgressStatus.new: 'NEW'> metadata=Metadata(client=None, created_at='2024-01-02T12:13:49.811060Z', owner_id='dummy_user_id', owner_name='dummy_user') accuracy=None usage=None tables=None synthetic_datasets=None\n",
      "client=<mostlyai.api._MostlyGeneratorsClient object at 0x1101eb8e0> id=UUID('73835c46-a975-4191-993b-bf8b4b5cb2e0') name='QA_Automation_Mssql_API-write-1704197629349' description=None training_status=<ProgressStatus.new: 'NEW'> metadata=Metadata(client=None, created_at='2024-01-02T12:13:49.773096Z', owner_id='dummy_user_id', owner_name='dummy_user') accuracy=None usage=None tables=None synthetic_datasets=None\n",
      "client=<mostlyai.api._MostlyGeneratorsClient object at 0x1101eb8e0> id=UUID('5beb9cf6-cef5-46a9-b98c-e11ad76e2a17') name='QA_Automation_Mssql_API-write-1704197629309' description=None training_status=<ProgressStatus.new: 'NEW'> metadata=Metadata(client=None, created_at='2024-01-02T12:13:49.729448Z', owner_id='dummy_user_id', owner_name='dummy_user') accuracy=None usage=None tables=None synthetic_datasets=None\n",
      "client=<mostlyai.api._MostlyGeneratorsClient object at 0x1101eb8e0> id=UUID('838876db-aff3-40ff-b787-fa05cee8c3b9') name='QA_Automation_MariaDb_API-write-1704197572961' description=None training_status=<ProgressStatus.new: 'NEW'> metadata=Metadata(client=None, created_at='2024-01-02T12:12:53.400192Z', owner_id='dummy_user_id', owner_name='dummy_user') accuracy=None usage=None tables=None synthetic_datasets=None\n",
      "client=<mostlyai.api._MostlyGeneratorsClient object at 0x1101eb8e0> id=UUID('1b3c882a-5ba1-4801-a88a-4c3389d689bf') name='QA_Automation_MariaDb_API-write-1704197572942' description=None training_status=<ProgressStatus.new: 'NEW'> metadata=Metadata(client=None, created_at='2024-01-02T12:12:53.387527Z', owner_id='dummy_user_id', owner_name='dummy_user') accuracy=None usage=None tables=None synthetic_datasets=None\n",
      "client=<mostlyai.api._MostlyGeneratorsClient object at 0x1101eb8e0> id=UUID('38b2a151-445e-4175-873d-9930a027286f') name='QA_Automation_MariaDb_API-write-1704197571731' description=None training_status=<ProgressStatus.new: 'NEW'> metadata=Metadata(client=None, created_at='2024-01-02T12:12:52.175193Z', owner_id='dummy_user_id', owner_name='dummy_user') accuracy=None usage=None tables=None synthetic_datasets=None\n",
      "client=<mostlyai.api._MostlyGeneratorsClient object at 0x1101eb8e0> id=UUID('96d31f17-b941-4c37-9c1b-5c76eaa98b75') name='QA_Automation_MariaDb_API-write-1704197571739' description=None training_status=<ProgressStatus.new: 'NEW'> metadata=Metadata(client=None, created_at='2024-01-02T12:12:52.174863Z', owner_id='dummy_user_id', owner_name='dummy_user') accuracy=None usage=None tables=None synthetic_datasets=None\n",
      "client=<mostlyai.api._MostlyGeneratorsClient object at 0x1101eb8e0> id=UUID('cffaefbb-05c0-4201-a2a6-bc1cf25aeb53') name='QA_Automation_MariaDb_API-write-1704197571694' description=None training_status=<ProgressStatus.new: 'NEW'> metadata=Metadata(client=None, created_at='2024-01-02T12:12:52.154542Z', owner_id='dummy_user_id', owner_name='dummy_user') accuracy=None usage=None tables=None synthetic_datasets=None\n",
      "client=<mostlyai.api._MostlyGeneratorsClient object at 0x1101eb8e0> id=UUID('8f75e41b-aa07-41e9-94fa-2f8977c5eb62') name='QA_Automation_MariaDb_API-write-1704197571712' description=None training_status=<ProgressStatus.new: 'NEW'> metadata=Metadata(client=None, created_at='2024-01-02T12:12:52.154531Z', owner_id='dummy_user_id', owner_name='dummy_user') accuracy=None usage=None tables=None synthetic_datasets=None\n",
      "client=<mostlyai.api._MostlyGeneratorsClient object at 0x1101eb8e0> id=UUID('883d99f0-e759-43b7-9e3c-754ed34dc0e6') name='QA_Automation_MariaDb_API-write-1704197570493' description=None training_status=<ProgressStatus.new: 'NEW'> metadata=Metadata(client=None, created_at='2024-01-02T12:12:50.947753Z', owner_id='dummy_user_id', owner_name='dummy_user') accuracy=None usage=None tables=None synthetic_datasets=None\n",
      "client=<mostlyai.api._MostlyGeneratorsClient object at 0x1101eb8e0> id=UUID('001683ad-1eda-443e-aa9d-9ad99e1117db') name='QA_Automation_MariaDb_API-write-1704197570485' description=None training_status=<ProgressStatus.new: 'NEW'> metadata=Metadata(client=None, created_at='2024-01-02T12:12:50.934906Z', owner_id='dummy_user_id', owner_name='dummy_user') accuracy=None usage=None tables=None synthetic_datasets=None\n",
      "client=<mostlyai.api._MostlyGeneratorsClient object at 0x1101eb8e0> id=UUID('9b33ec27-dc04-4d50-bfaf-bfc4467d8479') name='QA_Automation_MariaDb_API-write-1704197570480' description=None training_status=<ProgressStatus.new: 'NEW'> metadata=Metadata(client=None, created_at='2024-01-02T12:12:50.925791Z', owner_id='dummy_user_id', owner_name='dummy_user') accuracy=None usage=None tables=None synthetic_datasets=None\n",
      "client=<mostlyai.api._MostlyGeneratorsClient object at 0x1101eb8e0> id=UUID('706e9824-c830-4185-a9a4-bda94f6bb81c') name='QA_Automation_MariaDb_API-write-1704197570450' description=None training_status=<ProgressStatus.new: 'NEW'> metadata=Metadata(client=None, created_at='2024-01-02T12:12:50.904131Z', owner_id='dummy_user_id', owner_name='dummy_user') accuracy=None usage=None tables=None synthetic_datasets=None\n",
      "client=<mostlyai.api._MostlyGeneratorsClient object at 0x1101eb8e0> id=UUID('e80992af-047e-4f8f-ac45-2e554ebf4ad5') name='Generator story-story-planet' description=None training_status=<ProgressStatus.new: 'NEW'> metadata=Metadata(client=None, created_at='2024-01-02T12:05:02.764062Z', owner_id='dummy_user_id', owner_name='dummy_user') accuracy=None usage=None tables=None synthetic_datasets=None\n",
      "client=<mostlyai.api._MostlyGeneratorsClient object at 0x1101eb8e0> id=UUID('e6786a5d-8390-4f06-af05-ff2d01f4652a') name='Generator jungle-father-paint edit' description='Edit descriptiondssadsadasdasd' training_status=<ProgressStatus.new: 'NEW'> metadata=Metadata(client=None, created_at='2024-01-02T11:56:29.762386Z', owner_id='dummy_user_id', owner_name='dummy_user') accuracy=None usage=None tables=None synthetic_datasets=None\n",
      "client=<mostlyai.api._MostlyGeneratorsClient object at 0x1101eb8e0> id=UUID('94347ac2-7b5b-4fcc-9f8e-c3c24c12e43b') name='QA_Automation_MariaDb_API-write-1704196567172' description=None training_status=<ProgressStatus.new: 'NEW'> metadata=Metadata(client=None, created_at='2024-01-02T11:56:07.531801Z', owner_id='dummy_user_id', owner_name='dummy_user') accuracy=None usage=None tables=None synthetic_datasets=None\n",
      "client=<mostlyai.api._MostlyGeneratorsClient object at 0x1101eb8e0> id=UUID('8b7771a7-415b-46c9-ad15-3866475d0bac') name='QA_Automation_MariaDb_API-write-1704196507194Edit' description='Edit description test' training_status=<ProgressStatus.new: 'NEW'> metadata=Metadata(client=None, created_at='2024-01-02T11:55:07.584591Z', owner_id='dummy_user_id', owner_name='dummy_user') accuracy=None usage=None tables=None synthetic_datasets=None\n",
      "client=<mostlyai.api._MostlyGeneratorsClient object at 0x1101eb8e0> id=UUID('522ee7e6-f7a3-4ebe-9f28-99f15ad00b4a') name='QA_Automation_Gcs_API-write-1704196482653edit' description=None training_status=<ProgressStatus.new: 'NEW'> metadata=Metadata(client=None, created_at='2024-01-02T11:54:43.035886Z', owner_id='dummy_user_id', owner_name='dummy_user') accuracy=None usage=None tables=None synthetic_datasets=None\n",
      "client=<mostlyai.api._MostlyGeneratorsClient object at 0x1101eb8e0> id=UUID('800dccb3-4546-44a4-81a2-8dc85d4b7048') name='QA_Automation_Azure_API-write-1704196416973' description=None training_status=<ProgressStatus.new: 'NEW'> metadata=Metadata(client=None, created_at='2024-01-02T11:53:37.357635Z', owner_id='dummy_user_id', owner_name='dummy_user') accuracy=None usage=None tables=None synthetic_datasets=None\n",
      "client=<mostlyai.api._MostlyGeneratorsClient object at 0x1101eb8e0> id=UUID('636b3854-bda6-427c-b048-350a6e0a8f76') name='Generator crayon-autumn-autumn test' description=None training_status=<ProgressStatus.new: 'NEW'> metadata=Metadata(client=None, created_at='2024-01-02T11:37:27.815504Z', owner_id='dummy_user_id', owner_name='dummy_user') accuracy=None usage=None tables=None synthetic_datasets=None\n",
      "client=<mostlyai.api._MostlyGeneratorsClient object at 0x1101eb8e0> id=UUID('b12ef5b8-4245-4274-885a-eda2ad188f6c') name='Generator for Kuba' description=None training_status=<ProgressStatus.new: 'NEW'> metadata=Metadata(client=None, created_at='2024-01-02T11:29:25.908877Z', owner_id='dummy_user_id', owner_name='dummy_user') accuracy=None usage=None tables=None synthetic_datasets=None\n",
      "client=<mostlyai.api._MostlyGeneratorsClient object at 0x1101eb8e0> id=UUID('a9edf411-85a8-4bdf-a96b-d74593eb2d4f') name='Generator scarf-ocean-pencil' description=None training_status=<ProgressStatus.new: 'NEW'> metadata=Metadata(client=None, created_at='2024-01-02T11:26:55.838168Z', owner_id='dummy_user_id', owner_name='dummy_user') accuracy=None usage=None tables=None synthetic_datasets=None\n",
      "client=<mostlyai.api._MostlyGeneratorsClient object at 0x1101eb8e0> id=UUID('a464c8d3-f847-4215-bfb8-bebac68a5a58') name='Generator rabbit-helmet-market' description=None training_status=<ProgressStatus.new: 'NEW'> metadata=Metadata(client=None, created_at='2024-01-02T10:56:58.855755Z', owner_id='dummy_user_id', owner_name='dummy_user') accuracy=None usage=None tables=None synthetic_datasets=None\n",
      "client=<mostlyai.api._MostlyGeneratorsClient object at 0x1101eb8e0> id=UUID('dbf7ff99-b4fb-4d0c-8e8f-227afbd9dc46') name='Generator pirate-garden-drum' description=None training_status=<ProgressStatus.new: 'NEW'> metadata=Metadata(client=None, created_at='2024-01-02T10:56:58.488042Z', owner_id='dummy_user_id', owner_name='dummy_user') accuracy=None usage=None tables=None synthetic_datasets=None\n",
      "client=<mostlyai.api._MostlyGeneratorsClient object at 0x1101eb8e0> id=UUID('7b9f51a6-90b4-4768-8698-6e2ffd31948a') name='Generator summer-carrot-bridge' description=None training_status=<ProgressStatus.new: 'NEW'> metadata=Metadata(client=None, created_at='2024-01-02T10:11:32.157538Z', owner_id='dummy_user_id', owner_name='dummy_user') accuracy=None usage=None tables=None synthetic_datasets=None\n",
      "client=<mostlyai.api._MostlyGeneratorsClient object at 0x1101eb8e0> id=UUID('7066958b-f801-44b1-b287-764a530d8ba3') name='Generator planet-mermaid-tomato' description=None training_status=<ProgressStatus.new: 'NEW'> metadata=Metadata(client=None, created_at='2024-01-02T10:09:38.363162Z', owner_id='dummy_user_id', owner_name='dummy_user') accuracy=None usage=None tables=None synthetic_datasets=None\n",
      "client=<mostlyai.api._MostlyGeneratorsClient object at 0x1101eb8e0> id=UUID('f1daec34-6c53-4179-956c-d5f1ed257d81') name='Generator unicorn-music-ballet' description=None training_status=<ProgressStatus.new: 'NEW'> metadata=Metadata(client=None, created_at='2024-01-02T10:06:53.905788Z', owner_id='dummy_user_id', owner_name='dummy_user') accuracy=None usage=None tables=None synthetic_datasets=None\n",
      "client=<mostlyai.api._MostlyGeneratorsClient object at 0x1101eb8e0> id=UUID('bc14bed4-2308-4814-a0ee-447a59e082d3') name='Generator pajama-desert-pencil' description=None training_status=<ProgressStatus.new: 'NEW'> metadata=Metadata(client=None, created_at='2024-01-02T09:56:00.817183Z', owner_id='dummy_user_id', owner_name='dummy_user') accuracy=None usage=None tables=None synthetic_datasets=None\n",
      "client=<mostlyai.api._MostlyGeneratorsClient object at 0x1101eb8e0> id=UUID('7cb4e457-fad0-45eb-ad02-e9d1720f5c25') name='Generator square-flower-yellow' description=None training_status=<ProgressStatus.new: 'NEW'> metadata=Metadata(client=None, created_at='2024-01-02T09:41:37.540164Z', owner_id='dummy_user_id', owner_name='dummy_user') accuracy=None usage=None tables=None synthetic_datasets=None\n",
      "client=<mostlyai.api._MostlyGeneratorsClient object at 0x1101eb8e0> id=UUID('f9f53f3a-fc33-414b-8647-63a98cc2b68a') name='xjlkjsd' description='kjaskdlk' training_status=<ProgressStatus.new: 'NEW'> metadata=Metadata(client=None, created_at='2023-12-29T11:23:43.062155Z', owner_id='dummy_user_id', owner_name='dummy_user') accuracy=None usage=None tables=None synthetic_datasets=None\n",
      "client=<mostlyai.api._MostlyGeneratorsClient object at 0x1101eb8e0> id=UUID('aad3b89f-7c1c-40e4-b691-a82e4f389213') name='Generator guitar-rabbit-cookie' description=None training_status=<ProgressStatus.new: 'NEW'> metadata=Metadata(client=None, created_at='2023-12-29T10:22:20.820384Z', owner_id='dummy_user_id', owner_name='dummy_user') accuracy=None usage=None tables=None synthetic_datasets=None\n",
      "client=<mostlyai.api._MostlyGeneratorsClient object at 0x1101eb8e0> id=UUID('ff759f2b-3324-40ee-a3b8-934aee30673a') name='Generator guitar-house-cowboy' description=None training_status=<ProgressStatus.new: 'NEW'> metadata=Metadata(client=None, created_at='2023-12-29T09:50:29.704839Z', owner_id='dummy_user_id', owner_name='dummy_user') accuracy=None usage=None tables=None synthetic_datasets=None\n",
      "client=<mostlyai.api._MostlyGeneratorsClient object at 0x1101eb8e0> id=UUID('f20b2cc0-e385-4823-b20e-e44d557ea735') name='Generator sketch-insect-world' description=None training_status=<ProgressStatus.new: 'NEW'> metadata=Metadata(client=None, created_at='2023-12-29T09:41:00.076385Z', owner_id='dummy_user_id', owner_name='dummy_user') accuracy=None usage=None tables=None synthetic_datasets=None\n",
      "client=<mostlyai.api._MostlyGeneratorsClient object at 0x1101eb8e0> id=UUID('dce973e8-8aea-4634-9f5b-74da9815f90b') name='Generator tennis-pirate-flower' description=None training_status=<ProgressStatus.new: 'NEW'> metadata=Metadata(client=None, created_at='2023-12-29T09:37:19.547949Z', owner_id='dummy_user_id', owner_name='dummy_user') accuracy=None usage=None tables=None synthetic_datasets=None\n",
      "client=<mostlyai.api._MostlyGeneratorsClient object at 0x1101eb8e0> id=UUID('6fec5d27-f828-454d-843f-4bebd62bff42') name='Generator music-house-market' description=None training_status=<ProgressStatus.new: 'NEW'> metadata=Metadata(client=None, created_at='2023-12-29T09:36:31.715928Z', owner_id='dummy_user_id', owner_name='dummy_user') accuracy=None usage=None tables=None synthetic_datasets=None\n",
      "client=<mostlyai.api._MostlyGeneratorsClient object at 0x1101eb8e0> id=UUID('1694b2d9-4841-488a-85ac-67d654ce634c') name='Generator tennis-bucket-square' description=None training_status=<ProgressStatus.new: 'NEW'> metadata=Metadata(client=None, created_at='2023-12-29T09:29:07.434733Z', owner_id='dummy_user_id', owner_name='dummy_user') accuracy=None usage=None tables=None synthetic_datasets=None\n",
      "client=<mostlyai.api._MostlyGeneratorsClient object at 0x1101eb8e0> id=UUID('5325b9e6-1435-414f-ad19-f18a62f167bc') name='Generator mirror-bucket-trumpet' description=None training_status=<ProgressStatus.new: 'NEW'> metadata=Metadata(client=None, created_at='2023-12-29T09:28:37.476407Z', owner_id='dummy_user_id', owner_name='dummy_user') accuracy=None usage=None tables=None synthetic_datasets=None\n",
      "client=<mostlyai.api._MostlyGeneratorsClient object at 0x1101eb8e0> id=UUID('ad440726-b8be-47f7-a7e0-1ead91d09cdc') name='Generator music-apple-grapes' description=None training_status=<ProgressStatus.new: 'NEW'> metadata=Metadata(client=None, created_at='2023-12-29T09:28:11.226492Z', owner_id='dummy_user_id', owner_name='dummy_user') accuracy=None usage=None tables=None synthetic_datasets=None\n",
      "client=<mostlyai.api._MostlyGeneratorsClient object at 0x1101eb8e0> id=UUID('55faa408-abff-4d66-83f8-90aad8ac0543') name='Generator music-helmet-dream' description=None training_status=<ProgressStatus.new: 'NEW'> metadata=Metadata(client=None, created_at='2023-12-29T09:28:08.472916Z', owner_id='dummy_user_id', owner_name='dummy_user') accuracy=None usage=None tables=None synthetic_datasets=None\n",
      "client=<mostlyai.api._MostlyGeneratorsClient object at 0x1101eb8e0> id=UUID('9b8f0a11-9aed-4b6d-967b-ba84697b0557') name='Generator laugh-animal-grapes' description=None training_status=<ProgressStatus.new: 'NEW'> metadata=Metadata(client=None, created_at='2023-12-25T10:58:54.984146Z', owner_id='dummy_user_id', owner_name='dummy_user') accuracy=None usage=None tables=None synthetic_datasets=None\n",
      "client=<mostlyai.api._MostlyGeneratorsClient object at 0x1101eb8e0> id=UUID('aed9e45c-0403-45c7-a5ed-583099b63c9a') name='Generator autumn-yellow-apple' description=None training_status=<ProgressStatus.new: 'NEW'> metadata=Metadata(client=None, created_at='2023-12-25T10:57:26.272831Z', owner_id='dummy_user_id', owner_name='dummy_user') accuracy=None usage=None tables=None synthetic_datasets=None\n",
      "client=<mostlyai.api._MostlyGeneratorsClient object at 0x1101eb8e0> id=UUID('14e27ed2-0e41-4b93-a053-1db0e768634f') name='Generator ballet-castle-ballet' description=None training_status=<ProgressStatus.new: 'NEW'> metadata=Metadata(client=None, created_at='2023-12-25T10:57:07.142430Z', owner_id='dummy_user_id', owner_name='dummy_user') accuracy=None usage=None tables=None synthetic_datasets=None\n",
      "client=<mostlyai.api._MostlyGeneratorsClient object at 0x1101eb8e0> id=UUID('c00eb191-3291-41e2-a4fc-69e8d8cbd25e') name='Generator unicorn-spider-dream' description=None training_status=<ProgressStatus.new: 'NEW'> metadata=Metadata(client=None, created_at='2023-12-25T10:46:34.665262Z', owner_id='dummy_user_id', owner_name='dummy_user') accuracy=None usage=None tables=None synthetic_datasets=None\n",
      "client=<mostlyai.api._MostlyGeneratorsClient object at 0x1101eb8e0> id=UUID('a2f64795-4c91-418c-8d98-7c2d94e2c5b3') name='Generator piano-guitar-scarf' description=None training_status=<ProgressStatus.new: 'NEW'> metadata=Metadata(client=None, created_at='2023-12-25T10:45:56.893356Z', owner_id='dummy_user_id', owner_name='dummy_user') accuracy=None usage=None tables=None synthetic_datasets=None\n",
      "client=<mostlyai.api._MostlyGeneratorsClient object at 0x1101eb8e0> id=UUID('b8394470-ffbc-4b9e-bf93-77730d5e6370') name='Generator rabbit-carrot-laugh' description=None training_status=<ProgressStatus.new: 'NEW'> metadata=Metadata(client=None, created_at='2023-12-23T06:53:19.548725Z', owner_id='dummy_user_id', owner_name='dummy_user') accuracy=None usage=None tables=None synthetic_datasets=None\n",
      "client=<mostlyai.api._MostlyGeneratorsClient object at 0x1101eb8e0> id=UUID('ed08e8cc-6bdd-4de0-998b-1575a5e8b08b') name='Generator bridge-canyon-bridge' description=None training_status=<ProgressStatus.new: 'NEW'> metadata=Metadata(client=None, created_at='2023-12-23T06:53:01.726016Z', owner_id='dummy_user_id', owner_name='dummy_user') accuracy=None usage=None tables=None synthetic_datasets=None\n",
      "client=<mostlyai.api._MostlyGeneratorsClient object at 0x1101eb8e0> id=UUID('066b3c2a-0f2c-4ae0-9b6c-dd248994a786') name='Generator carrot-orange-autumn' description=None training_status=<ProgressStatus.new: 'NEW'> metadata=Metadata(client=None, created_at='2023-12-22T14:54:35.270536Z', owner_id='dummy_user_id', owner_name='dummy_user') accuracy=None usage=None tables=None synthetic_datasets=None\n",
      "client=<mostlyai.api._MostlyGeneratorsClient object at 0x1101eb8e0> id=UUID('7b9a7356-a367-41d1-be35-2d5f304188e5') name='Generator cookie-laugh-picnic' description=None training_status=<ProgressStatus.new: 'NEW'> metadata=Metadata(client=None, created_at='2023-12-22T14:54:26.739287Z', owner_id='dummy_user_id', owner_name='dummy_user') accuracy=None usage=None tables=None synthetic_datasets=None\n",
      "client=<mostlyai.api._MostlyGeneratorsClient object at 0x1101eb8e0> id=UUID('2479c2e4-33f5-4941-a69f-033ff0d269cd') name='Generator canyon-spider-trumpet' description=None training_status=<ProgressStatus.new: 'NEW'> metadata=Metadata(client=None, created_at='2023-12-22T13:59:52.167711Z', owner_id='dummy_user_id', owner_name='dummy_user') accuracy=None usage=None tables=None synthetic_datasets=None\n",
      "client=<mostlyai.api._MostlyGeneratorsClient object at 0x1101eb8e0> id=UUID('bb81d6e0-08af-4781-afbe-26eb88643b87') name='Generator story-crayon-square' description=None training_status=<ProgressStatus.new: 'NEW'> metadata=Metadata(client=None, created_at='2023-12-22T13:58:52.696173Z', owner_id='dummy_user_id', owner_name='dummy_user') accuracy=None usage=None tables=None synthetic_datasets=None\n",
      "client=<mostlyai.api._MostlyGeneratorsClient object at 0x1101eb8e0> id=UUID('5ca729e1-3ac1-455d-975d-cd16d5a1b617') name='Generator mother-cheese-rabbit' description=None training_status=<ProgressStatus.new: 'NEW'> metadata=Metadata(client=None, created_at='2023-12-22T12:35:02.166648Z', owner_id='dummy_user_id', owner_name='dummy_user') accuracy=None usage=None tables=None synthetic_datasets=None\n",
      "client=<mostlyai.api._MostlyGeneratorsClient object at 0x1101eb8e0> id=UUID('1154bf62-1037-4c7c-88c3-a08d251d6cae') name='Generator dragon-animal-soccer' description=None training_status=<ProgressStatus.new: 'NEW'> metadata=Metadata(client=None, created_at='2023-12-22T11:11:26.260605Z', owner_id='dummy_user_id', owner_name='dummy_user') accuracy=None usage=None tables=None synthetic_datasets=None\n",
      "client=<mostlyai.api._MostlyGeneratorsClient object at 0x1101eb8e0> id=UUID('13fee195-d5bc-4623-8535-d16b33bc3272') name='Generator castle-world-crayon' description=None training_status=<ProgressStatus.new: 'NEW'> metadata=Metadata(client=None, created_at='2023-12-22T10:31:25.525627Z', owner_id='dummy_user_id', owner_name='dummy_user') accuracy=None usage=None tables=None synthetic_datasets=None\n",
      "client=<mostlyai.api._MostlyGeneratorsClient object at 0x1101eb8e0> id=UUID('279294c5-eff2-470e-92eb-fc8062fbe6e1') name='Generator summer-sketch-winter' description=None training_status=<ProgressStatus.new: 'NEW'> metadata=Metadata(client=None, created_at='2023-12-22T10:31:02.318951Z', owner_id='dummy_user_id', owner_name='dummy_user') accuracy=None usage=None tables=None synthetic_datasets=None\n",
      "client=<mostlyai.api._MostlyGeneratorsClient object at 0x1101eb8e0> id=UUID('772335e2-53cc-4dbd-a6ce-8f3e340a10e5') name='Generator tomato-ocean-forest' description=None training_status=<ProgressStatus.new: 'NEW'> metadata=Metadata(client=None, created_at='2023-12-22T09:33:44.861434Z', owner_id='dummy_user_id', owner_name='dummy_user') accuracy=None usage=None tables=None synthetic_datasets=None\n",
      "client=<mostlyai.api._MostlyGeneratorsClient object at 0x1101eb8e0> id=UUID('8ccd7914-0896-4257-a7ec-1fcf165ba64c') name='Generator wizard-crayon-canyon' description=None training_status=<ProgressStatus.new: 'NEW'> metadata=Metadata(client=None, created_at='2023-12-22T09:06:37.308927Z', owner_id='dummy_user_id', owner_name='dummy_user') accuracy=None usage=None tables=None synthetic_datasets=None\n",
      "client=<mostlyai.api._MostlyGeneratorsClient object at 0x1101eb8e0> id=UUID('f73b8c9e-cdda-4fd4-889d-1deffeb389c4') name='Generator pencil-spring-school' description=None training_status=<ProgressStatus.new: 'NEW'> metadata=Metadata(client=None, created_at='2023-12-22T09:06:18.472331Z', owner_id='dummy_user_id', owner_name='dummy_user') accuracy=None usage=None tables=None synthetic_datasets=None\n",
      "client=<mostlyai.api._MostlyGeneratorsClient object at 0x1101eb8e0> id=UUID('be30a09b-be8a-4f04-aba5-699a1f18339a') name='Generator wizard-ocean-canyon' description=None training_status=<ProgressStatus.new: 'NEW'> metadata=Metadata(client=None, created_at='2023-12-22T08:56:23.865431Z', owner_id='dummy_user_id', owner_name='dummy_user') accuracy=None usage=None tables=None synthetic_datasets=None\n",
      "client=<mostlyai.api._MostlyGeneratorsClient object at 0x1101eb8e0> id=UUID('d432e72b-89dd-40f6-88af-ea7cbca8225a') name='Generator fairy-grapes-bottle' description=None training_status=<ProgressStatus.new: 'NEW'> metadata=Metadata(client=None, created_at='2023-12-22T08:38:19.900605Z', owner_id='dummy_user_id', owner_name='dummy_user') accuracy=None usage=None tables=None synthetic_datasets=None\n",
      "client=<mostlyai.api._MostlyGeneratorsClient object at 0x1101eb8e0> id=UUID('47bb7e3e-768e-4542-a066-e5f95792a086') name='QA_Automation_Snowflake_API-write-1703170270142' description=None training_status=<ProgressStatus.new: 'NEW'> metadata=Metadata(client=None, created_at='2023-12-21T14:51:11.076497Z', owner_id='dummy_user_id', owner_name='dummy_user') accuracy=None usage=None tables=None synthetic_datasets=None\n",
      "client=<mostlyai.api._MostlyGeneratorsClient object at 0x1101eb8e0> id=UUID('2ff319f1-f1e4-4b3d-b531-631e3d186e12') name='QA_Automation_Oracle_API-write-1703170254175' description=None training_status=<ProgressStatus.new: 'NEW'> metadata=Metadata(client=None, created_at='2023-12-21T14:50:54.989067Z', owner_id='dummy_user_id', owner_name='dummy_user') accuracy=None usage=None tables=None synthetic_datasets=None\n",
      "client=<mostlyai.api._MostlyGeneratorsClient object at 0x1101eb8e0> id=UUID('80643bbc-5277-4d6d-a82c-6873362b14ce') name='QA_Automation_Mysql_API-write-1703170247454' description=None training_status=<ProgressStatus.new: 'NEW'> metadata=Metadata(client=None, created_at='2023-12-21T14:50:48.408215Z', owner_id='dummy_user_id', owner_name='dummy_user') accuracy=None usage=None tables=None synthetic_datasets=None\n",
      "client=<mostlyai.api._MostlyGeneratorsClient object at 0x1101eb8e0> id=UUID('475644f8-fdad-4b62-8300-d0c0ef9a3869') name='QA_Automation_Mssql_API-write-1703170241136' description=None training_status=<ProgressStatus.new: 'NEW'> metadata=Metadata(client=None, created_at='2023-12-21T14:50:42.016239Z', owner_id='dummy_user_id', owner_name='dummy_user') accuracy=None usage=None tables=None synthetic_datasets=None\n",
      "client=<mostlyai.api._MostlyGeneratorsClient object at 0x1101eb8e0> id=UUID('ad4abee2-eb75-4c5f-950c-222d922575d7') name='QA_Automation_MariaDb_API-write-1703170234656' description=None training_status=<ProgressStatus.new: 'NEW'> metadata=Metadata(client=None, created_at='2023-12-21T14:50:35.343876Z', owner_id='dummy_user_id', owner_name='dummy_user') accuracy=None usage=None tables=None synthetic_datasets=None\n",
      "client=<mostlyai.api._MostlyGeneratorsClient object at 0x1101eb8e0> id=UUID('912b4bdd-e05e-4044-af0a-893895275a4d') name='QA_Automation_Gcs_API-write-1703170228221' description=None training_status=<ProgressStatus.new: 'NEW'> metadata=Metadata(client=None, created_at='2023-12-21T14:50:28.995602Z', owner_id='dummy_user_id', owner_name='dummy_user') accuracy=None usage=None tables=None synthetic_datasets=None\n",
      "client=<mostlyai.api._MostlyGeneratorsClient object at 0x1101eb8e0> id=UUID('c4993213-bf67-4775-8533-ac245506fba7') name='QA_Automation_API-1_Table_File-1703170220939' description=None training_status=<ProgressStatus.new: 'NEW'> metadata=Metadata(client=None, created_at='2023-12-21T14:50:21.859229Z', owner_id='dummy_user_id', owner_name='dummy_user') accuracy=None usage=None tables=None synthetic_datasets=None\n",
      "client=<mostlyai.api._MostlyGeneratorsClient object at 0x1101eb8e0> id=UUID('d2d2db37-bb54-4c3d-b8dd-542f8da75a6c') name='QA_Automation_API-1_Table_File-1703170200103' description=None training_status=<ProgressStatus.new: 'NEW'> metadata=Metadata(client=None, created_at='2023-12-21T14:50:01.090035Z', owner_id='dummy_user_id', owner_name='dummy_user') accuracy=None usage=None tables=None synthetic_datasets=None\n",
      "client=<mostlyai.api._MostlyGeneratorsClient object at 0x1101eb8e0> id=UUID('b63a88b8-940b-4ad3-8c6a-e3f872f31591') name='QA_Automation_API-1_Table_File-1703170193058' description=None training_status=<ProgressStatus.new: 'NEW'> metadata=Metadata(client=None, created_at='2023-12-21T14:49:53.844497Z', owner_id='dummy_user_id', owner_name='dummy_user') accuracy=None usage=None tables=None synthetic_datasets=None\n",
      "client=<mostlyai.api._MostlyGeneratorsClient object at 0x1101eb8e0> id=UUID('648ecc3e-40a5-4c9c-8cf9-8e1f66eec960') name='QA_Automation_Databricks_API-write-1703170186279' description=None training_status=<ProgressStatus.new: 'NEW'> metadata=Metadata(client=None, created_at='2023-12-21T14:49:47.134078Z', owner_id='dummy_user_id', owner_name='dummy_user') accuracy=None usage=None tables=None synthetic_datasets=None\n",
      "client=<mostlyai.api._MostlyGeneratorsClient object at 0x1101eb8e0> id=UUID('49be5937-977c-42f0-a064-ac46855b08cd') name='QA_Automation_BigQuery_API-write-1703170178726' description=None training_status=<ProgressStatus.new: 'NEW'> metadata=Metadata(client=None, created_at='2023-12-21T14:49:39.727841Z', owner_id='dummy_user_id', owner_name='dummy_user') accuracy=None usage=None tables=None synthetic_datasets=None\n",
      "client=<mostlyai.api._MostlyGeneratorsClient object at 0x1101eb8e0> id=UUID('37534da0-fe8c-48b8-973b-143a8277c0e3') name='QA_Automation_Azure_API-write-1703170170696' description=None training_status=<ProgressStatus.new: 'NEW'> metadata=Metadata(client=None, created_at='2023-12-21T14:49:32.226698Z', owner_id='dummy_user_id', owner_name='dummy_user') accuracy=None usage=None tables=None synthetic_datasets=None\n",
      "client=<mostlyai.api._MostlyGeneratorsClient object at 0x1101eb8e0> id=UUID('06a1c5a5-de34-410e-9ede-81622b2792fd') name='QA_Automation_Aws_API-write-1703170161858' description=None training_status=<ProgressStatus.new: 'NEW'> metadata=Metadata(client=None, created_at='2023-12-21T14:49:22.933038Z', owner_id='dummy_user_id', owner_name='dummy_user') accuracy=None usage=None tables=None synthetic_datasets=None\n",
      "client=<mostlyai.api._MostlyGeneratorsClient object at 0x1101eb8e0> id=UUID('b44b9bee-be78-4549-9a5e-eddadfe72fe4') name='Generator laugh-apple-cheese' description=None training_status=<ProgressStatus.new: 'NEW'> metadata=Metadata(client=None, created_at='2023-12-21T14:07:49.862168Z', owner_id='dummy_user_id', owner_name='dummy_user') accuracy=None usage=None tables=None synthetic_datasets=None\n",
      "client=<mostlyai.api._MostlyGeneratorsClient object at 0x1101eb8e0> id=UUID('89d26112-2268-4c1a-9629-3034f223ac14') name='Magnetism feynman' description=None training_status=<ProgressStatus.new: 'NEW'> metadata=Metadata(client=None, created_at='2023-12-20T10:33:13.474972Z', owner_id='dummy_user_id', owner_name='dummy_user') accuracy=None usage=None tables=None synthetic_datasets=None\n"
     ]
    }
   ],
   "source": [
    "# list generators\n",
    "for g in client.generators.list():\n",
    "    print(g)"
   ],
   "metadata": {
    "collapsed": false,
    "ExecuteTime": {
     "end_time": "2024-01-02T15:45:05.687783Z",
     "start_time": "2024-01-02T15:45:04.649525Z"
    }
   },
   "id": "6e15d02c338eb6b5"
  },
  {
   "cell_type": "code",
   "execution_count": null,
   "outputs": [],
   "source": [],
   "metadata": {
    "collapsed": false
   },
   "id": "5a2b83777c665290"
  }
 ],
 "metadata": {
  "kernelspec": {
   "display_name": "Python 3",
   "language": "python",
   "name": "python3"
  },
  "language_info": {
   "codemirror_mode": {
    "name": "ipython",
    "version": 2
   },
   "file_extension": ".py",
   "mimetype": "text/x-python",
   "name": "python",
   "nbconvert_exporter": "python",
   "pygments_lexer": "ipython2",
   "version": "2.7.6"
  }
 },
 "nbformat": 4,
 "nbformat_minor": 5
}
