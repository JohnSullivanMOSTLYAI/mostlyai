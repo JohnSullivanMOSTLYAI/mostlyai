{
 "cells": [
  {
   "cell_type": "code",
   "execution_count": null,
   "id": "69cb91dc2f799dc1",
   "metadata": {
    "ExecuteTime": {
     "end_time": "2024-02-19T14:28:54.929910Z",
     "start_time": "2024-02-19T14:28:54.844984Z"
    },
    "collapsed": false,
    "jupyter": {
     "outputs_hidden": false
    }
   },
   "outputs": [],
   "source": [
    "# ensure that any code changes are immediately reflected\n",
    "%reload_ext autoreload\n",
    "%autoreload 2"
   ]
  },
  {
   "cell_type": "code",
   "execution_count": null,
   "id": "78ef262fde4f3055",
   "metadata": {
    "ExecuteTime": {
     "end_time": "2024-02-19T14:28:55.298743Z",
     "start_time": "2024-02-19T14:28:55.100906Z"
    },
    "collapsed": false,
    "jupyter": {
     "outputs_hidden": false
    }
   },
   "outputs": [],
   "source": [
    "from mostlyai import MostlyAI\n",
    "import pandas as pd\n",
    "import os\n",
    "os.environ['MOSTLY_AI_PASSWORD'] = 'Mostly01!'\n",
    "mostly = MostlyAI()"
   ]
  },
  {
   "cell_type": "code",
   "execution_count": null,
   "id": "ddd2938e-f5cf-4ca1-b41e-4f5c02cf4771",
   "metadata": {},
   "outputs": [],
   "source": [
    "json_config = \"\"\"\n",
    "{\n",
    "   \"name\": \"titanic\",\n",
    "   \"description\": null,\n",
    "   \"tables\": [\n",
    "      {\n",
    "         \"name\": \"titanic\",\n",
    "         \"sourceConnectorId\": \"372e4a44-966b-4420-bd10-f1e847caf22c\",\n",
    "         \"location\": null,\n",
    "         \"data\": null,\n",
    "         \"modelConfiguration\": {\n",
    "            \"sampleFraction\": 1,\n",
    "            \"maxSampleSize\": null,\n",
    "            \"batchSize\": null,\n",
    "            \"modelSize\": \"M\",\n",
    "            \"maxTrainingTime\": 60,\n",
    "            \"maxEpochs\": 100,\n",
    "            \"maxSequenceWindow\": 100,\n",
    "            \"enableFlexibleGeneration\": true,\n",
    "            \"valueProtection\": true,\n",
    "            \"rareCategoryReplacementMethod\": \"CONSTANT\"\n",
    "         },\n",
    "         \"textModelConfiguration\": null,\n",
    "         \"primaryKey\": null,\n",
    "         \"foreignKeys\": null,\n",
    "         \"columns\": [\n",
    "            {\n",
    "               \"name\": \"survived\",\n",
    "               \"included\": true,\n",
    "               \"modelEncodingType\": \"NUMERIC_AUTO\"\n",
    "            },\n",
    "            {\n",
    "               \"name\": \"pclass\",\n",
    "               \"included\": true,\n",
    "               \"modelEncodingType\": \"NUMERIC_AUTO\"\n",
    "            },\n",
    "            {\n",
    "               \"name\": \"sex\",\n",
    "               \"included\": true,\n",
    "               \"modelEncodingType\": \"CATEGORICAL\"\n",
    "            },\n",
    "            {\n",
    "               \"name\": \"age\",\n",
    "               \"included\": true,\n",
    "               \"modelEncodingType\": \"NUMERIC_AUTO\"\n",
    "            },\n",
    "            {\n",
    "               \"name\": \"sibsp\",\n",
    "               \"included\": true,\n",
    "               \"modelEncodingType\": \"NUMERIC_AUTO\"\n",
    "            },\n",
    "            {\n",
    "               \"name\": \"parch\",\n",
    "               \"included\": true,\n",
    "               \"modelEncodingType\": \"NUMERIC_AUTO\"\n",
    "            },\n",
    "            {\n",
    "               \"name\": \"fare\",\n",
    "               \"included\": true,\n",
    "               \"modelEncodingType\": \"NUMERIC_AUTO\"\n",
    "            },\n",
    "            {\n",
    "               \"name\": \"embarked\",\n",
    "               \"included\": true,\n",
    "               \"modelEncodingType\": \"CATEGORICAL\"\n",
    "            }\n",
    "         ]\n",
    "      }\n",
    "   ]\n",
    "}\n",
    "\"\"\""
   ]
  },
  {
   "cell_type": "code",
   "execution_count": null,
   "id": "376676cabdd123ef",
   "metadata": {
    "ExecuteTime": {
     "end_time": "2024-02-19T14:28:57.213360Z",
     "start_time": "2024-02-19T14:28:57.188824Z"
    },
    "collapsed": false,
    "jupyter": {
     "outputs_hidden": false
    }
   },
   "outputs": [],
   "source": [
    "import json\n",
    "config = json.loads(json_config)\n",
    "config"
   ]
  },
  {
   "cell_type": "code",
   "execution_count": null,
   "id": "21e3d83c-52aa-44d9-9643-95a4d044a7f3",
   "metadata": {},
   "outputs": [],
   "source": [
    "config[\"tables\"][0][\"name\"] = 'titanic_dataset'\n",
    "config[\"tables\"][0][\"modelConfiguration\"][\"maxSampleSize\"] = 20\n",
    "config[\"tables\"][0][\"modelConfiguration\"] |= {\"batchSize\": 32, \"maxEpochs\": 5, \"sampleFraction\": None}\n",
    "config[\"tables\"][0][\"data\"] = \"/Users/mplatzer/github/public-demo-data/titanic/titanic.csv\"\n",
    "config"
   ]
  },
  {
   "cell_type": "code",
   "execution_count": null,
   "id": "ae1ae796-2f77-4a92-9b20-37f17595324e",
   "metadata": {},
   "outputs": [],
   "source": [
    "mostly.train(config)"
   ]
  },
  {
   "cell_type": "code",
   "execution_count": null,
   "id": "dc781cd39fe8e4e4",
   "metadata": {
    "ExecuteTime": {
     "end_time": "2024-02-19T14:05:11.779673Z",
     "start_time": "2024-02-19T14:05:11.751510Z"
    },
    "collapsed": false,
    "jupyter": {
     "outputs_hidden": false
    }
   },
   "outputs": [],
   "source": [
    "g = mostly.generators.get('82500232-6e90-4c33-bc77-5e5e61f36581')\n",
    "g.to_dict()"
   ]
  },
  {
   "cell_type": "code",
   "execution_count": null,
   "id": "98e2fcc4-6dd1-4fd9-9d51-fb8e820024c1",
   "metadata": {},
   "outputs": [],
   "source": [
    "sd = mostly.generate(g)"
   ]
  },
  {
   "cell_type": "code",
   "execution_count": null,
   "id": "de70d5ba9cef59d0",
   "metadata": {
    "ExecuteTime": {
     "end_time": "2024-02-19T13:20:17.192503Z",
     "start_time": "2024-02-19T13:20:17.131868Z"
    },
    "collapsed": false,
    "jupyter": {
     "outputs_hidden": false
    }
   },
   "outputs": [],
   "source": [
    "mostly.connect(config)\n",
    "\n",
    "mostly.connectors.get(id)\n",
    "mostly.connectors.list()\n",
    "mostly.connectors.create(config)\n",
    "c.delete()\n",
    "c.update()\n",
    "c.config()\n",
    "c.locations()"
   ]
  },
  {
   "cell_type": "code",
   "execution_count": null,
   "id": "96b17fb3e006efe",
   "metadata": {
    "collapsed": false,
    "jupyter": {
     "outputs_hidden": false
    }
   },
   "outputs": [],
   "source": [
    "mostly.train(data_or_config, start=True, wait=True)\n",
    "\n",
    "mostly.generators.get(id)\n",
    "mostly.generators.list()\n",
    "mostly.generators.create(config)\n",
    "g.training.start()\n",
    "g.training.progress()\n",
    "g.training.cancel()\n",
    "#g.training.stop()\n",
    "g.training.wait()\n",
    "g.delete()\n",
    "g.update(config)\n",
    "g.config()"
   ]
  },
  {
   "cell_type": "code",
   "execution_count": null,
   "id": "fb19032decd37777",
   "metadata": {
    "collapsed": false,
    "jupyter": {
     "outputs_hidden": false
    }
   },
   "outputs": [],
   "source": [
    "mostly.generate(generator, config, seed=seed, start=True, wait=True)\n",
    "\n",
    "mostly.synthetic_datasets.get(id)\n",
    "mostly.synthetic_datasets.list()\n",
    "mostly.synthetic_datasets.create(config)\n",
    "sd.generation.start()\n",
    "sd.generation.progress()\n",
    "sd.generation.cancel()\n",
    "sd.generation.wait()\n",
    "sd.update(config)\n",
    "sd.config()\n",
    "sd.data()\n",
    "sd.download(file, artifact)\n",
    "sd.delete()\n"
   ]
  },
  {
   "cell_type": "markdown",
   "id": "283c7d9a-ee3d-441a-bb2d-393fe3899947",
   "metadata": {},
   "source": [
    "## TITANIC"
   ]
  },
  {
   "cell_type": "code",
   "execution_count": null,
   "id": "bb8da271-b63e-4a7f-a244-b196aa6b41f5",
   "metadata": {},
   "outputs": [],
   "source": [
    "data_fn = 'https://raw.githubusercontent.com/mostly-ai/public-demo-data/dev/titanic/titanic.csv'\n",
    "g = mostly.train(data_fn)"
   ]
  },
  {
   "cell_type": "code",
   "execution_count": null,
   "id": "926196b2-c840-4e32-9fb4-2802b5a6eadd",
   "metadata": {},
   "outputs": [],
   "source": [
    "sd = mostly.generate(g)"
   ]
  },
  {
   "cell_type": "code",
   "execution_count": null,
   "id": "c0c103a7-4b0c-4c54-b6f7-ec32a557ae86",
   "metadata": {
    "scrolled": true
   },
   "outputs": [],
   "source": [
    "dfs = sd.data()\n",
    "dfs"
   ]
  },
  {
   "cell_type": "markdown",
   "id": "ff9a5ecf-97b3-4b4f-8775-b747b6e168bb",
   "metadata": {},
   "source": [
    "## CENSUS"
   ]
  },
  {
   "cell_type": "code",
   "execution_count": null,
   "id": "fdb24aeb-8511-4645-9d62-55a263f650ed",
   "metadata": {},
   "outputs": [],
   "source": [
    "census_df = pd.read_csv('https://github.com/mostly-ai/public-demo-data/raw/dev/census/census.csv.gz').sample(n=1_000)\n",
    "config = {\n",
    "    'name': 'US census',\n",
    "    'tables': [{\"name\": \"census\", \"data\": census_df}],\n",
    "}\n",
    "g = mostly.train(config)"
   ]
  },
  {
   "cell_type": "code",
   "execution_count": null,
   "id": "893d0e65-8c84-411e-a233-9906e9085713",
   "metadata": {},
   "outputs": [],
   "source": [
    "#seed = pd.DataFrame({'sex': ['Male', 'Female'] * 100, 'age': [49] * 200})\n",
    "#sd = client.synthetic_datasets.create(generatorId=g.id, tables=[{'name': 'users', 'sampleSeedData': seed}])"
   ]
  },
  {
   "cell_type": "markdown",
   "id": "1ca7fdc4-19ec-4435-a223-b67a2bbd4259",
   "metadata": {},
   "source": [
    "## CDNOW"
   ]
  },
  {
   "cell_type": "code",
   "execution_count": null,
   "id": "fa528ff3-b9d4-459e-9770-ad134f456f39",
   "metadata": {},
   "outputs": [],
   "source": [
    "g = mostly.train(\n",
    "    {\n",
    "        \"name\": \"CDNOW\",\n",
    "        \"tables\": [\n",
    "            {\n",
    "                \"name\": \"users\", \n",
    "                \"data\": \"https://github.com/mostly-ai/public-demo-data/raw/dev/cdnow/users.csv.gz\", \n",
    "                \"primaryKey\": \"id\"\n",
    "            },\n",
    "            {\n",
    "                \"name\": \"purchases\",\n",
    "                \"data\": \"https://github.com/mostly-ai/public-demo-data/raw/dev/cdnow/purchases.csv.gz\", \n",
    "                \"foreignKeys\": [{\"column\": \"users_id\", \"referencedTable\": \"users\", \"isContext\": True}]\n",
    "            }\n",
    "        ]\n",
    "    }\n",
    ")"
   ]
  },
  {
   "cell_type": "code",
   "execution_count": null,
   "id": "976d1d7e-2672-4972-9979-0ea23cbef331",
   "metadata": {},
   "outputs": [],
   "source": [
    "g = mostly.generators.get('8ff1e247-2582-4ddf-9903-58f9fa5cfc1f')\n",
    "acc = g.tables[1].model.metrics.accuracy.univariate\n",
    "print(f\"accuracy: {acc:.2%}\")"
   ]
  },
  {
   "cell_type": "code",
   "execution_count": null,
   "id": "b1a1b4d4-0426-4381-ae9b-0a59e718982c",
   "metadata": {},
   "outputs": [],
   "source": [
    "sd = mostly.generate(g)"
   ]
  },
  {
   "cell_type": "code",
   "execution_count": null,
   "id": "dfeb18f2-e506-48a2-b604-10e00e6b1bbd",
   "metadata": {},
   "outputs": [],
   "source": [
    "sd = mostly.synthetic_datasets.get('625fcb54-de26-4dd6-a406-eac249cdcf04')"
   ]
  },
  {
   "cell_type": "code",
   "execution_count": null,
   "id": "845793ec-853a-442e-b066-6cdc3050be4f",
   "metadata": {},
   "outputs": [],
   "source": [
    "dfs = sd.data()\n",
    "dfs"
   ]
  },
  {
   "cell_type": "markdown",
   "id": "a4212b8a25fb3fff",
   "metadata": {
    "collapsed": false,
    "jupyter": {
     "outputs_hidden": false
    }
   },
   "source": [
    "# clone a generator"
   ]
  },
  {
   "cell_type": "code",
   "execution_count": null,
   "id": "4f0fef6ccbd0d1a0",
   "metadata": {
    "collapsed": false,
    "jupyter": {
     "outputs_hidden": false
    }
   },
   "outputs": [],
   "source": [
    "g = mostly.generators.get('6422bf4b-1e3f-4b8e-bc33-f1a33dac8925')\n",
    "print(f\"id:{str(g.id)}, name:{g.name}, status:{g.training_status.value}\")"
   ]
  },
  {
   "cell_type": "code",
   "execution_count": null,
   "id": "2414ad7bfcdbfef9",
   "metadata": {
    "collapsed": false,
    "jupyter": {
     "outputs_hidden": false
    }
   },
   "outputs": [],
   "source": [
    "# clone a generator, and re-provide the data\n",
    "config = g.to_dict()\n",
    "config['tables'][0]['data'] = 'https://github.com/mostly-ai/public-demo-data/raw/dev/census/census.csv.gz'\n",
    "g2 = mostly.train(config, start=False)"
   ]
  },
  {
   "cell_type": "code",
   "execution_count": null,
   "id": "5e01654eada3a341",
   "metadata": {
    "collapsed": false,
    "jupyter": {
     "outputs_hidden": false
    }
   },
   "outputs": [],
   "source": [
    "print(f\"id:{str(g2.id)}, name:{g2.name}, status:{g2.training_status.value}\")"
   ]
  },
  {
   "cell_type": "code",
   "execution_count": null,
   "id": "c0cfb836d23036cd",
   "metadata": {
    "collapsed": false,
    "jupyter": {
     "outputs_hidden": false
    }
   },
   "outputs": [],
   "source": [
    "config = mostly.generators.get(g2.id).to_dict()\n",
    "config['tables'][0]['modelConfiguration'] |= {'maxTrainingTime': 2, 'maxEpochs': 5}\n",
    "g2 = g2.update(**config)"
   ]
  },
  {
   "cell_type": "code",
   "execution_count": null,
   "id": "1ce82c1caa063e71",
   "metadata": {
    "collapsed": false,
    "jupyter": {
     "outputs_hidden": false
    },
    "scrolled": true
   },
   "outputs": [],
   "source": [
    "g2.training.start()\n",
    "g2 = g2.training.wait(interval=5)\n",
    "print(f\"{g2.training_status.value=}\")"
   ]
  },
  {
   "cell_type": "code",
   "execution_count": null,
   "id": "8c9d90b854ae20f2",
   "metadata": {
    "collapsed": false,
    "jupyter": {
     "outputs_hidden": false
    }
   },
   "outputs": [],
   "source": [
    "g2 = mostly.generators.get('6422bf4b-1e3f-4b8e-bc33-f1a33dac8925')\n",
    "train_step = [step for step in g2.training.progress().steps if step.step_code.value=='TRAIN_MODEL'][0]\n",
    "for ckpt in train_step.messages[:5]:\n",
    "    print(f\"epoch {ckpt['epoch']}: {ckpt['val_loss']:0.4f}\")"
   ]
  },
  {
   "cell_type": "markdown",
   "id": "5c2b8cc449a93cdf",
   "metadata": {
    "collapsed": false,
    "jupyter": {
     "outputs_hidden": false
    }
   },
   "source": [
    "## list generators"
   ]
  },
  {
   "cell_type": "code",
   "execution_count": null,
   "id": "c1dee7c5870e989a",
   "metadata": {
    "collapsed": false,
    "jupyter": {
     "outputs_hidden": false
    }
   },
   "outputs": [],
   "source": [
    "for g in mostly.generators.list():\n",
    "    print(f\"name:{g.name}, status:{g.training_status.value}, accuracy:{g.accuracy}\")"
   ]
  },
  {
   "cell_type": "code",
   "execution_count": null,
   "id": "96b8606f-6f14-4d8b-8aee-796cd03df0af",
   "metadata": {},
   "outputs": [],
   "source": []
  }
 ],
 "metadata": {
  "kernelspec": {
   "display_name": "Python 3 (ipykernel)",
   "language": "python",
   "name": "python3"
  },
  "language_info": {
   "codemirror_mode": {
    "name": "ipython",
    "version": 3
   },
   "file_extension": ".py",
   "mimetype": "text/x-python",
   "name": "python",
   "nbconvert_exporter": "python",
   "pygments_lexer": "ipython3",
   "version": "3.11.7"
  }
 },
 "nbformat": 4,
 "nbformat_minor": 5
}
