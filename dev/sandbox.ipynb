{
 "cells": [
  {
   "cell_type": "code",
   "execution_count": 33,
   "id": "69cb91dc2f799dc1",
   "metadata": {
    "collapsed": false,
    "ExecuteTime": {
     "end_time": "2024-02-20T04:16:35.769952Z",
     "start_time": "2024-02-20T04:16:35.731270Z"
    }
   },
   "outputs": [],
   "source": [
    "# ensure that any code changes are immediately reflected\n",
    "%reload_ext autoreload\n",
    "%autoreload 2"
   ]
  },
  {
   "cell_type": "code",
   "execution_count": 34,
   "id": "78ef262fde4f3055",
   "metadata": {
    "collapsed": false,
    "ExecuteTime": {
     "end_time": "2024-02-20T04:16:36.247281Z",
     "start_time": "2024-02-20T04:16:35.868923Z"
    }
   },
   "outputs": [],
   "source": [
    "from mostlyai import MostlyAI\n",
    "import pandas as pd\n",
    "import os\n",
    "os.environ['MOSTLY_AI_PASSWORD'] = 'Mostly01!'\n",
    "mostly = MostlyAI()"
   ]
  },
  {
   "cell_type": "code",
   "execution_count": 3,
   "id": "ddd2938e-f5cf-4ca1-b41e-4f5c02cf4771",
   "metadata": {
    "ExecuteTime": {
     "end_time": "2024-02-20T03:56:39.599579Z",
     "start_time": "2024-02-20T03:56:39.580867Z"
    }
   },
   "outputs": [],
   "source": [
    "json_config = \"\"\"\n",
    "{\n",
    "   \"name\": \"titanic\",\n",
    "   \"description\": null,\n",
    "   \"tables\": [\n",
    "      {\n",
    "         \"name\": \"titanic\",\n",
    "         \"sourceConnectorId\": \"372e4a44-966b-4420-bd10-f1e847caf22c\",\n",
    "         \"location\": null,\n",
    "         \"data\": null,\n",
    "         \"modelConfiguration\": {\n",
    "            \"sampleFraction\": 1,\n",
    "            \"maxSampleSize\": null,\n",
    "            \"batchSize\": null,\n",
    "            \"modelSize\": \"M\",\n",
    "            \"maxTrainingTime\": 60,\n",
    "            \"maxEpochs\": 100,\n",
    "            \"maxSequenceWindow\": 100,\n",
    "            \"enableFlexibleGeneration\": true,\n",
    "            \"valueProtection\": true,\n",
    "            \"rareCategoryReplacementMethod\": \"CONSTANT\"\n",
    "         },\n",
    "         \"textModelConfiguration\": null,\n",
    "         \"primaryKey\": null,\n",
    "         \"foreignKeys\": null,\n",
    "         \"columns\": [\n",
    "            {\n",
    "               \"name\": \"survived\",\n",
    "               \"included\": true,\n",
    "               \"modelEncodingType\": \"NUMERIC_AUTO\"\n",
    "            },\n",
    "            {\n",
    "               \"name\": \"pclass\",\n",
    "               \"included\": true,\n",
    "               \"modelEncodingType\": \"NUMERIC_AUTO\"\n",
    "            },\n",
    "            {\n",
    "               \"name\": \"sex\",\n",
    "               \"included\": true,\n",
    "               \"modelEncodingType\": \"CATEGORICAL\"\n",
    "            },\n",
    "            {\n",
    "               \"name\": \"age\",\n",
    "               \"included\": true,\n",
    "               \"modelEncodingType\": \"NUMERIC_AUTO\"\n",
    "            },\n",
    "            {\n",
    "               \"name\": \"sibsp\",\n",
    "               \"included\": true,\n",
    "               \"modelEncodingType\": \"NUMERIC_AUTO\"\n",
    "            },\n",
    "            {\n",
    "               \"name\": \"parch\",\n",
    "               \"included\": true,\n",
    "               \"modelEncodingType\": \"NUMERIC_AUTO\"\n",
    "            },\n",
    "            {\n",
    "               \"name\": \"fare\",\n",
    "               \"included\": true,\n",
    "               \"modelEncodingType\": \"NUMERIC_AUTO\"\n",
    "            },\n",
    "            {\n",
    "               \"name\": \"embarked\",\n",
    "               \"included\": true,\n",
    "               \"modelEncodingType\": \"CATEGORICAL\"\n",
    "            }\n",
    "         ]\n",
    "      }\n",
    "   ]\n",
    "}\n",
    "\"\"\""
   ]
  },
  {
   "cell_type": "code",
   "execution_count": 4,
   "id": "376676cabdd123ef",
   "metadata": {
    "collapsed": false,
    "ExecuteTime": {
     "end_time": "2024-02-20T03:56:40.711574Z",
     "start_time": "2024-02-20T03:56:40.691293Z"
    }
   },
   "outputs": [
    {
     "data": {
      "text/plain": "{'name': 'titanic',\n 'description': None,\n 'tables': [{'name': 'titanic',\n   'sourceConnectorId': '372e4a44-966b-4420-bd10-f1e847caf22c',\n   'location': None,\n   'data': None,\n   'modelConfiguration': {'sampleFraction': 1,\n    'maxSampleSize': None,\n    'batchSize': None,\n    'modelSize': 'M',\n    'maxTrainingTime': 60,\n    'maxEpochs': 100,\n    'maxSequenceWindow': 100,\n    'enableFlexibleGeneration': True,\n    'valueProtection': True,\n    'rareCategoryReplacementMethod': 'CONSTANT'},\n   'textModelConfiguration': None,\n   'primaryKey': None,\n   'foreignKeys': None,\n   'columns': [{'name': 'survived',\n     'included': True,\n     'modelEncodingType': 'NUMERIC_AUTO'},\n    {'name': 'pclass', 'included': True, 'modelEncodingType': 'NUMERIC_AUTO'},\n    {'name': 'sex', 'included': True, 'modelEncodingType': 'CATEGORICAL'},\n    {'name': 'age', 'included': True, 'modelEncodingType': 'NUMERIC_AUTO'},\n    {'name': 'sibsp', 'included': True, 'modelEncodingType': 'NUMERIC_AUTO'},\n    {'name': 'parch', 'included': True, 'modelEncodingType': 'NUMERIC_AUTO'},\n    {'name': 'fare', 'included': True, 'modelEncodingType': 'NUMERIC_AUTO'},\n    {'name': 'embarked',\n     'included': True,\n     'modelEncodingType': 'CATEGORICAL'}]}]}"
     },
     "execution_count": 4,
     "metadata": {},
     "output_type": "execute_result"
    }
   ],
   "source": [
    "import json\n",
    "config = json.loads(json_config)\n",
    "config"
   ]
  },
  {
   "cell_type": "code",
   "execution_count": 5,
   "id": "21e3d83c-52aa-44d9-9643-95a4d044a7f3",
   "metadata": {
    "ExecuteTime": {
     "end_time": "2024-02-20T03:56:41.977251Z",
     "start_time": "2024-02-20T03:56:41.957580Z"
    }
   },
   "outputs": [
    {
     "data": {
      "text/plain": "{'name': 'titanic',\n 'description': None,\n 'tables': [{'name': 'titanic_dataset',\n   'sourceConnectorId': '372e4a44-966b-4420-bd10-f1e847caf22c',\n   'location': None,\n   'data': '/Users/mplatzer/github/public-demo-data/titanic/titanic.csv',\n   'modelConfiguration': {'sampleFraction': None,\n    'maxSampleSize': 20,\n    'batchSize': 32,\n    'modelSize': 'M',\n    'maxTrainingTime': 60,\n    'maxEpochs': 5,\n    'maxSequenceWindow': 100,\n    'enableFlexibleGeneration': True,\n    'valueProtection': True,\n    'rareCategoryReplacementMethod': 'CONSTANT'},\n   'textModelConfiguration': None,\n   'primaryKey': None,\n   'foreignKeys': None,\n   'columns': [{'name': 'survived',\n     'included': True,\n     'modelEncodingType': 'NUMERIC_AUTO'},\n    {'name': 'pclass', 'included': True, 'modelEncodingType': 'NUMERIC_AUTO'},\n    {'name': 'sex', 'included': True, 'modelEncodingType': 'CATEGORICAL'},\n    {'name': 'age', 'included': True, 'modelEncodingType': 'NUMERIC_AUTO'},\n    {'name': 'sibsp', 'included': True, 'modelEncodingType': 'NUMERIC_AUTO'},\n    {'name': 'parch', 'included': True, 'modelEncodingType': 'NUMERIC_AUTO'},\n    {'name': 'fare', 'included': True, 'modelEncodingType': 'NUMERIC_AUTO'},\n    {'name': 'embarked',\n     'included': True,\n     'modelEncodingType': 'CATEGORICAL'}]}]}"
     },
     "execution_count": 5,
     "metadata": {},
     "output_type": "execute_result"
    }
   ],
   "source": [
    "config[\"tables\"][0][\"name\"] = 'titanic_dataset'\n",
    "config[\"tables\"][0][\"modelConfiguration\"][\"maxSampleSize\"] = 20\n",
    "config[\"tables\"][0][\"modelConfiguration\"] |= {\"batchSize\": 32, \"maxEpochs\": 5, \"sampleFraction\": None}\n",
    "config[\"tables\"][0][\"data\"] = \"/Users/mplatzer/github/public-demo-data/titanic/titanic.csv\"\n",
    "config"
   ]
  },
  {
   "cell_type": "code",
   "execution_count": 6,
   "id": "ae1ae796-2f77-4a92-9b20-37f17595324e",
   "metadata": {
    "ExecuteTime": {
     "end_time": "2024-02-20T03:58:06.939242Z",
     "start_time": "2024-02-20T03:56:46.222262Z"
    }
   },
   "outputs": [
    {
     "name": "stderr",
     "output_type": "stream",
     "text": [
      "Job status: 15it [01:18,  5.25s/it]                      "
     ]
    },
    {
     "name": "stdout",
     "output_type": "stream",
     "text": [
      "Job finished in 79.0s\n"
     ]
    },
    {
     "name": "stderr",
     "output_type": "stream",
     "text": [
      "\n"
     ]
    }
   ],
   "source": [
    "g = mostly.train(config)"
   ]
  },
  {
   "cell_type": "code",
   "execution_count": 27,
   "id": "dc781cd39fe8e4e4",
   "metadata": {
    "collapsed": false,
    "ExecuteTime": {
     "end_time": "2024-02-20T04:09:51.980647Z",
     "start_time": "2024-02-20T04:09:51.422449Z"
    }
   },
   "outputs": [
    {
     "data": {
      "text/plain": "{'name': 'titanic',\n 'description': '',\n 'tables': [{'name': 'titanic_dataset',\n   'sourceConnectorId': '5693897e-a2b5-458f-9ec2-6f432d6f6872',\n   'location': None,\n   'data': None,\n   'modelConfiguration': {'sampleFraction': None,\n    'maxSampleSize': 20,\n    'batchSize': 32,\n    'modelSize': 'M',\n    'maxTrainingTime': 60,\n    'maxEpochs': 5,\n    'maxSequenceWindow': 100,\n    'enableFlexibleGeneration': True,\n    'valueProtection': True,\n    'rareCategoryReplacementMethod': 'CONSTANT'},\n   'textModelConfiguration': None,\n   'primaryKey': None,\n   'foreignKeys': None,\n   'columns': [{'name': 'survived',\n     'included': True,\n     'modelEncodingType': 'NUMERIC_AUTO'},\n    {'name': 'pclass', 'included': True, 'modelEncodingType': 'NUMERIC_AUTO'},\n    {'name': 'sex', 'included': True, 'modelEncodingType': 'CATEGORICAL'},\n    {'name': 'age', 'included': True, 'modelEncodingType': 'NUMERIC_AUTO'},\n    {'name': 'sibsp', 'included': True, 'modelEncodingType': 'NUMERIC_AUTO'},\n    {'name': 'parch', 'included': True, 'modelEncodingType': 'NUMERIC_AUTO'},\n    {'name': 'fare', 'included': True, 'modelEncodingType': 'NUMERIC_AUTO'},\n    {'name': 'embarked',\n     'included': True,\n     'modelEncodingType': 'CATEGORICAL'}]}]}"
     },
     "execution_count": 27,
     "metadata": {},
     "output_type": "execute_result"
    }
   ],
   "source": [
    "g = mostly.generators.get('82500232-6e90-4c33-bc77-5e5e61f36581')\n",
    "g.to_dict()"
   ]
  },
  {
   "cell_type": "code",
   "execution_count": 28,
   "id": "98e2fcc4-6dd1-4fd9-9d51-fb8e820024c1",
   "metadata": {
    "ExecuteTime": {
     "end_time": "2024-02-20T04:10:26.418162Z",
     "start_time": "2024-02-20T04:09:53.561413Z"
    }
   },
   "outputs": [
    {
     "name": "stdout",
     "output_type": "stream",
     "text": [
      "synthetic dataset de34485d-c489-4849-ade6-e5d9f0b0f1ec created\n",
      "start generation\n",
      "wait for generation to finish\n"
     ]
    },
    {
     "name": "stderr",
     "output_type": "stream",
     "text": [
      "Job status: 9it [00:31,  3.49s/it]                       "
     ]
    },
    {
     "name": "stdout",
     "output_type": "stream",
     "text": [
      "Job finished in 31.7s\n"
     ]
    },
    {
     "name": "stderr",
     "output_type": "stream",
     "text": [
      "\n"
     ]
    },
    {
     "name": "stdout",
     "output_type": "stream",
     "text": [
      "finished generation\n"
     ]
    }
   ],
   "source": [
    "sd = mostly.generate(g)"
   ]
  },
  {
   "cell_type": "code",
   "execution_count": 29,
   "outputs": [
    {
     "data": {
      "text/plain": "      survived  pclass     sex   age  sibsp  parch  fare embarked\n0            1       2    male    37      1      0    22        S\n1            1       2    male  <NA>      0      0    17   _RARE_\n2            1       2  female  <NA>      0      0    20   _RARE_\n3            0       3    male    22      1      0    21        S\n4            1       2    male  <NA>      1      0    17        S\n...        ...     ...     ...   ...    ...    ...   ...      ...\n1304         0       3    male  <NA>      1      0    17   _RARE_\n1305         0       2  female    29      1      0    10   _RARE_\n1306         1       2  female    28      0      0    11        S\n1307         0       2  female    34      0      0    18        S\n1308         1       2    male    26      0      0    20        S\n\n[1309 rows x 8 columns]",
      "text/html": "<div>\n<style scoped>\n    .dataframe tbody tr th:only-of-type {\n        vertical-align: middle;\n    }\n\n    .dataframe tbody tr th {\n        vertical-align: top;\n    }\n\n    .dataframe thead th {\n        text-align: right;\n    }\n</style>\n<table border=\"1\" class=\"dataframe\">\n  <thead>\n    <tr style=\"text-align: right;\">\n      <th></th>\n      <th>survived</th>\n      <th>pclass</th>\n      <th>sex</th>\n      <th>age</th>\n      <th>sibsp</th>\n      <th>parch</th>\n      <th>fare</th>\n      <th>embarked</th>\n    </tr>\n  </thead>\n  <tbody>\n    <tr>\n      <th>0</th>\n      <td>1</td>\n      <td>2</td>\n      <td>male</td>\n      <td>37</td>\n      <td>1</td>\n      <td>0</td>\n      <td>22</td>\n      <td>S</td>\n    </tr>\n    <tr>\n      <th>1</th>\n      <td>1</td>\n      <td>2</td>\n      <td>male</td>\n      <td>&lt;NA&gt;</td>\n      <td>0</td>\n      <td>0</td>\n      <td>17</td>\n      <td>_RARE_</td>\n    </tr>\n    <tr>\n      <th>2</th>\n      <td>1</td>\n      <td>2</td>\n      <td>female</td>\n      <td>&lt;NA&gt;</td>\n      <td>0</td>\n      <td>0</td>\n      <td>20</td>\n      <td>_RARE_</td>\n    </tr>\n    <tr>\n      <th>3</th>\n      <td>0</td>\n      <td>3</td>\n      <td>male</td>\n      <td>22</td>\n      <td>1</td>\n      <td>0</td>\n      <td>21</td>\n      <td>S</td>\n    </tr>\n    <tr>\n      <th>4</th>\n      <td>1</td>\n      <td>2</td>\n      <td>male</td>\n      <td>&lt;NA&gt;</td>\n      <td>1</td>\n      <td>0</td>\n      <td>17</td>\n      <td>S</td>\n    </tr>\n    <tr>\n      <th>...</th>\n      <td>...</td>\n      <td>...</td>\n      <td>...</td>\n      <td>...</td>\n      <td>...</td>\n      <td>...</td>\n      <td>...</td>\n      <td>...</td>\n    </tr>\n    <tr>\n      <th>1304</th>\n      <td>0</td>\n      <td>3</td>\n      <td>male</td>\n      <td>&lt;NA&gt;</td>\n      <td>1</td>\n      <td>0</td>\n      <td>17</td>\n      <td>_RARE_</td>\n    </tr>\n    <tr>\n      <th>1305</th>\n      <td>0</td>\n      <td>2</td>\n      <td>female</td>\n      <td>29</td>\n      <td>1</td>\n      <td>0</td>\n      <td>10</td>\n      <td>_RARE_</td>\n    </tr>\n    <tr>\n      <th>1306</th>\n      <td>1</td>\n      <td>2</td>\n      <td>female</td>\n      <td>28</td>\n      <td>0</td>\n      <td>0</td>\n      <td>11</td>\n      <td>S</td>\n    </tr>\n    <tr>\n      <th>1307</th>\n      <td>0</td>\n      <td>2</td>\n      <td>female</td>\n      <td>34</td>\n      <td>0</td>\n      <td>0</td>\n      <td>18</td>\n      <td>S</td>\n    </tr>\n    <tr>\n      <th>1308</th>\n      <td>1</td>\n      <td>2</td>\n      <td>male</td>\n      <td>26</td>\n      <td>0</td>\n      <td>0</td>\n      <td>20</td>\n      <td>S</td>\n    </tr>\n  </tbody>\n</table>\n<p>1309 rows × 8 columns</p>\n</div>"
     },
     "execution_count": 29,
     "metadata": {},
     "output_type": "execute_result"
    }
   ],
   "source": [
    "#sd = mostly.synthetic_datasets.get('ac7ebfd2-dd5b-440c-8270-486279a5eff3')\n",
    "sd.data()"
   ],
   "metadata": {
    "collapsed": false,
    "ExecuteTime": {
     "end_time": "2024-02-20T04:10:26.699989Z",
     "start_time": "2024-02-20T04:10:26.417831Z"
    }
   },
   "id": "6672077c71d1c9ba"
  },
  {
   "cell_type": "code",
   "execution_count": 30,
   "outputs": [
    {
     "ename": "NameError",
     "evalue": "name 'pathlib' is not defined",
     "output_type": "error",
     "traceback": [
      "\u001B[0;31m---------------------------------------------------------------------------\u001B[0m",
      "\u001B[0;31mNameError\u001B[0m                                 Traceback (most recent call last)",
      "Cell \u001B[0;32mIn[30], line 1\u001B[0m\n\u001B[0;32m----> 1\u001B[0m \u001B[43msd\u001B[49m\u001B[38;5;241;43m.\u001B[39;49m\u001B[43mdownload\u001B[49m\u001B[43m(\u001B[49m\u001B[43m)\u001B[49m\n",
      "File \u001B[0;32m~/github/python-client/mostlyai/model.py:811\u001B[0m, in \u001B[0;36mSyntheticDataset.download\u001B[0;34m(self, file_path, format)\u001B[0m\n\u001B[1;32m    802\u001B[0m \u001B[38;5;250m\u001B[39m\u001B[38;5;124;03m\"\"\"\u001B[39;00m\n\u001B[1;32m    803\u001B[0m \u001B[38;5;124;03mDownload synthetic dataset and save to file\u001B[39;00m\n\u001B[1;32m    804\u001B[0m \n\u001B[1;32m    805\u001B[0m \u001B[38;5;124;03m:param file_path: The file path to save the synthetic dataset\u001B[39;00m\n\u001B[1;32m    806\u001B[0m \u001B[38;5;124;03m:param format: The format of the synthetic dataset\u001B[39;00m\n\u001B[1;32m    807\u001B[0m \u001B[38;5;124;03m\"\"\"\u001B[39;00m\n\u001B[1;32m    808\u001B[0m \u001B[38;5;28mbytes\u001B[39m, filename \u001B[38;5;241m=\u001B[39m \u001B[38;5;28mself\u001B[39m\u001B[38;5;241m.\u001B[39mclient\u001B[38;5;241m.\u001B[39m_download(\n\u001B[1;32m    809\u001B[0m     synthetic_dataset_id\u001B[38;5;241m=\u001B[39m\u001B[38;5;28mself\u001B[39m\u001B[38;5;241m.\u001B[39mid, \u001B[38;5;28mformat\u001B[39m\u001B[38;5;241m=\u001B[39m\u001B[38;5;28mformat\u001B[39m\n\u001B[1;32m    810\u001B[0m )\n\u001B[0;32m--> 811\u001B[0m file_path \u001B[38;5;241m=\u001B[39m \u001B[43mpathlib\u001B[49m\u001B[38;5;241m.\u001B[39mPath(file_path \u001B[38;5;129;01mor\u001B[39;00m \u001B[38;5;124m\"\u001B[39m\u001B[38;5;124m.\u001B[39m\u001B[38;5;124m\"\u001B[39m)\n\u001B[1;32m    812\u001B[0m \u001B[38;5;28;01mif\u001B[39;00m file_path\u001B[38;5;241m.\u001B[39mis_dir():\n\u001B[1;32m    813\u001B[0m     file_path \u001B[38;5;241m=\u001B[39m file_path \u001B[38;5;241m/\u001B[39m filename\n",
      "\u001B[0;31mNameError\u001B[0m: name 'pathlib' is not defined"
     ]
    }
   ],
   "source": [
    "sd.download()"
   ],
   "metadata": {
    "collapsed": false,
    "ExecuteTime": {
     "end_time": "2024-02-20T04:10:29.979629Z",
     "start_time": "2024-02-20T04:10:29.672800Z"
    }
   },
   "id": "aa714b330ff0eb8f"
  },
  {
   "cell_type": "code",
   "execution_count": 35,
   "outputs": [
    {
     "name": "stdout",
     "output_type": "stream",
     "text": [
      "generator cee557a9-e203-438f-9357-76d89bf1dc48 created\n",
      "start training\n",
      "wait for training to finish\n"
     ]
    },
    {
     "name": "stderr",
     "output_type": "stream",
     "text": [
      "Job status: 184it [05:47,  1.75s/it]                     "
     ]
    },
    {
     "ename": "APIStatusError",
     "evalue": "HTTP error occurred: 401 b''",
     "output_type": "error",
     "traceback": [
      "\u001B[0;31m---------------------------------------------------------------------------\u001B[0m",
      "\u001B[0;31mHTTPStatusError\u001B[0m                           Traceback (most recent call last)",
      "File \u001B[0;32m~/github/python-client/mostlyai/base.py:114\u001B[0m, in \u001B[0;36m_MostlyBaseClient.request\u001B[0;34m(self, path, verb, response_type, raw_response, is_api_call, do_include_client, extra_key_values, **kwargs)\u001B[0m\n\u001B[1;32m    113\u001B[0m     response \u001B[38;5;241m=\u001B[39m req_func(full_url, \u001B[38;5;241m*\u001B[39m\u001B[38;5;241m*\u001B[39mkwargs)  \u001B[38;5;66;03m# type: ignore\u001B[39;00m\n\u001B[0;32m--> 114\u001B[0m     \u001B[43mresponse\u001B[49m\u001B[38;5;241;43m.\u001B[39;49m\u001B[43mraise_for_status\u001B[49m\u001B[43m(\u001B[49m\u001B[43m)\u001B[49m\n\u001B[1;32m    115\u001B[0m \u001B[38;5;28;01mexcept\u001B[39;00m httpx\u001B[38;5;241m.\u001B[39mHTTPStatusError \u001B[38;5;28;01mas\u001B[39;00m exc:\n\u001B[1;32m    116\u001B[0m     \u001B[38;5;66;03m# Handle HTTP errors (not in 2XX range)\u001B[39;00m\n",
      "File \u001B[0;32m~/miniconda3/envs/python-client/lib/python3.11/site-packages/httpx/_models.py:759\u001B[0m, in \u001B[0;36mResponse.raise_for_status\u001B[0;34m(self)\u001B[0m\n\u001B[1;32m    758\u001B[0m message \u001B[38;5;241m=\u001B[39m message\u001B[38;5;241m.\u001B[39mformat(\u001B[38;5;28mself\u001B[39m, error_type\u001B[38;5;241m=\u001B[39merror_type)\n\u001B[0;32m--> 759\u001B[0m \u001B[38;5;28;01mraise\u001B[39;00m HTTPStatusError(message, request\u001B[38;5;241m=\u001B[39mrequest, response\u001B[38;5;241m=\u001B[39m\u001B[38;5;28mself\u001B[39m)\n",
      "\u001B[0;31mHTTPStatusError\u001B[0m: Client error '401 ' for url 'https://llb2.dev.mostlylab.com/api/v2/generators/cee557a9-e203-438f-9357-76d89bf1dc48/training'\nFor more information check: https://developer.mozilla.org/en-US/docs/Web/HTTP/Status/401",
      "\nThe above exception was the direct cause of the following exception:\n",
      "\u001B[0;31mAPIStatusError\u001B[0m                            Traceback (most recent call last)",
      "Cell \u001B[0;32mIn[35], line 2\u001B[0m\n\u001B[1;32m      1\u001B[0m fn \u001B[38;5;241m=\u001B[39m \u001B[38;5;124m'\u001B[39m\u001B[38;5;124m~/github/public-demo-data/census/acs-income-2018-holdout.parquet\u001B[39m\u001B[38;5;124m'\u001B[39m\n\u001B[0;32m----> 2\u001B[0m \u001B[43mmostly\u001B[49m\u001B[38;5;241;43m.\u001B[39;49m\u001B[43mtrain\u001B[49m\u001B[43m(\u001B[49m\u001B[43mfn\u001B[49m\u001B[43m)\u001B[49m\n",
      "File \u001B[0;32m~/github/python-client/mostlyai/api.py:174\u001B[0m, in \u001B[0;36mMostlyAI.train\u001B[0;34m(self, data_or_config, start, wait)\u001B[0m\n\u001B[1;32m    172\u001B[0m \u001B[38;5;28;01mif\u001B[39;00m start \u001B[38;5;129;01mand\u001B[39;00m wait:\n\u001B[1;32m    173\u001B[0m     \u001B[38;5;28mprint\u001B[39m(\u001B[38;5;124mf\u001B[39m\u001B[38;5;124m'\u001B[39m\u001B[38;5;124mwait for training to finish\u001B[39m\u001B[38;5;124m'\u001B[39m)\n\u001B[0;32m--> 174\u001B[0m     g \u001B[38;5;241m=\u001B[39m \u001B[43mg\u001B[49m\u001B[38;5;241;43m.\u001B[39;49m\u001B[43mtraining\u001B[49m\u001B[38;5;241;43m.\u001B[39;49m\u001B[43mwait\u001B[49m\u001B[43m(\u001B[49m\u001B[43m)\u001B[49m\n\u001B[1;32m    175\u001B[0m     \u001B[38;5;28mprint\u001B[39m(\u001B[38;5;124mf\u001B[39m\u001B[38;5;124m'\u001B[39m\u001B[38;5;124mfinished training\u001B[39m\u001B[38;5;124m'\u001B[39m)\n\u001B[1;32m    176\u001B[0m \u001B[38;5;28;01mreturn\u001B[39;00m g\n",
      "File \u001B[0;32m~/github/python-client/mostlyai/model.py:953\u001B[0m, in \u001B[0;36mGenerator.Training.wait\u001B[0;34m(self, interval)\u001B[0m\n\u001B[1;32m    947\u001B[0m \u001B[38;5;28;01mdef\u001B[39;00m \u001B[38;5;21mwait\u001B[39m(\u001B[38;5;28mself\u001B[39m, interval: \u001B[38;5;28mfloat\u001B[39m \u001B[38;5;241m=\u001B[39m \u001B[38;5;241m5\u001B[39m) \u001B[38;5;241m-\u001B[39m\u001B[38;5;241m>\u001B[39m \u001B[38;5;124m\"\u001B[39m\u001B[38;5;124mGenerator\u001B[39m\u001B[38;5;124m\"\u001B[39m:\n\u001B[1;32m    948\u001B[0m \u001B[38;5;250m    \u001B[39m\u001B[38;5;124;03m\"\"\"\u001B[39;00m\n\u001B[1;32m    949\u001B[0m \u001B[38;5;124;03m    Poll training progress and loop until training has completed\u001B[39;00m\n\u001B[1;32m    950\u001B[0m \n\u001B[1;32m    951\u001B[0m \u001B[38;5;124;03m    :param interval: The interval in seconds to poll the job progress\u001B[39;00m\n\u001B[1;32m    952\u001B[0m \u001B[38;5;124;03m    \"\"\"\u001B[39;00m\n\u001B[0;32m--> 953\u001B[0m     \u001B[38;5;28;01mreturn\u001B[39;00m \u001B[38;5;28;43mself\u001B[39;49m\u001B[38;5;241;43m.\u001B[39;49m\u001B[43mgenerator\u001B[49m\u001B[38;5;241;43m.\u001B[39;49m\u001B[43mclient\u001B[49m\u001B[38;5;241;43m.\u001B[39;49m\u001B[43m_training_wait\u001B[49m\u001B[43m(\u001B[49m\n\u001B[1;32m    954\u001B[0m \u001B[43m        \u001B[49m\u001B[38;5;28;43mself\u001B[39;49m\u001B[38;5;241;43m.\u001B[39;49m\u001B[43mgenerator\u001B[49m\u001B[38;5;241;43m.\u001B[39;49m\u001B[43mid\u001B[49m\u001B[43m,\u001B[49m\u001B[43m \u001B[49m\u001B[43minterval\u001B[49m\u001B[38;5;241;43m=\u001B[39;49m\u001B[43minterval\u001B[49m\n\u001B[1;32m    955\u001B[0m \u001B[43m    \u001B[49m\u001B[43m)\u001B[49m\n",
      "File \u001B[0;32m~/github/python-client/mostlyai/generators.py:106\u001B[0m, in \u001B[0;36m_MostlyGeneratorsClient._training_wait\u001B[0;34m(self, generator_id, interval)\u001B[0m\n\u001B[1;32m    105\u001B[0m \u001B[38;5;28;01mdef\u001B[39;00m \u001B[38;5;21m_training_wait\u001B[39m(\u001B[38;5;28mself\u001B[39m, generator_id: StrUUID, interval: \u001B[38;5;28mfloat\u001B[39m) \u001B[38;5;241m-\u001B[39m\u001B[38;5;241m>\u001B[39m Generator:\n\u001B[0;32m--> 106\u001B[0m     \u001B[43m_job_wait\u001B[49m\u001B[43m(\u001B[49m\u001B[38;5;28;43;01mlambda\u001B[39;49;00m\u001B[43m:\u001B[49m\u001B[43m \u001B[49m\u001B[38;5;28;43mself\u001B[39;49m\u001B[38;5;241;43m.\u001B[39;49m\u001B[43m_training_progress\u001B[49m\u001B[43m(\u001B[49m\u001B[43mgenerator_id\u001B[49m\u001B[43m)\u001B[49m\u001B[43m,\u001B[49m\u001B[43m \u001B[49m\u001B[43minterval\u001B[49m\u001B[43m)\u001B[49m\n\u001B[1;32m    107\u001B[0m     generator \u001B[38;5;241m=\u001B[39m \u001B[38;5;28mself\u001B[39m\u001B[38;5;241m.\u001B[39mget(generator_id)\n\u001B[1;32m    108\u001B[0m     \u001B[38;5;28;01mreturn\u001B[39;00m generator\n",
      "File \u001B[0;32m~/github/python-client/mostlyai/utils.py:35\u001B[0m, in \u001B[0;36m_job_wait\u001B[0;34m(get_progress, interval)\u001B[0m\n\u001B[1;32m     33\u001B[0m time\u001B[38;5;241m.\u001B[39msleep(interval)\n\u001B[1;32m     34\u001B[0m \u001B[38;5;66;03m# retrieve current JobProgress\u001B[39;00m\n\u001B[0;32m---> 35\u001B[0m job \u001B[38;5;241m=\u001B[39m \u001B[43mget_progress\u001B[49m\u001B[43m(\u001B[49m\u001B[43m)\u001B[49m\n\u001B[1;32m     36\u001B[0m \u001B[38;5;66;03m# update progress bars\u001B[39;00m\n\u001B[1;32m     37\u001B[0m progress_bars[\u001B[38;5;124m\"\u001B[39m\u001B[38;5;124moverall\u001B[39m\u001B[38;5;124m\"\u001B[39m]\u001B[38;5;241m.\u001B[39mtotal \u001B[38;5;241m=\u001B[39m job\u001B[38;5;241m.\u001B[39mprogress\u001B[38;5;241m.\u001B[39mmax\n",
      "File \u001B[0;32m~/github/python-client/mostlyai/generators.py:106\u001B[0m, in \u001B[0;36m_MostlyGeneratorsClient._training_wait.<locals>.<lambda>\u001B[0;34m()\u001B[0m\n\u001B[1;32m    105\u001B[0m \u001B[38;5;28;01mdef\u001B[39;00m \u001B[38;5;21m_training_wait\u001B[39m(\u001B[38;5;28mself\u001B[39m, generator_id: StrUUID, interval: \u001B[38;5;28mfloat\u001B[39m) \u001B[38;5;241m-\u001B[39m\u001B[38;5;241m>\u001B[39m Generator:\n\u001B[0;32m--> 106\u001B[0m     _job_wait(\u001B[38;5;28;01mlambda\u001B[39;00m: \u001B[38;5;28;43mself\u001B[39;49m\u001B[38;5;241;43m.\u001B[39;49m\u001B[43m_training_progress\u001B[49m\u001B[43m(\u001B[49m\u001B[43mgenerator_id\u001B[49m\u001B[43m)\u001B[49m, interval)\n\u001B[1;32m    107\u001B[0m     generator \u001B[38;5;241m=\u001B[39m \u001B[38;5;28mself\u001B[39m\u001B[38;5;241m.\u001B[39mget(generator_id)\n\u001B[1;32m    108\u001B[0m     \u001B[38;5;28;01mreturn\u001B[39;00m generator\n",
      "File \u001B[0;32m~/github/python-client/mostlyai/generators.py:100\u001B[0m, in \u001B[0;36m_MostlyGeneratorsClient._training_progress\u001B[0;34m(self, generator_id)\u001B[0m\n\u001B[1;32m     99\u001B[0m \u001B[38;5;28;01mdef\u001B[39;00m \u001B[38;5;21m_training_progress\u001B[39m(\u001B[38;5;28mself\u001B[39m, generator_id: StrUUID) \u001B[38;5;241m-\u001B[39m\u001B[38;5;241m>\u001B[39m JobProgress:\n\u001B[0;32m--> 100\u001B[0m     response \u001B[38;5;241m=\u001B[39m \u001B[38;5;28;43mself\u001B[39;49m\u001B[38;5;241;43m.\u001B[39;49m\u001B[43mrequest\u001B[49m\u001B[43m(\u001B[49m\n\u001B[1;32m    101\u001B[0m \u001B[43m        \u001B[49m\u001B[43mverb\u001B[49m\u001B[38;5;241;43m=\u001B[39;49m\u001B[43mGET\u001B[49m\u001B[43m,\u001B[49m\u001B[43m \u001B[49m\u001B[43mpath\u001B[49m\u001B[38;5;241;43m=\u001B[39;49m\u001B[43m[\u001B[49m\u001B[43mgenerator_id\u001B[49m\u001B[43m,\u001B[49m\u001B[43m \u001B[49m\u001B[38;5;124;43m\"\u001B[39;49m\u001B[38;5;124;43mtraining\u001B[39;49m\u001B[38;5;124;43m\"\u001B[39;49m\u001B[43m]\u001B[49m\u001B[43m,\u001B[49m\u001B[43m \u001B[49m\u001B[43mresponse_type\u001B[49m\u001B[38;5;241;43m=\u001B[39;49m\u001B[43mJobProgress\u001B[49m\n\u001B[1;32m    102\u001B[0m \u001B[43m    \u001B[49m\u001B[43m)\u001B[49m\n\u001B[1;32m    103\u001B[0m     \u001B[38;5;28;01mreturn\u001B[39;00m response\n",
      "File \u001B[0;32m~/github/python-client/mostlyai/base.py:117\u001B[0m, in \u001B[0;36m_MostlyBaseClient.request\u001B[0;34m(self, path, verb, response_type, raw_response, is_api_call, do_include_client, extra_key_values, **kwargs)\u001B[0m\n\u001B[1;32m    114\u001B[0m     response\u001B[38;5;241m.\u001B[39mraise_for_status()\n\u001B[1;32m    115\u001B[0m \u001B[38;5;28;01mexcept\u001B[39;00m httpx\u001B[38;5;241m.\u001B[39mHTTPStatusError \u001B[38;5;28;01mas\u001B[39;00m exc:\n\u001B[1;32m    116\u001B[0m     \u001B[38;5;66;03m# Handle HTTP errors (not in 2XX range)\u001B[39;00m\n\u001B[0;32m--> 117\u001B[0m     \u001B[38;5;28;01mraise\u001B[39;00m APIStatusError(\n\u001B[1;32m    118\u001B[0m         \u001B[38;5;124mf\u001B[39m\u001B[38;5;124m\"\u001B[39m\u001B[38;5;124mHTTP error occurred: \u001B[39m\u001B[38;5;132;01m{\u001B[39;00mexc\u001B[38;5;241m.\u001B[39mresponse\u001B[38;5;241m.\u001B[39mstatus_code\u001B[38;5;132;01m}\u001B[39;00m\u001B[38;5;124m \u001B[39m\u001B[38;5;132;01m{\u001B[39;00mexc\u001B[38;5;241m.\u001B[39mresponse\u001B[38;5;241m.\u001B[39mcontent\u001B[38;5;132;01m}\u001B[39;00m\u001B[38;5;124m\"\u001B[39m,\n\u001B[1;32m    119\u001B[0m     ) \u001B[38;5;28;01mfrom\u001B[39;00m \u001B[38;5;21;01mexc\u001B[39;00m\n\u001B[1;32m    120\u001B[0m \u001B[38;5;28;01mexcept\u001B[39;00m httpx\u001B[38;5;241m.\u001B[39mRequestError \u001B[38;5;28;01mas\u001B[39;00m exc:\n\u001B[1;32m    121\u001B[0m     \u001B[38;5;66;03m# Handle request errors (e.g., network issues)\u001B[39;00m\n\u001B[1;32m    122\u001B[0m     \u001B[38;5;28;01mraise\u001B[39;00m APIError(\n\u001B[1;32m    123\u001B[0m         \u001B[38;5;124mf\u001B[39m\u001B[38;5;124m\"\u001B[39m\u001B[38;5;124mAn error occurred while requesting \u001B[39m\u001B[38;5;132;01m{\u001B[39;00mexc\u001B[38;5;241m.\u001B[39mrequest\u001B[38;5;241m.\u001B[39murl\u001B[38;5;132;01m!r}\u001B[39;00m\u001B[38;5;124m.\u001B[39m\u001B[38;5;124m\"\u001B[39m\n\u001B[1;32m    124\u001B[0m     ) \u001B[38;5;28;01mfrom\u001B[39;00m \u001B[38;5;21;01mexc\u001B[39;00m\n",
      "\u001B[0;31mAPIStatusError\u001B[0m: HTTP error occurred: 401 b''"
     ]
    }
   ],
   "source": [
    "fn = '~/github/public-demo-data/census/acs-income-2018-holdout.parquet'\n",
    "mostly.train(fn)"
   ],
   "metadata": {
    "collapsed": false,
    "ExecuteTime": {
     "end_time": "2024-02-20T04:22:37.696938Z",
     "start_time": "2024-02-20T04:16:41.421887Z"
    }
   },
   "id": "4998659a4904ccf8"
  },
  {
   "cell_type": "code",
   "execution_count": null,
   "outputs": [],
   "source": [],
   "metadata": {
    "collapsed": false
   },
   "id": "3f2a547385970b7f"
  },
  {
   "cell_type": "code",
   "execution_count": null,
   "id": "de70d5ba9cef59d0",
   "metadata": {
    "ExecuteTime": {
     "end_time": "2024-02-19T13:20:17.192503Z",
     "start_time": "2024-02-19T13:20:17.131868Z"
    },
    "collapsed": false
   },
   "outputs": [],
   "source": [
    "mostly.connect(config)\n",
    "\n",
    "mostly.connectors.get(id)\n",
    "mostly.connectors.list()\n",
    "mostly.connectors.create(config)\n",
    "c.delete()\n",
    "c.update()\n",
    "c.config()\n",
    "c.locations()"
   ]
  },
  {
   "cell_type": "code",
   "execution_count": null,
   "id": "96b17fb3e006efe",
   "metadata": {
    "collapsed": false
   },
   "outputs": [],
   "source": [
    "mostly.train(data_or_config, start=True, wait=True)\n",
    "\n",
    "mostly.generators.get(id)\n",
    "mostly.generators.list()\n",
    "mostly.generators.create(config)\n",
    "g.training.start()\n",
    "g.training.progress()\n",
    "g.training.cancel()\n",
    "#g.training.stop()\n",
    "g.training.wait()\n",
    "g.delete()\n",
    "g.update(config)\n",
    "g.config()"
   ]
  },
  {
   "cell_type": "code",
   "execution_count": null,
   "id": "fb19032decd37777",
   "metadata": {
    "collapsed": false
   },
   "outputs": [],
   "source": [
    "mostly.generate(generator, config, seed=seed, start=True, wait=True)\n",
    "\n",
    "mostly.synthetic_datasets.get(id)\n",
    "mostly.synthetic_datasets.list()\n",
    "mostly.synthetic_datasets.create(config)\n",
    "sd.generation.start()\n",
    "sd.generation.progress()\n",
    "sd.generation.cancel()\n",
    "sd.generation.wait()\n",
    "sd.update(config)\n",
    "sd.config()\n",
    "sd.data()\n",
    "sd.download(file, artifact)\n",
    "sd.delete()\n"
   ]
  },
  {
   "cell_type": "markdown",
   "id": "283c7d9a-ee3d-441a-bb2d-393fe3899947",
   "metadata": {},
   "source": [
    "## TITANIC"
   ]
  },
  {
   "cell_type": "code",
   "execution_count": null,
   "id": "bb8da271-b63e-4a7f-a244-b196aa6b41f5",
   "metadata": {},
   "outputs": [],
   "source": [
    "data_fn = 'https://raw.githubusercontent.com/mostly-ai/public-demo-data/dev/titanic/titanic.csv'\n",
    "g = mostly.train(data_fn)"
   ]
  },
  {
   "cell_type": "code",
   "execution_count": null,
   "id": "926196b2-c840-4e32-9fb4-2802b5a6eadd",
   "metadata": {},
   "outputs": [],
   "source": [
    "sd = mostly.generate(g)"
   ]
  },
  {
   "cell_type": "code",
   "execution_count": null,
   "id": "c0c103a7-4b0c-4c54-b6f7-ec32a557ae86",
   "metadata": {
    "scrolled": true
   },
   "outputs": [],
   "source": [
    "dfs = sd.data()\n",
    "dfs"
   ]
  },
  {
   "cell_type": "markdown",
   "id": "ff9a5ecf-97b3-4b4f-8775-b747b6e168bb",
   "metadata": {},
   "source": [
    "## CENSUS"
   ]
  },
  {
   "cell_type": "code",
   "execution_count": null,
   "id": "fdb24aeb-8511-4645-9d62-55a263f650ed",
   "metadata": {},
   "outputs": [],
   "source": [
    "census_df = pd.read_csv('https://github.com/mostly-ai/public-demo-data/raw/dev/census/census.csv.gz').sample(n=1_000)\n",
    "config = {\n",
    "    'name': 'US census',\n",
    "    'tables': [{\"name\": \"census\", \"data\": census_df}],\n",
    "}\n",
    "g = mostly.train(config)"
   ]
  },
  {
   "cell_type": "code",
   "execution_count": null,
   "id": "893d0e65-8c84-411e-a233-9906e9085713",
   "metadata": {},
   "outputs": [],
   "source": [
    "#seed = pd.DataFrame({'sex': ['Male', 'Female'] * 100, 'age': [49] * 200})\n",
    "#sd = client.synthetic_datasets.create(generatorId=g.id, tables=[{'name': 'users', 'sampleSeedData': seed}])"
   ]
  },
  {
   "cell_type": "markdown",
   "id": "1ca7fdc4-19ec-4435-a223-b67a2bbd4259",
   "metadata": {},
   "source": [
    "## CDNOW"
   ]
  },
  {
   "cell_type": "code",
   "execution_count": null,
   "id": "fa528ff3-b9d4-459e-9770-ad134f456f39",
   "metadata": {},
   "outputs": [],
   "source": [
    "g = mostly.train(\n",
    "    {\n",
    "        \"name\": \"CDNOW\",\n",
    "        \"tables\": [\n",
    "            {\n",
    "                \"name\": \"users\", \n",
    "                \"data\": \"https://github.com/mostly-ai/public-demo-data/raw/dev/cdnow/users.csv.gz\", \n",
    "                \"primaryKey\": \"id\"\n",
    "            },\n",
    "            {\n",
    "                \"name\": \"purchases\",\n",
    "                \"data\": \"https://github.com/mostly-ai/public-demo-data/raw/dev/cdnow/purchases.csv.gz\", \n",
    "                \"foreignKeys\": [{\"column\": \"users_id\", \"referencedTable\": \"users\", \"isContext\": True}]\n",
    "            }\n",
    "        ]\n",
    "    }\n",
    ")"
   ]
  },
  {
   "cell_type": "code",
   "execution_count": null,
   "id": "976d1d7e-2672-4972-9979-0ea23cbef331",
   "metadata": {},
   "outputs": [],
   "source": [
    "g = mostly.generators.get('8ff1e247-2582-4ddf-9903-58f9fa5cfc1f')\n",
    "acc = g.tables[1].model.metrics.accuracy.univariate\n",
    "print(f\"accuracy: {acc:.2%}\")"
   ]
  },
  {
   "cell_type": "code",
   "execution_count": null,
   "id": "b1a1b4d4-0426-4381-ae9b-0a59e718982c",
   "metadata": {},
   "outputs": [],
   "source": [
    "sd = mostly.generate(g)"
   ]
  },
  {
   "cell_type": "code",
   "execution_count": null,
   "id": "dfeb18f2-e506-48a2-b604-10e00e6b1bbd",
   "metadata": {},
   "outputs": [],
   "source": [
    "sd = mostly.synthetic_datasets.get('625fcb54-de26-4dd6-a406-eac249cdcf04')"
   ]
  },
  {
   "cell_type": "code",
   "execution_count": null,
   "id": "845793ec-853a-442e-b066-6cdc3050be4f",
   "metadata": {},
   "outputs": [],
   "source": [
    "dfs = sd.data()\n",
    "dfs"
   ]
  },
  {
   "cell_type": "markdown",
   "id": "a4212b8a25fb3fff",
   "metadata": {
    "collapsed": false
   },
   "source": [
    "# clone a generator"
   ]
  },
  {
   "cell_type": "code",
   "execution_count": null,
   "id": "4f0fef6ccbd0d1a0",
   "metadata": {
    "collapsed": false
   },
   "outputs": [],
   "source": [
    "g = mostly.generators.get('6422bf4b-1e3f-4b8e-bc33-f1a33dac8925')\n",
    "print(f\"id:{str(g.id)}, name:{g.name}, status:{g.training_status.value}\")"
   ]
  },
  {
   "cell_type": "code",
   "execution_count": null,
   "id": "2414ad7bfcdbfef9",
   "metadata": {
    "collapsed": false
   },
   "outputs": [],
   "source": [
    "# clone a generator, and re-provide the data\n",
    "config = g.to_dict()\n",
    "config['tables'][0]['data'] = 'https://github.com/mostly-ai/public-demo-data/raw/dev/census/census.csv.gz'\n",
    "g2 = mostly.train(config, start=False)"
   ]
  },
  {
   "cell_type": "code",
   "execution_count": null,
   "id": "5e01654eada3a341",
   "metadata": {
    "collapsed": false
   },
   "outputs": [],
   "source": [
    "print(f\"id:{str(g2.id)}, name:{g2.name}, status:{g2.training_status.value}\")"
   ]
  },
  {
   "cell_type": "code",
   "execution_count": null,
   "id": "c0cfb836d23036cd",
   "metadata": {
    "collapsed": false
   },
   "outputs": [],
   "source": [
    "config = mostly.generators.get(g2.id).to_dict()\n",
    "config['tables'][0]['modelConfiguration'] |= {'maxTrainingTime': 2, 'maxEpochs': 5}\n",
    "g2 = g2.update(**config)"
   ]
  },
  {
   "cell_type": "code",
   "execution_count": null,
   "id": "1ce82c1caa063e71",
   "metadata": {
    "collapsed": false,
    "scrolled": true
   },
   "outputs": [],
   "source": [
    "g2.training.start()\n",
    "g2 = g2.training.wait(interval=5)\n",
    "print(f\"{g2.training_status.value=}\")"
   ]
  },
  {
   "cell_type": "code",
   "execution_count": null,
   "id": "8c9d90b854ae20f2",
   "metadata": {
    "collapsed": false
   },
   "outputs": [],
   "source": [
    "g2 = mostly.generators.get('6422bf4b-1e3f-4b8e-bc33-f1a33dac8925')\n",
    "train_step = [step for step in g2.training.progress().steps if step.step_code.value=='TRAIN_MODEL'][0]\n",
    "for ckpt in train_step.messages[:5]:\n",
    "    print(f\"epoch {ckpt['epoch']}: {ckpt['val_loss']:0.4f}\")"
   ]
  },
  {
   "cell_type": "markdown",
   "id": "5c2b8cc449a93cdf",
   "metadata": {
    "collapsed": false
   },
   "source": [
    "## list generators"
   ]
  },
  {
   "cell_type": "code",
   "execution_count": null,
   "id": "c1dee7c5870e989a",
   "metadata": {
    "collapsed": false
   },
   "outputs": [],
   "source": [
    "for g in mostly.generators.list():\n",
    "    print(f\"name:{g.name}, status:{g.training_status.value}, accuracy:{g.accuracy}\")"
   ]
  },
  {
   "cell_type": "code",
   "execution_count": null,
   "id": "96b8606f-6f14-4d8b-8aee-796cd03df0af",
   "metadata": {},
   "outputs": [],
   "source": []
  }
 ],
 "metadata": {
  "kernelspec": {
   "display_name": "Python 3 (ipykernel)",
   "language": "python",
   "name": "python3"
  },
  "language_info": {
   "codemirror_mode": {
    "name": "ipython",
    "version": 3
   },
   "file_extension": ".py",
   "mimetype": "text/x-python",
   "name": "python",
   "nbconvert_exporter": "python",
   "pygments_lexer": "ipython3",
   "version": "3.11.7"
  }
 },
 "nbformat": 4,
 "nbformat_minor": 5
}
