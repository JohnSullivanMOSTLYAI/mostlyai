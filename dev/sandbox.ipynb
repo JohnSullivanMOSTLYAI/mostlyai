{
 "cells": [
  {
   "cell_type": "code",
   "execution_count": null,
   "id": "69cb91dc2f799dc1",
   "metadata": {
    "ExecuteTime": {
     "end_time": "2024-02-27T12:08:43.944459Z",
     "start_time": "2024-02-27T12:08:39.266449Z"
    },
    "collapsed": false,
    "editable": true,
    "jupyter": {
     "outputs_hidden": false
    },
    "slideshow": {
     "slide_type": ""
    },
    "tags": []
   },
   "outputs": [],
   "source": [
    "# ensure that any code changes are immediately reflected\n",
    "%reload_ext autoreload\n",
    "%autoreload 2"
   ]
  },
  {
   "cell_type": "markdown",
   "id": "92fa137e-c5c4-4553-93dd-7458f655fc88",
   "metadata": {},
   "source": [
    "## Initialize Three Users"
   ]
  },
  {
   "cell_type": "code",
   "execution_count": null,
   "id": "78ef262fde4f3055",
   "metadata": {
    "ExecuteTime": {
     "end_time": "2024-02-27T12:03:51.990248Z",
     "start_time": "2024-02-27T12:03:51.783751Z"
    },
    "collapsed": false,
    "jupyter": {
     "outputs_hidden": false
    }
   },
   "outputs": [],
   "source": [
    "from mostlyai import MostlyAI\n",
    "base_url = 'https://dev.dev.mostlylab.com/'\n",
    "# Test User 1\n",
    "mostly_t1 = MostlyAI(api_key='mostly-765c7f96e0a8f261b55248f8672e46dd7281ef90219328ce071b5a93fbb65edf', base_url=base_url)\n",
    "# Test User 2\n",
    "mostly_t2 = MostlyAI(api_key='mostly-fc5d7602dba784ce687d775b72c12d2e93407fba9731144145b85e0548ac1e97', base_url=base_url)\n",
    "# Test User 3\n",
    "mostly_t3 = MostlyAI(api_key='mostly-0dd57f8b8cdb7485310aadead0439c48beea8956273614102e8bf7950bc3f02e', base_url=base_url)"
   ]
  },
  {
   "cell_type": "markdown",
   "id": "50d510bf-b10e-4322-a2e4-220078895e14",
   "metadata": {},
   "source": [
    "## Basic Usage"
   ]
  },
  {
   "cell_type": "markdown",
   "id": "d4d59769-62d5-4bab-91a0-c04d5c92c3d3",
   "metadata": {},
   "source": [
    "### User 1 trains a Generator"
   ]
  },
  {
   "cell_type": "code",
   "execution_count": null,
   "id": "e5a96a563f2d1125",
   "metadata": {
    "ExecuteTime": {
     "end_time": "2024-02-27T12:04:41.573872Z",
     "start_time": "2024-02-27T12:03:56.034110Z"
    },
    "collapsed": false,
    "jupyter": {
     "outputs_hidden": false
    }
   },
   "outputs": [],
   "source": [
    "g = mostly_t1.train('https://raw.githubusercontent.com/mostly-ai/public-demo-data/dev/titanic/titanic.csv')"
   ]
  },
  {
   "cell_type": "code",
   "execution_count": null,
   "id": "4e80c740d5e0cfe0",
   "metadata": {
    "ExecuteTime": {
     "end_time": "2024-02-27T12:08:48.311637Z",
     "start_time": "2024-02-27T12:08:48.024565Z"
    },
    "collapsed": false,
    "jupyter": {
     "outputs_hidden": false
    }
   },
   "outputs": [],
   "source": [
    "g"
   ]
  },
  {
   "cell_type": "code",
   "execution_count": null,
   "id": "c00c62c1d8ae0419",
   "metadata": {
    "ExecuteTime": {
     "end_time": "2024-02-27T12:10:21.104641Z",
     "start_time": "2024-02-27T12:10:20.625381Z"
    },
    "collapsed": false,
    "jupyter": {
     "outputs_hidden": false
    }
   },
   "outputs": [],
   "source": [
    "# Open the created generator in a web browser \n",
    "g.open()"
   ]
  },
  {
   "cell_type": "markdown",
   "id": "f90a89fc-513d-4e51-a55a-45e8849cc9dc",
   "metadata": {},
   "source": [
    "### User 1 shares the Generator with User 2 and User 3"
   ]
  },
  {
   "cell_type": "code",
   "execution_count": null,
   "id": "8d5f3e0cb7cc8c64",
   "metadata": {
    "ExecuteTime": {
     "end_time": "2024-02-27T11:23:58.533555Z",
     "start_time": "2024-02-27T11:23:45.363973Z"
    },
    "collapsed": false,
    "jupyter": {
     "outputs_hidden": false
    }
   },
   "outputs": [],
   "source": [
    "mostly_t1.share(g, 'test2@mostly.ai')\n",
    "mostly_t1.share(g, 'test3@mostly.ai')"
   ]
  },
  {
   "cell_type": "markdown",
   "id": "82932d4d-4cf9-49ae-88ae-67f5d25271c7",
   "metadata": {},
   "source": [
    "### User 2 generates a Synthetic Dataset"
   ]
  },
  {
   "cell_type": "code",
   "execution_count": null,
   "id": "2b237a256703811f",
   "metadata": {
    "ExecuteTime": {
     "end_time": "2024-02-27T11:24:37.322130Z",
     "start_time": "2024-02-27T11:24:06.739253Z"
    },
    "collapsed": false,
    "jupyter": {
     "outputs_hidden": false
    }
   },
   "outputs": [],
   "source": [
    "sd = mostly_t2.generate(g.id, size=1000)"
   ]
  },
  {
   "cell_type": "markdown",
   "id": "360efa10-8298-4f47-aded-9f6abefc2d1f",
   "metadata": {},
   "source": [
    "### User 2 consumes the Synthetic Dataset"
   ]
  },
  {
   "cell_type": "code",
   "execution_count": null,
   "id": "dbbc2c89-7d0f-48fd-b412-9687235ed753",
   "metadata": {
    "ExecuteTime": {
     "end_time": "2024-02-27T11:25:01.675921Z",
     "start_time": "2024-02-27T11:25:01.092313Z"
    }
   },
   "outputs": [],
   "source": [
    "sd.data()"
   ]
  },
  {
   "cell_type": "code",
   "execution_count": null,
   "id": "22f010a657b442e3",
   "metadata": {
    "ExecuteTime": {
     "end_time": "2024-02-27T11:25:11.015381Z",
     "start_time": "2024-02-27T11:25:10.833318Z"
    },
    "collapsed": false,
    "jupyter": {
     "outputs_hidden": false
    }
   },
   "outputs": [],
   "source": [
    "sd"
   ]
  },
  {
   "cell_type": "markdown",
   "id": "151dc3eb-5c7a-459a-99e3-68b6094201a7",
   "metadata": {},
   "source": [
    "### User 3 generates a Seeded Synthetic Dataset"
   ]
  },
  {
   "cell_type": "code",
   "execution_count": null,
   "id": "2373fe44-64b7-4f00-a4d4-9181ccfd4df0",
   "metadata": {
    "ExecuteTime": {
     "end_time": "2024-02-27T11:25:26.698349Z",
     "start_time": "2024-02-27T11:25:26.609836Z"
    }
   },
   "outputs": [],
   "source": [
    "# prepare a seed DataFrame\n",
    "import pandas as pd\n",
    "import numpy as np\n",
    "seed_df = pd.DataFrame({'survived': [1] * 10_000, 'age': np.random.randint(5, 18, 10_000)})\n",
    "seed_df"
   ]
  },
  {
   "cell_type": "code",
   "execution_count": null,
   "id": "5d0cc8ba-342f-4688-9eb8-aef54eb63ddb",
   "metadata": {
    "ExecuteTime": {
     "end_time": "2024-02-27T11:26:05.534897Z",
     "start_time": "2024-02-27T11:25:29.765849Z"
    }
   },
   "outputs": [],
   "source": [
    "sd3 = mostly_t3.generate(g.id, seed=seed_df)"
   ]
  },
  {
   "cell_type": "code",
   "execution_count": null,
   "id": "fa384fb5-6887-4c43-8ca1-59b100dec067",
   "metadata": {
    "ExecuteTime": {
     "end_time": "2024-02-27T11:26:16.221758Z",
     "start_time": "2024-02-27T11:26:15.452142Z"
    }
   },
   "outputs": [],
   "source": [
    "sd3.data()"
   ]
  },
  {
   "cell_type": "markdown",
   "id": "ff9a5ecf-97b3-4b4f-8775-b747b6e168bb",
   "metadata": {},
   "source": [
    "## Multi-Table\n",
    "\n",
    "### User 1 trains a 3-table setup from pandas"
   ]
  },
  {
   "cell_type": "code",
   "execution_count": null,
   "id": "7044a048-99a1-4e85-9d4c-60746793affc",
   "metadata": {},
   "outputs": [],
   "source": [
    "import pandas as pd\n",
    "df_players = pd.read_csv('https://github.com/mostly-ai/public-demo-data/raw/dev/baseball/players.csv.gz')\n",
    "df_fielding = pd.read_csv('https://github.com/mostly-ai/public-demo-data/raw/dev/baseball/fielding.csv.gz')\n",
    "df_batting = pd.read_csv('https://github.com/mostly-ai/public-demo-data/raw/dev/baseball/batting.csv.gz')\n",
    "df_players"
   ]
  },
  {
   "cell_type": "code",
   "execution_count": null,
   "id": "7cff3522-f60c-445c-920c-7f486559b260",
   "metadata": {
    "editable": true,
    "slideshow": {
     "slide_type": ""
    },
    "tags": []
   },
   "outputs": [],
   "source": [
    "g = mostly_t1.train(config=\n",
    "    {\n",
    "        \"name\": \"baseball\",\n",
    "        \"tables\": [\n",
    "            {\n",
    "                \"name\": \"players\", \n",
    "                \"data\": df_players, \n",
    "                \"primaryKey\": \"id\",\n",
    "                \"modelConfiguration\": {\"maxTrainingTime\": 1}\n",
    "            },\n",
    "            {\n",
    "                \"name\": \"fielding\",\n",
    "                \"data\": df_fielding, \n",
    "                \"foreignKeys\": [{\"column\": \"players_id\", \"referencedTable\": \"players\", \"isContext\": True}],\n",
    "                \"modelConfiguration\": {\"maxTrainingTime\": 1}\n",
    "            },\n",
    "            {\n",
    "                \"name\": \"batting\",\n",
    "                \"data\": df_batting, \n",
    "                \"foreignKeys\": [{\"column\": \"players_id\", \"referencedTable\": \"players\", \"isContext\": True}],\n",
    "                \"modelConfiguration\": {\"maxTrainingTime\": 1}\n",
    "            }\n",
    "        ]\n",
    "    }\n",
    ")"
   ]
  },
  {
   "cell_type": "markdown",
   "id": "40f695a7-e120-4eba-afa0-91540add28df",
   "metadata": {},
   "source": [
    "## Database Connectivity"
   ]
  },
  {
   "cell_type": "markdown",
   "id": "bbd46af0-55fd-4312-af15-d270da1a0ceb",
   "metadata": {},
   "source": [
    "### User 1 creates a Connector to a Postgres Database"
   ]
  },
  {
   "cell_type": "code",
   "execution_count": null,
   "id": "a7eaff4e-a979-4462-a42e-67770aa790f1",
   "metadata": {},
   "outputs": [],
   "source": [
    "import os\n",
    "c = mostly_t1.connect({\n",
    "    \"accessType\": \"SOURCE\",\n",
    "    \"type\": \"POSTGRES\",\n",
    "    \"config\": {\n",
    "        \"host\": \"postgres-test.cppq7davohkj.eu-central-1.rds.amazonaws.com\",\n",
    "        \"username\": \"postgres\",\n",
    "        \"database\": \"berka_original\",\n",
    "    },\n",
    "    \"secrets\": {\n",
    "        \"password\": pwd\n",
    "    }\n",
    "})"
   ]
  },
  {
   "cell_type": "markdown",
   "id": "b615f91b-a9f3-4538-833b-f85842b1c7f0",
   "metadata": {},
   "source": [
    "### User 1 shares Connector with User 2"
   ]
  },
  {
   "cell_type": "code",
   "execution_count": null,
   "id": "237b2985-ab66-4fc2-8dda-1ab57d21da26",
   "metadata": {},
   "outputs": [],
   "source": [
    "mostly_t1.share(c.id, 'test2@mostly.ai')"
   ]
  },
  {
   "cell_type": "markdown",
   "id": "9dada9a4-4b73-40ab-8afa-d30448728191",
   "metadata": {},
   "source": [
    "### User 2 uses Connector to train a Generator"
   ]
  },
  {
   "cell_type": "code",
   "execution_count": null,
   "id": "20a340be-ad76-4747-8be7-16456bed4e12",
   "metadata": {},
   "outputs": [],
   "source": [
    "c2 = mostly_t2.connectors.get(c.id)\n",
    "c2"
   ]
  },
  {
   "cell_type": "code",
   "execution_count": null,
   "id": "189f35a9-3423-4ae2-b277-df9f24800d69",
   "metadata": {},
   "outputs": [],
   "source": [
    "c2.locations()"
   ]
  },
  {
   "cell_type": "code",
   "execution_count": null,
   "id": "4b27b596-dd23-4f7e-be09-ad43fb6bf179",
   "metadata": {},
   "outputs": [],
   "source": [
    "c2.locations(\"berka\")"
   ]
  },
  {
   "cell_type": "code",
   "execution_count": null,
   "id": "fa528ff3-b9d4-459e-9770-ad134f456f39",
   "metadata": {},
   "outputs": [],
   "source": [
    "g = mostly_t2.train(config=\n",
    "    {\n",
    "        \"name\": \"BERKA\",\n",
    "        \"tables\": [\n",
    "            {\n",
    "                \"name\": \"accounts\", \n",
    "                \"sourceConnectorId\": str(c2.id),\n",
    "                \"location\": \"berka.account\",\n",
    "                \"primaryKey\": \"account_id\"\n",
    "            }\n",
    "        ]\n",
    "    }\n",
    ")"
   ]
  },
  {
   "cell_type": "code",
   "execution_count": null,
   "id": "b1a1b4d4-0426-4381-ae9b-0a59e718982c",
   "metadata": {},
   "outputs": [],
   "source": [
    "sd = mostly_t2.generate(g)"
   ]
  },
  {
   "cell_type": "code",
   "execution_count": null,
   "id": "d6e57ef5-04e6-4af8-b859-ed10c1afb09c",
   "metadata": {},
   "outputs": [],
   "source": [
    "sd.data()"
   ]
  },
  {
   "cell_type": "code",
   "execution_count": null,
   "id": "4b42c2fb-b746-42ac-b5a3-1f6ac68f1b85",
   "metadata": {},
   "outputs": [],
   "source": []
  }
 ],
 "metadata": {
  "kernelspec": {
   "display_name": "Python 3 (ipykernel)",
   "language": "python",
   "name": "python3"
  },
  "language_info": {
   "codemirror_mode": {
    "name": "ipython",
    "version": 3
   },
   "file_extension": ".py",
   "mimetype": "text/x-python",
   "name": "python",
   "nbconvert_exporter": "python",
   "pygments_lexer": "ipython3",
   "version": "3.9.7"
  }
 },
 "nbformat": 4,
 "nbformat_minor": 5
}
