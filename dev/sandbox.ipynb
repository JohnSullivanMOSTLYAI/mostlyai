{
 "cells": [
  {
   "cell_type": "code",
   "execution_count": 123,
   "outputs": [],
   "source": [
    "# ensure that any code changes are immediately reflected\n",
    "%reload_ext autoreload\n",
    "%autoreload 2"
   ],
   "metadata": {
    "collapsed": false,
    "ExecuteTime": {
     "end_time": "2024-02-16T19:50:08.243566Z",
     "start_time": "2024-02-16T19:50:08.184595Z"
    }
   },
   "id": "69cb91dc2f799dc1"
  },
  {
   "cell_type": "code",
   "execution_count": 124,
   "outputs": [],
   "source": [
    "import os\n",
    "\n",
    "import pandas as pd\n",
    "import numpy as np\n",
    "\n",
    "os.environ['MOSTLY_AI_PASSWORD'] = 'Mostly01!'\n",
    "\n",
    "from mostlyai import MostlyAI\n",
    "client = MostlyAI(\n",
    "    # api_key = 'xxx',         # or MOSTLYAI_API_KEY env var; this is bound to a single user account\n",
    "    # base_url = 'https://..'  # optional; defaults to our free version\n",
    ")"
   ],
   "metadata": {
    "collapsed": false,
    "ExecuteTime": {
     "end_time": "2024-02-16T19:50:09.473335Z",
     "start_time": "2024-02-16T19:50:09.265023Z"
    }
   },
   "id": "initial_id"
  },
  {
   "cell_type": "code",
   "execution_count": 125,
   "outputs": [
    {
     "data": {
      "text/plain": "         name  age        income\n0       Alice   36  53969.872512\n1     Charlie   20  38834.857803\n2     Charlie   35  47755.453482\n3         Eva   21  34653.502691\n4     Charlie   35  39718.652251\n...       ...  ...           ...\n9995    David   31  68713.493153\n9996    David   63  35817.051321\n9997      Eva   47  78398.383316\n9998      Bob   22  31487.160877\n9999    David   27  54950.539881\n\n[10000 rows x 3 columns]",
      "text/html": "<div>\n<style scoped>\n    .dataframe tbody tr th:only-of-type {\n        vertical-align: middle;\n    }\n\n    .dataframe tbody tr th {\n        vertical-align: top;\n    }\n\n    .dataframe thead th {\n        text-align: right;\n    }\n</style>\n<table border=\"1\" class=\"dataframe\">\n  <thead>\n    <tr style=\"text-align: right;\">\n      <th></th>\n      <th>name</th>\n      <th>age</th>\n      <th>income</th>\n    </tr>\n  </thead>\n  <tbody>\n    <tr>\n      <th>0</th>\n      <td>Alice</td>\n      <td>36</td>\n      <td>53969.872512</td>\n    </tr>\n    <tr>\n      <th>1</th>\n      <td>Charlie</td>\n      <td>20</td>\n      <td>38834.857803</td>\n    </tr>\n    <tr>\n      <th>2</th>\n      <td>Charlie</td>\n      <td>35</td>\n      <td>47755.453482</td>\n    </tr>\n    <tr>\n      <th>3</th>\n      <td>Eva</td>\n      <td>21</td>\n      <td>34653.502691</td>\n    </tr>\n    <tr>\n      <th>4</th>\n      <td>Charlie</td>\n      <td>35</td>\n      <td>39718.652251</td>\n    </tr>\n    <tr>\n      <th>...</th>\n      <td>...</td>\n      <td>...</td>\n      <td>...</td>\n    </tr>\n    <tr>\n      <th>9995</th>\n      <td>David</td>\n      <td>31</td>\n      <td>68713.493153</td>\n    </tr>\n    <tr>\n      <th>9996</th>\n      <td>David</td>\n      <td>63</td>\n      <td>35817.051321</td>\n    </tr>\n    <tr>\n      <th>9997</th>\n      <td>Eva</td>\n      <td>47</td>\n      <td>78398.383316</td>\n    </tr>\n    <tr>\n      <th>9998</th>\n      <td>Bob</td>\n      <td>22</td>\n      <td>31487.160877</td>\n    </tr>\n    <tr>\n      <th>9999</th>\n      <td>David</td>\n      <td>27</td>\n      <td>54950.539881</td>\n    </tr>\n  </tbody>\n</table>\n<p>10000 rows × 3 columns</p>\n</div>"
     },
     "execution_count": 125,
     "metadata": {},
     "output_type": "execute_result"
    }
   ],
   "source": [
    "df = pd.DataFrame({'name': np.random.choice(['Alice', 'Bob', 'Charlie', 'David', 'Eva'], 10_000), \n",
    "                   'age': np.random.randint(18, 65, size=10_000), \n",
    "                   'income': np.random.normal(50000, 15000, 10_000)})\n",
    "df"
   ],
   "metadata": {
    "collapsed": false,
    "ExecuteTime": {
     "end_time": "2024-02-16T19:50:10.533261Z",
     "start_time": "2024-02-16T19:50:10.466377Z"
    }
   },
   "id": "78ef262fde4f3055"
  },
  {
   "cell_type": "code",
   "execution_count": 126,
   "outputs": [
    {
     "name": "stderr",
     "output_type": "stream",
     "text": [
      "\n",
      "\n",
      "Job status:   0%|          | 0/6 [00:00<?, ?it/s]\u001B[A\u001B[A\n",
      "\n",
      "Job status:   0%|          | 0/6 [00:05<?, ?it/s]\u001B[A\u001B[A\n",
      "\n",
      "Job status:  17%|█▋        | 1/6 [00:10<00:25,  5.14s/it]\u001B[A\u001B[A\n",
      "\n",
      "Job status:  67%|██████▋   | 4/6 [00:15<00:04,  2.36s/it]\u001B[A\u001B[A\n",
      "\n",
      "Job status: 7it [00:20,  2.01s/it]                       \u001B[A\u001B[A\n",
      "\n",
      "Job status: 12it [00:25,  1.46s/it]\u001B[A\u001B[A\n",
      "\n",
      "Job status: 18it [00:35,  1.99s/it]\u001B[A\u001B[A"
     ]
    },
    {
     "name": "stdout",
     "output_type": "stream",
     "text": [
      "Job finished in 35.9s\n"
     ]
    },
    {
     "name": "stderr",
     "output_type": "stream",
     "text": [
      "\n"
     ]
    }
   ],
   "source": [
    "g = client.generators.create(tables=[{'data': df, 'name': 'michi'}], start=True, wait=True)"
   ],
   "metadata": {
    "collapsed": false,
    "ExecuteTime": {
     "end_time": "2024-02-16T19:50:48.462377Z",
     "start_time": "2024-02-16T19:50:11.665102Z"
    }
   },
   "id": "52595e82969567fc"
  },
  {
   "cell_type": "code",
   "execution_count": 127,
   "outputs": [
    {
     "name": "stderr",
     "output_type": "stream",
     "text": [
      "\n",
      "\n",
      "Job status:   0%|          | 0/3 [00:00<?, ?it/s]\u001B[A\u001B[A\n",
      "\n",
      "Job status:   0%|          | 0/3 [00:05<?, ?it/s]\u001B[A\u001B[A\n",
      "\n",
      "Job status:  33%|███▎      | 1/3 [00:10<00:10,  5.14s/it]\u001B[A\u001B[A\n",
      "\n",
      "Job status: 4it [00:20,  5.12s/it]                       \u001B[A\u001B[A"
     ]
    },
    {
     "name": "stdout",
     "output_type": "stream",
     "text": [
      "Job finished in 20.6s\n"
     ]
    },
    {
     "name": "stderr",
     "output_type": "stream",
     "text": [
      "\n"
     ]
    }
   ],
   "source": [
    "sd = client.synthetic_datasets.create(generatorId=g.id, start=True, wait=True)"
   ],
   "metadata": {
    "collapsed": false,
    "ExecuteTime": {
     "end_time": "2024-02-16T19:51:09.606077Z",
     "start_time": "2024-02-16T19:50:48.459023Z"
    }
   },
   "id": "3f649616e43dbd28"
  },
  {
   "cell_type": "code",
   "execution_count": 130,
   "outputs": [
    {
     "data": {
      "text/plain": "{'michi':          name  age        income\n 0         Eva   24  64436.764247\n 1         Eva   33  69709.982162\n 2         Eva   34  36494.673346\n 3       Alice   50  48736.696826\n 4       David   34   47059.36573\n ...       ...  ...           ...\n 4995    David   43  35257.535767\n 4996  Charlie   49  73341.506377\n 4997      Eva   55   32104.20922\n 4998      Bob   36  39389.385731\n 4999    Alice   45  45681.861461\n \n [10000 rows x 3 columns]}"
     },
     "execution_count": 130,
     "metadata": {},
     "output_type": "execute_result"
    }
   ],
   "source": [
    "dfs = sd.data()\n",
    "dfs"
   ],
   "metadata": {
    "collapsed": false,
    "ExecuteTime": {
     "end_time": "2024-02-16T19:51:22.301596Z",
     "start_time": "2024-02-16T19:51:22.027233Z"
    }
   },
   "id": "22b3decaa878b6bc"
  },
  {
   "cell_type": "code",
   "execution_count": null,
   "outputs": [],
   "source": [],
   "metadata": {
    "collapsed": false
   },
   "id": "84e62f7d44fa5515"
  }
 ],
 "metadata": {
  "kernelspec": {
   "display_name": "Python 3",
   "language": "python",
   "name": "python3"
  },
  "language_info": {
   "codemirror_mode": {
    "name": "ipython",
    "version": 2
   },
   "file_extension": ".py",
   "mimetype": "text/x-python",
   "name": "python",
   "nbconvert_exporter": "python",
   "pygments_lexer": "ipython2",
   "version": "2.7.6"
  }
 },
 "nbformat": 4,
 "nbformat_minor": 5
}
