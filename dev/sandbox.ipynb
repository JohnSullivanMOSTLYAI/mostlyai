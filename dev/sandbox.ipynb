{
 "cells": [
  {
   "cell_type": "code",
   "execution_count": 132,
   "outputs": [],
   "source": [
    "# ensure that any code changes are immediately reflected\n",
    "%reload_ext autoreload\n",
    "%autoreload 2"
   ],
   "metadata": {
    "collapsed": false,
    "ExecuteTime": {
     "end_time": "2024-02-16T19:59:06.798956Z",
     "start_time": "2024-02-16T19:59:06.720603Z"
    }
   },
   "id": "69cb91dc2f799dc1"
  },
  {
   "cell_type": "code",
   "execution_count": 133,
   "outputs": [
    {
     "data": {
      "text/plain": "         name  age        income\n0       David   22  38387.090177\n1         Bob   25  56014.069146\n2       Alice   58  51098.423161\n3         Eva   22  44830.592933\n4         Eva   59  18504.763659\n...       ...  ...           ...\n9995    Alice   47  77796.322951\n9996  Charlie   45  43990.762523\n9997      Eva   35  52121.722088\n9998  Charlie   64  60466.414154\n9999      Bob   57  63611.646914\n\n[10000 rows x 3 columns]",
      "text/html": "<div>\n<style scoped>\n    .dataframe tbody tr th:only-of-type {\n        vertical-align: middle;\n    }\n\n    .dataframe tbody tr th {\n        vertical-align: top;\n    }\n\n    .dataframe thead th {\n        text-align: right;\n    }\n</style>\n<table border=\"1\" class=\"dataframe\">\n  <thead>\n    <tr style=\"text-align: right;\">\n      <th></th>\n      <th>name</th>\n      <th>age</th>\n      <th>income</th>\n    </tr>\n  </thead>\n  <tbody>\n    <tr>\n      <th>0</th>\n      <td>David</td>\n      <td>22</td>\n      <td>38387.090177</td>\n    </tr>\n    <tr>\n      <th>1</th>\n      <td>Bob</td>\n      <td>25</td>\n      <td>56014.069146</td>\n    </tr>\n    <tr>\n      <th>2</th>\n      <td>Alice</td>\n      <td>58</td>\n      <td>51098.423161</td>\n    </tr>\n    <tr>\n      <th>3</th>\n      <td>Eva</td>\n      <td>22</td>\n      <td>44830.592933</td>\n    </tr>\n    <tr>\n      <th>4</th>\n      <td>Eva</td>\n      <td>59</td>\n      <td>18504.763659</td>\n    </tr>\n    <tr>\n      <th>...</th>\n      <td>...</td>\n      <td>...</td>\n      <td>...</td>\n    </tr>\n    <tr>\n      <th>9995</th>\n      <td>Alice</td>\n      <td>47</td>\n      <td>77796.322951</td>\n    </tr>\n    <tr>\n      <th>9996</th>\n      <td>Charlie</td>\n      <td>45</td>\n      <td>43990.762523</td>\n    </tr>\n    <tr>\n      <th>9997</th>\n      <td>Eva</td>\n      <td>35</td>\n      <td>52121.722088</td>\n    </tr>\n    <tr>\n      <th>9998</th>\n      <td>Charlie</td>\n      <td>64</td>\n      <td>60466.414154</td>\n    </tr>\n    <tr>\n      <th>9999</th>\n      <td>Bob</td>\n      <td>57</td>\n      <td>63611.646914</td>\n    </tr>\n  </tbody>\n</table>\n<p>10000 rows × 3 columns</p>\n</div>"
     },
     "execution_count": 133,
     "metadata": {},
     "output_type": "execute_result"
    }
   ],
   "source": [
    "import pandas as pd\n",
    "import numpy as np\n",
    "import os\n",
    "os.environ['MOSTLY_AI_PASSWORD'] = 'Mostly01!'\n",
    "\n",
    "df = pd.DataFrame({'name': np.random.choice(['Alice', 'Bob', 'Charlie', 'David', 'Eva'], 10_000), \n",
    "                   'age': np.random.randint(18, 65, size=10_000), \n",
    "                   'income': np.random.normal(50000, 15000, 10_000)})\n",
    "df"
   ],
   "metadata": {
    "collapsed": false,
    "ExecuteTime": {
     "end_time": "2024-02-16T19:59:06.860293Z",
     "start_time": "2024-02-16T19:59:06.799789Z"
    }
   },
   "id": "initial_id"
  },
  {
   "cell_type": "code",
   "execution_count": 134,
   "outputs": [],
   "source": [
    "from mostlyai import MostlyAI\n",
    "client = MostlyAI(\n",
    "    # api_key = 'xxx',         # or MOSTLYAI_API_KEY env var; this is bound to a single user account\n",
    "    # base_url = 'https://..'  # optional; defaults to our free version\n",
    ")"
   ],
   "metadata": {
    "collapsed": false,
    "ExecuteTime": {
     "end_time": "2024-02-16T19:59:07.121510Z",
     "start_time": "2024-02-16T19:59:06.859193Z"
    }
   },
   "id": "78ef262fde4f3055"
  },
  {
   "cell_type": "code",
   "execution_count": 135,
   "outputs": [
    {
     "name": "stderr",
     "output_type": "stream",
     "text": [
      "Job status: 18it [00:35,  1.99s/it]                      "
     ]
    },
    {
     "name": "stdout",
     "output_type": "stream",
     "text": [
      "Job finished in 36.0s\n"
     ]
    },
    {
     "name": "stderr",
     "output_type": "stream",
     "text": [
      "\n"
     ]
    }
   ],
   "source": [
    "g = client.generators.create(tables=[{'data': df, 'name': 'michi'}], start=True, wait=True)"
   ],
   "metadata": {
    "collapsed": false,
    "ExecuteTime": {
     "end_time": "2024-02-16T19:59:44.098234Z",
     "start_time": "2024-02-16T19:59:07.121966Z"
    }
   },
   "id": "52595e82969567fc"
  },
  {
   "cell_type": "code",
   "execution_count": 136,
   "outputs": [
    {
     "name": "stderr",
     "output_type": "stream",
     "text": [
      "Job status: 5it [00:41,  8.21s/it]                       "
     ]
    },
    {
     "name": "stdout",
     "output_type": "stream",
     "text": [
      "Job finished in 41.2s\n"
     ]
    },
    {
     "name": "stderr",
     "output_type": "stream",
     "text": [
      "\n"
     ]
    }
   ],
   "source": [
    "sd = client.synthetic_datasets.create(generatorId=g.id, start=True, wait=True)"
   ],
   "metadata": {
    "collapsed": false,
    "ExecuteTime": {
     "end_time": "2024-02-16T20:00:26.142223Z",
     "start_time": "2024-02-16T19:59:44.100027Z"
    }
   },
   "id": "3f649616e43dbd28"
  },
  {
   "cell_type": "code",
   "execution_count": 137,
   "outputs": [
    {
     "ename": "APIStatusError",
     "evalue": "HTTP error occurred: 400 b'{\"message\":\"Unable to download the synthetic dataset as the job associated with ID &#39;90fe9f16-3a75-4a51-b5f1-b830532f6a7e&#39; is not in &#39;DONE&#39; status. Dataset downloads are only available for completed jobs\"}'",
     "output_type": "error",
     "traceback": [
      "\u001B[0;31m---------------------------------------------------------------------------\u001B[0m",
      "\u001B[0;31mHTTPStatusError\u001B[0m                           Traceback (most recent call last)",
      "File \u001B[0;32m~/github/python-client/mostlyai/base.py:123\u001B[0m, in \u001B[0;36m_MostlyBaseClient.request\u001B[0;34m(self, path, verb, response_type, raw_response, is_api_call, do_include_client, extra_key_values, **kwargs)\u001B[0m\n\u001B[1;32m    122\u001B[0m     response \u001B[38;5;241m=\u001B[39m req_func(full_url, \u001B[38;5;241m*\u001B[39m\u001B[38;5;241m*\u001B[39mkwargs)  \u001B[38;5;66;03m# type: ignore\u001B[39;00m\n\u001B[0;32m--> 123\u001B[0m     \u001B[43mresponse\u001B[49m\u001B[38;5;241;43m.\u001B[39;49m\u001B[43mraise_for_status\u001B[49m\u001B[43m(\u001B[49m\u001B[43m)\u001B[49m\n\u001B[1;32m    124\u001B[0m \u001B[38;5;28;01mexcept\u001B[39;00m httpx\u001B[38;5;241m.\u001B[39mHTTPStatusError \u001B[38;5;28;01mas\u001B[39;00m exc:\n\u001B[1;32m    125\u001B[0m     \u001B[38;5;66;03m# Handle HTTP errors (not in 2XX range)\u001B[39;00m\n",
      "File \u001B[0;32m~/miniconda3/envs/python-client/lib/python3.11/site-packages/httpx/_models.py:759\u001B[0m, in \u001B[0;36mResponse.raise_for_status\u001B[0;34m(self)\u001B[0m\n\u001B[1;32m    758\u001B[0m message \u001B[38;5;241m=\u001B[39m message\u001B[38;5;241m.\u001B[39mformat(\u001B[38;5;28mself\u001B[39m, error_type\u001B[38;5;241m=\u001B[39merror_type)\n\u001B[0;32m--> 759\u001B[0m \u001B[38;5;28;01mraise\u001B[39;00m HTTPStatusError(message, request\u001B[38;5;241m=\u001B[39mrequest, response\u001B[38;5;241m=\u001B[39m\u001B[38;5;28mself\u001B[39m)\n",
      "\u001B[0;31mHTTPStatusError\u001B[0m: Client error '400 ' for url 'https://llb2.dev.mostlylab.com/api/v2/synthetic-datasets/90fe9f16-3a75-4a51-b5f1-b830532f6a7e/download?format=PARQUET'\nFor more information check: https://developer.mozilla.org/en-US/docs/Web/HTTP/Status/400",
      "\nThe above exception was the direct cause of the following exception:\n",
      "\u001B[0;31mAPIStatusError\u001B[0m                            Traceback (most recent call last)",
      "Cell \u001B[0;32mIn[137], line 1\u001B[0m\n\u001B[0;32m----> 1\u001B[0m dfs \u001B[38;5;241m=\u001B[39m \u001B[43msd\u001B[49m\u001B[38;5;241;43m.\u001B[39;49m\u001B[43mdata\u001B[49m\u001B[43m(\u001B[49m\u001B[43m)\u001B[49m\n\u001B[1;32m      2\u001B[0m dfs\n",
      "File \u001B[0;32m~/github/python-client/mostlyai/model.py:808\u001B[0m, in \u001B[0;36mSyntheticDataset.data\u001B[0;34m(self)\u001B[0m\n\u001B[1;32m    802\u001B[0m \u001B[38;5;28;01mdef\u001B[39;00m \u001B[38;5;21mdata\u001B[39m(\u001B[38;5;28mself\u001B[39m) \u001B[38;5;241m-\u001B[39m\u001B[38;5;241m>\u001B[39m \u001B[38;5;28mdict\u001B[39m[\u001B[38;5;28mstr\u001B[39m, pd\u001B[38;5;241m.\u001B[39mDataFrame]:\n\u001B[1;32m    803\u001B[0m \u001B[38;5;250m    \u001B[39m\u001B[38;5;124;03m\"\"\"\u001B[39;00m\n\u001B[1;32m    804\u001B[0m \u001B[38;5;124;03m    Download synthetic dataset and return as dictionary of pandas DataFrames\u001B[39;00m\n\u001B[1;32m    805\u001B[0m \n\u001B[1;32m    806\u001B[0m \u001B[38;5;124;03m    :return: The synthetic dataset as dictionary of pandas DataFrames\u001B[39;00m\n\u001B[1;32m    807\u001B[0m \u001B[38;5;124;03m    \"\"\"\u001B[39;00m\n\u001B[0;32m--> 808\u001B[0m     \u001B[38;5;28;01mreturn\u001B[39;00m \u001B[38;5;28;43mself\u001B[39;49m\u001B[38;5;241;43m.\u001B[39;49m\u001B[43mclient\u001B[49m\u001B[38;5;241;43m.\u001B[39;49m\u001B[43m_data\u001B[49m\u001B[43m(\u001B[49m\u001B[43msynthetic_dataset_id\u001B[49m\u001B[38;5;241;43m=\u001B[39;49m\u001B[38;5;28;43mself\u001B[39;49m\u001B[38;5;241;43m.\u001B[39;49m\u001B[43mid\u001B[49m\u001B[43m)\u001B[49m\n",
      "File \u001B[0;32m~/github/python-client/mostlyai/synthetic_datasets.py:98\u001B[0m, in \u001B[0;36m_MostlySyntheticDatasetsClient._data\u001B[0;34m(self, synthetic_dataset_id)\u001B[0m\n\u001B[1;32m     97\u001B[0m \u001B[38;5;28;01mdef\u001B[39;00m \u001B[38;5;21m_data\u001B[39m(\u001B[38;5;28mself\u001B[39m, synthetic_dataset_id: StrUUID) \u001B[38;5;241m-\u001B[39m\u001B[38;5;241m>\u001B[39m \u001B[38;5;28mdict\u001B[39m[\u001B[38;5;28mstr\u001B[39m, pd\u001B[38;5;241m.\u001B[39mDataFrame]:\n\u001B[0;32m---> 98\u001B[0m     pqt_zip \u001B[38;5;241m=\u001B[39m \u001B[38;5;28;43mself\u001B[39;49m\u001B[38;5;241;43m.\u001B[39;49m\u001B[43mrequest\u001B[49m\u001B[43m(\u001B[49m\n\u001B[1;32m     99\u001B[0m \u001B[43m        \u001B[49m\u001B[43mverb\u001B[49m\u001B[38;5;241;43m=\u001B[39;49m\u001B[43mGET\u001B[49m\u001B[43m,\u001B[49m\n\u001B[1;32m    100\u001B[0m \u001B[43m        \u001B[49m\u001B[43mpath\u001B[49m\u001B[38;5;241;43m=\u001B[39;49m\u001B[43m[\u001B[49m\u001B[43msynthetic_dataset_id\u001B[49m\u001B[43m,\u001B[49m\u001B[43m \u001B[49m\u001B[38;5;124;43m\"\u001B[39;49m\u001B[38;5;124;43mdownload\u001B[39;49m\u001B[38;5;124;43m\"\u001B[39;49m\u001B[43m]\u001B[49m\u001B[43m,\u001B[49m\n\u001B[1;32m    101\u001B[0m \u001B[43m        \u001B[49m\u001B[43mparams\u001B[49m\u001B[38;5;241;43m=\u001B[39;49m\u001B[43m{\u001B[49m\u001B[38;5;124;43m\"\u001B[39;49m\u001B[38;5;124;43mformat\u001B[39;49m\u001B[38;5;124;43m\"\u001B[39;49m\u001B[43m:\u001B[49m\u001B[43m \u001B[49m\u001B[43mSyntheticDatasetFormat\u001B[49m\u001B[38;5;241;43m.\u001B[39;49m\u001B[43mparquet\u001B[49m\u001B[38;5;241;43m.\u001B[39;49m\u001B[43mvalue\u001B[49m\u001B[43m}\u001B[49m\u001B[43m,\u001B[49m\n\u001B[1;32m    102\u001B[0m \u001B[43m        \u001B[49m\u001B[43mheaders\u001B[49m\u001B[38;5;241;43m=\u001B[39;49m\u001B[43m{\u001B[49m\n\u001B[1;32m    103\u001B[0m \u001B[43m            \u001B[49m\u001B[38;5;124;43m\"\u001B[39;49m\u001B[38;5;124;43mContent-Type\u001B[39;49m\u001B[38;5;124;43m\"\u001B[39;49m\u001B[43m:\u001B[49m\u001B[43m \u001B[49m\u001B[38;5;124;43m\"\u001B[39;49m\u001B[38;5;124;43mapplication/zip\u001B[39;49m\u001B[38;5;124;43m\"\u001B[39;49m\u001B[43m,\u001B[49m\n\u001B[1;32m    104\u001B[0m \u001B[43m            \u001B[49m\u001B[38;5;124;43m\"\u001B[39;49m\u001B[38;5;124;43mAccept\u001B[39;49m\u001B[38;5;124;43m\"\u001B[39;49m\u001B[43m:\u001B[49m\u001B[43m \u001B[49m\u001B[38;5;124;43m\"\u001B[39;49m\u001B[38;5;124;43mapplication/json, text/plain, */*\u001B[39;49m\u001B[38;5;124;43m\"\u001B[39;49m\u001B[43m,\u001B[49m\n\u001B[1;32m    105\u001B[0m \u001B[43m        \u001B[49m\u001B[43m}\u001B[49m\u001B[43m,\u001B[49m\n\u001B[1;32m    106\u001B[0m \u001B[43m        \u001B[49m\u001B[43mraw_response\u001B[49m\u001B[38;5;241;43m=\u001B[39;49m\u001B[38;5;28;43;01mTrue\u001B[39;49;00m\u001B[43m,\u001B[49m\n\u001B[1;32m    107\u001B[0m \u001B[43m    \u001B[49m\u001B[43m)\u001B[49m\n\u001B[1;32m    108\u001B[0m     \u001B[38;5;66;03m# read each parquet file into a pandas dataframe\u001B[39;00m\n\u001B[1;32m    109\u001B[0m     \u001B[38;5;28;01mwith\u001B[39;00m zipfile\u001B[38;5;241m.\u001B[39mZipFile(io\u001B[38;5;241m.\u001B[39mBytesIO(pqt_zip), \u001B[38;5;124m\"\u001B[39m\u001B[38;5;124mr\u001B[39m\u001B[38;5;124m\"\u001B[39m) \u001B[38;5;28;01mas\u001B[39;00m z:\n",
      "File \u001B[0;32m~/github/python-client/mostlyai/base.py:126\u001B[0m, in \u001B[0;36m_MostlyBaseClient.request\u001B[0;34m(self, path, verb, response_type, raw_response, is_api_call, do_include_client, extra_key_values, **kwargs)\u001B[0m\n\u001B[1;32m    123\u001B[0m     response\u001B[38;5;241m.\u001B[39mraise_for_status()\n\u001B[1;32m    124\u001B[0m \u001B[38;5;28;01mexcept\u001B[39;00m httpx\u001B[38;5;241m.\u001B[39mHTTPStatusError \u001B[38;5;28;01mas\u001B[39;00m exc:\n\u001B[1;32m    125\u001B[0m     \u001B[38;5;66;03m# Handle HTTP errors (not in 2XX range)\u001B[39;00m\n\u001B[0;32m--> 126\u001B[0m     \u001B[38;5;28;01mraise\u001B[39;00m APIStatusError(\n\u001B[1;32m    127\u001B[0m         \u001B[38;5;124mf\u001B[39m\u001B[38;5;124m\"\u001B[39m\u001B[38;5;124mHTTP error occurred: \u001B[39m\u001B[38;5;132;01m{\u001B[39;00mexc\u001B[38;5;241m.\u001B[39mresponse\u001B[38;5;241m.\u001B[39mstatus_code\u001B[38;5;132;01m}\u001B[39;00m\u001B[38;5;124m \u001B[39m\u001B[38;5;132;01m{\u001B[39;00mexc\u001B[38;5;241m.\u001B[39mresponse\u001B[38;5;241m.\u001B[39mcontent\u001B[38;5;132;01m}\u001B[39;00m\u001B[38;5;124m\"\u001B[39m,\n\u001B[1;32m    128\u001B[0m     ) \u001B[38;5;28;01mfrom\u001B[39;00m \u001B[38;5;21;01mexc\u001B[39;00m\n\u001B[1;32m    129\u001B[0m \u001B[38;5;28;01mexcept\u001B[39;00m httpx\u001B[38;5;241m.\u001B[39mRequestError \u001B[38;5;28;01mas\u001B[39;00m exc:\n\u001B[1;32m    130\u001B[0m     \u001B[38;5;66;03m# Handle request errors (e.g., network issues)\u001B[39;00m\n\u001B[1;32m    131\u001B[0m     \u001B[38;5;28;01mraise\u001B[39;00m APIError(\n\u001B[1;32m    132\u001B[0m         \u001B[38;5;124mf\u001B[39m\u001B[38;5;124m\"\u001B[39m\u001B[38;5;124mAn error occurred while requesting \u001B[39m\u001B[38;5;132;01m{\u001B[39;00mexc\u001B[38;5;241m.\u001B[39mrequest\u001B[38;5;241m.\u001B[39murl\u001B[38;5;132;01m!r}\u001B[39;00m\u001B[38;5;124m.\u001B[39m\u001B[38;5;124m\"\u001B[39m\n\u001B[1;32m    133\u001B[0m     ) \u001B[38;5;28;01mfrom\u001B[39;00m \u001B[38;5;21;01mexc\u001B[39;00m\n",
      "\u001B[0;31mAPIStatusError\u001B[0m: HTTP error occurred: 400 b'{\"message\":\"Unable to download the synthetic dataset as the job associated with ID &#39;90fe9f16-3a75-4a51-b5f1-b830532f6a7e&#39; is not in &#39;DONE&#39; status. Dataset downloads are only available for completed jobs\"}'"
     ]
    }
   ],
   "source": [
    "dfs = sd.data()\n",
    "dfs"
   ],
   "metadata": {
    "collapsed": false,
    "ExecuteTime": {
     "end_time": "2024-02-16T20:00:26.390182Z",
     "start_time": "2024-02-16T20:00:26.136164Z"
    }
   },
   "id": "22b3decaa878b6bc"
  },
  {
   "cell_type": "code",
   "execution_count": null,
   "outputs": [],
   "source": [],
   "metadata": {
    "collapsed": false,
    "ExecuteTime": {
     "start_time": "2024-02-16T20:00:26.389512Z"
    }
   },
   "id": "84e62f7d44fa5515"
  }
 ],
 "metadata": {
  "kernelspec": {
   "display_name": "Python 3",
   "language": "python",
   "name": "python3"
  },
  "language_info": {
   "codemirror_mode": {
    "name": "ipython",
    "version": 2
   },
   "file_extension": ".py",
   "mimetype": "text/x-python",
   "name": "python",
   "nbconvert_exporter": "python",
   "pygments_lexer": "ipython2",
   "version": "2.7.6"
  }
 },
 "nbformat": 4,
 "nbformat_minor": 5
}
