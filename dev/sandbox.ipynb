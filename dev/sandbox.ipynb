{
 "cells": [
  {
   "cell_type": "code",
   "execution_count": 1,
   "id": "initial_id",
   "metadata": {
    "collapsed": true,
    "ExecuteTime": {
     "end_time": "2024-02-14T20:00:11.841778Z",
     "start_time": "2024-02-14T20:00:10.608682Z"
    }
   },
   "outputs": [],
   "source": [
    "import os\n",
    "os.environ['MOSTLY_PASSWORD'] = 'Mostly01!'\n",
    "\n",
    "from mostlyai import MostlyAI\n",
    "client = MostlyAI(\n",
    "    # api_key = 'xxx',         # or MOSTLYAI_API_KEY env var; this is bound to a single user account\n",
    "    # base_url = 'https://..'  # optional; defaults to our free version\n",
    ")"
   ]
  },
  {
   "cell_type": "code",
   "execution_count": 13,
   "outputs": [],
   "source": [
    "# for g in client.generators.list():\n",
    "#     print(g.id, g.name)"
   ],
   "metadata": {
    "collapsed": false,
    "ExecuteTime": {
     "end_time": "2024-02-14T13:56:17.088311Z",
     "start_time": "2024-02-14T13:56:17.081601Z"
    }
   },
   "id": "bcf975f70c038927"
  },
  {
   "cell_type": "code",
   "execution_count": 14,
   "outputs": [],
   "source": [
    "# cid = next(client.connectors.list()).id\n",
    "# client.connectors.get('920a7f09-9713-4fb6-bcf7-7a1684fe5020')\n",
    "# gid = next(client.generators.list()).id\n",
    "# client.generators.get(gid)\n",
    "# sid = next(client.synthetic_datasets.list()).id\n",
    "# client.synthetic_datasets.get(sid)"
   ],
   "metadata": {
    "collapsed": false,
    "ExecuteTime": {
     "end_time": "2024-02-14T13:56:17.092329Z",
     "start_time": "2024-02-14T13:56:17.087303Z"
    }
   },
   "id": "671299150ba8f60e"
  },
  {
   "cell_type": "code",
   "execution_count": 2,
   "outputs": [],
   "source": [
    "g = client.generators.get('4b6f2725-2743-4da5-b0e9-60d9440e2e92')\n",
    "# acc = g.tables[0].model.metrics.accuracy.univariate\n",
    "no_of_columns = len(g.tables[0].columns)"
   ],
   "metadata": {
    "collapsed": false,
    "ExecuteTime": {
     "end_time": "2024-02-14T20:00:15.809558Z",
     "start_time": "2024-02-14T20:00:15.514776Z"
    }
   },
   "id": "b9eb07b85cfe61ea"
  },
  {
   "cell_type": "code",
   "execution_count": 3,
   "outputs": [
    {
     "data": {
      "text/plain": "{'id': UUID('4b6f2725-2743-4da5-b0e9-60d9440e2e92'),\n 'name': 'Michi Test',\n 'description': None,\n 'training_status': <ProgressStatus.new: 'NEW'>,\n 'metadata': {'created_at': datetime.datetime(2024, 2, 14, 13, 56, 22, 974622, tzinfo=TzInfo(UTC)),\n  'owner_id': '95296f9e-0d12-4731-a981-5b3950ec19c3',\n  'owner_name': 'Super Admin'},\n 'accuracy': None,\n 'usage': {'total_datapoints': None},\n 'tables': [{'id': UUID('8b93c10f-c3bc-4fc3-9bed-40808a9ead27'),\n   'source_connector': {'id': UUID('2f115805-4b86-45b3-b31c-d4e0d053b331'),\n    'name': '2f115805-4b86-45b3-b31c-d4e0d053b331',\n    'uri': '/connectors/2f115805-4b86-45b3-b31c-d4e0d053b331'},\n   'location': 'public.account',\n   'name': 'account',\n   'primary_key': 'account_id',\n   'columns': [{'id': UUID('feb1058d-8830-4d35-8147-764c0e71c844'),\n     'name': 'account_id',\n     'included': True,\n     'model_encoding_type': <ModelEncodingType.categorical: 'CATEGORICAL'>},\n    {'id': UUID('e3583610-72e2-417b-9af9-ce88dca0ae6b'),\n     'name': 'district_id',\n     'included': True,\n     'model_encoding_type': <ModelEncodingType.categorical: 'CATEGORICAL'>},\n    {'id': UUID('279ea9e9-febb-443c-87e4-bc5890d5dce9'),\n     'name': 'frequency',\n     'included': True,\n     'model_encoding_type': <ModelEncodingType.categorical: 'CATEGORICAL'>},\n    {'id': UUID('9685fa25-7acd-4160-b80f-7e1cbd575a24'),\n     'name': 'date',\n     'included': True,\n     'model_encoding_type': <ModelEncodingType.datetime: 'DATETIME'>}],\n   'foreign_keys': None,\n   'model': {'id': '97b245bb-c8eb-418f-9080-e3adc3961f58',\n    'configuration': {'sample_fraction': 1.0,\n     'max_sample_size': None,\n     'batch_size': None,\n     'model_size': <ModelSize.m: 'M'>,\n     'max_training_time': 60,\n     'max_epochs': 100,\n     'max_sequence_window': 100,\n     'enable_flexible_generation': True,\n     'value_protection': True,\n     'rare_category_replacement_method': <RareCategoryReplacementMethod.constant: 'CONSTANT'>},\n    'metrics': None},\n   'text_model': None,\n   'total_rows': None}],\n 'synthetic_datasets': []}"
     },
     "execution_count": 3,
     "metadata": {},
     "output_type": "execute_result"
    }
   ],
   "source": [
    "g.model_dump()"
   ],
   "metadata": {
    "collapsed": false,
    "ExecuteTime": {
     "end_time": "2024-02-14T18:38:59.383479Z",
     "start_time": "2024-02-14T18:38:59.348102Z"
    }
   },
   "id": "84235fe253863954"
  },
  {
   "cell_type": "code",
   "execution_count": 3,
   "outputs": [],
   "source": [
    "g = client.generators.get(\"53f2b0fc-cbeb-4ff4-aefd-02ff0df0826b\")"
   ],
   "metadata": {
    "collapsed": false,
    "ExecuteTime": {
     "end_time": "2024-02-14T20:00:23.346234Z",
     "start_time": "2024-02-14T20:00:23.077866Z"
    }
   },
   "id": "684e4e0b4a31359"
  },
  {
   "cell_type": "code",
   "execution_count": 4,
   "outputs": [],
   "source": [
    "conf = client.generators.config(\"53f2b0fc-cbeb-4ff4-aefd-02ff0df0826b\")"
   ],
   "metadata": {
    "collapsed": false,
    "ExecuteTime": {
     "end_time": "2024-02-14T20:00:24.174595Z",
     "start_time": "2024-02-14T20:00:23.916850Z"
    }
   },
   "id": "5877ff4f5c51f0b4"
  },
  {
   "cell_type": "code",
   "execution_count": 7,
   "outputs": [
    {
     "name": "stderr",
     "output_type": "stream",
     "text": [
      "  0%|          | 0/6 [00:05<?, ?it/s]\n"
     ]
    },
    {
     "data": {
      "text/plain": "Generator(client=<mostlyai.generators._MostlyGeneratorsClient object at 0x12031e560>, extra_key_values=None, id=UUID('5369e47a-b233-46b0-b990-c575e9b14ef5'), name='client', description=None, training_status=<ProgressStatus.new: 'NEW'>, metadata=Metadata(client=None, extra_key_values=None, created_at=datetime.datetime(2024, 2, 14, 20, 1, 54, 207234, tzinfo=TzInfo(UTC)), owner_id='95296f9e-0d12-4731-a981-5b3950ec19c3', owner_name='Super Admin'), accuracy=None, usage=GeneratorUsage(client=None, extra_key_values=None, total_datapoints=None), tables=[SourceTable(client=None, extra_key_values=None, id=UUID('dfdd7fa7-0f2c-4278-b745-4cb486076eea'), source_connector=BaseResource(client=None, extra_key_values=None, id=UUID('b658074c-1e83-4d98-8b42-bbcaa64ae74c'), name='b658074c-1e83-4d98-8b42-bbcaa64ae74c', uri='/connectors/b658074c-1e83-4d98-8b42-bbcaa64ae74c'), location='public.client', name='client', primary_key='client_id', columns=[SourceColumn(client=None, extra_key_values=None, id=UUID('07692913-1fbb-43e1-8b89-b09522a988f5'), name='client_id', included=True, model_encoding_type=<ModelEncodingType.categorical: 'CATEGORICAL'>), SourceColumn(client=None, extra_key_values=None, id=UUID('20ed71ef-eefc-4b42-bb35-c5997b085c9e'), name='birth_number', included=True, model_encoding_type=<ModelEncodingType.numeric_auto: 'NUMERIC_AUTO'>), SourceColumn(client=None, extra_key_values=None, id=UUID('f28aad3c-8912-4a59-a9ac-d29fd4ab6f95'), name='district_id', included=True, model_encoding_type=<ModelEncodingType.categorical: 'CATEGORICAL'>)], foreign_keys=None, model=Model(client=None, extra_key_values=None, id='1d8d3aa0-fa83-4d6e-968a-c9afaa0b8674', configuration=ModelConfiguration(client=None, extra_key_values=None, sample_fraction=1.0, max_sample_size=None, batch_size=None, model_size=<ModelSize.m: 'M'>, max_training_time=60, max_epochs=100, max_sequence_window=100, enable_flexible_generation=True, value_protection=True, rare_category_replacement_method=<RareCategoryReplacementMethod.constant: 'CONSTANT'>), metrics=None), text_model=None, total_rows=None)], synthetic_datasets=[], training=<mostlyai.model.Generator.Training object at 0x123cd7580>)"
     },
     "execution_count": 7,
     "metadata": {},
     "output_type": "execute_result"
    }
   ],
   "source": [
    "client.generators.create(**conf)"
   ],
   "metadata": {
    "collapsed": false,
    "ExecuteTime": {
     "end_time": "2024-02-14T20:02:00.287612Z",
     "start_time": "2024-02-14T20:01:53.851415Z"
    }
   },
   "id": "9bd09ef73e1c91cf"
  },
  {
   "cell_type": "code",
   "execution_count": 4,
   "outputs": [],
   "source": [
    "g.training.start()"
   ],
   "metadata": {
    "collapsed": false,
    "ExecuteTime": {
     "end_time": "2024-02-14T19:23:52.627618Z",
     "start_time": "2024-02-14T19:23:52.171644Z"
    }
   },
   "id": "3fd5fb7a51d8f020"
  },
  {
   "cell_type": "code",
   "execution_count": 6,
   "outputs": [
    {
     "ename": "KeyboardInterrupt",
     "evalue": "",
     "output_type": "error",
     "traceback": [
      "\u001B[0;31m---------------------------------------------------------------------------\u001B[0m",
      "\u001B[0;31mKeyboardInterrupt\u001B[0m                         Traceback (most recent call last)",
      "Cell \u001B[0;32mIn[6], line 1\u001B[0m\n\u001B[0;32m----> 1\u001B[0m \u001B[38;5;28mprint\u001B[39m(\u001B[43mg\u001B[49m\u001B[38;5;241;43m.\u001B[39;49m\u001B[43mtraining\u001B[49m\u001B[38;5;241;43m.\u001B[39;49m\u001B[43mprogress\u001B[49m\u001B[43m(\u001B[49m\u001B[43m)\u001B[49m)\n",
      "File \u001B[0;32m~/Dev/python-client/mostlyai/model.py:784\u001B[0m, in \u001B[0;36mGenerator.Training.progress\u001B[0;34m(self)\u001B[0m\n\u001B[1;32m    783\u001B[0m \u001B[38;5;28;01mdef\u001B[39;00m \u001B[38;5;21mprogress\u001B[39m(\u001B[38;5;28mself\u001B[39m):\n\u001B[0;32m--> 784\u001B[0m     \u001B[38;5;28;43mself\u001B[39;49m\u001B[38;5;241;43m.\u001B[39;49m\u001B[43mgenerator\u001B[49m\u001B[38;5;241;43m.\u001B[39;49m\u001B[43mclient\u001B[49m\u001B[38;5;241;43m.\u001B[39;49m\u001B[43mget_training_progress\u001B[49m\u001B[43m(\u001B[49m\u001B[38;5;28;43mself\u001B[39;49m\u001B[38;5;241;43m.\u001B[39;49m\u001B[43mgenerator\u001B[49m\u001B[38;5;241;43m.\u001B[39;49m\u001B[43mid\u001B[49m\u001B[43m)\u001B[49m\n",
      "File \u001B[0;32m~/Dev/python-client/mostlyai/generators.py:79\u001B[0m, in \u001B[0;36m_MostlyGeneratorsClient.get_training_progress\u001B[0;34m(self, generator_id)\u001B[0m\n\u001B[1;32m     75\u001B[0m \u001B[38;5;28;01mdef\u001B[39;00m \u001B[38;5;21mget_training_progress\u001B[39m(\u001B[38;5;28mself\u001B[39m, generator_id: StrUUID) \u001B[38;5;241m-\u001B[39m\u001B[38;5;241m>\u001B[39m \u001B[38;5;28;01mNone\u001B[39;00m:\n\u001B[1;32m     76\u001B[0m     response \u001B[38;5;241m=\u001B[39m \u001B[38;5;28mself\u001B[39m\u001B[38;5;241m.\u001B[39mrequest(\n\u001B[1;32m     77\u001B[0m         path\u001B[38;5;241m=\u001B[39m[generator_id, \u001B[38;5;124m\"\u001B[39m\u001B[38;5;124mtraining\u001B[39m\u001B[38;5;124m\"\u001B[39m], response_type\u001B[38;5;241m=\u001B[39mJobProgress\n\u001B[1;32m     78\u001B[0m     )\n\u001B[0;32m---> 79\u001B[0m     \u001B[38;5;28;01mreturn\u001B[39;00m \u001B[43mresponse\u001B[49m\n",
      "File \u001B[0;32m~/Dev/python-client/mostlyai/generators.py:79\u001B[0m, in \u001B[0;36m_MostlyGeneratorsClient.get_training_progress\u001B[0;34m(self, generator_id)\u001B[0m\n\u001B[1;32m     75\u001B[0m \u001B[38;5;28;01mdef\u001B[39;00m \u001B[38;5;21mget_training_progress\u001B[39m(\u001B[38;5;28mself\u001B[39m, generator_id: StrUUID) \u001B[38;5;241m-\u001B[39m\u001B[38;5;241m>\u001B[39m \u001B[38;5;28;01mNone\u001B[39;00m:\n\u001B[1;32m     76\u001B[0m     response \u001B[38;5;241m=\u001B[39m \u001B[38;5;28mself\u001B[39m\u001B[38;5;241m.\u001B[39mrequest(\n\u001B[1;32m     77\u001B[0m         path\u001B[38;5;241m=\u001B[39m[generator_id, \u001B[38;5;124m\"\u001B[39m\u001B[38;5;124mtraining\u001B[39m\u001B[38;5;124m\"\u001B[39m], response_type\u001B[38;5;241m=\u001B[39mJobProgress\n\u001B[1;32m     78\u001B[0m     )\n\u001B[0;32m---> 79\u001B[0m     \u001B[38;5;28;01mreturn\u001B[39;00m \u001B[43mresponse\u001B[49m\n",
      "File \u001B[0;32m/Applications/PyCharm.app/Contents/plugins/python/helpers/pydev/_pydevd_bundle/pydevd_trace_dispatch.py:60\u001B[0m, in \u001B[0;36mtrace_dispatch\u001B[0;34m(py_db, frame, event, arg)\u001B[0m\n\u001B[1;32m     58\u001B[0m \u001B[38;5;28;01mif\u001B[39;00m _trace_dispatch \u001B[38;5;129;01mis\u001B[39;00m \u001B[38;5;28;01mNone\u001B[39;00m:\n\u001B[1;32m     59\u001B[0m     \u001B[38;5;28;01mreturn\u001B[39;00m \u001B[38;5;28;01mNone\u001B[39;00m\n\u001B[0;32m---> 60\u001B[0m \u001B[38;5;28;01mreturn\u001B[39;00m \u001B[43m_trace_dispatch\u001B[49m\u001B[43m(\u001B[49m\u001B[43mpy_db\u001B[49m\u001B[43m,\u001B[49m\u001B[43m \u001B[49m\u001B[43mframe\u001B[49m\u001B[43m,\u001B[49m\u001B[43m \u001B[49m\u001B[43mevent\u001B[49m\u001B[43m,\u001B[49m\u001B[43m \u001B[49m\u001B[43marg\u001B[49m\u001B[43m)\u001B[49m\n",
      "File \u001B[0;32m_pydevd_bundle/pydevd_cython_darwin_310_64.pyx:1329\u001B[0m, in \u001B[0;36m_pydevd_bundle.pydevd_cython_darwin_310_64.trace_dispatch\u001B[0;34m()\u001B[0m\n",
      "File \u001B[0;32m_pydevd_bundle/pydevd_cython_darwin_310_64.pyx:1589\u001B[0m, in \u001B[0;36m_pydevd_bundle.pydevd_cython_darwin_310_64.ThreadTracer.__call__\u001B[0;34m()\u001B[0m\n",
      "File \u001B[0;32m_pydevd_bundle/pydevd_cython_darwin_310_64.pyx:929\u001B[0m, in \u001B[0;36m_pydevd_bundle.pydevd_cython_darwin_310_64.PyDBFrame.trace_dispatch\u001B[0;34m()\u001B[0m\n",
      "File \u001B[0;32m_pydevd_bundle/pydevd_cython_darwin_310_64.pyx:920\u001B[0m, in \u001B[0;36m_pydevd_bundle.pydevd_cython_darwin_310_64.PyDBFrame.trace_dispatch\u001B[0;34m()\u001B[0m\n",
      "File \u001B[0;32m_pydevd_bundle/pydevd_cython_darwin_310_64.pyx:317\u001B[0m, in \u001B[0;36m_pydevd_bundle.pydevd_cython_darwin_310_64.PyDBFrame.do_wait_suspend\u001B[0;34m()\u001B[0m\n",
      "File \u001B[0;32m/Applications/PyCharm.app/Contents/plugins/python/helpers/pydev/pydevd.py:1160\u001B[0m, in \u001B[0;36mPyDB.do_wait_suspend\u001B[0;34m(self, thread, frame, event, arg, send_suspend_message, is_unhandled_exception)\u001B[0m\n\u001B[1;32m   1157\u001B[0m         from_this_thread\u001B[38;5;241m.\u001B[39mappend(frame_id)\n\u001B[1;32m   1159\u001B[0m \u001B[38;5;28;01mwith\u001B[39;00m \u001B[38;5;28mself\u001B[39m\u001B[38;5;241m.\u001B[39m_threads_suspended_single_notification\u001B[38;5;241m.\u001B[39mnotify_thread_suspended(thread_id, stop_reason):\n\u001B[0;32m-> 1160\u001B[0m     \u001B[38;5;28;43mself\u001B[39;49m\u001B[38;5;241;43m.\u001B[39;49m\u001B[43m_do_wait_suspend\u001B[49m\u001B[43m(\u001B[49m\u001B[43mthread\u001B[49m\u001B[43m,\u001B[49m\u001B[43m \u001B[49m\u001B[43mframe\u001B[49m\u001B[43m,\u001B[49m\u001B[43m \u001B[49m\u001B[43mevent\u001B[49m\u001B[43m,\u001B[49m\u001B[43m \u001B[49m\u001B[43marg\u001B[49m\u001B[43m,\u001B[49m\u001B[43m \u001B[49m\u001B[43msuspend_type\u001B[49m\u001B[43m,\u001B[49m\u001B[43m \u001B[49m\u001B[43mfrom_this_thread\u001B[49m\u001B[43m)\u001B[49m\n",
      "File \u001B[0;32m/Applications/PyCharm.app/Contents/plugins/python/helpers/pydev/pydevd.py:1175\u001B[0m, in \u001B[0;36mPyDB._do_wait_suspend\u001B[0;34m(self, thread, frame, event, arg, suspend_type, from_this_thread)\u001B[0m\n\u001B[1;32m   1172\u001B[0m             \u001B[38;5;28mself\u001B[39m\u001B[38;5;241m.\u001B[39m_call_mpl_hook()\n\u001B[1;32m   1174\u001B[0m         \u001B[38;5;28mself\u001B[39m\u001B[38;5;241m.\u001B[39mprocess_internal_commands()\n\u001B[0;32m-> 1175\u001B[0m         \u001B[43mtime\u001B[49m\u001B[38;5;241;43m.\u001B[39;49m\u001B[43msleep\u001B[49m\u001B[43m(\u001B[49m\u001B[38;5;241;43m0.01\u001B[39;49m\u001B[43m)\u001B[49m\n\u001B[1;32m   1177\u001B[0m \u001B[38;5;28mself\u001B[39m\u001B[38;5;241m.\u001B[39mcancel_async_evaluation(get_current_thread_id(thread), \u001B[38;5;28mstr\u001B[39m(\u001B[38;5;28mid\u001B[39m(frame)))\n\u001B[1;32m   1179\u001B[0m \u001B[38;5;66;03m# process any stepping instructions\u001B[39;00m\n",
      "\u001B[0;31mKeyboardInterrupt\u001B[0m: "
     ]
    }
   ],
   "source": [
    "print(g.training.progress())"
   ],
   "metadata": {
    "collapsed": false,
    "ExecuteTime": {
     "end_time": "2024-02-14T19:28:34.872622Z",
     "start_time": "2024-02-14T19:26:53.491986Z"
    }
   },
   "id": "9bcdd11bcbd6b6fb"
  },
  {
   "cell_type": "code",
   "execution_count": null,
   "outputs": [],
   "source": [
    "g.config()\n",
    "g.delete()\n",
    "g.update(name='Michi Test')"
   ],
   "metadata": {
    "collapsed": false
   },
   "id": "e46d9bb6c324d489"
  },
  {
   "cell_type": "code",
   "execution_count": null,
   "outputs": [],
   "source": [
    "for g in client.generators.list():\n",
    "    g.update(g.name + \" hello\")\n",
    "    "
   ],
   "metadata": {
    "collapsed": false
   },
   "id": "fb71f5f315b6f530"
  },
  {
   "cell_type": "code",
   "execution_count": 15,
   "outputs": [],
   "source": [
    "# config = client.connectors.config('4cb8ed54-94e1-40b9-892e-66a36ef6fa6a')\n",
    "# config[\"name\"] = \"Michi Test\"\n",
    "# del config[\"client\"]\n",
    "# client.connectors.create(**config)"
   ],
   "metadata": {
    "collapsed": false,
    "ExecuteTime": {
     "end_time": "2024-02-14T13:56:17.094304Z",
     "start_time": "2024-02-14T13:56:17.091580Z"
    }
   },
   "id": "a079a1b36ccbf667"
  },
  {
   "cell_type": "code",
   "execution_count": 3,
   "outputs": [],
   "source": [
    "config = client.connectors.config('4cb8ed54-94e1-40b9-892e-66a36ef6fa6a')"
   ],
   "metadata": {
    "collapsed": false,
    "ExecuteTime": {
     "end_time": "2024-02-14T18:35:28.277068Z",
     "start_time": "2024-02-14T18:35:28.008927Z"
    }
   },
   "id": "24b62d217fd28ada"
  },
  {
   "cell_type": "code",
   "execution_count": 4,
   "outputs": [
    {
     "data": {
      "text/plain": "{'type': 'POSTGRES',\n 'name': 'POSTGRES-13-Feb-2024T13:44:49Z',\n 'accessType': 'SOURCE',\n 'config': {'host': 'postgres-test.cppq7davohkj.eu-central-1.rds.amazonaws.com',\n  'port': 5432,\n  'username': 'postgres'},\n 'secrets': {'password': '9372a5fd70e31262ae3e78a97eb60376a8488bea89d24397dda18322cd6d05fc'},\n 'ssl': None,\n 'testConnection': None}"
     },
     "execution_count": 4,
     "metadata": {},
     "output_type": "execute_result"
    }
   ],
   "source": [
    "config"
   ],
   "metadata": {
    "collapsed": false,
    "ExecuteTime": {
     "end_time": "2024-02-14T18:35:28.977379Z",
     "start_time": "2024-02-14T18:35:28.910026Z"
    }
   },
   "id": "1bde2781bb169955"
  },
  {
   "cell_type": "code",
   "execution_count": 5,
   "outputs": [
    {
     "data": {
      "text/plain": "Connector(client=<mostlyai.connectors._MostlyConnectorsClient object at 0x112ff3dc0>, extra_key_values=None, id=UUID('81b650dd-9884-4cc3-8d79-97b80d0a5617'), name='POSTGRES-13-Feb-2024T13:44:49Z', type=<ConnectorType.postgres: 'POSTGRES'>, access_type=<ConnectorAccessType.source: 'SOURCE'>, config={'host': 'postgres-test.cppq7davohkj.eu-central-1.rds.amazonaws.com', 'port': 5432, 'username': 'postgres'}, secrets={'password': '****************'}, ssl=None, metadata=Metadata(client=None, extra_key_values=None, created_at=datetime.datetime(2024, 2, 14, 18, 35, 31, 561448, tzinfo=TzInfo(UTC)), owner_id='95296f9e-0d12-4731-a981-5b3950ec19c3', owner_name='Super Admin'), table_id=None)"
     },
     "execution_count": 5,
     "metadata": {},
     "output_type": "execute_result"
    }
   ],
   "source": [
    "client.connectors.create(**config)"
   ],
   "metadata": {
    "collapsed": false,
    "ExecuteTime": {
     "end_time": "2024-02-14T18:35:31.496650Z",
     "start_time": "2024-02-14T18:35:31.216895Z"
    }
   },
   "id": "fd48c10fea04feda"
  },
  {
   "cell_type": "code",
   "execution_count": 56,
   "outputs": [],
   "source": [
    "# config = client.generators.config('d69e8bb9-14b8-4397-9259-bb3a02c703ca')\n",
    "# config[\"name\"] = \"Michi Test without columns\"\n",
    "# del config[\"client\"]\n",
    "# del config[\"tables\"][0][\"columns\"]\n",
    "# del config[\"tables\"][0][\"modelConfiguration\"]\n",
    "# config\n",
    "g = client.generators.create(tables=[{\n",
    "    \"name\": \"hello\",\n",
    "    'sourceConnectorId': '2f115805-4b86-45b3-b31c-d4e0d053b331', \n",
    "    'location': 'public.account'\n",
    "}])"
   ],
   "metadata": {
    "collapsed": false,
    "ExecuteTime": {
     "end_time": "2024-02-14T14:28:30.302972Z",
     "start_time": "2024-02-14T14:28:28.388311Z"
    }
   },
   "id": "37943e967d89bbbb"
  },
  {
   "cell_type": "code",
   "execution_count": 57,
   "outputs": [
    {
     "data": {
      "text/plain": "Generator(client=<mostlyai.generators._MostlyGeneratorsClient object at 0x11ef1fbd0>, extra_key_values=None, id=UUID('0a14b266-977e-4c07-b5a7-473104e8c2b0'), name='account', description=None, training_status=<ProgressStatus.new: 'NEW'>, metadata=Metadata(client=None, extra_key_values=None, created_at=datetime.datetime(2024, 2, 14, 14, 28, 28, 761830, tzinfo=TzInfo(UTC)), owner_id='95296f9e-0d12-4731-a981-5b3950ec19c3', owner_name='Super Admin'), accuracy=None, usage=GeneratorUsage(client=None, extra_key_values=None, total_datapoints=None), tables=[SourceTable(client=None, extra_key_values=None, id=UUID('bd50dc56-7dde-4c54-94b0-2d2c5daa0c5e'), source_connector=BaseResource(client=None, extra_key_values=None, id=UUID('2f115805-4b86-45b3-b31c-d4e0d053b331'), name='2f115805-4b86-45b3-b31c-d4e0d053b331', uri='/connectors/2f115805-4b86-45b3-b31c-d4e0d053b331'), location='public.account', name='account', primary_key='account_id', columns=[SourceColumn(client=None, extra_key_values=None, id=UUID('2f28ee44-b89a-40fb-9749-b70d1641608d'), name='account_id', included=True, model_encoding_type=<ModelEncodingType.categorical: 'CATEGORICAL'>), SourceColumn(client=None, extra_key_values=None, id=UUID('09c31dc7-6496-435e-8263-ca10d4c41de5'), name='district_id', included=True, model_encoding_type=<ModelEncodingType.categorical: 'CATEGORICAL'>), SourceColumn(client=None, extra_key_values=None, id=UUID('b481b12a-45b4-4a2c-bc72-fce8aa63e989'), name='frequency', included=True, model_encoding_type=<ModelEncodingType.categorical: 'CATEGORICAL'>), SourceColumn(client=None, extra_key_values=None, id=UUID('bda4df9c-a80c-4cc4-bcb7-42edc20e0251'), name='date', included=True, model_encoding_type=<ModelEncodingType.datetime: 'DATETIME'>)], foreign_keys=None, model=Model(client=None, extra_key_values=None, id='34ad5ece-2f4e-439a-969d-6d9572e99288', configuration=ModelConfiguration(client=None, extra_key_values=None, sample_fraction=1.0, max_sample_size=None, batch_size=None, model_size=<ModelSize.m: 'M'>, max_training_time=60, max_epochs=100, max_sequence_window=100, enable_flexible_generation=True, value_protection=True, rare_category_replacement_method=<RareCategoryReplacementMethod.constant: 'CONSTANT'>), metrics=None), text_model=None, total_rows=None)], synthetic_datasets=[])"
     },
     "execution_count": 57,
     "metadata": {},
     "output_type": "execute_result"
    }
   ],
   "source": [
    "g"
   ],
   "metadata": {
    "collapsed": false,
    "ExecuteTime": {
     "end_time": "2024-02-14T14:29:15.703319Z",
     "start_time": "2024-02-14T14:29:15.697455Z"
    }
   },
   "id": "dd957c73f4c97aa7"
  },
  {
   "cell_type": "code",
   "execution_count": 16,
   "outputs": [],
   "source": [
    "gid = '4b6f2725-2743-4da5-b0e9-60d9440e2e92'\n",
    "client.generators.delete(gid)"
   ],
   "metadata": {
    "collapsed": false,
    "ExecuteTime": {
     "end_time": "2024-02-14T13:56:17.386746Z",
     "start_time": "2024-02-14T13:56:17.384455Z"
    }
   },
   "id": "d64684f2466c4c48"
  }
 ],
 "metadata": {
  "kernelspec": {
   "display_name": "Python 3",
   "language": "python",
   "name": "python3"
  },
  "language_info": {
   "codemirror_mode": {
    "name": "ipython",
    "version": 2
   },
   "file_extension": ".py",
   "mimetype": "text/x-python",
   "name": "python",
   "nbconvert_exporter": "python",
   "pygments_lexer": "ipython2",
   "version": "2.7.6"
  }
 },
 "nbformat": 4,
 "nbformat_minor": 5
}
