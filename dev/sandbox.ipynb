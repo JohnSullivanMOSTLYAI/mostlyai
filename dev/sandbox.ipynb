{
 "cells": [
  {
   "cell_type": "code",
   "execution_count": 47,
   "id": "69cb91dc2f799dc1",
   "metadata": {
    "collapsed": false,
    "editable": true,
    "slideshow": {
     "slide_type": ""
    },
    "tags": [],
    "ExecuteTime": {
     "end_time": "2024-02-27T12:08:43.944459Z",
     "start_time": "2024-02-27T12:08:39.266449Z"
    }
   },
   "outputs": [],
   "source": [
    "# ensure that any code changes are immediately reflected\n",
    "%reload_ext autoreload\n",
    "%autoreload 2"
   ]
  },
  {
   "cell_type": "markdown",
   "id": "92fa137e-c5c4-4553-93dd-7458f655fc88",
   "metadata": {},
   "source": [
    "## Initialize Three Users"
   ]
  },
  {
   "cell_type": "code",
   "execution_count": 37,
   "id": "78ef262fde4f3055",
   "metadata": {
    "collapsed": false,
    "ExecuteTime": {
     "end_time": "2024-02-27T12:03:51.990248Z",
     "start_time": "2024-02-27T12:03:51.783751Z"
    }
   },
   "outputs": [],
   "source": [
    "from mostlyai import MostlyAI\n",
    "# Test User 1\n",
    "mostly_t1 = MostlyAI(api_key='mostly-020bd715ef9abca16e07bc800fc31126276f1508baab20036ee08315ceef8527')\n",
    "# Test User 2\n",
    "mostly_t2 = MostlyAI(api_key='mostly-fc5d7602dba784ce687d775b72c12d2e93407fba9731144145b85e0548ac1e97')\n",
    "# Test User 3\n",
    "mostly_t3 = MostlyAI(api_key='mostly-0dd57f8b8cdb7485310aadead0439c48beea8956273614102e8bf7950bc3f02e')"
   ]
  },
  {
   "cell_type": "markdown",
   "id": "50d510bf-b10e-4322-a2e4-220078895e14",
   "metadata": {},
   "source": [
    "## Basic Usage"
   ]
  },
  {
   "cell_type": "markdown",
   "id": "d4d59769-62d5-4bab-91a0-c04d5c92c3d3",
   "metadata": {},
   "source": [
    "### User 1 trains a Generator"
   ]
  },
  {
   "cell_type": "code",
   "execution_count": 38,
   "id": "e5a96a563f2d1125",
   "metadata": {
    "collapsed": false,
    "ExecuteTime": {
     "end_time": "2024-02-27T12:04:41.573872Z",
     "start_time": "2024-02-27T12:03:56.034110Z"
    }
   },
   "outputs": [
    {
     "data": {
      "text/plain": "Created generator \u001B]8;id=705772;https://llb2.dev.mostlylab.com/d/generators/03126d48-983a-4bef-b633-5a2d166f6f33\u001B\\\u001B[4;34m03126d48-983a-4bef-b633-5a2d166f6f33\u001B[0m\u001B]8;;\u001B\\\n",
      "text/html": "<pre style=\"white-space:pre;overflow-x:auto;line-height:normal;font-family:Menlo,'DejaVu Sans Mono',consolas,'Courier New',monospace\">Created generator <a href=\"https://llb2.dev.mostlylab.com/d/generators/03126d48-983a-4bef-b633-5a2d166f6f33\" target=\"_blank\"><span style=\"color: #000080; text-decoration-color: #000080; text-decoration: underline\">03126d48-983a-4bef-b633-5a2d166f6f33</span></a>\n</pre>\n"
     },
     "metadata": {},
     "output_type": "display_data"
    },
    {
     "data": {
      "text/plain": "Started generator training\n",
      "text/html": "<pre style=\"white-space:pre;overflow-x:auto;line-height:normal;font-family:Menlo,'DejaVu Sans Mono',consolas,'Courier New',monospace\">Started generator training\n</pre>\n"
     },
     "metadata": {},
     "output_type": "display_data"
    },
    {
     "data": {
      "text/plain": "Output()",
      "application/vnd.jupyter.widget-view+json": {
       "version_major": 2,
       "version_minor": 0,
       "model_id": "d054122967fc4538a0cb97c979df3ca6"
      }
     },
     "metadata": {},
     "output_type": "display_data"
    },
    {
     "data": {
      "text/plain": "",
      "text/html": "<pre style=\"white-space:pre;overflow-x:auto;line-height:normal;font-family:Menlo,'DejaVu Sans Mono',consolas,'Courier New',monospace\"></pre>\n"
     },
     "metadata": {},
     "output_type": "display_data"
    },
    {
     "data": {
      "text/plain": "\n",
      "text/html": "<pre style=\"white-space:pre;overflow-x:auto;line-height:normal;font-family:Menlo,'DejaVu Sans Mono',consolas,'Courier New',monospace\">\n</pre>\n"
     },
     "metadata": {},
     "output_type": "display_data"
    },
    {
     "data": {
      "text/plain": "🎉 \u001B[1;32mYour generator is ready!\u001B[0m Use it to create synthetic data. Share it so others can do the same.\n",
      "text/html": "<pre style=\"white-space:pre;overflow-x:auto;line-height:normal;font-family:Menlo,'DejaVu Sans Mono',consolas,'Courier New',monospace\">🎉 <span style=\"color: #008000; text-decoration-color: #008000; font-weight: bold\">Your generator is ready!</span> Use it to create synthetic data. Share it so others can do the same.\n</pre>\n"
     },
     "metadata": {},
     "output_type": "display_data"
    }
   ],
   "source": [
    "g = mostly_t1.train('https://raw.githubusercontent.com/mostly-ai/public-demo-data/dev/titanic/titanic.csv')"
   ]
  },
  {
   "cell_type": "code",
   "execution_count": 48,
   "outputs": [
    {
     "data": {
      "text/plain": "\u001B[1m{\u001B[0m\n    \u001B[32m'id'\u001B[0m: \u001B[1;35mUUID\u001B[0m\u001B[1m(\u001B[0m\u001B[32m'03126d48-983a-4bef-b633-5a2d166f6f33'\u001B[0m\u001B[1m)\u001B[0m,\n    \u001B[32m'name'\u001B[0m: \u001B[32m'titanic'\u001B[0m,\n    \u001B[32m'description'\u001B[0m: \u001B[3;35mNone\u001B[0m,\n    \u001B[32m'training_status'\u001B[0m: \u001B[1m<\u001B[0m\u001B[1;95mProgressStatus.done:\u001B[0m\u001B[39m \u001B[0m\u001B[32m'DONE'\u001B[0m\u001B[39m>,\u001B[0m\n\u001B[39m    \u001B[0m\u001B[32m'training_time'\u001B[0m\u001B[39m: \u001B[0m\u001B[3;35mNone\u001B[0m\u001B[39m,\u001B[0m\n\u001B[39m    \u001B[0m\u001B[32m'metadata'\u001B[0m\u001B[39m: \u001B[0m\u001B[1;39m{\u001B[0m\n\u001B[39m        \u001B[0m\u001B[32m'created_at'\u001B[0m\u001B[39m: \u001B[0m\u001B[1;35mdatetime.datetime\u001B[0m\u001B[1;39m(\u001B[0m\u001B[1;36m2024\u001B[0m\u001B[39m, \u001B[0m\u001B[1;36m2\u001B[0m\u001B[39m, \u001B[0m\u001B[1;36m27\u001B[0m\u001B[39m, \u001B[0m\u001B[1;36m12\u001B[0m\u001B[39m, \u001B[0m\u001B[1;36m3\u001B[0m\u001B[39m, \u001B[0m\u001B[1;36m57\u001B[0m\u001B[39m, \u001B[0m\u001B[1;36m232900\u001B[0m\u001B[39m, \u001B[0m\u001B[33mtzinfo\u001B[0m\u001B[39m=\u001B[0m\u001B[1;35mTzInfo\u001B[0m\u001B[1;39m(\u001B[0m\u001B[39mUTC\u001B[0m\u001B[1;39m)\u001B[0m\u001B[1;39m)\u001B[0m\u001B[39m,\u001B[0m\n\u001B[39m        \u001B[0m\u001B[32m'owner_id'\u001B[0m\u001B[39m: \u001B[0m\u001B[32m'94b142d1-f543-40a2-98ba-3192a738c4ee'\u001B[0m\u001B[39m,\u001B[0m\n\u001B[39m        \u001B[0m\u001B[32m'owner_name'\u001B[0m\u001B[39m: \u001B[0m\u001B[32m'Test 1'\u001B[0m\u001B[39m,\u001B[0m\n\u001B[39m        \u001B[0m\u001B[32m'current_user_permission_level'\u001B[0m\u001B[39m: <PermissionLevel.admin: \u001B[0m\u001B[32m'ADMIN'\u001B[0m\u001B[39m>\u001B[0m\n\u001B[39m    \u001B[0m\u001B[1;39m}\u001B[0m\u001B[39m,\u001B[0m\n\u001B[39m    \u001B[0m\u001B[32m'accuracy'\u001B[0m\u001B[39m: \u001B[0m\u001B[1;36m0.929\u001B[0m\u001B[39m,\u001B[0m\n\u001B[39m    \u001B[0m\u001B[32m'tables'\u001B[0m\u001B[39m: \u001B[0m\u001B[1;39m[\u001B[0m\n\u001B[39m        \u001B[0m\u001B[1;39m{\u001B[0m\n\u001B[39m            \u001B[0m\u001B[32m'id'\u001B[0m\u001B[39m: \u001B[0m\u001B[1;35mUUID\u001B[0m\u001B[1;39m(\u001B[0m\u001B[32m'893cfe60-424f-4997-ab5d-a0b09a3b12b1'\u001B[0m\u001B[1;39m)\u001B[0m\u001B[39m,\u001B[0m\n\u001B[39m            \u001B[0m\u001B[32m'source_connector'\u001B[0m\u001B[39m: \u001B[0m\u001B[1;39m{\u001B[0m\n\u001B[39m                \u001B[0m\u001B[32m'id'\u001B[0m\u001B[39m: \u001B[0m\u001B[1;35mUUID\u001B[0m\u001B[1;39m(\u001B[0m\u001B[32m'933cf025-7e03-4b89-a2c8-4bd39a332a84'\u001B[0m\u001B[1;39m)\u001B[0m\u001B[39m,\u001B[0m\n\u001B[39m                \u001B[0m\u001B[32m'name'\u001B[0m\u001B[39m: \u001B[0m\u001B[3;35mNone\u001B[0m\u001B[39m,\u001B[0m\n\u001B[39m                \u001B[0m\u001B[32m'uri'\u001B[0m\u001B[39m: \u001B[0m\u001B[32m'/connectors/933cf025-7e03-4b89-a2c8-4bd39a332a84'\u001B[0m\n\u001B[39m            \u001B[0m\u001B[1;39m}\u001B[0m\u001B[39m,\u001B[0m\n\u001B[39m            \u001B[0m\u001B[32m'location'\u001B[0m\u001B[39m: \u001B[0m\u001B[3;35mNone\u001B[0m\u001B[39m,\u001B[0m\n\u001B[39m            \u001B[0m\u001B[32m'name'\u001B[0m\u001B[39m: \u001B[0m\u001B[32m'titanic'\u001B[0m\u001B[39m,\u001B[0m\n\u001B[39m            \u001B[0m\u001B[32m'primary_key'\u001B[0m\u001B[39m: \u001B[0m\u001B[3;35mNone\u001B[0m\u001B[39m,\u001B[0m\n\u001B[39m            \u001B[0m\u001B[32m'columns'\u001B[0m\u001B[39m: \u001B[0m\u001B[1;39m[\u001B[0m\n\u001B[39m                \u001B[0m\u001B[1;39m{\u001B[0m\n\u001B[39m                    \u001B[0m\u001B[32m'id'\u001B[0m\u001B[39m: \u001B[0m\u001B[1;35mUUID\u001B[0m\u001B[1;39m(\u001B[0m\u001B[32m'39a6c8e6-7499-40be-b0bd-8764b2fb7e0b'\u001B[0m\u001B[1;39m)\u001B[0m\u001B[39m,\u001B[0m\n\u001B[39m                    \u001B[0m\u001B[32m'name'\u001B[0m\u001B[39m: \u001B[0m\u001B[32m'survived'\u001B[0m\u001B[39m,\u001B[0m\n\u001B[39m                    \u001B[0m\u001B[32m'included'\u001B[0m\u001B[39m: \u001B[0m\u001B[3;92mTrue\u001B[0m\u001B[39m,\u001B[0m\n\u001B[39m                    \u001B[0m\u001B[32m'model_encoding_type'\u001B[0m\u001B[39m: <ModelEncodingType.numeric_auto: \u001B[0m\u001B[32m'NUMERIC_AUTO'\u001B[0m\u001B[39m>\u001B[0m\n\u001B[39m                \u001B[0m\u001B[1;39m}\u001B[0m\u001B[39m,\u001B[0m\n\u001B[39m                \u001B[0m\u001B[1;39m{\u001B[0m\n\u001B[39m                    \u001B[0m\u001B[32m'id'\u001B[0m\u001B[39m: \u001B[0m\u001B[1;35mUUID\u001B[0m\u001B[1;39m(\u001B[0m\u001B[32m'cd8c0245-5e26-4919-967a-b7f9b0448425'\u001B[0m\u001B[1;39m)\u001B[0m\u001B[39m,\u001B[0m\n\u001B[39m                    \u001B[0m\u001B[32m'name'\u001B[0m\u001B[39m: \u001B[0m\u001B[32m'pclass'\u001B[0m\u001B[39m,\u001B[0m\n\u001B[39m                    \u001B[0m\u001B[32m'included'\u001B[0m\u001B[39m: \u001B[0m\u001B[3;92mTrue\u001B[0m\u001B[39m,\u001B[0m\n\u001B[39m                    \u001B[0m\u001B[32m'model_encoding_type'\u001B[0m\u001B[39m: <ModelEncodingType.numeric_auto: \u001B[0m\u001B[32m'NUMERIC_AUTO'\u001B[0m\u001B[39m>\u001B[0m\n\u001B[39m                \u001B[0m\u001B[1;39m}\u001B[0m\u001B[39m,\u001B[0m\n\u001B[39m                \u001B[0m\u001B[1;39m{\u001B[0m\n\u001B[39m                    \u001B[0m\u001B[32m'id'\u001B[0m\u001B[39m: \u001B[0m\u001B[1;35mUUID\u001B[0m\u001B[1;39m(\u001B[0m\u001B[32m'bcf6ab5c-7919-4b1a-9e80-8a64c7a4a109'\u001B[0m\u001B[1;39m)\u001B[0m\u001B[39m,\u001B[0m\n\u001B[39m                    \u001B[0m\u001B[32m'name'\u001B[0m\u001B[39m: \u001B[0m\u001B[32m'sex'\u001B[0m\u001B[39m,\u001B[0m\n\u001B[39m                    \u001B[0m\u001B[32m'included'\u001B[0m\u001B[39m: \u001B[0m\u001B[3;92mTrue\u001B[0m\u001B[39m,\u001B[0m\n\u001B[39m                    \u001B[0m\u001B[32m'model_encoding_type'\u001B[0m\u001B[39m: <ModelEncodingType.categorical: \u001B[0m\u001B[32m'CATEGORICAL'\u001B[0m\u001B[39m>\u001B[0m\n\u001B[39m                \u001B[0m\u001B[1;39m}\u001B[0m\u001B[39m,\u001B[0m\n\u001B[39m                \u001B[0m\u001B[1;39m{\u001B[0m\n\u001B[39m                    \u001B[0m\u001B[32m'id'\u001B[0m\u001B[39m: \u001B[0m\u001B[1;35mUUID\u001B[0m\u001B[1;39m(\u001B[0m\u001B[32m'712d6bf2-42e8-4d9d-905c-cc6ed2723427'\u001B[0m\u001B[1;39m)\u001B[0m\u001B[39m,\u001B[0m\n\u001B[39m                    \u001B[0m\u001B[32m'name'\u001B[0m\u001B[39m: \u001B[0m\u001B[32m'age'\u001B[0m\u001B[39m,\u001B[0m\n\u001B[39m                    \u001B[0m\u001B[32m'included'\u001B[0m\u001B[39m: \u001B[0m\u001B[3;92mTrue\u001B[0m\u001B[39m,\u001B[0m\n\u001B[39m                    \u001B[0m\u001B[32m'model_encoding_type'\u001B[0m\u001B[39m: <ModelEncodingType.numeric_auto: \u001B[0m\u001B[32m'NUMERIC_AUTO'\u001B[0m\u001B[39m>\u001B[0m\n\u001B[39m                \u001B[0m\u001B[1;39m}\u001B[0m\u001B[39m,\u001B[0m\n\u001B[39m                \u001B[0m\u001B[1;39m{\u001B[0m\n\u001B[39m                    \u001B[0m\u001B[32m'id'\u001B[0m\u001B[39m: \u001B[0m\u001B[1;35mUUID\u001B[0m\u001B[1;39m(\u001B[0m\u001B[32m'6ef4a2ab-555c-4a9a-b065-96f36be687cf'\u001B[0m\u001B[1;39m)\u001B[0m\u001B[39m,\u001B[0m\n\u001B[39m                    \u001B[0m\u001B[32m'name'\u001B[0m\u001B[39m: \u001B[0m\u001B[32m'sibsp'\u001B[0m\u001B[39m,\u001B[0m\n\u001B[39m                    \u001B[0m\u001B[32m'included'\u001B[0m\u001B[39m: \u001B[0m\u001B[3;92mTrue\u001B[0m\u001B[39m,\u001B[0m\n\u001B[39m                    \u001B[0m\u001B[32m'model_encoding_type'\u001B[0m\u001B[39m: <ModelEncodingType.numeric_auto: \u001B[0m\u001B[32m'NUMERIC_AUTO'\u001B[0m\u001B[39m>\u001B[0m\n\u001B[39m                \u001B[0m\u001B[1;39m}\u001B[0m\u001B[39m,\u001B[0m\n\u001B[39m                \u001B[0m\u001B[1;39m{\u001B[0m\n\u001B[39m                    \u001B[0m\u001B[32m'id'\u001B[0m\u001B[39m: \u001B[0m\u001B[1;35mUUID\u001B[0m\u001B[1;39m(\u001B[0m\u001B[32m'9b1cb9f0-8c57-4fcf-9443-e438e0bbeae7'\u001B[0m\u001B[1;39m)\u001B[0m\u001B[39m,\u001B[0m\n\u001B[39m                    \u001B[0m\u001B[32m'name'\u001B[0m\u001B[39m: \u001B[0m\u001B[32m'parch'\u001B[0m\u001B[39m,\u001B[0m\n\u001B[39m                    \u001B[0m\u001B[32m'included'\u001B[0m\u001B[39m: \u001B[0m\u001B[3;92mTrue\u001B[0m\u001B[39m,\u001B[0m\n\u001B[39m                    \u001B[0m\u001B[32m'model_encoding_type'\u001B[0m\u001B[39m: <ModelEncodingType.numeric_auto: \u001B[0m\u001B[32m'NUMERIC_AUTO'\u001B[0m\u001B[39m>\u001B[0m\n\u001B[39m                \u001B[0m\u001B[1;39m}\u001B[0m\u001B[39m,\u001B[0m\n\u001B[39m                \u001B[0m\u001B[1;39m{\u001B[0m\n\u001B[39m                    \u001B[0m\u001B[32m'id'\u001B[0m\u001B[39m: \u001B[0m\u001B[1;35mUUID\u001B[0m\u001B[1;39m(\u001B[0m\u001B[32m'c659f2db-3966-4e67-b6c4-7be33eff8568'\u001B[0m\u001B[1;39m)\u001B[0m\u001B[39m,\u001B[0m\n\u001B[39m                    \u001B[0m\u001B[32m'name'\u001B[0m\u001B[39m: \u001B[0m\u001B[32m'fare'\u001B[0m\u001B[39m,\u001B[0m\n\u001B[39m                    \u001B[0m\u001B[32m'included'\u001B[0m\u001B[39m: \u001B[0m\u001B[3;92mTrue\u001B[0m\u001B[39m,\u001B[0m\n\u001B[39m                    \u001B[0m\u001B[32m'model_encoding_type'\u001B[0m\u001B[39m: <ModelEncodingType.numeric_auto: \u001B[0m\u001B[32m'NUMERIC_AUTO'\u001B[0m\u001B[39m>\u001B[0m\n\u001B[39m                \u001B[0m\u001B[1;39m}\u001B[0m\u001B[39m,\u001B[0m\n\u001B[39m                \u001B[0m\u001B[1;39m{\u001B[0m\n\u001B[39m                    \u001B[0m\u001B[32m'id'\u001B[0m\u001B[39m: \u001B[0m\u001B[1;35mUUID\u001B[0m\u001B[1;39m(\u001B[0m\u001B[32m'26eeee10-5f08-4b0a-bee0-cb3c623d00d0'\u001B[0m\u001B[1;39m)\u001B[0m\u001B[39m,\u001B[0m\n\u001B[39m                    \u001B[0m\u001B[32m'name'\u001B[0m\u001B[39m: \u001B[0m\u001B[32m'embarked'\u001B[0m\u001B[39m,\u001B[0m\n\u001B[39m                    \u001B[0m\u001B[32m'included'\u001B[0m\u001B[39m: \u001B[0m\u001B[3;92mTrue\u001B[0m\u001B[39m,\u001B[0m\n\u001B[39m                    \u001B[0m\u001B[32m'model_encoding_type'\u001B[0m\u001B[39m: <ModelEncodingType.categorical: \u001B[0m\u001B[32m'CATEGORICAL'\u001B[0m\u001B[39m>\u001B[0m\n\u001B[39m                \u001B[0m\u001B[1;39m}\u001B[0m\n\u001B[39m            \u001B[0m\u001B[1;39m]\u001B[0m\u001B[39m,\u001B[0m\n\u001B[39m            \u001B[0m\u001B[32m'foreign_keys'\u001B[0m\u001B[39m: \u001B[0m\u001B[3;35mNone\u001B[0m\u001B[39m,\u001B[0m\n\u001B[39m            \u001B[0m\u001B[32m'model'\u001B[0m\u001B[39m: \u001B[0m\u001B[1;39m{\u001B[0m\n\u001B[39m                \u001B[0m\u001B[32m'id'\u001B[0m\u001B[39m: \u001B[0m\u001B[32m'7be1e0b0-bd66-4354-8b4c-c5c61836e98a'\u001B[0m\u001B[39m,\u001B[0m\n\u001B[39m                \u001B[0m\u001B[32m'configuration'\u001B[0m\u001B[39m: \u001B[0m\u001B[1;39m{\u001B[0m\n\u001B[39m                    \u001B[0m\u001B[32m'sample_fraction'\u001B[0m\u001B[39m: \u001B[0m\u001B[1;36m1.0\u001B[0m\u001B[39m,\u001B[0m\n\u001B[39m                    \u001B[0m\u001B[32m'max_sample_size'\u001B[0m\u001B[39m: \u001B[0m\u001B[3;35mNone\u001B[0m\u001B[39m,\u001B[0m\n\u001B[39m                    \u001B[0m\u001B[32m'batch_size'\u001B[0m\u001B[39m: \u001B[0m\u001B[3;35mNone\u001B[0m\u001B[39m,\u001B[0m\n\u001B[39m                    \u001B[0m\u001B[32m'model_size'\u001B[0m\u001B[39m: <ModelSize.m: \u001B[0m\u001B[32m'M'\u001B[0m\u001B[39m>,\u001B[0m\n\u001B[39m                    \u001B[0m\u001B[32m'max_training_time'\u001B[0m\u001B[39m: \u001B[0m\u001B[1;36m10\u001B[0m\u001B[39m,\u001B[0m\n\u001B[39m                    \u001B[0m\u001B[32m'max_epochs'\u001B[0m\u001B[39m: \u001B[0m\u001B[1;36m100\u001B[0m\u001B[39m,\u001B[0m\n\u001B[39m                    \u001B[0m\u001B[32m'max_sequence_window'\u001B[0m\u001B[39m: \u001B[0m\u001B[1;36m100\u001B[0m\u001B[39m,\u001B[0m\n\u001B[39m                    \u001B[0m\u001B[32m'enable_flexible_generation'\u001B[0m\u001B[39m: \u001B[0m\u001B[3;92mTrue\u001B[0m\u001B[39m,\u001B[0m\n\u001B[39m                    \u001B[0m\u001B[32m'value_protection'\u001B[0m\u001B[39m: \u001B[0m\u001B[3;92mTrue\u001B[0m\u001B[39m,\u001B[0m\n\u001B[39m                    \u001B[0m\u001B[32m'rare_category_replacement_method'\u001B[0m\u001B[39m: <RareCategoryReplacementMethod.constant: \u001B[0m\u001B[32m'CONSTANT'\u001B[0m\u001B[1m>\u001B[0m\n                \u001B[1m}\u001B[0m,\n                \u001B[32m'metrics'\u001B[0m: \u001B[1m{\u001B[0m\n                    \u001B[32m'accuracy'\u001B[0m: \u001B[1m{\u001B[0m\n                        \u001B[32m'overall'\u001B[0m: \u001B[1;36m0.929\u001B[0m,\n                        \u001B[32m'univariate'\u001B[0m: \u001B[1;36m0.955\u001B[0m,\n                        \u001B[32m'bivariate'\u001B[0m: \u001B[1;36m0.903\u001B[0m,\n                        \u001B[32m'coherence'\u001B[0m: \u001B[3;35mNone\u001B[0m,\n                        \u001B[32m'overall_max'\u001B[0m: \u001B[1;36m0.959\u001B[0m\n                    \u001B[1m}\u001B[0m,\n                    \u001B[32m'distances'\u001B[0m: \u001B[1m{\u001B[0m\u001B[32m'dcr_original'\u001B[0m: \u001B[1;36m0.713\u001B[0m, \u001B[32m'dcr_synthetic'\u001B[0m: \u001B[1;36m1.22\u001B[0m\u001B[1m}\u001B[0m\n                \u001B[1m}\u001B[0m\n            \u001B[1m}\u001B[0m,\n            \u001B[32m'text_model'\u001B[0m: \u001B[3;35mNone\u001B[0m,\n            \u001B[32m'total_rows'\u001B[0m: \u001B[1;36m1309\u001B[0m\n        \u001B[1m}\u001B[0m\n    \u001B[1m]\u001B[0m,\n    \u001B[32m'synthetic_datasets'\u001B[0m: \u001B[1m[\u001B[0m\u001B[1m]\u001B[0m\n\u001B[1m}\u001B[0m\n",
      "text/html": "<pre style=\"white-space:pre;overflow-x:auto;line-height:normal;font-family:Menlo,'DejaVu Sans Mono',consolas,'Courier New',monospace\"><span style=\"font-weight: bold\">{</span>\n    <span style=\"color: #008000; text-decoration-color: #008000\">'id'</span>: <span style=\"color: #800080; text-decoration-color: #800080; font-weight: bold\">UUID</span><span style=\"font-weight: bold\">(</span><span style=\"color: #008000; text-decoration-color: #008000\">'03126d48-983a-4bef-b633-5a2d166f6f33'</span><span style=\"font-weight: bold\">)</span>,\n    <span style=\"color: #008000; text-decoration-color: #008000\">'name'</span>: <span style=\"color: #008000; text-decoration-color: #008000\">'titanic'</span>,\n    <span style=\"color: #008000; text-decoration-color: #008000\">'description'</span>: <span style=\"color: #800080; text-decoration-color: #800080; font-style: italic\">None</span>,\n    <span style=\"color: #008000; text-decoration-color: #008000\">'training_status'</span>: <span style=\"font-weight: bold\">&lt;</span><span style=\"color: #ff00ff; text-decoration-color: #ff00ff; font-weight: bold\">ProgressStatus.done:</span><span style=\"color: #000000; text-decoration-color: #000000\"> </span><span style=\"color: #008000; text-decoration-color: #008000\">'DONE'</span><span style=\"color: #000000; text-decoration-color: #000000\">&gt;,</span>\n<span style=\"color: #000000; text-decoration-color: #000000\">    </span><span style=\"color: #008000; text-decoration-color: #008000\">'training_time'</span><span style=\"color: #000000; text-decoration-color: #000000\">: </span><span style=\"color: #800080; text-decoration-color: #800080; font-style: italic\">None</span><span style=\"color: #000000; text-decoration-color: #000000\">,</span>\n<span style=\"color: #000000; text-decoration-color: #000000\">    </span><span style=\"color: #008000; text-decoration-color: #008000\">'metadata'</span><span style=\"color: #000000; text-decoration-color: #000000\">: </span><span style=\"color: #000000; text-decoration-color: #000000; font-weight: bold\">{</span>\n<span style=\"color: #000000; text-decoration-color: #000000\">        </span><span style=\"color: #008000; text-decoration-color: #008000\">'created_at'</span><span style=\"color: #000000; text-decoration-color: #000000\">: </span><span style=\"color: #800080; text-decoration-color: #800080; font-weight: bold\">datetime.datetime</span><span style=\"color: #000000; text-decoration-color: #000000; font-weight: bold\">(</span><span style=\"color: #008080; text-decoration-color: #008080; font-weight: bold\">2024</span><span style=\"color: #000000; text-decoration-color: #000000\">, </span><span style=\"color: #008080; text-decoration-color: #008080; font-weight: bold\">2</span><span style=\"color: #000000; text-decoration-color: #000000\">, </span><span style=\"color: #008080; text-decoration-color: #008080; font-weight: bold\">27</span><span style=\"color: #000000; text-decoration-color: #000000\">, </span><span style=\"color: #008080; text-decoration-color: #008080; font-weight: bold\">12</span><span style=\"color: #000000; text-decoration-color: #000000\">, </span><span style=\"color: #008080; text-decoration-color: #008080; font-weight: bold\">3</span><span style=\"color: #000000; text-decoration-color: #000000\">, </span><span style=\"color: #008080; text-decoration-color: #008080; font-weight: bold\">57</span><span style=\"color: #000000; text-decoration-color: #000000\">, </span><span style=\"color: #008080; text-decoration-color: #008080; font-weight: bold\">232900</span><span style=\"color: #000000; text-decoration-color: #000000\">, </span><span style=\"color: #808000; text-decoration-color: #808000\">tzinfo</span><span style=\"color: #000000; text-decoration-color: #000000\">=</span><span style=\"color: #800080; text-decoration-color: #800080; font-weight: bold\">TzInfo</span><span style=\"color: #000000; text-decoration-color: #000000; font-weight: bold\">(</span><span style=\"color: #000000; text-decoration-color: #000000\">UTC</span><span style=\"color: #000000; text-decoration-color: #000000; font-weight: bold\">))</span><span style=\"color: #000000; text-decoration-color: #000000\">,</span>\n<span style=\"color: #000000; text-decoration-color: #000000\">        </span><span style=\"color: #008000; text-decoration-color: #008000\">'owner_id'</span><span style=\"color: #000000; text-decoration-color: #000000\">: </span><span style=\"color: #008000; text-decoration-color: #008000\">'94b142d1-f543-40a2-98ba-3192a738c4ee'</span><span style=\"color: #000000; text-decoration-color: #000000\">,</span>\n<span style=\"color: #000000; text-decoration-color: #000000\">        </span><span style=\"color: #008000; text-decoration-color: #008000\">'owner_name'</span><span style=\"color: #000000; text-decoration-color: #000000\">: </span><span style=\"color: #008000; text-decoration-color: #008000\">'Test 1'</span><span style=\"color: #000000; text-decoration-color: #000000\">,</span>\n<span style=\"color: #000000; text-decoration-color: #000000\">        </span><span style=\"color: #008000; text-decoration-color: #008000\">'current_user_permission_level'</span><span style=\"color: #000000; text-decoration-color: #000000\">: &lt;PermissionLevel.admin: </span><span style=\"color: #008000; text-decoration-color: #008000\">'ADMIN'</span><span style=\"color: #000000; text-decoration-color: #000000\">&gt;</span>\n<span style=\"color: #000000; text-decoration-color: #000000\">    </span><span style=\"color: #000000; text-decoration-color: #000000; font-weight: bold\">}</span><span style=\"color: #000000; text-decoration-color: #000000\">,</span>\n<span style=\"color: #000000; text-decoration-color: #000000\">    </span><span style=\"color: #008000; text-decoration-color: #008000\">'accuracy'</span><span style=\"color: #000000; text-decoration-color: #000000\">: </span><span style=\"color: #008080; text-decoration-color: #008080; font-weight: bold\">0.929</span><span style=\"color: #000000; text-decoration-color: #000000\">,</span>\n<span style=\"color: #000000; text-decoration-color: #000000\">    </span><span style=\"color: #008000; text-decoration-color: #008000\">'tables'</span><span style=\"color: #000000; text-decoration-color: #000000\">: </span><span style=\"color: #000000; text-decoration-color: #000000; font-weight: bold\">[</span>\n<span style=\"color: #000000; text-decoration-color: #000000\">        </span><span style=\"color: #000000; text-decoration-color: #000000; font-weight: bold\">{</span>\n<span style=\"color: #000000; text-decoration-color: #000000\">            </span><span style=\"color: #008000; text-decoration-color: #008000\">'id'</span><span style=\"color: #000000; text-decoration-color: #000000\">: </span><span style=\"color: #800080; text-decoration-color: #800080; font-weight: bold\">UUID</span><span style=\"color: #000000; text-decoration-color: #000000; font-weight: bold\">(</span><span style=\"color: #008000; text-decoration-color: #008000\">'893cfe60-424f-4997-ab5d-a0b09a3b12b1'</span><span style=\"color: #000000; text-decoration-color: #000000; font-weight: bold\">)</span><span style=\"color: #000000; text-decoration-color: #000000\">,</span>\n<span style=\"color: #000000; text-decoration-color: #000000\">            </span><span style=\"color: #008000; text-decoration-color: #008000\">'source_connector'</span><span style=\"color: #000000; text-decoration-color: #000000\">: </span><span style=\"color: #000000; text-decoration-color: #000000; font-weight: bold\">{</span>\n<span style=\"color: #000000; text-decoration-color: #000000\">                </span><span style=\"color: #008000; text-decoration-color: #008000\">'id'</span><span style=\"color: #000000; text-decoration-color: #000000\">: </span><span style=\"color: #800080; text-decoration-color: #800080; font-weight: bold\">UUID</span><span style=\"color: #000000; text-decoration-color: #000000; font-weight: bold\">(</span><span style=\"color: #008000; text-decoration-color: #008000\">'933cf025-7e03-4b89-a2c8-4bd39a332a84'</span><span style=\"color: #000000; text-decoration-color: #000000; font-weight: bold\">)</span><span style=\"color: #000000; text-decoration-color: #000000\">,</span>\n<span style=\"color: #000000; text-decoration-color: #000000\">                </span><span style=\"color: #008000; text-decoration-color: #008000\">'name'</span><span style=\"color: #000000; text-decoration-color: #000000\">: </span><span style=\"color: #800080; text-decoration-color: #800080; font-style: italic\">None</span><span style=\"color: #000000; text-decoration-color: #000000\">,</span>\n<span style=\"color: #000000; text-decoration-color: #000000\">                </span><span style=\"color: #008000; text-decoration-color: #008000\">'uri'</span><span style=\"color: #000000; text-decoration-color: #000000\">: </span><span style=\"color: #008000; text-decoration-color: #008000\">'/connectors/933cf025-7e03-4b89-a2c8-4bd39a332a84'</span>\n<span style=\"color: #000000; text-decoration-color: #000000\">            </span><span style=\"color: #000000; text-decoration-color: #000000; font-weight: bold\">}</span><span style=\"color: #000000; text-decoration-color: #000000\">,</span>\n<span style=\"color: #000000; text-decoration-color: #000000\">            </span><span style=\"color: #008000; text-decoration-color: #008000\">'location'</span><span style=\"color: #000000; text-decoration-color: #000000\">: </span><span style=\"color: #800080; text-decoration-color: #800080; font-style: italic\">None</span><span style=\"color: #000000; text-decoration-color: #000000\">,</span>\n<span style=\"color: #000000; text-decoration-color: #000000\">            </span><span style=\"color: #008000; text-decoration-color: #008000\">'name'</span><span style=\"color: #000000; text-decoration-color: #000000\">: </span><span style=\"color: #008000; text-decoration-color: #008000\">'titanic'</span><span style=\"color: #000000; text-decoration-color: #000000\">,</span>\n<span style=\"color: #000000; text-decoration-color: #000000\">            </span><span style=\"color: #008000; text-decoration-color: #008000\">'primary_key'</span><span style=\"color: #000000; text-decoration-color: #000000\">: </span><span style=\"color: #800080; text-decoration-color: #800080; font-style: italic\">None</span><span style=\"color: #000000; text-decoration-color: #000000\">,</span>\n<span style=\"color: #000000; text-decoration-color: #000000\">            </span><span style=\"color: #008000; text-decoration-color: #008000\">'columns'</span><span style=\"color: #000000; text-decoration-color: #000000\">: </span><span style=\"color: #000000; text-decoration-color: #000000; font-weight: bold\">[</span>\n<span style=\"color: #000000; text-decoration-color: #000000\">                </span><span style=\"color: #000000; text-decoration-color: #000000; font-weight: bold\">{</span>\n<span style=\"color: #000000; text-decoration-color: #000000\">                    </span><span style=\"color: #008000; text-decoration-color: #008000\">'id'</span><span style=\"color: #000000; text-decoration-color: #000000\">: </span><span style=\"color: #800080; text-decoration-color: #800080; font-weight: bold\">UUID</span><span style=\"color: #000000; text-decoration-color: #000000; font-weight: bold\">(</span><span style=\"color: #008000; text-decoration-color: #008000\">'39a6c8e6-7499-40be-b0bd-8764b2fb7e0b'</span><span style=\"color: #000000; text-decoration-color: #000000; font-weight: bold\">)</span><span style=\"color: #000000; text-decoration-color: #000000\">,</span>\n<span style=\"color: #000000; text-decoration-color: #000000\">                    </span><span style=\"color: #008000; text-decoration-color: #008000\">'name'</span><span style=\"color: #000000; text-decoration-color: #000000\">: </span><span style=\"color: #008000; text-decoration-color: #008000\">'survived'</span><span style=\"color: #000000; text-decoration-color: #000000\">,</span>\n<span style=\"color: #000000; text-decoration-color: #000000\">                    </span><span style=\"color: #008000; text-decoration-color: #008000\">'included'</span><span style=\"color: #000000; text-decoration-color: #000000\">: </span><span style=\"color: #00ff00; text-decoration-color: #00ff00; font-style: italic\">True</span><span style=\"color: #000000; text-decoration-color: #000000\">,</span>\n<span style=\"color: #000000; text-decoration-color: #000000\">                    </span><span style=\"color: #008000; text-decoration-color: #008000\">'model_encoding_type'</span><span style=\"color: #000000; text-decoration-color: #000000\">: &lt;ModelEncodingType.numeric_auto: </span><span style=\"color: #008000; text-decoration-color: #008000\">'NUMERIC_AUTO'</span><span style=\"color: #000000; text-decoration-color: #000000\">&gt;</span>\n<span style=\"color: #000000; text-decoration-color: #000000\">                </span><span style=\"color: #000000; text-decoration-color: #000000; font-weight: bold\">}</span><span style=\"color: #000000; text-decoration-color: #000000\">,</span>\n<span style=\"color: #000000; text-decoration-color: #000000\">                </span><span style=\"color: #000000; text-decoration-color: #000000; font-weight: bold\">{</span>\n<span style=\"color: #000000; text-decoration-color: #000000\">                    </span><span style=\"color: #008000; text-decoration-color: #008000\">'id'</span><span style=\"color: #000000; text-decoration-color: #000000\">: </span><span style=\"color: #800080; text-decoration-color: #800080; font-weight: bold\">UUID</span><span style=\"color: #000000; text-decoration-color: #000000; font-weight: bold\">(</span><span style=\"color: #008000; text-decoration-color: #008000\">'cd8c0245-5e26-4919-967a-b7f9b0448425'</span><span style=\"color: #000000; text-decoration-color: #000000; font-weight: bold\">)</span><span style=\"color: #000000; text-decoration-color: #000000\">,</span>\n<span style=\"color: #000000; text-decoration-color: #000000\">                    </span><span style=\"color: #008000; text-decoration-color: #008000\">'name'</span><span style=\"color: #000000; text-decoration-color: #000000\">: </span><span style=\"color: #008000; text-decoration-color: #008000\">'pclass'</span><span style=\"color: #000000; text-decoration-color: #000000\">,</span>\n<span style=\"color: #000000; text-decoration-color: #000000\">                    </span><span style=\"color: #008000; text-decoration-color: #008000\">'included'</span><span style=\"color: #000000; text-decoration-color: #000000\">: </span><span style=\"color: #00ff00; text-decoration-color: #00ff00; font-style: italic\">True</span><span style=\"color: #000000; text-decoration-color: #000000\">,</span>\n<span style=\"color: #000000; text-decoration-color: #000000\">                    </span><span style=\"color: #008000; text-decoration-color: #008000\">'model_encoding_type'</span><span style=\"color: #000000; text-decoration-color: #000000\">: &lt;ModelEncodingType.numeric_auto: </span><span style=\"color: #008000; text-decoration-color: #008000\">'NUMERIC_AUTO'</span><span style=\"color: #000000; text-decoration-color: #000000\">&gt;</span>\n<span style=\"color: #000000; text-decoration-color: #000000\">                </span><span style=\"color: #000000; text-decoration-color: #000000; font-weight: bold\">}</span><span style=\"color: #000000; text-decoration-color: #000000\">,</span>\n<span style=\"color: #000000; text-decoration-color: #000000\">                </span><span style=\"color: #000000; text-decoration-color: #000000; font-weight: bold\">{</span>\n<span style=\"color: #000000; text-decoration-color: #000000\">                    </span><span style=\"color: #008000; text-decoration-color: #008000\">'id'</span><span style=\"color: #000000; text-decoration-color: #000000\">: </span><span style=\"color: #800080; text-decoration-color: #800080; font-weight: bold\">UUID</span><span style=\"color: #000000; text-decoration-color: #000000; font-weight: bold\">(</span><span style=\"color: #008000; text-decoration-color: #008000\">'bcf6ab5c-7919-4b1a-9e80-8a64c7a4a109'</span><span style=\"color: #000000; text-decoration-color: #000000; font-weight: bold\">)</span><span style=\"color: #000000; text-decoration-color: #000000\">,</span>\n<span style=\"color: #000000; text-decoration-color: #000000\">                    </span><span style=\"color: #008000; text-decoration-color: #008000\">'name'</span><span style=\"color: #000000; text-decoration-color: #000000\">: </span><span style=\"color: #008000; text-decoration-color: #008000\">'sex'</span><span style=\"color: #000000; text-decoration-color: #000000\">,</span>\n<span style=\"color: #000000; text-decoration-color: #000000\">                    </span><span style=\"color: #008000; text-decoration-color: #008000\">'included'</span><span style=\"color: #000000; text-decoration-color: #000000\">: </span><span style=\"color: #00ff00; text-decoration-color: #00ff00; font-style: italic\">True</span><span style=\"color: #000000; text-decoration-color: #000000\">,</span>\n<span style=\"color: #000000; text-decoration-color: #000000\">                    </span><span style=\"color: #008000; text-decoration-color: #008000\">'model_encoding_type'</span><span style=\"color: #000000; text-decoration-color: #000000\">: &lt;ModelEncodingType.categorical: </span><span style=\"color: #008000; text-decoration-color: #008000\">'CATEGORICAL'</span><span style=\"color: #000000; text-decoration-color: #000000\">&gt;</span>\n<span style=\"color: #000000; text-decoration-color: #000000\">                </span><span style=\"color: #000000; text-decoration-color: #000000; font-weight: bold\">}</span><span style=\"color: #000000; text-decoration-color: #000000\">,</span>\n<span style=\"color: #000000; text-decoration-color: #000000\">                </span><span style=\"color: #000000; text-decoration-color: #000000; font-weight: bold\">{</span>\n<span style=\"color: #000000; text-decoration-color: #000000\">                    </span><span style=\"color: #008000; text-decoration-color: #008000\">'id'</span><span style=\"color: #000000; text-decoration-color: #000000\">: </span><span style=\"color: #800080; text-decoration-color: #800080; font-weight: bold\">UUID</span><span style=\"color: #000000; text-decoration-color: #000000; font-weight: bold\">(</span><span style=\"color: #008000; text-decoration-color: #008000\">'712d6bf2-42e8-4d9d-905c-cc6ed2723427'</span><span style=\"color: #000000; text-decoration-color: #000000; font-weight: bold\">)</span><span style=\"color: #000000; text-decoration-color: #000000\">,</span>\n<span style=\"color: #000000; text-decoration-color: #000000\">                    </span><span style=\"color: #008000; text-decoration-color: #008000\">'name'</span><span style=\"color: #000000; text-decoration-color: #000000\">: </span><span style=\"color: #008000; text-decoration-color: #008000\">'age'</span><span style=\"color: #000000; text-decoration-color: #000000\">,</span>\n<span style=\"color: #000000; text-decoration-color: #000000\">                    </span><span style=\"color: #008000; text-decoration-color: #008000\">'included'</span><span style=\"color: #000000; text-decoration-color: #000000\">: </span><span style=\"color: #00ff00; text-decoration-color: #00ff00; font-style: italic\">True</span><span style=\"color: #000000; text-decoration-color: #000000\">,</span>\n<span style=\"color: #000000; text-decoration-color: #000000\">                    </span><span style=\"color: #008000; text-decoration-color: #008000\">'model_encoding_type'</span><span style=\"color: #000000; text-decoration-color: #000000\">: &lt;ModelEncodingType.numeric_auto: </span><span style=\"color: #008000; text-decoration-color: #008000\">'NUMERIC_AUTO'</span><span style=\"color: #000000; text-decoration-color: #000000\">&gt;</span>\n<span style=\"color: #000000; text-decoration-color: #000000\">                </span><span style=\"color: #000000; text-decoration-color: #000000; font-weight: bold\">}</span><span style=\"color: #000000; text-decoration-color: #000000\">,</span>\n<span style=\"color: #000000; text-decoration-color: #000000\">                </span><span style=\"color: #000000; text-decoration-color: #000000; font-weight: bold\">{</span>\n<span style=\"color: #000000; text-decoration-color: #000000\">                    </span><span style=\"color: #008000; text-decoration-color: #008000\">'id'</span><span style=\"color: #000000; text-decoration-color: #000000\">: </span><span style=\"color: #800080; text-decoration-color: #800080; font-weight: bold\">UUID</span><span style=\"color: #000000; text-decoration-color: #000000; font-weight: bold\">(</span><span style=\"color: #008000; text-decoration-color: #008000\">'6ef4a2ab-555c-4a9a-b065-96f36be687cf'</span><span style=\"color: #000000; text-decoration-color: #000000; font-weight: bold\">)</span><span style=\"color: #000000; text-decoration-color: #000000\">,</span>\n<span style=\"color: #000000; text-decoration-color: #000000\">                    </span><span style=\"color: #008000; text-decoration-color: #008000\">'name'</span><span style=\"color: #000000; text-decoration-color: #000000\">: </span><span style=\"color: #008000; text-decoration-color: #008000\">'sibsp'</span><span style=\"color: #000000; text-decoration-color: #000000\">,</span>\n<span style=\"color: #000000; text-decoration-color: #000000\">                    </span><span style=\"color: #008000; text-decoration-color: #008000\">'included'</span><span style=\"color: #000000; text-decoration-color: #000000\">: </span><span style=\"color: #00ff00; text-decoration-color: #00ff00; font-style: italic\">True</span><span style=\"color: #000000; text-decoration-color: #000000\">,</span>\n<span style=\"color: #000000; text-decoration-color: #000000\">                    </span><span style=\"color: #008000; text-decoration-color: #008000\">'model_encoding_type'</span><span style=\"color: #000000; text-decoration-color: #000000\">: &lt;ModelEncodingType.numeric_auto: </span><span style=\"color: #008000; text-decoration-color: #008000\">'NUMERIC_AUTO'</span><span style=\"color: #000000; text-decoration-color: #000000\">&gt;</span>\n<span style=\"color: #000000; text-decoration-color: #000000\">                </span><span style=\"color: #000000; text-decoration-color: #000000; font-weight: bold\">}</span><span style=\"color: #000000; text-decoration-color: #000000\">,</span>\n<span style=\"color: #000000; text-decoration-color: #000000\">                </span><span style=\"color: #000000; text-decoration-color: #000000; font-weight: bold\">{</span>\n<span style=\"color: #000000; text-decoration-color: #000000\">                    </span><span style=\"color: #008000; text-decoration-color: #008000\">'id'</span><span style=\"color: #000000; text-decoration-color: #000000\">: </span><span style=\"color: #800080; text-decoration-color: #800080; font-weight: bold\">UUID</span><span style=\"color: #000000; text-decoration-color: #000000; font-weight: bold\">(</span><span style=\"color: #008000; text-decoration-color: #008000\">'9b1cb9f0-8c57-4fcf-9443-e438e0bbeae7'</span><span style=\"color: #000000; text-decoration-color: #000000; font-weight: bold\">)</span><span style=\"color: #000000; text-decoration-color: #000000\">,</span>\n<span style=\"color: #000000; text-decoration-color: #000000\">                    </span><span style=\"color: #008000; text-decoration-color: #008000\">'name'</span><span style=\"color: #000000; text-decoration-color: #000000\">: </span><span style=\"color: #008000; text-decoration-color: #008000\">'parch'</span><span style=\"color: #000000; text-decoration-color: #000000\">,</span>\n<span style=\"color: #000000; text-decoration-color: #000000\">                    </span><span style=\"color: #008000; text-decoration-color: #008000\">'included'</span><span style=\"color: #000000; text-decoration-color: #000000\">: </span><span style=\"color: #00ff00; text-decoration-color: #00ff00; font-style: italic\">True</span><span style=\"color: #000000; text-decoration-color: #000000\">,</span>\n<span style=\"color: #000000; text-decoration-color: #000000\">                    </span><span style=\"color: #008000; text-decoration-color: #008000\">'model_encoding_type'</span><span style=\"color: #000000; text-decoration-color: #000000\">: &lt;ModelEncodingType.numeric_auto: </span><span style=\"color: #008000; text-decoration-color: #008000\">'NUMERIC_AUTO'</span><span style=\"color: #000000; text-decoration-color: #000000\">&gt;</span>\n<span style=\"color: #000000; text-decoration-color: #000000\">                </span><span style=\"color: #000000; text-decoration-color: #000000; font-weight: bold\">}</span><span style=\"color: #000000; text-decoration-color: #000000\">,</span>\n<span style=\"color: #000000; text-decoration-color: #000000\">                </span><span style=\"color: #000000; text-decoration-color: #000000; font-weight: bold\">{</span>\n<span style=\"color: #000000; text-decoration-color: #000000\">                    </span><span style=\"color: #008000; text-decoration-color: #008000\">'id'</span><span style=\"color: #000000; text-decoration-color: #000000\">: </span><span style=\"color: #800080; text-decoration-color: #800080; font-weight: bold\">UUID</span><span style=\"color: #000000; text-decoration-color: #000000; font-weight: bold\">(</span><span style=\"color: #008000; text-decoration-color: #008000\">'c659f2db-3966-4e67-b6c4-7be33eff8568'</span><span style=\"color: #000000; text-decoration-color: #000000; font-weight: bold\">)</span><span style=\"color: #000000; text-decoration-color: #000000\">,</span>\n<span style=\"color: #000000; text-decoration-color: #000000\">                    </span><span style=\"color: #008000; text-decoration-color: #008000\">'name'</span><span style=\"color: #000000; text-decoration-color: #000000\">: </span><span style=\"color: #008000; text-decoration-color: #008000\">'fare'</span><span style=\"color: #000000; text-decoration-color: #000000\">,</span>\n<span style=\"color: #000000; text-decoration-color: #000000\">                    </span><span style=\"color: #008000; text-decoration-color: #008000\">'included'</span><span style=\"color: #000000; text-decoration-color: #000000\">: </span><span style=\"color: #00ff00; text-decoration-color: #00ff00; font-style: italic\">True</span><span style=\"color: #000000; text-decoration-color: #000000\">,</span>\n<span style=\"color: #000000; text-decoration-color: #000000\">                    </span><span style=\"color: #008000; text-decoration-color: #008000\">'model_encoding_type'</span><span style=\"color: #000000; text-decoration-color: #000000\">: &lt;ModelEncodingType.numeric_auto: </span><span style=\"color: #008000; text-decoration-color: #008000\">'NUMERIC_AUTO'</span><span style=\"color: #000000; text-decoration-color: #000000\">&gt;</span>\n<span style=\"color: #000000; text-decoration-color: #000000\">                </span><span style=\"color: #000000; text-decoration-color: #000000; font-weight: bold\">}</span><span style=\"color: #000000; text-decoration-color: #000000\">,</span>\n<span style=\"color: #000000; text-decoration-color: #000000\">                </span><span style=\"color: #000000; text-decoration-color: #000000; font-weight: bold\">{</span>\n<span style=\"color: #000000; text-decoration-color: #000000\">                    </span><span style=\"color: #008000; text-decoration-color: #008000\">'id'</span><span style=\"color: #000000; text-decoration-color: #000000\">: </span><span style=\"color: #800080; text-decoration-color: #800080; font-weight: bold\">UUID</span><span style=\"color: #000000; text-decoration-color: #000000; font-weight: bold\">(</span><span style=\"color: #008000; text-decoration-color: #008000\">'26eeee10-5f08-4b0a-bee0-cb3c623d00d0'</span><span style=\"color: #000000; text-decoration-color: #000000; font-weight: bold\">)</span><span style=\"color: #000000; text-decoration-color: #000000\">,</span>\n<span style=\"color: #000000; text-decoration-color: #000000\">                    </span><span style=\"color: #008000; text-decoration-color: #008000\">'name'</span><span style=\"color: #000000; text-decoration-color: #000000\">: </span><span style=\"color: #008000; text-decoration-color: #008000\">'embarked'</span><span style=\"color: #000000; text-decoration-color: #000000\">,</span>\n<span style=\"color: #000000; text-decoration-color: #000000\">                    </span><span style=\"color: #008000; text-decoration-color: #008000\">'included'</span><span style=\"color: #000000; text-decoration-color: #000000\">: </span><span style=\"color: #00ff00; text-decoration-color: #00ff00; font-style: italic\">True</span><span style=\"color: #000000; text-decoration-color: #000000\">,</span>\n<span style=\"color: #000000; text-decoration-color: #000000\">                    </span><span style=\"color: #008000; text-decoration-color: #008000\">'model_encoding_type'</span><span style=\"color: #000000; text-decoration-color: #000000\">: &lt;ModelEncodingType.categorical: </span><span style=\"color: #008000; text-decoration-color: #008000\">'CATEGORICAL'</span><span style=\"color: #000000; text-decoration-color: #000000\">&gt;</span>\n<span style=\"color: #000000; text-decoration-color: #000000\">                </span><span style=\"color: #000000; text-decoration-color: #000000; font-weight: bold\">}</span>\n<span style=\"color: #000000; text-decoration-color: #000000\">            </span><span style=\"color: #000000; text-decoration-color: #000000; font-weight: bold\">]</span><span style=\"color: #000000; text-decoration-color: #000000\">,</span>\n<span style=\"color: #000000; text-decoration-color: #000000\">            </span><span style=\"color: #008000; text-decoration-color: #008000\">'foreign_keys'</span><span style=\"color: #000000; text-decoration-color: #000000\">: </span><span style=\"color: #800080; text-decoration-color: #800080; font-style: italic\">None</span><span style=\"color: #000000; text-decoration-color: #000000\">,</span>\n<span style=\"color: #000000; text-decoration-color: #000000\">            </span><span style=\"color: #008000; text-decoration-color: #008000\">'model'</span><span style=\"color: #000000; text-decoration-color: #000000\">: </span><span style=\"color: #000000; text-decoration-color: #000000; font-weight: bold\">{</span>\n<span style=\"color: #000000; text-decoration-color: #000000\">                </span><span style=\"color: #008000; text-decoration-color: #008000\">'id'</span><span style=\"color: #000000; text-decoration-color: #000000\">: </span><span style=\"color: #008000; text-decoration-color: #008000\">'7be1e0b0-bd66-4354-8b4c-c5c61836e98a'</span><span style=\"color: #000000; text-decoration-color: #000000\">,</span>\n<span style=\"color: #000000; text-decoration-color: #000000\">                </span><span style=\"color: #008000; text-decoration-color: #008000\">'configuration'</span><span style=\"color: #000000; text-decoration-color: #000000\">: </span><span style=\"color: #000000; text-decoration-color: #000000; font-weight: bold\">{</span>\n<span style=\"color: #000000; text-decoration-color: #000000\">                    </span><span style=\"color: #008000; text-decoration-color: #008000\">'sample_fraction'</span><span style=\"color: #000000; text-decoration-color: #000000\">: </span><span style=\"color: #008080; text-decoration-color: #008080; font-weight: bold\">1.0</span><span style=\"color: #000000; text-decoration-color: #000000\">,</span>\n<span style=\"color: #000000; text-decoration-color: #000000\">                    </span><span style=\"color: #008000; text-decoration-color: #008000\">'max_sample_size'</span><span style=\"color: #000000; text-decoration-color: #000000\">: </span><span style=\"color: #800080; text-decoration-color: #800080; font-style: italic\">None</span><span style=\"color: #000000; text-decoration-color: #000000\">,</span>\n<span style=\"color: #000000; text-decoration-color: #000000\">                    </span><span style=\"color: #008000; text-decoration-color: #008000\">'batch_size'</span><span style=\"color: #000000; text-decoration-color: #000000\">: </span><span style=\"color: #800080; text-decoration-color: #800080; font-style: italic\">None</span><span style=\"color: #000000; text-decoration-color: #000000\">,</span>\n<span style=\"color: #000000; text-decoration-color: #000000\">                    </span><span style=\"color: #008000; text-decoration-color: #008000\">'model_size'</span><span style=\"color: #000000; text-decoration-color: #000000\">: &lt;ModelSize.m: </span><span style=\"color: #008000; text-decoration-color: #008000\">'M'</span><span style=\"color: #000000; text-decoration-color: #000000\">&gt;,</span>\n<span style=\"color: #000000; text-decoration-color: #000000\">                    </span><span style=\"color: #008000; text-decoration-color: #008000\">'max_training_time'</span><span style=\"color: #000000; text-decoration-color: #000000\">: </span><span style=\"color: #008080; text-decoration-color: #008080; font-weight: bold\">10</span><span style=\"color: #000000; text-decoration-color: #000000\">,</span>\n<span style=\"color: #000000; text-decoration-color: #000000\">                    </span><span style=\"color: #008000; text-decoration-color: #008000\">'max_epochs'</span><span style=\"color: #000000; text-decoration-color: #000000\">: </span><span style=\"color: #008080; text-decoration-color: #008080; font-weight: bold\">100</span><span style=\"color: #000000; text-decoration-color: #000000\">,</span>\n<span style=\"color: #000000; text-decoration-color: #000000\">                    </span><span style=\"color: #008000; text-decoration-color: #008000\">'max_sequence_window'</span><span style=\"color: #000000; text-decoration-color: #000000\">: </span><span style=\"color: #008080; text-decoration-color: #008080; font-weight: bold\">100</span><span style=\"color: #000000; text-decoration-color: #000000\">,</span>\n<span style=\"color: #000000; text-decoration-color: #000000\">                    </span><span style=\"color: #008000; text-decoration-color: #008000\">'enable_flexible_generation'</span><span style=\"color: #000000; text-decoration-color: #000000\">: </span><span style=\"color: #00ff00; text-decoration-color: #00ff00; font-style: italic\">True</span><span style=\"color: #000000; text-decoration-color: #000000\">,</span>\n<span style=\"color: #000000; text-decoration-color: #000000\">                    </span><span style=\"color: #008000; text-decoration-color: #008000\">'value_protection'</span><span style=\"color: #000000; text-decoration-color: #000000\">: </span><span style=\"color: #00ff00; text-decoration-color: #00ff00; font-style: italic\">True</span><span style=\"color: #000000; text-decoration-color: #000000\">,</span>\n<span style=\"color: #000000; text-decoration-color: #000000\">                    </span><span style=\"color: #008000; text-decoration-color: #008000\">'rare_category_replacement_method'</span><span style=\"color: #000000; text-decoration-color: #000000\">: &lt;RareCategoryReplacementMethod.constant: </span><span style=\"color: #008000; text-decoration-color: #008000\">'CONSTANT'</span><span style=\"font-weight: bold\">&gt;</span>\n                <span style=\"font-weight: bold\">}</span>,\n                <span style=\"color: #008000; text-decoration-color: #008000\">'metrics'</span>: <span style=\"font-weight: bold\">{</span>\n                    <span style=\"color: #008000; text-decoration-color: #008000\">'accuracy'</span>: <span style=\"font-weight: bold\">{</span>\n                        <span style=\"color: #008000; text-decoration-color: #008000\">'overall'</span>: <span style=\"color: #008080; text-decoration-color: #008080; font-weight: bold\">0.929</span>,\n                        <span style=\"color: #008000; text-decoration-color: #008000\">'univariate'</span>: <span style=\"color: #008080; text-decoration-color: #008080; font-weight: bold\">0.955</span>,\n                        <span style=\"color: #008000; text-decoration-color: #008000\">'bivariate'</span>: <span style=\"color: #008080; text-decoration-color: #008080; font-weight: bold\">0.903</span>,\n                        <span style=\"color: #008000; text-decoration-color: #008000\">'coherence'</span>: <span style=\"color: #800080; text-decoration-color: #800080; font-style: italic\">None</span>,\n                        <span style=\"color: #008000; text-decoration-color: #008000\">'overall_max'</span>: <span style=\"color: #008080; text-decoration-color: #008080; font-weight: bold\">0.959</span>\n                    <span style=\"font-weight: bold\">}</span>,\n                    <span style=\"color: #008000; text-decoration-color: #008000\">'distances'</span>: <span style=\"font-weight: bold\">{</span><span style=\"color: #008000; text-decoration-color: #008000\">'dcr_original'</span>: <span style=\"color: #008080; text-decoration-color: #008080; font-weight: bold\">0.713</span>, <span style=\"color: #008000; text-decoration-color: #008000\">'dcr_synthetic'</span>: <span style=\"color: #008080; text-decoration-color: #008080; font-weight: bold\">1.22</span><span style=\"font-weight: bold\">}</span>\n                <span style=\"font-weight: bold\">}</span>\n            <span style=\"font-weight: bold\">}</span>,\n            <span style=\"color: #008000; text-decoration-color: #008000\">'text_model'</span>: <span style=\"color: #800080; text-decoration-color: #800080; font-style: italic\">None</span>,\n            <span style=\"color: #008000; text-decoration-color: #008000\">'total_rows'</span>: <span style=\"color: #008080; text-decoration-color: #008080; font-weight: bold\">1309</span>\n        <span style=\"font-weight: bold\">}</span>\n    <span style=\"font-weight: bold\">]</span>,\n    <span style=\"color: #008000; text-decoration-color: #008000\">'synthetic_datasets'</span>: <span style=\"font-weight: bold\">[]</span>\n<span style=\"font-weight: bold\">}</span>\n</pre>\n"
     },
     "metadata": {},
     "output_type": "display_data"
    },
    {
     "data": {
      "text/plain": "",
      "text/html": "<pre style=\"white-space:pre;overflow-x:auto;line-height:normal;font-family:Menlo,'DejaVu Sans Mono',consolas,'Courier New',monospace\"></pre>\n"
     },
     "metadata": {},
     "output_type": "display_data"
    },
    {
     "data": {
      "text/plain": "Generator(id=UUID('03126d48-983a-4bef-b633-5a2d166f6f33'), name='titanic', description=None, training_status=<ProgressStatus.done: 'DONE'>, training_time=None, metadata=Metadata(created_at=datetime.datetime(2024, 2, 27, 12, 3, 57, 232900, tzinfo=TzInfo(UTC)), owner_id='94b142d1-f543-40a2-98ba-3192a738c4ee', owner_name='Test 1', current_user_permission_level=<PermissionLevel.admin: 'ADMIN'>), accuracy=0.929, tables=[SourceTable(id=UUID('893cfe60-424f-4997-ab5d-a0b09a3b12b1'), source_connector=BaseResource(id=UUID('933cf025-7e03-4b89-a2c8-4bd39a332a84'), name=None, uri='/connectors/933cf025-7e03-4b89-a2c8-4bd39a332a84'), location=None, name='titanic', primary_key=None, columns=[SourceColumn(id=UUID('39a6c8e6-7499-40be-b0bd-8764b2fb7e0b'), name='survived', included=True, model_encoding_type=<ModelEncodingType.numeric_auto: 'NUMERIC_AUTO'>), SourceColumn(id=UUID('cd8c0245-5e26-4919-967a-b7f9b0448425'), name='pclass', included=True, model_encoding_type=<ModelEncodingType.numeric_auto: 'NUMERIC_AUTO'>), SourceColumn(id=UUID('bcf6ab5c-7919-4b1a-9e80-8a64c7a4a109'), name='sex', included=True, model_encoding_type=<ModelEncodingType.categorical: 'CATEGORICAL'>), SourceColumn(id=UUID('712d6bf2-42e8-4d9d-905c-cc6ed2723427'), name='age', included=True, model_encoding_type=<ModelEncodingType.numeric_auto: 'NUMERIC_AUTO'>), SourceColumn(id=UUID('6ef4a2ab-555c-4a9a-b065-96f36be687cf'), name='sibsp', included=True, model_encoding_type=<ModelEncodingType.numeric_auto: 'NUMERIC_AUTO'>), SourceColumn(id=UUID('9b1cb9f0-8c57-4fcf-9443-e438e0bbeae7'), name='parch', included=True, model_encoding_type=<ModelEncodingType.numeric_auto: 'NUMERIC_AUTO'>), SourceColumn(id=UUID('c659f2db-3966-4e67-b6c4-7be33eff8568'), name='fare', included=True, model_encoding_type=<ModelEncodingType.numeric_auto: 'NUMERIC_AUTO'>), SourceColumn(id=UUID('26eeee10-5f08-4b0a-bee0-cb3c623d00d0'), name='embarked', included=True, model_encoding_type=<ModelEncodingType.categorical: 'CATEGORICAL'>)], foreign_keys=None, model=Model(id='7be1e0b0-bd66-4354-8b4c-c5c61836e98a', configuration=ModelConfiguration(sample_fraction=1.0, max_sample_size=None, batch_size=None, model_size=<ModelSize.m: 'M'>, max_training_time=10, max_epochs=100, max_sequence_window=100, enable_flexible_generation=True, value_protection=True, rare_category_replacement_method=<RareCategoryReplacementMethod.constant: 'CONSTANT'>), metrics=ModelMetrics(accuracy=Accuracy(overall=0.929, univariate=0.955, bivariate=0.903, coherence=None, overall_max=0.959), distances=Distances(dcr_original=0.713, dcr_synthetic=1.22))), text_model=None, total_rows=1309)], synthetic_datasets=[], training=<mostlyai.model.Generator.Training object at 0x12524e110>)",
      "text/html": ""
     },
     "execution_count": 48,
     "metadata": {},
     "output_type": "execute_result"
    }
   ],
   "source": [
    "g"
   ],
   "metadata": {
    "collapsed": false,
    "ExecuteTime": {
     "end_time": "2024-02-27T12:08:48.311637Z",
     "start_time": "2024-02-27T12:08:48.024565Z"
    }
   },
   "id": "4e80c740d5e0cfe0"
  },
  {
   "cell_type": "code",
   "execution_count": 52,
   "outputs": [],
   "source": [
    "# Open the created generator in a web browser \n",
    "g.open()"
   ],
   "metadata": {
    "collapsed": false,
    "ExecuteTime": {
     "end_time": "2024-02-27T12:10:21.104641Z",
     "start_time": "2024-02-27T12:10:20.625381Z"
    }
   },
   "id": "c00c62c1d8ae0419"
  },
  {
   "cell_type": "markdown",
   "id": "f90a89fc-513d-4e51-a55a-45e8849cc9dc",
   "metadata": {},
   "source": [
    "### User 1 shares the Generator with User 2 and User 3"
   ]
  },
  {
   "cell_type": "code",
   "execution_count": 26,
   "id": "8d5f3e0cb7cc8c64",
   "metadata": {
    "collapsed": false,
    "ExecuteTime": {
     "end_time": "2024-02-27T11:23:58.533555Z",
     "start_time": "2024-02-27T11:23:45.363973Z"
    }
   },
   "outputs": [
    {
     "data": {
      "text/plain": "Granted \u001B[1mtest2@mostly.ai\u001B[0m VIEW access to resource \u001B[1;36md28b2d4f-6af4-4e21-9cca-a7ba34d25535\u001B[0m\n",
      "text/html": "<pre style=\"white-space:pre;overflow-x:auto;line-height:normal;font-family:Menlo,'DejaVu Sans Mono',consolas,'Courier New',monospace\">Granted <span style=\"font-weight: bold\">test2@mostly.ai</span> VIEW access to resource <span style=\"color: #008080; text-decoration-color: #008080; font-weight: bold\">d28b2d4f-6af4-4e21-9cca-a7ba34d25535</span>\n</pre>\n"
     },
     "metadata": {},
     "output_type": "display_data"
    },
    {
     "data": {
      "text/plain": "Granted \u001B[1mtest3@mostly.ai\u001B[0m VIEW access to resource \u001B[1;36md28b2d4f-6af4-4e21-9cca-a7ba34d25535\u001B[0m\n",
      "text/html": "<pre style=\"white-space:pre;overflow-x:auto;line-height:normal;font-family:Menlo,'DejaVu Sans Mono',consolas,'Courier New',monospace\">Granted <span style=\"font-weight: bold\">test3@mostly.ai</span> VIEW access to resource <span style=\"color: #008080; text-decoration-color: #008080; font-weight: bold\">d28b2d4f-6af4-4e21-9cca-a7ba34d25535</span>\n</pre>\n"
     },
     "metadata": {},
     "output_type": "display_data"
    }
   ],
   "source": [
    "mostly_t1.share(g, 'test2@mostly.ai')\n",
    "mostly_t1.share(g, 'test3@mostly.ai')"
   ]
  },
  {
   "cell_type": "markdown",
   "id": "82932d4d-4cf9-49ae-88ae-67f5d25271c7",
   "metadata": {},
   "source": [
    "### User 2 generates a Synthetic Dataset"
   ]
  },
  {
   "cell_type": "code",
   "execution_count": 27,
   "id": "2b237a256703811f",
   "metadata": {
    "collapsed": false,
    "ExecuteTime": {
     "end_time": "2024-02-27T11:24:37.322130Z",
     "start_time": "2024-02-27T11:24:06.739253Z"
    }
   },
   "outputs": [
    {
     "data": {
      "text/plain": "Created synthetic dataset \u001B]8;id=492905;https://llb2.dev.mostlylab.com/d/synthetic-datasets/fa3d76e4-b8d0-4470-abe6-18c857f53f39\u001B\\\u001B[4;34mfa3d76e4-b8d0-4470-abe6-18c857f53f39\u001B[0m\u001B]8;;\u001B\\ with generator \u001B]8;id=956180;https://llb2.dev.mostlylab.com/d/generators/d28b2d4f-6af4-4e21-9cca-a7ba34d25535\u001B\\\u001B[4;34md28b2d4f-6af4-4e21-9cca-a7ba34d25535\u001B[0m\u001B]8;;\u001B\\\n",
      "text/html": "<pre style=\"white-space:pre;overflow-x:auto;line-height:normal;font-family:Menlo,'DejaVu Sans Mono',consolas,'Courier New',monospace\">Created synthetic dataset <a href=\"https://llb2.dev.mostlylab.com/d/synthetic-datasets/fa3d76e4-b8d0-4470-abe6-18c857f53f39\" target=\"_blank\"><span style=\"color: #000080; text-decoration-color: #000080; text-decoration: underline\">fa3d76e4-b8d0-4470-abe6-18c857f53f39</span></a> with generator <a href=\"https://llb2.dev.mostlylab.com/d/generators/d28b2d4f-6af4-4e21-9cca-a7ba34d25535\" target=\"_blank\"><span style=\"color: #000080; text-decoration-color: #000080; text-decoration: underline\">d28b2d4f-6af4-4e21-9cca-a7ba34d25535</span></a>\n</pre>\n"
     },
     "metadata": {},
     "output_type": "display_data"
    },
    {
     "data": {
      "text/plain": "Started synthetic dataset generation\n",
      "text/html": "<pre style=\"white-space:pre;overflow-x:auto;line-height:normal;font-family:Menlo,'DejaVu Sans Mono',consolas,'Courier New',monospace\">Started synthetic dataset generation\n</pre>\n"
     },
     "metadata": {},
     "output_type": "display_data"
    },
    {
     "data": {
      "text/plain": "Output()",
      "application/vnd.jupyter.widget-view+json": {
       "version_major": 2,
       "version_minor": 0,
       "model_id": "1161844a0e594de6b8c0560113fdd315"
      }
     },
     "metadata": {},
     "output_type": "display_data"
    },
    {
     "data": {
      "text/plain": "",
      "text/html": "<pre style=\"white-space:pre;overflow-x:auto;line-height:normal;font-family:Menlo,'DejaVu Sans Mono',consolas,'Courier New',monospace\"></pre>\n"
     },
     "metadata": {},
     "output_type": "display_data"
    },
    {
     "data": {
      "text/plain": "\n",
      "text/html": "<pre style=\"white-space:pre;overflow-x:auto;line-height:normal;font-family:Menlo,'DejaVu Sans Mono',consolas,'Courier New',monospace\">\n</pre>\n"
     },
     "metadata": {},
     "output_type": "display_data"
    },
    {
     "data": {
      "text/plain": "🎉 \u001B[1;32mYour synthetic dataset is ready!\u001B[0m Use it to consume the generated data. Share it so others can do the same.\n",
      "text/html": "<pre style=\"white-space:pre;overflow-x:auto;line-height:normal;font-family:Menlo,'DejaVu Sans Mono',consolas,'Courier New',monospace\">🎉 <span style=\"color: #008000; text-decoration-color: #008000; font-weight: bold\">Your synthetic dataset is ready!</span> Use it to consume the generated data. Share it so others can do the same.\n</pre>\n"
     },
     "metadata": {},
     "output_type": "display_data"
    }
   ],
   "source": [
    "sd = mostly_t2.generate(g.id, size=1000)"
   ]
  },
  {
   "cell_type": "markdown",
   "id": "360efa10-8298-4f47-aded-9f6abefc2d1f",
   "metadata": {},
   "source": [
    "### User 2 consumes the Synthetic Dataset"
   ]
  },
  {
   "cell_type": "code",
   "execution_count": 28,
   "id": "dbbc2c89-7d0f-48fd-b412-9687235ed753",
   "metadata": {
    "ExecuteTime": {
     "end_time": "2024-02-27T11:25:01.675921Z",
     "start_time": "2024-02-27T11:25:01.092313Z"
    }
   },
   "outputs": [
    {
     "data": {
      "text/plain": "     survived  pclass     sex   age  sibsp  parch  fare embarked\n0           0       3    male    12      0      0     8        Q\n1           1       3    male  <NA>      0      0     8        S\n2           0       3    male    42      0      0     7        S\n3           1       2  female    54      0      0    12        S\n4           1       3    male    56      1      2    26        S\n..        ...     ...     ...   ...    ...    ...   ...      ...\n995         0       3    male    24      0      0    73        S\n996         0       1    male    28      2      0    44        S\n997         0       3    male    46      0      2     7        C\n998         0       3    male    66      0      0     9        S\n999         1       1    male  <NA>      0      0     8        C\n\n[1000 rows x 8 columns]",
      "text/html": "<div>\n<style scoped>\n    .dataframe tbody tr th:only-of-type {\n        vertical-align: middle;\n    }\n\n    .dataframe tbody tr th {\n        vertical-align: top;\n    }\n\n    .dataframe thead th {\n        text-align: right;\n    }\n</style>\n<table border=\"1\" class=\"dataframe\">\n  <thead>\n    <tr style=\"text-align: right;\">\n      <th></th>\n      <th>survived</th>\n      <th>pclass</th>\n      <th>sex</th>\n      <th>age</th>\n      <th>sibsp</th>\n      <th>parch</th>\n      <th>fare</th>\n      <th>embarked</th>\n    </tr>\n  </thead>\n  <tbody>\n    <tr>\n      <th>0</th>\n      <td>0</td>\n      <td>3</td>\n      <td>male</td>\n      <td>12</td>\n      <td>0</td>\n      <td>0</td>\n      <td>8</td>\n      <td>Q</td>\n    </tr>\n    <tr>\n      <th>1</th>\n      <td>1</td>\n      <td>3</td>\n      <td>male</td>\n      <td>&lt;NA&gt;</td>\n      <td>0</td>\n      <td>0</td>\n      <td>8</td>\n      <td>S</td>\n    </tr>\n    <tr>\n      <th>2</th>\n      <td>0</td>\n      <td>3</td>\n      <td>male</td>\n      <td>42</td>\n      <td>0</td>\n      <td>0</td>\n      <td>7</td>\n      <td>S</td>\n    </tr>\n    <tr>\n      <th>3</th>\n      <td>1</td>\n      <td>2</td>\n      <td>female</td>\n      <td>54</td>\n      <td>0</td>\n      <td>0</td>\n      <td>12</td>\n      <td>S</td>\n    </tr>\n    <tr>\n      <th>4</th>\n      <td>1</td>\n      <td>3</td>\n      <td>male</td>\n      <td>56</td>\n      <td>1</td>\n      <td>2</td>\n      <td>26</td>\n      <td>S</td>\n    </tr>\n    <tr>\n      <th>...</th>\n      <td>...</td>\n      <td>...</td>\n      <td>...</td>\n      <td>...</td>\n      <td>...</td>\n      <td>...</td>\n      <td>...</td>\n      <td>...</td>\n    </tr>\n    <tr>\n      <th>995</th>\n      <td>0</td>\n      <td>3</td>\n      <td>male</td>\n      <td>24</td>\n      <td>0</td>\n      <td>0</td>\n      <td>73</td>\n      <td>S</td>\n    </tr>\n    <tr>\n      <th>996</th>\n      <td>0</td>\n      <td>1</td>\n      <td>male</td>\n      <td>28</td>\n      <td>2</td>\n      <td>0</td>\n      <td>44</td>\n      <td>S</td>\n    </tr>\n    <tr>\n      <th>997</th>\n      <td>0</td>\n      <td>3</td>\n      <td>male</td>\n      <td>46</td>\n      <td>0</td>\n      <td>2</td>\n      <td>7</td>\n      <td>C</td>\n    </tr>\n    <tr>\n      <th>998</th>\n      <td>0</td>\n      <td>3</td>\n      <td>male</td>\n      <td>66</td>\n      <td>0</td>\n      <td>0</td>\n      <td>9</td>\n      <td>S</td>\n    </tr>\n    <tr>\n      <th>999</th>\n      <td>1</td>\n      <td>1</td>\n      <td>male</td>\n      <td>&lt;NA&gt;</td>\n      <td>0</td>\n      <td>0</td>\n      <td>8</td>\n      <td>C</td>\n    </tr>\n  </tbody>\n</table>\n<p>1000 rows × 8 columns</p>\n</div>"
     },
     "execution_count": 28,
     "metadata": {},
     "output_type": "execute_result"
    }
   ],
   "source": [
    "sd.data()"
   ]
  },
  {
   "cell_type": "code",
   "execution_count": 29,
   "outputs": [
    {
     "data": {
      "text/plain": "\u001B[1m{\u001B[0m\n    \u001B[32m'id'\u001B[0m: \u001B[1;35mUUID\u001B[0m\u001B[1m(\u001B[0m\u001B[32m'fa3d76e4-b8d0-4470-abe6-18c857f53f39'\u001B[0m\u001B[1m)\u001B[0m,\n    \u001B[32m'generator'\u001B[0m: \u001B[1m{\u001B[0m\n        \u001B[32m'id'\u001B[0m: \u001B[1;35mUUID\u001B[0m\u001B[1m(\u001B[0m\u001B[32m'd28b2d4f-6af4-4e21-9cca-a7ba34d25535'\u001B[0m\u001B[1m)\u001B[0m,\n        \u001B[32m'name'\u001B[0m: \u001B[32m'titanic'\u001B[0m,\n        \u001B[32m'uri'\u001B[0m: \u001B[32m'/generators/d28b2d4f-6af4-4e21-9cca-a7ba34d25535'\u001B[0m\n    \u001B[1m}\u001B[0m,\n    \u001B[32m'metadata'\u001B[0m: \u001B[1m{\u001B[0m\n        \u001B[32m'created_at'\u001B[0m: \u001B[1;35mdatetime.datetime\u001B[0m\u001B[1m(\u001B[0m\u001B[1;36m2024\u001B[0m, \u001B[1;36m2\u001B[0m, \u001B[1;36m27\u001B[0m, \u001B[1;36m11\u001B[0m, \u001B[1;36m24\u001B[0m, \u001B[1;36m7\u001B[0m, \u001B[1;36m872841\u001B[0m, \u001B[33mtzinfo\u001B[0m=\u001B[1;35mTzInfo\u001B[0m\u001B[1m(\u001B[0mUTC\u001B[1m)\u001B[0m\u001B[1m)\u001B[0m,\n        \u001B[32m'owner_id'\u001B[0m: \u001B[32m'97f86c7f-1365-4ba4-8436-6ff8aeb91971'\u001B[0m,\n        \u001B[32m'owner_name'\u001B[0m: \u001B[32m'test 2'\u001B[0m,\n        \u001B[32m'current_user_permission_level'\u001B[0m: \u001B[1m<\u001B[0m\u001B[1;95mPermissionLevel.admin:\u001B[0m\u001B[39m \u001B[0m\u001B[32m'ADMIN'\u001B[0m\u001B[39m>\u001B[0m\n\u001B[39m    \u001B[0m\u001B[1;39m}\u001B[0m\u001B[39m,\u001B[0m\n\u001B[39m    \u001B[0m\u001B[32m'name'\u001B[0m\u001B[39m: \u001B[0m\u001B[32m'titanic'\u001B[0m\u001B[39m,\u001B[0m\n\u001B[39m    \u001B[0m\u001B[32m'description'\u001B[0m\u001B[39m: \u001B[0m\u001B[3;35mNone\u001B[0m\u001B[39m,\u001B[0m\n\u001B[39m    \u001B[0m\u001B[32m'generation_status'\u001B[0m\u001B[39m: <ProgressStatus.done: \u001B[0m\u001B[32m'DONE'\u001B[0m\u001B[1m>\u001B[0m,\n    \u001B[32m'tables'\u001B[0m: \u001B[1m[\u001B[0m\n        \u001B[1m{\u001B[0m\n            \u001B[32m'id'\u001B[0m: \u001B[1;35mUUID\u001B[0m\u001B[1m(\u001B[0m\u001B[32m'73451d51-794f-433f-a498-53fa258a1803'\u001B[0m\u001B[1m)\u001B[0m,\n            \u001B[32m'name'\u001B[0m: \u001B[32m'titanic'\u001B[0m,\n            \u001B[32m'configuration'\u001B[0m: \u001B[1m{\u001B[0m\n                \u001B[32m'sample_size'\u001B[0m: \u001B[1;36m1000\u001B[0m,\n                \u001B[32m'sample_fraction'\u001B[0m: \u001B[3;35mNone\u001B[0m,\n                \u001B[32m'sample_seed_connector_id'\u001B[0m: \u001B[3;35mNone\u001B[0m,\n                \u001B[32m'sample_seed_data'\u001B[0m: \u001B[3;35mNone\u001B[0m,\n                \u001B[32m'sampling_temperature'\u001B[0m: \u001B[1;36m1.0\u001B[0m,\n                \u001B[32m'sampling_top_p'\u001B[0m: \u001B[1;36m1.0\u001B[0m,\n                \u001B[32m'rebalancing'\u001B[0m: \u001B[3;35mNone\u001B[0m,\n                \u001B[32m'imputation'\u001B[0m: \u001B[3;35mNone\u001B[0m\n            \u001B[1m}\u001B[0m\n        \u001B[1m}\u001B[0m\n    \u001B[1m]\u001B[0m,\n    \u001B[32m'delivery'\u001B[0m: \u001B[3;35mNone\u001B[0m,\n    \u001B[32m'usage'\u001B[0m: \u001B[1m{\u001B[0m\u001B[32m'total_datapoints'\u001B[0m: \u001B[1;36m8000\u001B[0m, \u001B[32m'total_credits'\u001B[0m: \u001B[1;36m1\u001B[0m\u001B[1m}\u001B[0m\n\u001B[1m}\u001B[0m\n",
      "text/html": "<pre style=\"white-space:pre;overflow-x:auto;line-height:normal;font-family:Menlo,'DejaVu Sans Mono',consolas,'Courier New',monospace\"><span style=\"font-weight: bold\">{</span>\n    <span style=\"color: #008000; text-decoration-color: #008000\">'id'</span>: <span style=\"color: #800080; text-decoration-color: #800080; font-weight: bold\">UUID</span><span style=\"font-weight: bold\">(</span><span style=\"color: #008000; text-decoration-color: #008000\">'fa3d76e4-b8d0-4470-abe6-18c857f53f39'</span><span style=\"font-weight: bold\">)</span>,\n    <span style=\"color: #008000; text-decoration-color: #008000\">'generator'</span>: <span style=\"font-weight: bold\">{</span>\n        <span style=\"color: #008000; text-decoration-color: #008000\">'id'</span>: <span style=\"color: #800080; text-decoration-color: #800080; font-weight: bold\">UUID</span><span style=\"font-weight: bold\">(</span><span style=\"color: #008000; text-decoration-color: #008000\">'d28b2d4f-6af4-4e21-9cca-a7ba34d25535'</span><span style=\"font-weight: bold\">)</span>,\n        <span style=\"color: #008000; text-decoration-color: #008000\">'name'</span>: <span style=\"color: #008000; text-decoration-color: #008000\">'titanic'</span>,\n        <span style=\"color: #008000; text-decoration-color: #008000\">'uri'</span>: <span style=\"color: #008000; text-decoration-color: #008000\">'/generators/d28b2d4f-6af4-4e21-9cca-a7ba34d25535'</span>\n    <span style=\"font-weight: bold\">}</span>,\n    <span style=\"color: #008000; text-decoration-color: #008000\">'metadata'</span>: <span style=\"font-weight: bold\">{</span>\n        <span style=\"color: #008000; text-decoration-color: #008000\">'created_at'</span>: <span style=\"color: #800080; text-decoration-color: #800080; font-weight: bold\">datetime.datetime</span><span style=\"font-weight: bold\">(</span><span style=\"color: #008080; text-decoration-color: #008080; font-weight: bold\">2024</span>, <span style=\"color: #008080; text-decoration-color: #008080; font-weight: bold\">2</span>, <span style=\"color: #008080; text-decoration-color: #008080; font-weight: bold\">27</span>, <span style=\"color: #008080; text-decoration-color: #008080; font-weight: bold\">11</span>, <span style=\"color: #008080; text-decoration-color: #008080; font-weight: bold\">24</span>, <span style=\"color: #008080; text-decoration-color: #008080; font-weight: bold\">7</span>, <span style=\"color: #008080; text-decoration-color: #008080; font-weight: bold\">872841</span>, <span style=\"color: #808000; text-decoration-color: #808000\">tzinfo</span>=<span style=\"color: #800080; text-decoration-color: #800080; font-weight: bold\">TzInfo</span><span style=\"font-weight: bold\">(</span>UTC<span style=\"font-weight: bold\">))</span>,\n        <span style=\"color: #008000; text-decoration-color: #008000\">'owner_id'</span>: <span style=\"color: #008000; text-decoration-color: #008000\">'97f86c7f-1365-4ba4-8436-6ff8aeb91971'</span>,\n        <span style=\"color: #008000; text-decoration-color: #008000\">'owner_name'</span>: <span style=\"color: #008000; text-decoration-color: #008000\">'test 2'</span>,\n        <span style=\"color: #008000; text-decoration-color: #008000\">'current_user_permission_level'</span>: <span style=\"font-weight: bold\">&lt;</span><span style=\"color: #ff00ff; text-decoration-color: #ff00ff; font-weight: bold\">PermissionLevel.admin:</span><span style=\"color: #000000; text-decoration-color: #000000\"> </span><span style=\"color: #008000; text-decoration-color: #008000\">'ADMIN'</span><span style=\"color: #000000; text-decoration-color: #000000\">&gt;</span>\n<span style=\"color: #000000; text-decoration-color: #000000\">    </span><span style=\"color: #000000; text-decoration-color: #000000; font-weight: bold\">}</span><span style=\"color: #000000; text-decoration-color: #000000\">,</span>\n<span style=\"color: #000000; text-decoration-color: #000000\">    </span><span style=\"color: #008000; text-decoration-color: #008000\">'name'</span><span style=\"color: #000000; text-decoration-color: #000000\">: </span><span style=\"color: #008000; text-decoration-color: #008000\">'titanic'</span><span style=\"color: #000000; text-decoration-color: #000000\">,</span>\n<span style=\"color: #000000; text-decoration-color: #000000\">    </span><span style=\"color: #008000; text-decoration-color: #008000\">'description'</span><span style=\"color: #000000; text-decoration-color: #000000\">: </span><span style=\"color: #800080; text-decoration-color: #800080; font-style: italic\">None</span><span style=\"color: #000000; text-decoration-color: #000000\">,</span>\n<span style=\"color: #000000; text-decoration-color: #000000\">    </span><span style=\"color: #008000; text-decoration-color: #008000\">'generation_status'</span><span style=\"color: #000000; text-decoration-color: #000000\">: &lt;ProgressStatus.done: </span><span style=\"color: #008000; text-decoration-color: #008000\">'DONE'</span><span style=\"font-weight: bold\">&gt;</span>,\n    <span style=\"color: #008000; text-decoration-color: #008000\">'tables'</span>: <span style=\"font-weight: bold\">[</span>\n        <span style=\"font-weight: bold\">{</span>\n            <span style=\"color: #008000; text-decoration-color: #008000\">'id'</span>: <span style=\"color: #800080; text-decoration-color: #800080; font-weight: bold\">UUID</span><span style=\"font-weight: bold\">(</span><span style=\"color: #008000; text-decoration-color: #008000\">'73451d51-794f-433f-a498-53fa258a1803'</span><span style=\"font-weight: bold\">)</span>,\n            <span style=\"color: #008000; text-decoration-color: #008000\">'name'</span>: <span style=\"color: #008000; text-decoration-color: #008000\">'titanic'</span>,\n            <span style=\"color: #008000; text-decoration-color: #008000\">'configuration'</span>: <span style=\"font-weight: bold\">{</span>\n                <span style=\"color: #008000; text-decoration-color: #008000\">'sample_size'</span>: <span style=\"color: #008080; text-decoration-color: #008080; font-weight: bold\">1000</span>,\n                <span style=\"color: #008000; text-decoration-color: #008000\">'sample_fraction'</span>: <span style=\"color: #800080; text-decoration-color: #800080; font-style: italic\">None</span>,\n                <span style=\"color: #008000; text-decoration-color: #008000\">'sample_seed_connector_id'</span>: <span style=\"color: #800080; text-decoration-color: #800080; font-style: italic\">None</span>,\n                <span style=\"color: #008000; text-decoration-color: #008000\">'sample_seed_data'</span>: <span style=\"color: #800080; text-decoration-color: #800080; font-style: italic\">None</span>,\n                <span style=\"color: #008000; text-decoration-color: #008000\">'sampling_temperature'</span>: <span style=\"color: #008080; text-decoration-color: #008080; font-weight: bold\">1.0</span>,\n                <span style=\"color: #008000; text-decoration-color: #008000\">'sampling_top_p'</span>: <span style=\"color: #008080; text-decoration-color: #008080; font-weight: bold\">1.0</span>,\n                <span style=\"color: #008000; text-decoration-color: #008000\">'rebalancing'</span>: <span style=\"color: #800080; text-decoration-color: #800080; font-style: italic\">None</span>,\n                <span style=\"color: #008000; text-decoration-color: #008000\">'imputation'</span>: <span style=\"color: #800080; text-decoration-color: #800080; font-style: italic\">None</span>\n            <span style=\"font-weight: bold\">}</span>\n        <span style=\"font-weight: bold\">}</span>\n    <span style=\"font-weight: bold\">]</span>,\n    <span style=\"color: #008000; text-decoration-color: #008000\">'delivery'</span>: <span style=\"color: #800080; text-decoration-color: #800080; font-style: italic\">None</span>,\n    <span style=\"color: #008000; text-decoration-color: #008000\">'usage'</span>: <span style=\"font-weight: bold\">{</span><span style=\"color: #008000; text-decoration-color: #008000\">'total_datapoints'</span>: <span style=\"color: #008080; text-decoration-color: #008080; font-weight: bold\">8000</span>, <span style=\"color: #008000; text-decoration-color: #008000\">'total_credits'</span>: <span style=\"color: #008080; text-decoration-color: #008080; font-weight: bold\">1</span><span style=\"font-weight: bold\">}</span>\n<span style=\"font-weight: bold\">}</span>\n</pre>\n"
     },
     "metadata": {},
     "output_type": "display_data"
    },
    {
     "data": {
      "text/plain": "",
      "text/html": "<pre style=\"white-space:pre;overflow-x:auto;line-height:normal;font-family:Menlo,'DejaVu Sans Mono',consolas,'Courier New',monospace\"></pre>\n"
     },
     "metadata": {},
     "output_type": "display_data"
    },
    {
     "data": {
      "text/plain": "SyntheticDataset(id=UUID('fa3d76e4-b8d0-4470-abe6-18c857f53f39'), generator=BaseResource(id=UUID('d28b2d4f-6af4-4e21-9cca-a7ba34d25535'), name='titanic', uri='/generators/d28b2d4f-6af4-4e21-9cca-a7ba34d25535'), metadata=Metadata(created_at=datetime.datetime(2024, 2, 27, 11, 24, 7, 872841, tzinfo=TzInfo(UTC)), owner_id='97f86c7f-1365-4ba4-8436-6ff8aeb91971', owner_name='test 2', current_user_permission_level=<PermissionLevel.admin: 'ADMIN'>), name='titanic', description=None, generation_status=<ProgressStatus.done: 'DONE'>, tables=[SyntheticTable(id=UUID('73451d51-794f-433f-a498-53fa258a1803'), name='titanic', configuration=SyntheticTableConfiguration(sample_size=1000, sample_fraction=None, sample_seed_connector_id=None, sample_seed_data=None, sampling_temperature=1.0, sampling_top_p=1.0, rebalancing=None, imputation=None))], delivery=None, usage=SyntheticDatasetUsage(total_datapoints=8000, total_credits=1), generation=<mostlyai.model.SyntheticDataset.Generation object at 0x124d2e470>)",
      "text/html": ""
     },
     "execution_count": 29,
     "metadata": {},
     "output_type": "execute_result"
    }
   ],
   "source": [
    "sd"
   ],
   "metadata": {
    "collapsed": false,
    "ExecuteTime": {
     "end_time": "2024-02-27T11:25:11.015381Z",
     "start_time": "2024-02-27T11:25:10.833318Z"
    }
   },
   "id": "22f010a657b442e3"
  },
  {
   "cell_type": "markdown",
   "id": "151dc3eb-5c7a-459a-99e3-68b6094201a7",
   "metadata": {},
   "source": [
    "### User 3 generates a Seeded Synthetic Dataset"
   ]
  },
  {
   "cell_type": "code",
   "execution_count": 30,
   "id": "2373fe44-64b7-4f00-a4d4-9181ccfd4df0",
   "metadata": {
    "ExecuteTime": {
     "end_time": "2024-02-27T11:25:26.698349Z",
     "start_time": "2024-02-27T11:25:26.609836Z"
    }
   },
   "outputs": [
    {
     "data": {
      "text/plain": "      survived  age\n0            1   13\n1            1   14\n2            1    6\n3            1   17\n4            1   14\n...        ...  ...\n9995         1   10\n9996         1   10\n9997         1    6\n9998         1   14\n9999         1    8\n\n[10000 rows x 2 columns]",
      "text/html": "<div>\n<style scoped>\n    .dataframe tbody tr th:only-of-type {\n        vertical-align: middle;\n    }\n\n    .dataframe tbody tr th {\n        vertical-align: top;\n    }\n\n    .dataframe thead th {\n        text-align: right;\n    }\n</style>\n<table border=\"1\" class=\"dataframe\">\n  <thead>\n    <tr style=\"text-align: right;\">\n      <th></th>\n      <th>survived</th>\n      <th>age</th>\n    </tr>\n  </thead>\n  <tbody>\n    <tr>\n      <th>0</th>\n      <td>1</td>\n      <td>13</td>\n    </tr>\n    <tr>\n      <th>1</th>\n      <td>1</td>\n      <td>14</td>\n    </tr>\n    <tr>\n      <th>2</th>\n      <td>1</td>\n      <td>6</td>\n    </tr>\n    <tr>\n      <th>3</th>\n      <td>1</td>\n      <td>17</td>\n    </tr>\n    <tr>\n      <th>4</th>\n      <td>1</td>\n      <td>14</td>\n    </tr>\n    <tr>\n      <th>...</th>\n      <td>...</td>\n      <td>...</td>\n    </tr>\n    <tr>\n      <th>9995</th>\n      <td>1</td>\n      <td>10</td>\n    </tr>\n    <tr>\n      <th>9996</th>\n      <td>1</td>\n      <td>10</td>\n    </tr>\n    <tr>\n      <th>9997</th>\n      <td>1</td>\n      <td>6</td>\n    </tr>\n    <tr>\n      <th>9998</th>\n      <td>1</td>\n      <td>14</td>\n    </tr>\n    <tr>\n      <th>9999</th>\n      <td>1</td>\n      <td>8</td>\n    </tr>\n  </tbody>\n</table>\n<p>10000 rows × 2 columns</p>\n</div>"
     },
     "execution_count": 30,
     "metadata": {},
     "output_type": "execute_result"
    }
   ],
   "source": [
    "# prepare a seed DataFrame\n",
    "import pandas as pd\n",
    "import numpy as np\n",
    "seed_df = pd.DataFrame({'survived': [1] * 10_000, 'age': np.random.randint(5, 18, 10_000)})\n",
    "seed_df"
   ]
  },
  {
   "cell_type": "code",
   "execution_count": 31,
   "id": "5d0cc8ba-342f-4688-9eb8-aef54eb63ddb",
   "metadata": {
    "ExecuteTime": {
     "end_time": "2024-02-27T11:26:05.534897Z",
     "start_time": "2024-02-27T11:25:29.765849Z"
    }
   },
   "outputs": [
    {
     "data": {
      "text/plain": "Created synthetic dataset \u001B]8;id=993281;https://llb2.dev.mostlylab.com/d/synthetic-datasets/55969d49-d944-4a85-b879-8d39d237744a\u001B\\\u001B[4;34m55969d49-d944-4a85-b879-8d39d237744a\u001B[0m\u001B]8;;\u001B\\ with generator \u001B]8;id=400507;https://llb2.dev.mostlylab.com/d/generators/d28b2d4f-6af4-4e21-9cca-a7ba34d25535\u001B\\\u001B[4;34md28b2d4f-6af4-4e21-9cca-a7ba34d25535\u001B[0m\u001B]8;;\u001B\\\n",
      "text/html": "<pre style=\"white-space:pre;overflow-x:auto;line-height:normal;font-family:Menlo,'DejaVu Sans Mono',consolas,'Courier New',monospace\">Created synthetic dataset <a href=\"https://llb2.dev.mostlylab.com/d/synthetic-datasets/55969d49-d944-4a85-b879-8d39d237744a\" target=\"_blank\"><span style=\"color: #000080; text-decoration-color: #000080; text-decoration: underline\">55969d49-d944-4a85-b879-8d39d237744a</span></a> with generator <a href=\"https://llb2.dev.mostlylab.com/d/generators/d28b2d4f-6af4-4e21-9cca-a7ba34d25535\" target=\"_blank\"><span style=\"color: #000080; text-decoration-color: #000080; text-decoration: underline\">d28b2d4f-6af4-4e21-9cca-a7ba34d25535</span></a>\n</pre>\n"
     },
     "metadata": {},
     "output_type": "display_data"
    },
    {
     "data": {
      "text/plain": "Started synthetic dataset generation\n",
      "text/html": "<pre style=\"white-space:pre;overflow-x:auto;line-height:normal;font-family:Menlo,'DejaVu Sans Mono',consolas,'Courier New',monospace\">Started synthetic dataset generation\n</pre>\n"
     },
     "metadata": {},
     "output_type": "display_data"
    },
    {
     "data": {
      "text/plain": "Output()",
      "application/vnd.jupyter.widget-view+json": {
       "version_major": 2,
       "version_minor": 0,
       "model_id": "e9c397b80ba24df782ed91274d3c1f31"
      }
     },
     "metadata": {},
     "output_type": "display_data"
    },
    {
     "data": {
      "text/plain": "",
      "text/html": "<pre style=\"white-space:pre;overflow-x:auto;line-height:normal;font-family:Menlo,'DejaVu Sans Mono',consolas,'Courier New',monospace\"></pre>\n"
     },
     "metadata": {},
     "output_type": "display_data"
    },
    {
     "data": {
      "text/plain": "\n",
      "text/html": "<pre style=\"white-space:pre;overflow-x:auto;line-height:normal;font-family:Menlo,'DejaVu Sans Mono',consolas,'Courier New',monospace\">\n</pre>\n"
     },
     "metadata": {},
     "output_type": "display_data"
    },
    {
     "data": {
      "text/plain": "🎉 \u001B[1;32mYour synthetic dataset is ready!\u001B[0m Use it to consume the generated data. Share it so others can do the same.\n",
      "text/html": "<pre style=\"white-space:pre;overflow-x:auto;line-height:normal;font-family:Menlo,'DejaVu Sans Mono',consolas,'Courier New',monospace\">🎉 <span style=\"color: #008000; text-decoration-color: #008000; font-weight: bold\">Your synthetic dataset is ready!</span> Use it to consume the generated data. Share it so others can do the same.\n</pre>\n"
     },
     "metadata": {},
     "output_type": "display_data"
    }
   ],
   "source": [
    "sd3 = mostly_t3.generate(g.id, seed=seed_df)"
   ]
  },
  {
   "cell_type": "code",
   "execution_count": 32,
   "id": "fa384fb5-6887-4c43-8ca1-59b100dec067",
   "metadata": {
    "ExecuteTime": {
     "end_time": "2024-02-27T11:26:16.221758Z",
     "start_time": "2024-02-27T11:26:15.452142Z"
    }
   },
   "outputs": [
    {
     "data": {
      "text/plain": "      survived  pclass     sex  age  sibsp  parch  fare embarked\n0            1       1    male   13      1      0     5        S\n1            1       1  female   14      0      1    26        S\n2            1       3    male    6      1      1     8        S\n3            1       1  female   17      1      0    76        C\n4            1       1  female   14      0      0    79        C\n...        ...     ...     ...  ...    ...    ...   ...      ...\n9995         1       3  female   10      1      0    16        S\n9996         1       3  female   10      0      0    38        S\n9997         1       2  female    6      1      1    11        C\n9998         1       3  female   14      0      0    13        S\n9999         1       3  female    8      0      2    11        S\n\n[10000 rows x 8 columns]",
      "text/html": "<div>\n<style scoped>\n    .dataframe tbody tr th:only-of-type {\n        vertical-align: middle;\n    }\n\n    .dataframe tbody tr th {\n        vertical-align: top;\n    }\n\n    .dataframe thead th {\n        text-align: right;\n    }\n</style>\n<table border=\"1\" class=\"dataframe\">\n  <thead>\n    <tr style=\"text-align: right;\">\n      <th></th>\n      <th>survived</th>\n      <th>pclass</th>\n      <th>sex</th>\n      <th>age</th>\n      <th>sibsp</th>\n      <th>parch</th>\n      <th>fare</th>\n      <th>embarked</th>\n    </tr>\n  </thead>\n  <tbody>\n    <tr>\n      <th>0</th>\n      <td>1</td>\n      <td>1</td>\n      <td>male</td>\n      <td>13</td>\n      <td>1</td>\n      <td>0</td>\n      <td>5</td>\n      <td>S</td>\n    </tr>\n    <tr>\n      <th>1</th>\n      <td>1</td>\n      <td>1</td>\n      <td>female</td>\n      <td>14</td>\n      <td>0</td>\n      <td>1</td>\n      <td>26</td>\n      <td>S</td>\n    </tr>\n    <tr>\n      <th>2</th>\n      <td>1</td>\n      <td>3</td>\n      <td>male</td>\n      <td>6</td>\n      <td>1</td>\n      <td>1</td>\n      <td>8</td>\n      <td>S</td>\n    </tr>\n    <tr>\n      <th>3</th>\n      <td>1</td>\n      <td>1</td>\n      <td>female</td>\n      <td>17</td>\n      <td>1</td>\n      <td>0</td>\n      <td>76</td>\n      <td>C</td>\n    </tr>\n    <tr>\n      <th>4</th>\n      <td>1</td>\n      <td>1</td>\n      <td>female</td>\n      <td>14</td>\n      <td>0</td>\n      <td>0</td>\n      <td>79</td>\n      <td>C</td>\n    </tr>\n    <tr>\n      <th>...</th>\n      <td>...</td>\n      <td>...</td>\n      <td>...</td>\n      <td>...</td>\n      <td>...</td>\n      <td>...</td>\n      <td>...</td>\n      <td>...</td>\n    </tr>\n    <tr>\n      <th>9995</th>\n      <td>1</td>\n      <td>3</td>\n      <td>female</td>\n      <td>10</td>\n      <td>1</td>\n      <td>0</td>\n      <td>16</td>\n      <td>S</td>\n    </tr>\n    <tr>\n      <th>9996</th>\n      <td>1</td>\n      <td>3</td>\n      <td>female</td>\n      <td>10</td>\n      <td>0</td>\n      <td>0</td>\n      <td>38</td>\n      <td>S</td>\n    </tr>\n    <tr>\n      <th>9997</th>\n      <td>1</td>\n      <td>2</td>\n      <td>female</td>\n      <td>6</td>\n      <td>1</td>\n      <td>1</td>\n      <td>11</td>\n      <td>C</td>\n    </tr>\n    <tr>\n      <th>9998</th>\n      <td>1</td>\n      <td>3</td>\n      <td>female</td>\n      <td>14</td>\n      <td>0</td>\n      <td>0</td>\n      <td>13</td>\n      <td>S</td>\n    </tr>\n    <tr>\n      <th>9999</th>\n      <td>1</td>\n      <td>3</td>\n      <td>female</td>\n      <td>8</td>\n      <td>0</td>\n      <td>2</td>\n      <td>11</td>\n      <td>S</td>\n    </tr>\n  </tbody>\n</table>\n<p>10000 rows × 8 columns</p>\n</div>"
     },
     "execution_count": 32,
     "metadata": {},
     "output_type": "execute_result"
    }
   ],
   "source": [
    "sd3.data()"
   ]
  },
  {
   "cell_type": "markdown",
   "id": "ff9a5ecf-97b3-4b4f-8775-b747b6e168bb",
   "metadata": {},
   "source": [
    "## Multi-Table\n",
    "\n",
    "### User 1 trains a 3-table setup from pandas"
   ]
  },
  {
   "cell_type": "code",
   "execution_count": null,
   "id": "7044a048-99a1-4e85-9d4c-60746793affc",
   "metadata": {},
   "outputs": [],
   "source": [
    "import pandas as pd\n",
    "df_players = pd.read_csv('https://github.com/mostly-ai/public-demo-data/raw/dev/baseball/players.csv.gz')\n",
    "df_fielding = pd.read_csv('https://github.com/mostly-ai/public-demo-data/raw/dev/baseball/fielding.csv.gz')\n",
    "df_batting = pd.read_csv('https://github.com/mostly-ai/public-demo-data/raw/dev/baseball/batting.csv.gz')\n",
    "df_players"
   ]
  },
  {
   "cell_type": "code",
   "execution_count": null,
   "id": "7cff3522-f60c-445c-920c-7f486559b260",
   "metadata": {
    "editable": true,
    "slideshow": {
     "slide_type": ""
    },
    "tags": []
   },
   "outputs": [],
   "source": [
    "g = mostly_t1.train(config=\n",
    "    {\n",
    "        \"name\": \"baseball\",\n",
    "        \"tables\": [\n",
    "            {\n",
    "                \"name\": \"players\", \n",
    "                \"data\": df_players, \n",
    "                \"primaryKey\": \"id\",\n",
    "                \"modelConfiguration\": {\"maxTrainingTime\": 1}\n",
    "            },\n",
    "            {\n",
    "                \"name\": \"fielding\",\n",
    "                \"data\": df_fielding, \n",
    "                \"foreignKeys\": [{\"column\": \"players_id\", \"referencedTable\": \"players\", \"isContext\": True}],\n",
    "                \"modelConfiguration\": {\"maxTrainingTime\": 1}\n",
    "            },\n",
    "            {\n",
    "                \"name\": \"batting\",\n",
    "                \"data\": df_batting, \n",
    "                \"foreignKeys\": [{\"column\": \"players_id\", \"referencedTable\": \"players\", \"isContext\": True}],\n",
    "                \"modelConfiguration\": {\"maxTrainingTime\": 1}\n",
    "            }\n",
    "        ]\n",
    "    }\n",
    ")"
   ]
  },
  {
   "cell_type": "markdown",
   "id": "40f695a7-e120-4eba-afa0-91540add28df",
   "metadata": {},
   "source": [
    "## Database Connectivity"
   ]
  },
  {
   "cell_type": "markdown",
   "id": "bbd46af0-55fd-4312-af15-d270da1a0ceb",
   "metadata": {},
   "source": [
    "### User 1 creates a Connector to a Postgres Database"
   ]
  },
  {
   "cell_type": "code",
   "execution_count": null,
   "id": "a7eaff4e-a979-4462-a42e-67770aa790f1",
   "metadata": {},
   "outputs": [],
   "source": [
    "import os\n",
    "c = mostly_t1.connect({\n",
    "    \"accessType\": \"SOURCE\",\n",
    "    \"type\": \"POSTGRES\",\n",
    "    \"config\": {\n",
    "        \"host\": \"postgres-test.cppq7davohkj.eu-central-1.rds.amazonaws.com\",\n",
    "        \"username\": \"postgres\",\n",
    "        \"database\": \"berka_original\",\n",
    "    },\n",
    "    \"secrets\": {\n",
    "        \"password\": pwd\n",
    "    }\n",
    "})"
   ]
  },
  {
   "cell_type": "markdown",
   "id": "b615f91b-a9f3-4538-833b-f85842b1c7f0",
   "metadata": {},
   "source": [
    "### User 1 shares Connector with User 2"
   ]
  },
  {
   "cell_type": "code",
   "execution_count": null,
   "id": "237b2985-ab66-4fc2-8dda-1ab57d21da26",
   "metadata": {},
   "outputs": [],
   "source": [
    "mostly_t1.share(c.id, 'test2@mostly.ai')"
   ]
  },
  {
   "cell_type": "markdown",
   "id": "9dada9a4-4b73-40ab-8afa-d30448728191",
   "metadata": {},
   "source": [
    "### User 2 uses Connector to train a Generator"
   ]
  },
  {
   "cell_type": "code",
   "execution_count": null,
   "id": "20a340be-ad76-4747-8be7-16456bed4e12",
   "metadata": {},
   "outputs": [],
   "source": [
    "c2 = mostly_t2.connectors.get(c.id)\n",
    "c2"
   ]
  },
  {
   "cell_type": "code",
   "execution_count": null,
   "id": "189f35a9-3423-4ae2-b277-df9f24800d69",
   "metadata": {},
   "outputs": [],
   "source": [
    "c2.locations()"
   ]
  },
  {
   "cell_type": "code",
   "execution_count": null,
   "id": "4b27b596-dd23-4f7e-be09-ad43fb6bf179",
   "metadata": {},
   "outputs": [],
   "source": [
    "c2.locations(\"berka\")"
   ]
  },
  {
   "cell_type": "code",
   "execution_count": null,
   "id": "fa528ff3-b9d4-459e-9770-ad134f456f39",
   "metadata": {},
   "outputs": [],
   "source": [
    "g = mostly_t2.train(config=\n",
    "    {\n",
    "        \"name\": \"BERKA\",\n",
    "        \"tables\": [\n",
    "            {\n",
    "                \"name\": \"accounts\", \n",
    "                \"sourceConnectorId\": str(c2.id),\n",
    "                \"location\": \"berka.account\",\n",
    "                \"primaryKey\": \"account_id\"\n",
    "            }\n",
    "        ]\n",
    "    }\n",
    ")"
   ]
  },
  {
   "cell_type": "code",
   "execution_count": null,
   "id": "b1a1b4d4-0426-4381-ae9b-0a59e718982c",
   "metadata": {},
   "outputs": [],
   "source": [
    "sd = mostly_t2.generate(g)"
   ]
  },
  {
   "cell_type": "code",
   "execution_count": null,
   "id": "d6e57ef5-04e6-4af8-b859-ed10c1afb09c",
   "metadata": {},
   "outputs": [],
   "source": [
    "sd.data()"
   ]
  },
  {
   "cell_type": "code",
   "execution_count": null,
   "id": "4b42c2fb-b746-42ac-b5a3-1f6ac68f1b85",
   "metadata": {},
   "outputs": [],
   "source": []
  }
 ],
 "metadata": {
  "kernelspec": {
   "display_name": "Python 3 (ipykernel)",
   "language": "python",
   "name": "python3"
  },
  "language_info": {
   "codemirror_mode": {
    "name": "ipython",
    "version": 3
   },
   "file_extension": ".py",
   "mimetype": "text/x-python",
   "name": "python",
   "nbconvert_exporter": "python",
   "pygments_lexer": "ipython3",
   "version": "3.9.7"
  }
 },
 "nbformat": 4,
 "nbformat_minor": 5
}
