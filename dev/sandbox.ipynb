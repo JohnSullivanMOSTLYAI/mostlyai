{
 "cells": [
  {
   "cell_type": "code",
   "execution_count": 24,
   "id": "69cb91dc2f799dc1",
   "metadata": {
    "collapsed": false,
    "editable": true,
    "slideshow": {
     "slide_type": ""
    },
    "tags": [],
    "ExecuteTime": {
     "end_time": "2024-02-27T11:20:00.964307Z",
     "start_time": "2024-02-27T11:19:59.080091Z"
    }
   },
   "outputs": [],
   "source": [
    "# ensure that any code changes are immediately reflected\n",
    "%reload_ext autoreload\n",
    "%autoreload 2"
   ]
  },
  {
   "cell_type": "markdown",
   "id": "92fa137e-c5c4-4553-93dd-7458f655fc88",
   "metadata": {},
   "source": [
    "## Initialize Three Users"
   ]
  },
  {
   "cell_type": "code",
   "execution_count": 4,
   "id": "78ef262fde4f3055",
   "metadata": {
    "collapsed": false,
    "ExecuteTime": {
     "end_time": "2024-02-27T09:29:26.242284Z",
     "start_time": "2024-02-27T09:29:12.113962Z"
    }
   },
   "outputs": [],
   "source": [
    "from mostlyai import MostlyAI\n",
    "# Test User 1\n",
    "mostly_t1 = MostlyAI(api_key='mostly-020bd715ef9abca16e07bc800fc31126276f1508baab20036ee08315ceef8527')\n",
    "# Test User 2\n",
    "mostly_t2 = MostlyAI(api_key='mostly-fc5d7602dba784ce687d775b72c12d2e93407fba9731144145b85e0548ac1e97')\n",
    "# Test User 3\n",
    "mostly_t3 = MostlyAI(api_key='mostly-0dd57f8b8cdb7485310aadead0439c48beea8956273614102e8bf7950bc3f02e')"
   ]
  },
  {
   "cell_type": "markdown",
   "id": "50d510bf-b10e-4322-a2e4-220078895e14",
   "metadata": {},
   "source": [
    "## Basic Usage"
   ]
  },
  {
   "cell_type": "markdown",
   "id": "d4d59769-62d5-4bab-91a0-c04d5c92c3d3",
   "metadata": {},
   "source": [
    "### User 1 trains a Generator"
   ]
  },
  {
   "cell_type": "code",
   "execution_count": 5,
   "id": "e5a96a563f2d1125",
   "metadata": {
    "collapsed": false,
    "ExecuteTime": {
     "end_time": "2024-02-27T09:30:12.427570Z",
     "start_time": "2024-02-27T09:29:30.003381Z"
    }
   },
   "outputs": [
    {
     "data": {
      "text/plain": "Created generator \u001B]8;id=281354;https://llb2.dev.mostlylab.com/d/generators/d28b2d4f-6af4-4e21-9cca-a7ba34d25535\u001B\\\u001B[4;34md28b2d4f-6af4-4e21-9cca-a7ba34d25535\u001B[0m\u001B]8;;\u001B\\\n",
      "text/html": "<pre style=\"white-space:pre;overflow-x:auto;line-height:normal;font-family:Menlo,'DejaVu Sans Mono',consolas,'Courier New',monospace\">Created generator <a href=\"https://llb2.dev.mostlylab.com/d/generators/d28b2d4f-6af4-4e21-9cca-a7ba34d25535\" target=\"_blank\"><span style=\"color: #000080; text-decoration-color: #000080; text-decoration: underline\">d28b2d4f-6af4-4e21-9cca-a7ba34d25535</span></a>\n</pre>\n"
     },
     "metadata": {},
     "output_type": "display_data"
    },
    {
     "data": {
      "text/plain": "Started generator training\n",
      "text/html": "<pre style=\"white-space:pre;overflow-x:auto;line-height:normal;font-family:Menlo,'DejaVu Sans Mono',consolas,'Courier New',monospace\">Started generator training\n</pre>\n"
     },
     "metadata": {},
     "output_type": "display_data"
    },
    {
     "data": {
      "text/plain": "Output()",
      "application/vnd.jupyter.widget-view+json": {
       "version_major": 2,
       "version_minor": 0,
       "model_id": "4090e10ffa484323905c6713707b331d"
      }
     },
     "metadata": {},
     "output_type": "display_data"
    },
    {
     "data": {
      "text/plain": "",
      "text/html": "<pre style=\"white-space:pre;overflow-x:auto;line-height:normal;font-family:Menlo,'DejaVu Sans Mono',consolas,'Courier New',monospace\"></pre>\n"
     },
     "metadata": {},
     "output_type": "display_data"
    },
    {
     "data": {
      "text/plain": "\n",
      "text/html": "<pre style=\"white-space:pre;overflow-x:auto;line-height:normal;font-family:Menlo,'DejaVu Sans Mono',consolas,'Courier New',monospace\">\n</pre>\n"
     },
     "metadata": {},
     "output_type": "display_data"
    },
    {
     "data": {
      "text/plain": "🎉 \u001B[1;32mYour generator is ready!\u001B[0m Use it to create synthetic data. Share it so others can do the same.\n",
      "text/html": "<pre style=\"white-space:pre;overflow-x:auto;line-height:normal;font-family:Menlo,'DejaVu Sans Mono',consolas,'Courier New',monospace\">🎉 <span style=\"color: #008000; text-decoration-color: #008000; font-weight: bold\">Your generator is ready!</span> Use it to create synthetic data. Share it so others can do the same.\n</pre>\n"
     },
     "metadata": {},
     "output_type": "display_data"
    }
   ],
   "source": [
    "g = mostly_t1.train('https://raw.githubusercontent.com/mostly-ai/public-demo-data/dev/titanic/titanic.csv')"
   ]
  },
  {
   "cell_type": "code",
   "execution_count": 25,
   "outputs": [
    {
     "data": {
      "text/plain": "\u001B[1m{\u001B[0m\n    \u001B[32m'id'\u001B[0m: \u001B[1;35mUUID\u001B[0m\u001B[1m(\u001B[0m\u001B[32m'd28b2d4f-6af4-4e21-9cca-a7ba34d25535'\u001B[0m\u001B[1m)\u001B[0m,\n    \u001B[32m'name'\u001B[0m: \u001B[32m'titanic'\u001B[0m,\n    \u001B[32m'description'\u001B[0m: \u001B[3;35mNone\u001B[0m,\n    \u001B[32m'training_status'\u001B[0m: \u001B[1m<\u001B[0m\u001B[1;95mProgressStatus.done:\u001B[0m\u001B[39m \u001B[0m\u001B[32m'DONE'\u001B[0m\u001B[39m>,\u001B[0m\n\u001B[39m    \u001B[0m\u001B[32m'metadata'\u001B[0m\u001B[39m: \u001B[0m\u001B[1;39m{\u001B[0m\n\u001B[39m        \u001B[0m\u001B[32m'created_at'\u001B[0m\u001B[39m: \u001B[0m\u001B[1;35mdatetime.datetime\u001B[0m\u001B[1;39m(\u001B[0m\u001B[1;36m2024\u001B[0m\u001B[39m, \u001B[0m\u001B[1;36m2\u001B[0m\u001B[39m, \u001B[0m\u001B[1;36m27\u001B[0m\u001B[39m, \u001B[0m\u001B[1;36m9\u001B[0m\u001B[39m, \u001B[0m\u001B[1;36m29\u001B[0m\u001B[39m, \u001B[0m\u001B[1;36m30\u001B[0m\u001B[39m, \u001B[0m\u001B[1;36m827227\u001B[0m\u001B[39m, \u001B[0m\u001B[33mtzinfo\u001B[0m\u001B[39m=\u001B[0m\u001B[1;35mTzInfo\u001B[0m\u001B[1;39m(\u001B[0m\u001B[39mUTC\u001B[0m\u001B[1;39m)\u001B[0m\u001B[1;39m)\u001B[0m\u001B[39m,\u001B[0m\n\u001B[39m        \u001B[0m\u001B[32m'owner_id'\u001B[0m\u001B[39m: \u001B[0m\u001B[32m'94b142d1-f543-40a2-98ba-3192a738c4ee'\u001B[0m\u001B[39m,\u001B[0m\n\u001B[39m        \u001B[0m\u001B[32m'owner_name'\u001B[0m\u001B[39m: \u001B[0m\u001B[32m'Test 1'\u001B[0m\u001B[39m,\u001B[0m\n\u001B[39m        \u001B[0m\u001B[32m'current_user_permission_level'\u001B[0m\u001B[39m: <PermissionLevel.admin: \u001B[0m\u001B[32m'ADMIN'\u001B[0m\u001B[39m>\u001B[0m\n\u001B[39m    \u001B[0m\u001B[1;39m}\u001B[0m\u001B[39m,\u001B[0m\n\u001B[39m    \u001B[0m\u001B[32m'accuracy'\u001B[0m\u001B[39m: \u001B[0m\u001B[1;36m0.922\u001B[0m\u001B[39m,\u001B[0m\n\u001B[39m    \u001B[0m\u001B[32m'usage'\u001B[0m\u001B[39m: \u001B[0m\u001B[3;35mNone\u001B[0m\u001B[39m,\u001B[0m\n\u001B[39m    \u001B[0m\u001B[32m'tables'\u001B[0m\u001B[39m: \u001B[0m\u001B[1;39m[\u001B[0m\n\u001B[39m        \u001B[0m\u001B[1;39m{\u001B[0m\n\u001B[39m            \u001B[0m\u001B[32m'id'\u001B[0m\u001B[39m: \u001B[0m\u001B[1;35mUUID\u001B[0m\u001B[1;39m(\u001B[0m\u001B[32m'3e3cc82b-7d69-4c4e-8538-6889df7a143b'\u001B[0m\u001B[1;39m)\u001B[0m\u001B[39m,\u001B[0m\n\u001B[39m            \u001B[0m\u001B[32m'source_connector'\u001B[0m\u001B[39m: \u001B[0m\u001B[1;39m{\u001B[0m\n\u001B[39m                \u001B[0m\u001B[32m'id'\u001B[0m\u001B[39m: \u001B[0m\u001B[1;35mUUID\u001B[0m\u001B[1;39m(\u001B[0m\u001B[32m'b3796a35-1288-4ea6-bba5-016ad1fb70e5'\u001B[0m\u001B[1;39m)\u001B[0m\u001B[39m,\u001B[0m\n\u001B[39m                \u001B[0m\u001B[32m'name'\u001B[0m\u001B[39m: \u001B[0m\u001B[3;35mNone\u001B[0m\u001B[39m,\u001B[0m\n\u001B[39m                \u001B[0m\u001B[32m'uri'\u001B[0m\u001B[39m: \u001B[0m\u001B[32m'/connectors/b3796a35-1288-4ea6-bba5-016ad1fb70e5'\u001B[0m\n\u001B[39m            \u001B[0m\u001B[1;39m}\u001B[0m\u001B[39m,\u001B[0m\n\u001B[39m            \u001B[0m\u001B[32m'location'\u001B[0m\u001B[39m: \u001B[0m\u001B[3;35mNone\u001B[0m\u001B[39m,\u001B[0m\n\u001B[39m            \u001B[0m\u001B[32m'name'\u001B[0m\u001B[39m: \u001B[0m\u001B[32m'titanic'\u001B[0m\u001B[39m,\u001B[0m\n\u001B[39m            \u001B[0m\u001B[32m'primary_key'\u001B[0m\u001B[39m: \u001B[0m\u001B[3;35mNone\u001B[0m\u001B[39m,\u001B[0m\n\u001B[39m            \u001B[0m\u001B[32m'columns'\u001B[0m\u001B[39m: \u001B[0m\u001B[1;39m[\u001B[0m\n\u001B[39m                \u001B[0m\u001B[1;39m{\u001B[0m\n\u001B[39m                    \u001B[0m\u001B[32m'id'\u001B[0m\u001B[39m: \u001B[0m\u001B[1;35mUUID\u001B[0m\u001B[1;39m(\u001B[0m\u001B[32m'94f431c0-22bd-4ebf-be01-fe3a9db49659'\u001B[0m\u001B[1;39m)\u001B[0m\u001B[39m,\u001B[0m\n\u001B[39m                    \u001B[0m\u001B[32m'name'\u001B[0m\u001B[39m: \u001B[0m\u001B[32m'survived'\u001B[0m\u001B[39m,\u001B[0m\n\u001B[39m                    \u001B[0m\u001B[32m'included'\u001B[0m\u001B[39m: \u001B[0m\u001B[3;92mTrue\u001B[0m\u001B[39m,\u001B[0m\n\u001B[39m                    \u001B[0m\u001B[32m'model_encoding_type'\u001B[0m\u001B[39m: <ModelEncodingType.numeric_auto: \u001B[0m\u001B[32m'NUMERIC_AUTO'\u001B[0m\u001B[39m>\u001B[0m\n\u001B[39m                \u001B[0m\u001B[1;39m}\u001B[0m\u001B[39m,\u001B[0m\n\u001B[39m                \u001B[0m\u001B[1;39m{\u001B[0m\n\u001B[39m                    \u001B[0m\u001B[32m'id'\u001B[0m\u001B[39m: \u001B[0m\u001B[1;35mUUID\u001B[0m\u001B[1;39m(\u001B[0m\u001B[32m'24351843-5edf-4575-8056-bf5d0bf2d5e7'\u001B[0m\u001B[1;39m)\u001B[0m\u001B[39m,\u001B[0m\n\u001B[39m                    \u001B[0m\u001B[32m'name'\u001B[0m\u001B[39m: \u001B[0m\u001B[32m'pclass'\u001B[0m\u001B[39m,\u001B[0m\n\u001B[39m                    \u001B[0m\u001B[32m'included'\u001B[0m\u001B[39m: \u001B[0m\u001B[3;92mTrue\u001B[0m\u001B[39m,\u001B[0m\n\u001B[39m                    \u001B[0m\u001B[32m'model_encoding_type'\u001B[0m\u001B[39m: <ModelEncodingType.numeric_auto: \u001B[0m\u001B[32m'NUMERIC_AUTO'\u001B[0m\u001B[39m>\u001B[0m\n\u001B[39m                \u001B[0m\u001B[1;39m}\u001B[0m\u001B[39m,\u001B[0m\n\u001B[39m                \u001B[0m\u001B[1;39m{\u001B[0m\n\u001B[39m                    \u001B[0m\u001B[32m'id'\u001B[0m\u001B[39m: \u001B[0m\u001B[1;35mUUID\u001B[0m\u001B[1;39m(\u001B[0m\u001B[32m'b13328f4-d3ab-441c-8f91-9759c7e15ae7'\u001B[0m\u001B[1;39m)\u001B[0m\u001B[39m,\u001B[0m\n\u001B[39m                    \u001B[0m\u001B[32m'name'\u001B[0m\u001B[39m: \u001B[0m\u001B[32m'sex'\u001B[0m\u001B[39m,\u001B[0m\n\u001B[39m                    \u001B[0m\u001B[32m'included'\u001B[0m\u001B[39m: \u001B[0m\u001B[3;92mTrue\u001B[0m\u001B[39m,\u001B[0m\n\u001B[39m                    \u001B[0m\u001B[32m'model_encoding_type'\u001B[0m\u001B[39m: <ModelEncodingType.categorical: \u001B[0m\u001B[32m'CATEGORICAL'\u001B[0m\u001B[39m>\u001B[0m\n\u001B[39m                \u001B[0m\u001B[1;39m}\u001B[0m\u001B[39m,\u001B[0m\n\u001B[39m                \u001B[0m\u001B[1;39m{\u001B[0m\n\u001B[39m                    \u001B[0m\u001B[32m'id'\u001B[0m\u001B[39m: \u001B[0m\u001B[1;35mUUID\u001B[0m\u001B[1;39m(\u001B[0m\u001B[32m'b5ed9195-3ea5-4480-99aa-dcfc9fb182eb'\u001B[0m\u001B[1;39m)\u001B[0m\u001B[39m,\u001B[0m\n\u001B[39m                    \u001B[0m\u001B[32m'name'\u001B[0m\u001B[39m: \u001B[0m\u001B[32m'age'\u001B[0m\u001B[39m,\u001B[0m\n\u001B[39m                    \u001B[0m\u001B[32m'included'\u001B[0m\u001B[39m: \u001B[0m\u001B[3;92mTrue\u001B[0m\u001B[39m,\u001B[0m\n\u001B[39m                    \u001B[0m\u001B[32m'model_encoding_type'\u001B[0m\u001B[39m: <ModelEncodingType.numeric_auto: \u001B[0m\u001B[32m'NUMERIC_AUTO'\u001B[0m\u001B[39m>\u001B[0m\n\u001B[39m                \u001B[0m\u001B[1;39m}\u001B[0m\u001B[39m,\u001B[0m\n\u001B[39m                \u001B[0m\u001B[1;39m{\u001B[0m\n\u001B[39m                    \u001B[0m\u001B[32m'id'\u001B[0m\u001B[39m: \u001B[0m\u001B[1;35mUUID\u001B[0m\u001B[1;39m(\u001B[0m\u001B[32m'a5ce1710-4fde-439d-b3eb-9995a7e15cd3'\u001B[0m\u001B[1;39m)\u001B[0m\u001B[39m,\u001B[0m\n\u001B[39m                    \u001B[0m\u001B[32m'name'\u001B[0m\u001B[39m: \u001B[0m\u001B[32m'sibsp'\u001B[0m\u001B[39m,\u001B[0m\n\u001B[39m                    \u001B[0m\u001B[32m'included'\u001B[0m\u001B[39m: \u001B[0m\u001B[3;92mTrue\u001B[0m\u001B[39m,\u001B[0m\n\u001B[39m                    \u001B[0m\u001B[32m'model_encoding_type'\u001B[0m\u001B[39m: <ModelEncodingType.numeric_auto: \u001B[0m\u001B[32m'NUMERIC_AUTO'\u001B[0m\u001B[39m>\u001B[0m\n\u001B[39m                \u001B[0m\u001B[1;39m}\u001B[0m\u001B[39m,\u001B[0m\n\u001B[39m                \u001B[0m\u001B[1;39m{\u001B[0m\n\u001B[39m                    \u001B[0m\u001B[32m'id'\u001B[0m\u001B[39m: \u001B[0m\u001B[1;35mUUID\u001B[0m\u001B[1;39m(\u001B[0m\u001B[32m'a9dedf8e-4fde-4fdb-8a6c-45a7f875f256'\u001B[0m\u001B[1;39m)\u001B[0m\u001B[39m,\u001B[0m\n\u001B[39m                    \u001B[0m\u001B[32m'name'\u001B[0m\u001B[39m: \u001B[0m\u001B[32m'parch'\u001B[0m\u001B[39m,\u001B[0m\n\u001B[39m                    \u001B[0m\u001B[32m'included'\u001B[0m\u001B[39m: \u001B[0m\u001B[3;92mTrue\u001B[0m\u001B[39m,\u001B[0m\n\u001B[39m                    \u001B[0m\u001B[32m'model_encoding_type'\u001B[0m\u001B[39m: <ModelEncodingType.numeric_auto: \u001B[0m\u001B[32m'NUMERIC_AUTO'\u001B[0m\u001B[39m>\u001B[0m\n\u001B[39m                \u001B[0m\u001B[1;39m}\u001B[0m\u001B[39m,\u001B[0m\n\u001B[39m                \u001B[0m\u001B[1;39m{\u001B[0m\n\u001B[39m                    \u001B[0m\u001B[32m'id'\u001B[0m\u001B[39m: \u001B[0m\u001B[1;35mUUID\u001B[0m\u001B[1;39m(\u001B[0m\u001B[32m'57fc20a4-c900-4ccd-98b7-904e0206a374'\u001B[0m\u001B[1;39m)\u001B[0m\u001B[39m,\u001B[0m\n\u001B[39m                    \u001B[0m\u001B[32m'name'\u001B[0m\u001B[39m: \u001B[0m\u001B[32m'fare'\u001B[0m\u001B[39m,\u001B[0m\n\u001B[39m                    \u001B[0m\u001B[32m'included'\u001B[0m\u001B[39m: \u001B[0m\u001B[3;92mTrue\u001B[0m\u001B[39m,\u001B[0m\n\u001B[39m                    \u001B[0m\u001B[32m'model_encoding_type'\u001B[0m\u001B[39m: <ModelEncodingType.numeric_auto: \u001B[0m\u001B[32m'NUMERIC_AUTO'\u001B[0m\u001B[39m>\u001B[0m\n\u001B[39m                \u001B[0m\u001B[1;39m}\u001B[0m\u001B[39m,\u001B[0m\n\u001B[39m                \u001B[0m\u001B[1;39m{\u001B[0m\n\u001B[39m                    \u001B[0m\u001B[32m'id'\u001B[0m\u001B[39m: \u001B[0m\u001B[1;35mUUID\u001B[0m\u001B[1;39m(\u001B[0m\u001B[32m'20000239-6d4c-4945-bd3c-95a2878502bc'\u001B[0m\u001B[1;39m)\u001B[0m\u001B[39m,\u001B[0m\n\u001B[39m                    \u001B[0m\u001B[32m'name'\u001B[0m\u001B[39m: \u001B[0m\u001B[32m'embarked'\u001B[0m\u001B[39m,\u001B[0m\n\u001B[39m                    \u001B[0m\u001B[32m'included'\u001B[0m\u001B[39m: \u001B[0m\u001B[3;92mTrue\u001B[0m\u001B[39m,\u001B[0m\n\u001B[39m                    \u001B[0m\u001B[32m'model_encoding_type'\u001B[0m\u001B[39m: <ModelEncodingType.categorical: \u001B[0m\u001B[32m'CATEGORICAL'\u001B[0m\u001B[39m>\u001B[0m\n\u001B[39m                \u001B[0m\u001B[1;39m}\u001B[0m\n\u001B[39m            \u001B[0m\u001B[1;39m]\u001B[0m\u001B[39m,\u001B[0m\n\u001B[39m            \u001B[0m\u001B[32m'foreign_keys'\u001B[0m\u001B[39m: \u001B[0m\u001B[3;35mNone\u001B[0m\u001B[39m,\u001B[0m\n\u001B[39m            \u001B[0m\u001B[32m'model'\u001B[0m\u001B[39m: \u001B[0m\u001B[1;39m{\u001B[0m\n\u001B[39m                \u001B[0m\u001B[32m'id'\u001B[0m\u001B[39m: \u001B[0m\u001B[32m'a5793199-b459-435a-8f81-72724faa412b'\u001B[0m\u001B[39m,\u001B[0m\n\u001B[39m                \u001B[0m\u001B[32m'configuration'\u001B[0m\u001B[39m: \u001B[0m\u001B[1;39m{\u001B[0m\n\u001B[39m                    \u001B[0m\u001B[32m'sample_fraction'\u001B[0m\u001B[39m: \u001B[0m\u001B[1;36m1.0\u001B[0m\u001B[39m,\u001B[0m\n\u001B[39m                    \u001B[0m\u001B[32m'max_sample_size'\u001B[0m\u001B[39m: \u001B[0m\u001B[3;35mNone\u001B[0m\u001B[39m,\u001B[0m\n\u001B[39m                    \u001B[0m\u001B[32m'batch_size'\u001B[0m\u001B[39m: \u001B[0m\u001B[3;35mNone\u001B[0m\u001B[39m,\u001B[0m\n\u001B[39m                    \u001B[0m\u001B[32m'model_size'\u001B[0m\u001B[39m: <ModelSize.m: \u001B[0m\u001B[32m'M'\u001B[0m\u001B[39m>,\u001B[0m\n\u001B[39m                    \u001B[0m\u001B[32m'max_training_time'\u001B[0m\u001B[39m: \u001B[0m\u001B[1;36m10\u001B[0m\u001B[39m,\u001B[0m\n\u001B[39m                    \u001B[0m\u001B[32m'max_epochs'\u001B[0m\u001B[39m: \u001B[0m\u001B[1;36m100\u001B[0m\u001B[39m,\u001B[0m\n\u001B[39m                    \u001B[0m\u001B[32m'max_sequence_window'\u001B[0m\u001B[39m: \u001B[0m\u001B[1;36m100\u001B[0m\u001B[39m,\u001B[0m\n\u001B[39m                    \u001B[0m\u001B[32m'enable_flexible_generation'\u001B[0m\u001B[39m: \u001B[0m\u001B[3;92mTrue\u001B[0m\u001B[39m,\u001B[0m\n\u001B[39m                    \u001B[0m\u001B[32m'value_protection'\u001B[0m\u001B[39m: \u001B[0m\u001B[3;92mTrue\u001B[0m\u001B[39m,\u001B[0m\n\u001B[39m                    \u001B[0m\u001B[32m'rare_category_replacement_method'\u001B[0m\u001B[39m: <RareCategoryReplacementMethod.constant: \u001B[0m\u001B[32m'CONSTANT'\u001B[0m\u001B[1m>\u001B[0m\n                \u001B[1m}\u001B[0m,\n                \u001B[32m'metrics'\u001B[0m: \u001B[1m{\u001B[0m\n                    \u001B[32m'accuracy'\u001B[0m: \u001B[1m{\u001B[0m\n                        \u001B[32m'overall'\u001B[0m: \u001B[1;36m0.922\u001B[0m,\n                        \u001B[32m'univariate'\u001B[0m: \u001B[1;36m0.949\u001B[0m,\n                        \u001B[32m'bivariate'\u001B[0m: \u001B[1;36m0.894\u001B[0m,\n                        \u001B[32m'coherence'\u001B[0m: \u001B[3;35mNone\u001B[0m,\n                        \u001B[32m'overall_max'\u001B[0m: \u001B[1;36m0.959\u001B[0m\n                    \u001B[1m}\u001B[0m,\n                    \u001B[32m'distances'\u001B[0m: \u001B[1m{\u001B[0m\u001B[32m'dcr_original'\u001B[0m: \u001B[1;36m0.679\u001B[0m, \u001B[32m'dcr_synthetic'\u001B[0m: \u001B[1;36m1.311\u001B[0m\u001B[1m}\u001B[0m\n                \u001B[1m}\u001B[0m\n            \u001B[1m}\u001B[0m,\n            \u001B[32m'text_model'\u001B[0m: \u001B[3;35mNone\u001B[0m,\n            \u001B[32m'total_rows'\u001B[0m: \u001B[1;36m1309\u001B[0m\n        \u001B[1m}\u001B[0m\n    \u001B[1m]\u001B[0m,\n    \u001B[32m'synthetic_datasets'\u001B[0m: \u001B[1m[\u001B[0m\u001B[1m]\u001B[0m\n\u001B[1m}\u001B[0m\n",
      "text/html": "<pre style=\"white-space:pre;overflow-x:auto;line-height:normal;font-family:Menlo,'DejaVu Sans Mono',consolas,'Courier New',monospace\"><span style=\"font-weight: bold\">{</span>\n    <span style=\"color: #008000; text-decoration-color: #008000\">'id'</span>: <span style=\"color: #800080; text-decoration-color: #800080; font-weight: bold\">UUID</span><span style=\"font-weight: bold\">(</span><span style=\"color: #008000; text-decoration-color: #008000\">'d28b2d4f-6af4-4e21-9cca-a7ba34d25535'</span><span style=\"font-weight: bold\">)</span>,\n    <span style=\"color: #008000; text-decoration-color: #008000\">'name'</span>: <span style=\"color: #008000; text-decoration-color: #008000\">'titanic'</span>,\n    <span style=\"color: #008000; text-decoration-color: #008000\">'description'</span>: <span style=\"color: #800080; text-decoration-color: #800080; font-style: italic\">None</span>,\n    <span style=\"color: #008000; text-decoration-color: #008000\">'training_status'</span>: <span style=\"font-weight: bold\">&lt;</span><span style=\"color: #ff00ff; text-decoration-color: #ff00ff; font-weight: bold\">ProgressStatus.done:</span><span style=\"color: #000000; text-decoration-color: #000000\"> </span><span style=\"color: #008000; text-decoration-color: #008000\">'DONE'</span><span style=\"color: #000000; text-decoration-color: #000000\">&gt;,</span>\n<span style=\"color: #000000; text-decoration-color: #000000\">    </span><span style=\"color: #008000; text-decoration-color: #008000\">'metadata'</span><span style=\"color: #000000; text-decoration-color: #000000\">: </span><span style=\"color: #000000; text-decoration-color: #000000; font-weight: bold\">{</span>\n<span style=\"color: #000000; text-decoration-color: #000000\">        </span><span style=\"color: #008000; text-decoration-color: #008000\">'created_at'</span><span style=\"color: #000000; text-decoration-color: #000000\">: </span><span style=\"color: #800080; text-decoration-color: #800080; font-weight: bold\">datetime.datetime</span><span style=\"color: #000000; text-decoration-color: #000000; font-weight: bold\">(</span><span style=\"color: #008080; text-decoration-color: #008080; font-weight: bold\">2024</span><span style=\"color: #000000; text-decoration-color: #000000\">, </span><span style=\"color: #008080; text-decoration-color: #008080; font-weight: bold\">2</span><span style=\"color: #000000; text-decoration-color: #000000\">, </span><span style=\"color: #008080; text-decoration-color: #008080; font-weight: bold\">27</span><span style=\"color: #000000; text-decoration-color: #000000\">, </span><span style=\"color: #008080; text-decoration-color: #008080; font-weight: bold\">9</span><span style=\"color: #000000; text-decoration-color: #000000\">, </span><span style=\"color: #008080; text-decoration-color: #008080; font-weight: bold\">29</span><span style=\"color: #000000; text-decoration-color: #000000\">, </span><span style=\"color: #008080; text-decoration-color: #008080; font-weight: bold\">30</span><span style=\"color: #000000; text-decoration-color: #000000\">, </span><span style=\"color: #008080; text-decoration-color: #008080; font-weight: bold\">827227</span><span style=\"color: #000000; text-decoration-color: #000000\">, </span><span style=\"color: #808000; text-decoration-color: #808000\">tzinfo</span><span style=\"color: #000000; text-decoration-color: #000000\">=</span><span style=\"color: #800080; text-decoration-color: #800080; font-weight: bold\">TzInfo</span><span style=\"color: #000000; text-decoration-color: #000000; font-weight: bold\">(</span><span style=\"color: #000000; text-decoration-color: #000000\">UTC</span><span style=\"color: #000000; text-decoration-color: #000000; font-weight: bold\">))</span><span style=\"color: #000000; text-decoration-color: #000000\">,</span>\n<span style=\"color: #000000; text-decoration-color: #000000\">        </span><span style=\"color: #008000; text-decoration-color: #008000\">'owner_id'</span><span style=\"color: #000000; text-decoration-color: #000000\">: </span><span style=\"color: #008000; text-decoration-color: #008000\">'94b142d1-f543-40a2-98ba-3192a738c4ee'</span><span style=\"color: #000000; text-decoration-color: #000000\">,</span>\n<span style=\"color: #000000; text-decoration-color: #000000\">        </span><span style=\"color: #008000; text-decoration-color: #008000\">'owner_name'</span><span style=\"color: #000000; text-decoration-color: #000000\">: </span><span style=\"color: #008000; text-decoration-color: #008000\">'Test 1'</span><span style=\"color: #000000; text-decoration-color: #000000\">,</span>\n<span style=\"color: #000000; text-decoration-color: #000000\">        </span><span style=\"color: #008000; text-decoration-color: #008000\">'current_user_permission_level'</span><span style=\"color: #000000; text-decoration-color: #000000\">: &lt;PermissionLevel.admin: </span><span style=\"color: #008000; text-decoration-color: #008000\">'ADMIN'</span><span style=\"color: #000000; text-decoration-color: #000000\">&gt;</span>\n<span style=\"color: #000000; text-decoration-color: #000000\">    </span><span style=\"color: #000000; text-decoration-color: #000000; font-weight: bold\">}</span><span style=\"color: #000000; text-decoration-color: #000000\">,</span>\n<span style=\"color: #000000; text-decoration-color: #000000\">    </span><span style=\"color: #008000; text-decoration-color: #008000\">'accuracy'</span><span style=\"color: #000000; text-decoration-color: #000000\">: </span><span style=\"color: #008080; text-decoration-color: #008080; font-weight: bold\">0.922</span><span style=\"color: #000000; text-decoration-color: #000000\">,</span>\n<span style=\"color: #000000; text-decoration-color: #000000\">    </span><span style=\"color: #008000; text-decoration-color: #008000\">'usage'</span><span style=\"color: #000000; text-decoration-color: #000000\">: </span><span style=\"color: #800080; text-decoration-color: #800080; font-style: italic\">None</span><span style=\"color: #000000; text-decoration-color: #000000\">,</span>\n<span style=\"color: #000000; text-decoration-color: #000000\">    </span><span style=\"color: #008000; text-decoration-color: #008000\">'tables'</span><span style=\"color: #000000; text-decoration-color: #000000\">: </span><span style=\"color: #000000; text-decoration-color: #000000; font-weight: bold\">[</span>\n<span style=\"color: #000000; text-decoration-color: #000000\">        </span><span style=\"color: #000000; text-decoration-color: #000000; font-weight: bold\">{</span>\n<span style=\"color: #000000; text-decoration-color: #000000\">            </span><span style=\"color: #008000; text-decoration-color: #008000\">'id'</span><span style=\"color: #000000; text-decoration-color: #000000\">: </span><span style=\"color: #800080; text-decoration-color: #800080; font-weight: bold\">UUID</span><span style=\"color: #000000; text-decoration-color: #000000; font-weight: bold\">(</span><span style=\"color: #008000; text-decoration-color: #008000\">'3e3cc82b-7d69-4c4e-8538-6889df7a143b'</span><span style=\"color: #000000; text-decoration-color: #000000; font-weight: bold\">)</span><span style=\"color: #000000; text-decoration-color: #000000\">,</span>\n<span style=\"color: #000000; text-decoration-color: #000000\">            </span><span style=\"color: #008000; text-decoration-color: #008000\">'source_connector'</span><span style=\"color: #000000; text-decoration-color: #000000\">: </span><span style=\"color: #000000; text-decoration-color: #000000; font-weight: bold\">{</span>\n<span style=\"color: #000000; text-decoration-color: #000000\">                </span><span style=\"color: #008000; text-decoration-color: #008000\">'id'</span><span style=\"color: #000000; text-decoration-color: #000000\">: </span><span style=\"color: #800080; text-decoration-color: #800080; font-weight: bold\">UUID</span><span style=\"color: #000000; text-decoration-color: #000000; font-weight: bold\">(</span><span style=\"color: #008000; text-decoration-color: #008000\">'b3796a35-1288-4ea6-bba5-016ad1fb70e5'</span><span style=\"color: #000000; text-decoration-color: #000000; font-weight: bold\">)</span><span style=\"color: #000000; text-decoration-color: #000000\">,</span>\n<span style=\"color: #000000; text-decoration-color: #000000\">                </span><span style=\"color: #008000; text-decoration-color: #008000\">'name'</span><span style=\"color: #000000; text-decoration-color: #000000\">: </span><span style=\"color: #800080; text-decoration-color: #800080; font-style: italic\">None</span><span style=\"color: #000000; text-decoration-color: #000000\">,</span>\n<span style=\"color: #000000; text-decoration-color: #000000\">                </span><span style=\"color: #008000; text-decoration-color: #008000\">'uri'</span><span style=\"color: #000000; text-decoration-color: #000000\">: </span><span style=\"color: #008000; text-decoration-color: #008000\">'/connectors/b3796a35-1288-4ea6-bba5-016ad1fb70e5'</span>\n<span style=\"color: #000000; text-decoration-color: #000000\">            </span><span style=\"color: #000000; text-decoration-color: #000000; font-weight: bold\">}</span><span style=\"color: #000000; text-decoration-color: #000000\">,</span>\n<span style=\"color: #000000; text-decoration-color: #000000\">            </span><span style=\"color: #008000; text-decoration-color: #008000\">'location'</span><span style=\"color: #000000; text-decoration-color: #000000\">: </span><span style=\"color: #800080; text-decoration-color: #800080; font-style: italic\">None</span><span style=\"color: #000000; text-decoration-color: #000000\">,</span>\n<span style=\"color: #000000; text-decoration-color: #000000\">            </span><span style=\"color: #008000; text-decoration-color: #008000\">'name'</span><span style=\"color: #000000; text-decoration-color: #000000\">: </span><span style=\"color: #008000; text-decoration-color: #008000\">'titanic'</span><span style=\"color: #000000; text-decoration-color: #000000\">,</span>\n<span style=\"color: #000000; text-decoration-color: #000000\">            </span><span style=\"color: #008000; text-decoration-color: #008000\">'primary_key'</span><span style=\"color: #000000; text-decoration-color: #000000\">: </span><span style=\"color: #800080; text-decoration-color: #800080; font-style: italic\">None</span><span style=\"color: #000000; text-decoration-color: #000000\">,</span>\n<span style=\"color: #000000; text-decoration-color: #000000\">            </span><span style=\"color: #008000; text-decoration-color: #008000\">'columns'</span><span style=\"color: #000000; text-decoration-color: #000000\">: </span><span style=\"color: #000000; text-decoration-color: #000000; font-weight: bold\">[</span>\n<span style=\"color: #000000; text-decoration-color: #000000\">                </span><span style=\"color: #000000; text-decoration-color: #000000; font-weight: bold\">{</span>\n<span style=\"color: #000000; text-decoration-color: #000000\">                    </span><span style=\"color: #008000; text-decoration-color: #008000\">'id'</span><span style=\"color: #000000; text-decoration-color: #000000\">: </span><span style=\"color: #800080; text-decoration-color: #800080; font-weight: bold\">UUID</span><span style=\"color: #000000; text-decoration-color: #000000; font-weight: bold\">(</span><span style=\"color: #008000; text-decoration-color: #008000\">'94f431c0-22bd-4ebf-be01-fe3a9db49659'</span><span style=\"color: #000000; text-decoration-color: #000000; font-weight: bold\">)</span><span style=\"color: #000000; text-decoration-color: #000000\">,</span>\n<span style=\"color: #000000; text-decoration-color: #000000\">                    </span><span style=\"color: #008000; text-decoration-color: #008000\">'name'</span><span style=\"color: #000000; text-decoration-color: #000000\">: </span><span style=\"color: #008000; text-decoration-color: #008000\">'survived'</span><span style=\"color: #000000; text-decoration-color: #000000\">,</span>\n<span style=\"color: #000000; text-decoration-color: #000000\">                    </span><span style=\"color: #008000; text-decoration-color: #008000\">'included'</span><span style=\"color: #000000; text-decoration-color: #000000\">: </span><span style=\"color: #00ff00; text-decoration-color: #00ff00; font-style: italic\">True</span><span style=\"color: #000000; text-decoration-color: #000000\">,</span>\n<span style=\"color: #000000; text-decoration-color: #000000\">                    </span><span style=\"color: #008000; text-decoration-color: #008000\">'model_encoding_type'</span><span style=\"color: #000000; text-decoration-color: #000000\">: &lt;ModelEncodingType.numeric_auto: </span><span style=\"color: #008000; text-decoration-color: #008000\">'NUMERIC_AUTO'</span><span style=\"color: #000000; text-decoration-color: #000000\">&gt;</span>\n<span style=\"color: #000000; text-decoration-color: #000000\">                </span><span style=\"color: #000000; text-decoration-color: #000000; font-weight: bold\">}</span><span style=\"color: #000000; text-decoration-color: #000000\">,</span>\n<span style=\"color: #000000; text-decoration-color: #000000\">                </span><span style=\"color: #000000; text-decoration-color: #000000; font-weight: bold\">{</span>\n<span style=\"color: #000000; text-decoration-color: #000000\">                    </span><span style=\"color: #008000; text-decoration-color: #008000\">'id'</span><span style=\"color: #000000; text-decoration-color: #000000\">: </span><span style=\"color: #800080; text-decoration-color: #800080; font-weight: bold\">UUID</span><span style=\"color: #000000; text-decoration-color: #000000; font-weight: bold\">(</span><span style=\"color: #008000; text-decoration-color: #008000\">'24351843-5edf-4575-8056-bf5d0bf2d5e7'</span><span style=\"color: #000000; text-decoration-color: #000000; font-weight: bold\">)</span><span style=\"color: #000000; text-decoration-color: #000000\">,</span>\n<span style=\"color: #000000; text-decoration-color: #000000\">                    </span><span style=\"color: #008000; text-decoration-color: #008000\">'name'</span><span style=\"color: #000000; text-decoration-color: #000000\">: </span><span style=\"color: #008000; text-decoration-color: #008000\">'pclass'</span><span style=\"color: #000000; text-decoration-color: #000000\">,</span>\n<span style=\"color: #000000; text-decoration-color: #000000\">                    </span><span style=\"color: #008000; text-decoration-color: #008000\">'included'</span><span style=\"color: #000000; text-decoration-color: #000000\">: </span><span style=\"color: #00ff00; text-decoration-color: #00ff00; font-style: italic\">True</span><span style=\"color: #000000; text-decoration-color: #000000\">,</span>\n<span style=\"color: #000000; text-decoration-color: #000000\">                    </span><span style=\"color: #008000; text-decoration-color: #008000\">'model_encoding_type'</span><span style=\"color: #000000; text-decoration-color: #000000\">: &lt;ModelEncodingType.numeric_auto: </span><span style=\"color: #008000; text-decoration-color: #008000\">'NUMERIC_AUTO'</span><span style=\"color: #000000; text-decoration-color: #000000\">&gt;</span>\n<span style=\"color: #000000; text-decoration-color: #000000\">                </span><span style=\"color: #000000; text-decoration-color: #000000; font-weight: bold\">}</span><span style=\"color: #000000; text-decoration-color: #000000\">,</span>\n<span style=\"color: #000000; text-decoration-color: #000000\">                </span><span style=\"color: #000000; text-decoration-color: #000000; font-weight: bold\">{</span>\n<span style=\"color: #000000; text-decoration-color: #000000\">                    </span><span style=\"color: #008000; text-decoration-color: #008000\">'id'</span><span style=\"color: #000000; text-decoration-color: #000000\">: </span><span style=\"color: #800080; text-decoration-color: #800080; font-weight: bold\">UUID</span><span style=\"color: #000000; text-decoration-color: #000000; font-weight: bold\">(</span><span style=\"color: #008000; text-decoration-color: #008000\">'b13328f4-d3ab-441c-8f91-9759c7e15ae7'</span><span style=\"color: #000000; text-decoration-color: #000000; font-weight: bold\">)</span><span style=\"color: #000000; text-decoration-color: #000000\">,</span>\n<span style=\"color: #000000; text-decoration-color: #000000\">                    </span><span style=\"color: #008000; text-decoration-color: #008000\">'name'</span><span style=\"color: #000000; text-decoration-color: #000000\">: </span><span style=\"color: #008000; text-decoration-color: #008000\">'sex'</span><span style=\"color: #000000; text-decoration-color: #000000\">,</span>\n<span style=\"color: #000000; text-decoration-color: #000000\">                    </span><span style=\"color: #008000; text-decoration-color: #008000\">'included'</span><span style=\"color: #000000; text-decoration-color: #000000\">: </span><span style=\"color: #00ff00; text-decoration-color: #00ff00; font-style: italic\">True</span><span style=\"color: #000000; text-decoration-color: #000000\">,</span>\n<span style=\"color: #000000; text-decoration-color: #000000\">                    </span><span style=\"color: #008000; text-decoration-color: #008000\">'model_encoding_type'</span><span style=\"color: #000000; text-decoration-color: #000000\">: &lt;ModelEncodingType.categorical: </span><span style=\"color: #008000; text-decoration-color: #008000\">'CATEGORICAL'</span><span style=\"color: #000000; text-decoration-color: #000000\">&gt;</span>\n<span style=\"color: #000000; text-decoration-color: #000000\">                </span><span style=\"color: #000000; text-decoration-color: #000000; font-weight: bold\">}</span><span style=\"color: #000000; text-decoration-color: #000000\">,</span>\n<span style=\"color: #000000; text-decoration-color: #000000\">                </span><span style=\"color: #000000; text-decoration-color: #000000; font-weight: bold\">{</span>\n<span style=\"color: #000000; text-decoration-color: #000000\">                    </span><span style=\"color: #008000; text-decoration-color: #008000\">'id'</span><span style=\"color: #000000; text-decoration-color: #000000\">: </span><span style=\"color: #800080; text-decoration-color: #800080; font-weight: bold\">UUID</span><span style=\"color: #000000; text-decoration-color: #000000; font-weight: bold\">(</span><span style=\"color: #008000; text-decoration-color: #008000\">'b5ed9195-3ea5-4480-99aa-dcfc9fb182eb'</span><span style=\"color: #000000; text-decoration-color: #000000; font-weight: bold\">)</span><span style=\"color: #000000; text-decoration-color: #000000\">,</span>\n<span style=\"color: #000000; text-decoration-color: #000000\">                    </span><span style=\"color: #008000; text-decoration-color: #008000\">'name'</span><span style=\"color: #000000; text-decoration-color: #000000\">: </span><span style=\"color: #008000; text-decoration-color: #008000\">'age'</span><span style=\"color: #000000; text-decoration-color: #000000\">,</span>\n<span style=\"color: #000000; text-decoration-color: #000000\">                    </span><span style=\"color: #008000; text-decoration-color: #008000\">'included'</span><span style=\"color: #000000; text-decoration-color: #000000\">: </span><span style=\"color: #00ff00; text-decoration-color: #00ff00; font-style: italic\">True</span><span style=\"color: #000000; text-decoration-color: #000000\">,</span>\n<span style=\"color: #000000; text-decoration-color: #000000\">                    </span><span style=\"color: #008000; text-decoration-color: #008000\">'model_encoding_type'</span><span style=\"color: #000000; text-decoration-color: #000000\">: &lt;ModelEncodingType.numeric_auto: </span><span style=\"color: #008000; text-decoration-color: #008000\">'NUMERIC_AUTO'</span><span style=\"color: #000000; text-decoration-color: #000000\">&gt;</span>\n<span style=\"color: #000000; text-decoration-color: #000000\">                </span><span style=\"color: #000000; text-decoration-color: #000000; font-weight: bold\">}</span><span style=\"color: #000000; text-decoration-color: #000000\">,</span>\n<span style=\"color: #000000; text-decoration-color: #000000\">                </span><span style=\"color: #000000; text-decoration-color: #000000; font-weight: bold\">{</span>\n<span style=\"color: #000000; text-decoration-color: #000000\">                    </span><span style=\"color: #008000; text-decoration-color: #008000\">'id'</span><span style=\"color: #000000; text-decoration-color: #000000\">: </span><span style=\"color: #800080; text-decoration-color: #800080; font-weight: bold\">UUID</span><span style=\"color: #000000; text-decoration-color: #000000; font-weight: bold\">(</span><span style=\"color: #008000; text-decoration-color: #008000\">'a5ce1710-4fde-439d-b3eb-9995a7e15cd3'</span><span style=\"color: #000000; text-decoration-color: #000000; font-weight: bold\">)</span><span style=\"color: #000000; text-decoration-color: #000000\">,</span>\n<span style=\"color: #000000; text-decoration-color: #000000\">                    </span><span style=\"color: #008000; text-decoration-color: #008000\">'name'</span><span style=\"color: #000000; text-decoration-color: #000000\">: </span><span style=\"color: #008000; text-decoration-color: #008000\">'sibsp'</span><span style=\"color: #000000; text-decoration-color: #000000\">,</span>\n<span style=\"color: #000000; text-decoration-color: #000000\">                    </span><span style=\"color: #008000; text-decoration-color: #008000\">'included'</span><span style=\"color: #000000; text-decoration-color: #000000\">: </span><span style=\"color: #00ff00; text-decoration-color: #00ff00; font-style: italic\">True</span><span style=\"color: #000000; text-decoration-color: #000000\">,</span>\n<span style=\"color: #000000; text-decoration-color: #000000\">                    </span><span style=\"color: #008000; text-decoration-color: #008000\">'model_encoding_type'</span><span style=\"color: #000000; text-decoration-color: #000000\">: &lt;ModelEncodingType.numeric_auto: </span><span style=\"color: #008000; text-decoration-color: #008000\">'NUMERIC_AUTO'</span><span style=\"color: #000000; text-decoration-color: #000000\">&gt;</span>\n<span style=\"color: #000000; text-decoration-color: #000000\">                </span><span style=\"color: #000000; text-decoration-color: #000000; font-weight: bold\">}</span><span style=\"color: #000000; text-decoration-color: #000000\">,</span>\n<span style=\"color: #000000; text-decoration-color: #000000\">                </span><span style=\"color: #000000; text-decoration-color: #000000; font-weight: bold\">{</span>\n<span style=\"color: #000000; text-decoration-color: #000000\">                    </span><span style=\"color: #008000; text-decoration-color: #008000\">'id'</span><span style=\"color: #000000; text-decoration-color: #000000\">: </span><span style=\"color: #800080; text-decoration-color: #800080; font-weight: bold\">UUID</span><span style=\"color: #000000; text-decoration-color: #000000; font-weight: bold\">(</span><span style=\"color: #008000; text-decoration-color: #008000\">'a9dedf8e-4fde-4fdb-8a6c-45a7f875f256'</span><span style=\"color: #000000; text-decoration-color: #000000; font-weight: bold\">)</span><span style=\"color: #000000; text-decoration-color: #000000\">,</span>\n<span style=\"color: #000000; text-decoration-color: #000000\">                    </span><span style=\"color: #008000; text-decoration-color: #008000\">'name'</span><span style=\"color: #000000; text-decoration-color: #000000\">: </span><span style=\"color: #008000; text-decoration-color: #008000\">'parch'</span><span style=\"color: #000000; text-decoration-color: #000000\">,</span>\n<span style=\"color: #000000; text-decoration-color: #000000\">                    </span><span style=\"color: #008000; text-decoration-color: #008000\">'included'</span><span style=\"color: #000000; text-decoration-color: #000000\">: </span><span style=\"color: #00ff00; text-decoration-color: #00ff00; font-style: italic\">True</span><span style=\"color: #000000; text-decoration-color: #000000\">,</span>\n<span style=\"color: #000000; text-decoration-color: #000000\">                    </span><span style=\"color: #008000; text-decoration-color: #008000\">'model_encoding_type'</span><span style=\"color: #000000; text-decoration-color: #000000\">: &lt;ModelEncodingType.numeric_auto: </span><span style=\"color: #008000; text-decoration-color: #008000\">'NUMERIC_AUTO'</span><span style=\"color: #000000; text-decoration-color: #000000\">&gt;</span>\n<span style=\"color: #000000; text-decoration-color: #000000\">                </span><span style=\"color: #000000; text-decoration-color: #000000; font-weight: bold\">}</span><span style=\"color: #000000; text-decoration-color: #000000\">,</span>\n<span style=\"color: #000000; text-decoration-color: #000000\">                </span><span style=\"color: #000000; text-decoration-color: #000000; font-weight: bold\">{</span>\n<span style=\"color: #000000; text-decoration-color: #000000\">                    </span><span style=\"color: #008000; text-decoration-color: #008000\">'id'</span><span style=\"color: #000000; text-decoration-color: #000000\">: </span><span style=\"color: #800080; text-decoration-color: #800080; font-weight: bold\">UUID</span><span style=\"color: #000000; text-decoration-color: #000000; font-weight: bold\">(</span><span style=\"color: #008000; text-decoration-color: #008000\">'57fc20a4-c900-4ccd-98b7-904e0206a374'</span><span style=\"color: #000000; text-decoration-color: #000000; font-weight: bold\">)</span><span style=\"color: #000000; text-decoration-color: #000000\">,</span>\n<span style=\"color: #000000; text-decoration-color: #000000\">                    </span><span style=\"color: #008000; text-decoration-color: #008000\">'name'</span><span style=\"color: #000000; text-decoration-color: #000000\">: </span><span style=\"color: #008000; text-decoration-color: #008000\">'fare'</span><span style=\"color: #000000; text-decoration-color: #000000\">,</span>\n<span style=\"color: #000000; text-decoration-color: #000000\">                    </span><span style=\"color: #008000; text-decoration-color: #008000\">'included'</span><span style=\"color: #000000; text-decoration-color: #000000\">: </span><span style=\"color: #00ff00; text-decoration-color: #00ff00; font-style: italic\">True</span><span style=\"color: #000000; text-decoration-color: #000000\">,</span>\n<span style=\"color: #000000; text-decoration-color: #000000\">                    </span><span style=\"color: #008000; text-decoration-color: #008000\">'model_encoding_type'</span><span style=\"color: #000000; text-decoration-color: #000000\">: &lt;ModelEncodingType.numeric_auto: </span><span style=\"color: #008000; text-decoration-color: #008000\">'NUMERIC_AUTO'</span><span style=\"color: #000000; text-decoration-color: #000000\">&gt;</span>\n<span style=\"color: #000000; text-decoration-color: #000000\">                </span><span style=\"color: #000000; text-decoration-color: #000000; font-weight: bold\">}</span><span style=\"color: #000000; text-decoration-color: #000000\">,</span>\n<span style=\"color: #000000; text-decoration-color: #000000\">                </span><span style=\"color: #000000; text-decoration-color: #000000; font-weight: bold\">{</span>\n<span style=\"color: #000000; text-decoration-color: #000000\">                    </span><span style=\"color: #008000; text-decoration-color: #008000\">'id'</span><span style=\"color: #000000; text-decoration-color: #000000\">: </span><span style=\"color: #800080; text-decoration-color: #800080; font-weight: bold\">UUID</span><span style=\"color: #000000; text-decoration-color: #000000; font-weight: bold\">(</span><span style=\"color: #008000; text-decoration-color: #008000\">'20000239-6d4c-4945-bd3c-95a2878502bc'</span><span style=\"color: #000000; text-decoration-color: #000000; font-weight: bold\">)</span><span style=\"color: #000000; text-decoration-color: #000000\">,</span>\n<span style=\"color: #000000; text-decoration-color: #000000\">                    </span><span style=\"color: #008000; text-decoration-color: #008000\">'name'</span><span style=\"color: #000000; text-decoration-color: #000000\">: </span><span style=\"color: #008000; text-decoration-color: #008000\">'embarked'</span><span style=\"color: #000000; text-decoration-color: #000000\">,</span>\n<span style=\"color: #000000; text-decoration-color: #000000\">                    </span><span style=\"color: #008000; text-decoration-color: #008000\">'included'</span><span style=\"color: #000000; text-decoration-color: #000000\">: </span><span style=\"color: #00ff00; text-decoration-color: #00ff00; font-style: italic\">True</span><span style=\"color: #000000; text-decoration-color: #000000\">,</span>\n<span style=\"color: #000000; text-decoration-color: #000000\">                    </span><span style=\"color: #008000; text-decoration-color: #008000\">'model_encoding_type'</span><span style=\"color: #000000; text-decoration-color: #000000\">: &lt;ModelEncodingType.categorical: </span><span style=\"color: #008000; text-decoration-color: #008000\">'CATEGORICAL'</span><span style=\"color: #000000; text-decoration-color: #000000\">&gt;</span>\n<span style=\"color: #000000; text-decoration-color: #000000\">                </span><span style=\"color: #000000; text-decoration-color: #000000; font-weight: bold\">}</span>\n<span style=\"color: #000000; text-decoration-color: #000000\">            </span><span style=\"color: #000000; text-decoration-color: #000000; font-weight: bold\">]</span><span style=\"color: #000000; text-decoration-color: #000000\">,</span>\n<span style=\"color: #000000; text-decoration-color: #000000\">            </span><span style=\"color: #008000; text-decoration-color: #008000\">'foreign_keys'</span><span style=\"color: #000000; text-decoration-color: #000000\">: </span><span style=\"color: #800080; text-decoration-color: #800080; font-style: italic\">None</span><span style=\"color: #000000; text-decoration-color: #000000\">,</span>\n<span style=\"color: #000000; text-decoration-color: #000000\">            </span><span style=\"color: #008000; text-decoration-color: #008000\">'model'</span><span style=\"color: #000000; text-decoration-color: #000000\">: </span><span style=\"color: #000000; text-decoration-color: #000000; font-weight: bold\">{</span>\n<span style=\"color: #000000; text-decoration-color: #000000\">                </span><span style=\"color: #008000; text-decoration-color: #008000\">'id'</span><span style=\"color: #000000; text-decoration-color: #000000\">: </span><span style=\"color: #008000; text-decoration-color: #008000\">'a5793199-b459-435a-8f81-72724faa412b'</span><span style=\"color: #000000; text-decoration-color: #000000\">,</span>\n<span style=\"color: #000000; text-decoration-color: #000000\">                </span><span style=\"color: #008000; text-decoration-color: #008000\">'configuration'</span><span style=\"color: #000000; text-decoration-color: #000000\">: </span><span style=\"color: #000000; text-decoration-color: #000000; font-weight: bold\">{</span>\n<span style=\"color: #000000; text-decoration-color: #000000\">                    </span><span style=\"color: #008000; text-decoration-color: #008000\">'sample_fraction'</span><span style=\"color: #000000; text-decoration-color: #000000\">: </span><span style=\"color: #008080; text-decoration-color: #008080; font-weight: bold\">1.0</span><span style=\"color: #000000; text-decoration-color: #000000\">,</span>\n<span style=\"color: #000000; text-decoration-color: #000000\">                    </span><span style=\"color: #008000; text-decoration-color: #008000\">'max_sample_size'</span><span style=\"color: #000000; text-decoration-color: #000000\">: </span><span style=\"color: #800080; text-decoration-color: #800080; font-style: italic\">None</span><span style=\"color: #000000; text-decoration-color: #000000\">,</span>\n<span style=\"color: #000000; text-decoration-color: #000000\">                    </span><span style=\"color: #008000; text-decoration-color: #008000\">'batch_size'</span><span style=\"color: #000000; text-decoration-color: #000000\">: </span><span style=\"color: #800080; text-decoration-color: #800080; font-style: italic\">None</span><span style=\"color: #000000; text-decoration-color: #000000\">,</span>\n<span style=\"color: #000000; text-decoration-color: #000000\">                    </span><span style=\"color: #008000; text-decoration-color: #008000\">'model_size'</span><span style=\"color: #000000; text-decoration-color: #000000\">: &lt;ModelSize.m: </span><span style=\"color: #008000; text-decoration-color: #008000\">'M'</span><span style=\"color: #000000; text-decoration-color: #000000\">&gt;,</span>\n<span style=\"color: #000000; text-decoration-color: #000000\">                    </span><span style=\"color: #008000; text-decoration-color: #008000\">'max_training_time'</span><span style=\"color: #000000; text-decoration-color: #000000\">: </span><span style=\"color: #008080; text-decoration-color: #008080; font-weight: bold\">10</span><span style=\"color: #000000; text-decoration-color: #000000\">,</span>\n<span style=\"color: #000000; text-decoration-color: #000000\">                    </span><span style=\"color: #008000; text-decoration-color: #008000\">'max_epochs'</span><span style=\"color: #000000; text-decoration-color: #000000\">: </span><span style=\"color: #008080; text-decoration-color: #008080; font-weight: bold\">100</span><span style=\"color: #000000; text-decoration-color: #000000\">,</span>\n<span style=\"color: #000000; text-decoration-color: #000000\">                    </span><span style=\"color: #008000; text-decoration-color: #008000\">'max_sequence_window'</span><span style=\"color: #000000; text-decoration-color: #000000\">: </span><span style=\"color: #008080; text-decoration-color: #008080; font-weight: bold\">100</span><span style=\"color: #000000; text-decoration-color: #000000\">,</span>\n<span style=\"color: #000000; text-decoration-color: #000000\">                    </span><span style=\"color: #008000; text-decoration-color: #008000\">'enable_flexible_generation'</span><span style=\"color: #000000; text-decoration-color: #000000\">: </span><span style=\"color: #00ff00; text-decoration-color: #00ff00; font-style: italic\">True</span><span style=\"color: #000000; text-decoration-color: #000000\">,</span>\n<span style=\"color: #000000; text-decoration-color: #000000\">                    </span><span style=\"color: #008000; text-decoration-color: #008000\">'value_protection'</span><span style=\"color: #000000; text-decoration-color: #000000\">: </span><span style=\"color: #00ff00; text-decoration-color: #00ff00; font-style: italic\">True</span><span style=\"color: #000000; text-decoration-color: #000000\">,</span>\n<span style=\"color: #000000; text-decoration-color: #000000\">                    </span><span style=\"color: #008000; text-decoration-color: #008000\">'rare_category_replacement_method'</span><span style=\"color: #000000; text-decoration-color: #000000\">: &lt;RareCategoryReplacementMethod.constant: </span><span style=\"color: #008000; text-decoration-color: #008000\">'CONSTANT'</span><span style=\"font-weight: bold\">&gt;</span>\n                <span style=\"font-weight: bold\">}</span>,\n                <span style=\"color: #008000; text-decoration-color: #008000\">'metrics'</span>: <span style=\"font-weight: bold\">{</span>\n                    <span style=\"color: #008000; text-decoration-color: #008000\">'accuracy'</span>: <span style=\"font-weight: bold\">{</span>\n                        <span style=\"color: #008000; text-decoration-color: #008000\">'overall'</span>: <span style=\"color: #008080; text-decoration-color: #008080; font-weight: bold\">0.922</span>,\n                        <span style=\"color: #008000; text-decoration-color: #008000\">'univariate'</span>: <span style=\"color: #008080; text-decoration-color: #008080; font-weight: bold\">0.949</span>,\n                        <span style=\"color: #008000; text-decoration-color: #008000\">'bivariate'</span>: <span style=\"color: #008080; text-decoration-color: #008080; font-weight: bold\">0.894</span>,\n                        <span style=\"color: #008000; text-decoration-color: #008000\">'coherence'</span>: <span style=\"color: #800080; text-decoration-color: #800080; font-style: italic\">None</span>,\n                        <span style=\"color: #008000; text-decoration-color: #008000\">'overall_max'</span>: <span style=\"color: #008080; text-decoration-color: #008080; font-weight: bold\">0.959</span>\n                    <span style=\"font-weight: bold\">}</span>,\n                    <span style=\"color: #008000; text-decoration-color: #008000\">'distances'</span>: <span style=\"font-weight: bold\">{</span><span style=\"color: #008000; text-decoration-color: #008000\">'dcr_original'</span>: <span style=\"color: #008080; text-decoration-color: #008080; font-weight: bold\">0.679</span>, <span style=\"color: #008000; text-decoration-color: #008000\">'dcr_synthetic'</span>: <span style=\"color: #008080; text-decoration-color: #008080; font-weight: bold\">1.311</span><span style=\"font-weight: bold\">}</span>\n                <span style=\"font-weight: bold\">}</span>\n            <span style=\"font-weight: bold\">}</span>,\n            <span style=\"color: #008000; text-decoration-color: #008000\">'text_model'</span>: <span style=\"color: #800080; text-decoration-color: #800080; font-style: italic\">None</span>,\n            <span style=\"color: #008000; text-decoration-color: #008000\">'total_rows'</span>: <span style=\"color: #008080; text-decoration-color: #008080; font-weight: bold\">1309</span>\n        <span style=\"font-weight: bold\">}</span>\n    <span style=\"font-weight: bold\">]</span>,\n    <span style=\"color: #008000; text-decoration-color: #008000\">'synthetic_datasets'</span>: <span style=\"font-weight: bold\">[]</span>\n<span style=\"font-weight: bold\">}</span>\n</pre>\n"
     },
     "metadata": {},
     "output_type": "display_data"
    },
    {
     "data": {
      "text/plain": "",
      "text/html": "<pre style=\"white-space:pre;overflow-x:auto;line-height:normal;font-family:Menlo,'DejaVu Sans Mono',consolas,'Courier New',monospace\"></pre>\n"
     },
     "metadata": {},
     "output_type": "display_data"
    },
    {
     "data": {
      "text/plain": "Generator(id=UUID('d28b2d4f-6af4-4e21-9cca-a7ba34d25535'), name='titanic', description=None, training_status=<ProgressStatus.done: 'DONE'>, metadata=Metadata(created_at=datetime.datetime(2024, 2, 27, 9, 29, 30, 827227, tzinfo=TzInfo(UTC)), owner_id='94b142d1-f543-40a2-98ba-3192a738c4ee', owner_name='Test 1', current_user_permission_level=<PermissionLevel.admin: 'ADMIN'>), accuracy=0.922, usage=None, tables=[SourceTable(id=UUID('3e3cc82b-7d69-4c4e-8538-6889df7a143b'), source_connector=BaseResource(id=UUID('b3796a35-1288-4ea6-bba5-016ad1fb70e5'), name=None, uri='/connectors/b3796a35-1288-4ea6-bba5-016ad1fb70e5'), location=None, name='titanic', primary_key=None, columns=[SourceColumn(id=UUID('94f431c0-22bd-4ebf-be01-fe3a9db49659'), name='survived', included=True, model_encoding_type=<ModelEncodingType.numeric_auto: 'NUMERIC_AUTO'>), SourceColumn(id=UUID('24351843-5edf-4575-8056-bf5d0bf2d5e7'), name='pclass', included=True, model_encoding_type=<ModelEncodingType.numeric_auto: 'NUMERIC_AUTO'>), SourceColumn(id=UUID('b13328f4-d3ab-441c-8f91-9759c7e15ae7'), name='sex', included=True, model_encoding_type=<ModelEncodingType.categorical: 'CATEGORICAL'>), SourceColumn(id=UUID('b5ed9195-3ea5-4480-99aa-dcfc9fb182eb'), name='age', included=True, model_encoding_type=<ModelEncodingType.numeric_auto: 'NUMERIC_AUTO'>), SourceColumn(id=UUID('a5ce1710-4fde-439d-b3eb-9995a7e15cd3'), name='sibsp', included=True, model_encoding_type=<ModelEncodingType.numeric_auto: 'NUMERIC_AUTO'>), SourceColumn(id=UUID('a9dedf8e-4fde-4fdb-8a6c-45a7f875f256'), name='parch', included=True, model_encoding_type=<ModelEncodingType.numeric_auto: 'NUMERIC_AUTO'>), SourceColumn(id=UUID('57fc20a4-c900-4ccd-98b7-904e0206a374'), name='fare', included=True, model_encoding_type=<ModelEncodingType.numeric_auto: 'NUMERIC_AUTO'>), SourceColumn(id=UUID('20000239-6d4c-4945-bd3c-95a2878502bc'), name='embarked', included=True, model_encoding_type=<ModelEncodingType.categorical: 'CATEGORICAL'>)], foreign_keys=None, model=Model(id='a5793199-b459-435a-8f81-72724faa412b', configuration=ModelConfiguration(sample_fraction=1.0, max_sample_size=None, batch_size=None, model_size=<ModelSize.m: 'M'>, max_training_time=10, max_epochs=100, max_sequence_window=100, enable_flexible_generation=True, value_protection=True, rare_category_replacement_method=<RareCategoryReplacementMethod.constant: 'CONSTANT'>), metrics=ModelMetrics(accuracy=Accuracy(overall=0.922, univariate=0.949, bivariate=0.894, coherence=None, overall_max=0.959), distances=Distances(dcr_original=0.679, dcr_synthetic=1.311))), text_model=None, total_rows=1309)], synthetic_datasets=[], training=<mostlyai.model.Generator.Training object at 0x120f6d0c0>)",
      "text/html": ""
     },
     "execution_count": 25,
     "metadata": {},
     "output_type": "execute_result"
    }
   ],
   "source": [
    "g"
   ],
   "metadata": {
    "collapsed": false,
    "ExecuteTime": {
     "end_time": "2024-02-27T11:20:05.476858Z",
     "start_time": "2024-02-27T11:20:05.248577Z"
    }
   },
   "id": "4e80c740d5e0cfe0"
  },
  {
   "cell_type": "markdown",
   "id": "f90a89fc-513d-4e51-a55a-45e8849cc9dc",
   "metadata": {},
   "source": [
    "### User 1 shares the Generator with User 2 and User 3"
   ]
  },
  {
   "cell_type": "code",
   "execution_count": null,
   "id": "8d5f3e0cb7cc8c64",
   "metadata": {
    "ExecuteTime": {
     "end_time": "2024-02-25T15:23:01.287363Z",
     "start_time": "2024-02-25T15:23:01.097027Z"
    },
    "collapsed": false
   },
   "outputs": [],
   "source": [
    "mostly_t1.share(g, 'test2@mostly.ai')\n",
    "mostly_t1.share(g, 'test3@mostly.ai')"
   ]
  },
  {
   "cell_type": "markdown",
   "id": "82932d4d-4cf9-49ae-88ae-67f5d25271c7",
   "metadata": {},
   "source": [
    "### User 2 generates a Synthetic Dataset"
   ]
  },
  {
   "cell_type": "code",
   "execution_count": null,
   "id": "2b237a256703811f",
   "metadata": {
    "ExecuteTime": {
     "end_time": "2024-02-25T15:33:54.711245Z",
     "start_time": "2024-02-25T15:33:54.510932Z"
    },
    "collapsed": false
   },
   "outputs": [],
   "source": [
    "sd = mostly_t2.generate(g.id, size=1000)"
   ]
  },
  {
   "cell_type": "markdown",
   "id": "360efa10-8298-4f47-aded-9f6abefc2d1f",
   "metadata": {},
   "source": [
    "### User 2 consumes the Synthetic Dataset"
   ]
  },
  {
   "cell_type": "code",
   "execution_count": null,
   "id": "dbbc2c89-7d0f-48fd-b412-9687235ed753",
   "metadata": {},
   "outputs": [],
   "source": [
    "sd.data()"
   ]
  },
  {
   "cell_type": "markdown",
   "id": "151dc3eb-5c7a-459a-99e3-68b6094201a7",
   "metadata": {},
   "source": [
    "### User 3 generates a Seeded Synthetic Dataset"
   ]
  },
  {
   "cell_type": "code",
   "execution_count": null,
   "id": "2373fe44-64b7-4f00-a4d4-9181ccfd4df0",
   "metadata": {},
   "outputs": [],
   "source": [
    "# prepare a seed DataFrame\n",
    "import pandas as pd\n",
    "import numpy as np\n",
    "seed_df = pd.DataFrame({'survived': [1] * 10_000, 'age': np.random.randint(5, 18, 10_000)})\n",
    "seed_df"
   ]
  },
  {
   "cell_type": "code",
   "execution_count": null,
   "id": "5d0cc8ba-342f-4688-9eb8-aef54eb63ddb",
   "metadata": {},
   "outputs": [],
   "source": [
    "sd3 = mostly_t3.generate(g.id, seed=seed_df)"
   ]
  },
  {
   "cell_type": "code",
   "execution_count": null,
   "id": "fa384fb5-6887-4c43-8ca1-59b100dec067",
   "metadata": {},
   "outputs": [],
   "source": [
    "sd3.data()"
   ]
  },
  {
   "cell_type": "markdown",
   "id": "ff9a5ecf-97b3-4b4f-8775-b747b6e168bb",
   "metadata": {},
   "source": [
    "## Multi-Table\n",
    "\n",
    "### User 1 trains a 3-table setup from pandas"
   ]
  },
  {
   "cell_type": "code",
   "execution_count": null,
   "id": "7044a048-99a1-4e85-9d4c-60746793affc",
   "metadata": {},
   "outputs": [],
   "source": [
    "import pandas as pd\n",
    "df_players = pd.read_csv('https://github.com/mostly-ai/public-demo-data/raw/dev/baseball/players.csv.gz')\n",
    "df_fielding = pd.read_csv('https://github.com/mostly-ai/public-demo-data/raw/dev/baseball/fielding.csv.gz')\n",
    "df_batting = pd.read_csv('https://github.com/mostly-ai/public-demo-data/raw/dev/baseball/batting.csv.gz')\n",
    "df_players"
   ]
  },
  {
   "cell_type": "code",
   "execution_count": null,
   "id": "7cff3522-f60c-445c-920c-7f486559b260",
   "metadata": {
    "editable": true,
    "slideshow": {
     "slide_type": ""
    },
    "tags": []
   },
   "outputs": [],
   "source": [
    "g = mostly_t1.train(config=\n",
    "    {\n",
    "        \"name\": \"baseball\",\n",
    "        \"tables\": [\n",
    "            {\n",
    "                \"name\": \"players\", \n",
    "                \"data\": df_players, \n",
    "                \"primaryKey\": \"id\",\n",
    "                \"modelConfiguration\": {\"maxTrainingTime\": 1}\n",
    "            },\n",
    "            {\n",
    "                \"name\": \"fielding\",\n",
    "                \"data\": df_fielding, \n",
    "                \"foreignKeys\": [{\"column\": \"players_id\", \"referencedTable\": \"players\", \"isContext\": True}],\n",
    "                \"modelConfiguration\": {\"maxTrainingTime\": 1}\n",
    "            },\n",
    "            {\n",
    "                \"name\": \"batting\",\n",
    "                \"data\": df_batting, \n",
    "                \"foreignKeys\": [{\"column\": \"players_id\", \"referencedTable\": \"players\", \"isContext\": True}],\n",
    "                \"modelConfiguration\": {\"maxTrainingTime\": 1}\n",
    "            }\n",
    "        ]\n",
    "    }\n",
    ")"
   ]
  },
  {
   "cell_type": "markdown",
   "id": "40f695a7-e120-4eba-afa0-91540add28df",
   "metadata": {},
   "source": [
    "## Database Connectivity"
   ]
  },
  {
   "cell_type": "markdown",
   "id": "bbd46af0-55fd-4312-af15-d270da1a0ceb",
   "metadata": {},
   "source": [
    "### User 1 creates a Connector to a Postgres Database"
   ]
  },
  {
   "cell_type": "code",
   "execution_count": null,
   "id": "a7eaff4e-a979-4462-a42e-67770aa790f1",
   "metadata": {},
   "outputs": [],
   "source": [
    "import os\n",
    "c = mostly_t1.connect({\n",
    "    \"accessType\": \"SOURCE\",\n",
    "    \"type\": \"POSTGRES\",\n",
    "    \"config\": {\n",
    "        \"host\": \"postgres-test.cppq7davohkj.eu-central-1.rds.amazonaws.com\",\n",
    "        \"username\": \"postgres\",\n",
    "        \"database\": \"berka_original\",\n",
    "    },\n",
    "    \"secrets\": {\n",
    "        \"password\": pwd\n",
    "    }\n",
    "})"
   ]
  },
  {
   "cell_type": "markdown",
   "id": "b615f91b-a9f3-4538-833b-f85842b1c7f0",
   "metadata": {},
   "source": [
    "### User 1 shares Connector with User 2"
   ]
  },
  {
   "cell_type": "code",
   "execution_count": null,
   "id": "237b2985-ab66-4fc2-8dda-1ab57d21da26",
   "metadata": {},
   "outputs": [],
   "source": [
    "mostly_t1.share(c.id, 'test2@mostly.ai')"
   ]
  },
  {
   "cell_type": "markdown",
   "id": "9dada9a4-4b73-40ab-8afa-d30448728191",
   "metadata": {},
   "source": [
    "### User 2 uses Connector to train a Generator"
   ]
  },
  {
   "cell_type": "code",
   "execution_count": null,
   "id": "20a340be-ad76-4747-8be7-16456bed4e12",
   "metadata": {},
   "outputs": [],
   "source": [
    "c2 = mostly_t2.connectors.get(c.id)\n",
    "c2"
   ]
  },
  {
   "cell_type": "code",
   "execution_count": null,
   "id": "189f35a9-3423-4ae2-b277-df9f24800d69",
   "metadata": {},
   "outputs": [],
   "source": [
    "c2.locations()"
   ]
  },
  {
   "cell_type": "code",
   "execution_count": null,
   "id": "4b27b596-dd23-4f7e-be09-ad43fb6bf179",
   "metadata": {},
   "outputs": [],
   "source": [
    "c2.locations(\"berka\")"
   ]
  },
  {
   "cell_type": "code",
   "execution_count": null,
   "id": "fa528ff3-b9d4-459e-9770-ad134f456f39",
   "metadata": {},
   "outputs": [],
   "source": [
    "g = mostly_t2.train(config=\n",
    "    {\n",
    "        \"name\": \"BERKA\",\n",
    "        \"tables\": [\n",
    "            {\n",
    "                \"name\": \"accounts\", \n",
    "                \"sourceConnectorId\": str(c2.id),\n",
    "                \"location\": \"berka.account\",\n",
    "                \"primaryKey\": \"account_id\"\n",
    "            }\n",
    "        ]\n",
    "    }\n",
    ")"
   ]
  },
  {
   "cell_type": "code",
   "execution_count": null,
   "id": "b1a1b4d4-0426-4381-ae9b-0a59e718982c",
   "metadata": {},
   "outputs": [],
   "source": [
    "sd = mostly_t2.generate(g)"
   ]
  },
  {
   "cell_type": "code",
   "execution_count": null,
   "id": "d6e57ef5-04e6-4af8-b859-ed10c1afb09c",
   "metadata": {},
   "outputs": [],
   "source": [
    "sd.data()"
   ]
  },
  {
   "cell_type": "code",
   "execution_count": null,
   "id": "4b42c2fb-b746-42ac-b5a3-1f6ac68f1b85",
   "metadata": {},
   "outputs": [],
   "source": []
  }
 ],
 "metadata": {
  "kernelspec": {
   "display_name": "Python 3 (ipykernel)",
   "language": "python",
   "name": "python3"
  },
  "language_info": {
   "codemirror_mode": {
    "name": "ipython",
    "version": 3
   },
   "file_extension": ".py",
   "mimetype": "text/x-python",
   "name": "python",
   "nbconvert_exporter": "python",
   "pygments_lexer": "ipython3",
   "version": "3.9.7"
  }
 },
 "nbformat": 4,
 "nbformat_minor": 5
}
