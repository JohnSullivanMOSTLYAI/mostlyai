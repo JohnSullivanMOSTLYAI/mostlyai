{
 "cells": [
  {
   "cell_type": "code",
   "execution_count": 47,
   "id": "initial_id",
   "metadata": {
    "collapsed": true,
    "ExecuteTime": {
     "end_time": "2024-02-14T14:24:43.605633Z",
     "start_time": "2024-02-14T14:24:43.321994Z"
    }
   },
   "outputs": [],
   "source": [
    "import os\n",
    "os.environ['MOSTLY_PASSWORD'] = 'Mostly01!'\n",
    "\n",
    "from mostlyai import MostlyAI\n",
    "client = MostlyAI(\n",
    "    # api_key = 'xxx',         # or MOSTLYAI_API_KEY env var; this is bound to a single user account\n",
    "    # base_url = 'https://..'  # optional; defaults to our free version\n",
    ")"
   ]
  },
  {
   "cell_type": "code",
   "execution_count": null,
   "outputs": [],
   "source": [],
   "metadata": {
    "collapsed": false
   },
   "id": "5b2b7843b5514c6"
  },
  {
   "cell_type": "code",
   "execution_count": 13,
   "outputs": [],
   "source": [
    "# for g in client.generators.list():\n",
    "#     print(g.id, g.name)"
   ],
   "metadata": {
    "collapsed": false,
    "ExecuteTime": {
     "end_time": "2024-02-14T13:56:17.088311Z",
     "start_time": "2024-02-14T13:56:17.081601Z"
    }
   },
   "id": "bcf975f70c038927"
  },
  {
   "cell_type": "code",
   "execution_count": 14,
   "outputs": [],
   "source": [
    "# cid = next(client.connectors.list()).id\n",
    "# client.connectors.get('920a7f09-9713-4fb6-bcf7-7a1684fe5020')\n",
    "# gid = next(client.generators.list()).id\n",
    "# client.generators.get(gid)\n",
    "# sid = next(client.synthetic_datasets.list()).id\n",
    "# client.synthetic_datasets.get(sid)"
   ],
   "metadata": {
    "collapsed": false,
    "ExecuteTime": {
     "end_time": "2024-02-14T13:56:17.092329Z",
     "start_time": "2024-02-14T13:56:17.087303Z"
    }
   },
   "id": "671299150ba8f60e"
  },
  {
   "cell_type": "code",
   "execution_count": 45,
   "outputs": [
    {
     "data": {
      "text/plain": "4"
     },
     "execution_count": 45,
     "metadata": {},
     "output_type": "execute_result"
    }
   ],
   "source": [
    "g = client.generators.get('4b6f2725-2743-4da5-b0e9-60d9440e2e92')\n",
    "acc = g.tables[0].model.metrics.accuracy.univariate\n",
    "no_of_columns = len(g.tables[0].columns)"
   ],
   "metadata": {
    "collapsed": false,
    "ExecuteTime": {
     "end_time": "2024-02-14T14:09:48.023990Z",
     "start_time": "2024-02-14T14:09:47.762088Z"
    }
   },
   "id": "b9eb07b85cfe61ea"
  },
  {
   "cell_type": "code",
   "execution_count": null,
   "outputs": [],
   "source": [
    "g.config()\n",
    "g.delete()\n",
    "g.update(name='Michi Test')\n",
    "g."
   ],
   "metadata": {
    "collapsed": false
   },
   "id": "e46d9bb6c324d489"
  },
  {
   "cell_type": "code",
   "execution_count": null,
   "outputs": [],
   "source": [
    "for g in client.generators.list():\n",
    "    g.update(g.name + \" hello\")\n",
    "    "
   ],
   "metadata": {
    "collapsed": false
   },
   "id": "fb71f5f315b6f530"
  },
  {
   "cell_type": "code",
   "execution_count": 15,
   "outputs": [],
   "source": [
    "# config = client.connectors.config('4cb8ed54-94e1-40b9-892e-66a36ef6fa6a')\n",
    "# config[\"name\"] = \"Michi Test\"\n",
    "# del config[\"client\"]\n",
    "# client.connectors.create(**config)"
   ],
   "metadata": {
    "collapsed": false,
    "ExecuteTime": {
     "end_time": "2024-02-14T13:56:17.094304Z",
     "start_time": "2024-02-14T13:56:17.091580Z"
    }
   },
   "id": "a079a1b36ccbf667"
  },
  {
   "cell_type": "code",
   "execution_count": 56,
   "outputs": [],
   "source": [
    "# config = client.generators.config('d69e8bb9-14b8-4397-9259-bb3a02c703ca')\n",
    "# config[\"name\"] = \"Michi Test without columns\"\n",
    "# del config[\"client\"]\n",
    "# del config[\"tables\"][0][\"columns\"]\n",
    "# del config[\"tables\"][0][\"modelConfiguration\"]\n",
    "# config\n",
    "g = client.generators.create(tables=[{\n",
    "    \"name\": \"hello\",\n",
    "    'sourceConnectorId': '2f115805-4b86-45b3-b31c-d4e0d053b331', \n",
    "    'location': 'public.account'\n",
    "}])"
   ],
   "metadata": {
    "collapsed": false,
    "ExecuteTime": {
     "end_time": "2024-02-14T14:28:30.302972Z",
     "start_time": "2024-02-14T14:28:28.388311Z"
    }
   },
   "id": "37943e967d89bbbb"
  },
  {
   "cell_type": "code",
   "execution_count": 57,
   "outputs": [
    {
     "data": {
      "text/plain": "Generator(client=<mostlyai.generators._MostlyGeneratorsClient object at 0x11ef1fbd0>, extra_key_values=None, id=UUID('0a14b266-977e-4c07-b5a7-473104e8c2b0'), name='account', description=None, training_status=<ProgressStatus.new: 'NEW'>, metadata=Metadata(client=None, extra_key_values=None, created_at=datetime.datetime(2024, 2, 14, 14, 28, 28, 761830, tzinfo=TzInfo(UTC)), owner_id='95296f9e-0d12-4731-a981-5b3950ec19c3', owner_name='Super Admin'), accuracy=None, usage=GeneratorUsage(client=None, extra_key_values=None, total_datapoints=None), tables=[SourceTable(client=None, extra_key_values=None, id=UUID('bd50dc56-7dde-4c54-94b0-2d2c5daa0c5e'), source_connector=BaseResource(client=None, extra_key_values=None, id=UUID('2f115805-4b86-45b3-b31c-d4e0d053b331'), name='2f115805-4b86-45b3-b31c-d4e0d053b331', uri='/connectors/2f115805-4b86-45b3-b31c-d4e0d053b331'), location='public.account', name='account', primary_key='account_id', columns=[SourceColumn(client=None, extra_key_values=None, id=UUID('2f28ee44-b89a-40fb-9749-b70d1641608d'), name='account_id', included=True, model_encoding_type=<ModelEncodingType.categorical: 'CATEGORICAL'>), SourceColumn(client=None, extra_key_values=None, id=UUID('09c31dc7-6496-435e-8263-ca10d4c41de5'), name='district_id', included=True, model_encoding_type=<ModelEncodingType.categorical: 'CATEGORICAL'>), SourceColumn(client=None, extra_key_values=None, id=UUID('b481b12a-45b4-4a2c-bc72-fce8aa63e989'), name='frequency', included=True, model_encoding_type=<ModelEncodingType.categorical: 'CATEGORICAL'>), SourceColumn(client=None, extra_key_values=None, id=UUID('bda4df9c-a80c-4cc4-bcb7-42edc20e0251'), name='date', included=True, model_encoding_type=<ModelEncodingType.datetime: 'DATETIME'>)], foreign_keys=None, model=Model(client=None, extra_key_values=None, id='34ad5ece-2f4e-439a-969d-6d9572e99288', configuration=ModelConfiguration(client=None, extra_key_values=None, sample_fraction=1.0, max_sample_size=None, batch_size=None, model_size=<ModelSize.m: 'M'>, max_training_time=60, max_epochs=100, max_sequence_window=100, enable_flexible_generation=True, value_protection=True, rare_category_replacement_method=<RareCategoryReplacementMethod.constant: 'CONSTANT'>), metrics=None), text_model=None, total_rows=None)], synthetic_datasets=[])"
     },
     "execution_count": 57,
     "metadata": {},
     "output_type": "execute_result"
    }
   ],
   "source": [
    "g"
   ],
   "metadata": {
    "collapsed": false,
    "ExecuteTime": {
     "end_time": "2024-02-14T14:29:15.703319Z",
     "start_time": "2024-02-14T14:29:15.697455Z"
    }
   },
   "id": "dd957c73f4c97aa7"
  },
  {
   "cell_type": "code",
   "execution_count": 16,
   "outputs": [],
   "source": [
    "gid = '4b6f2725-2743-4da5-b0e9-60d9440e2e92'\n",
    "client.generators.delete(gid)"
   ],
   "metadata": {
    "collapsed": false,
    "ExecuteTime": {
     "end_time": "2024-02-14T13:56:17.386746Z",
     "start_time": "2024-02-14T13:56:17.384455Z"
    }
   },
   "id": "d64684f2466c4c48"
  }
 ],
 "metadata": {
  "kernelspec": {
   "display_name": "Python 3",
   "language": "python",
   "name": "python3"
  },
  "language_info": {
   "codemirror_mode": {
    "name": "ipython",
    "version": 2
   },
   "file_extension": ".py",
   "mimetype": "text/x-python",
   "name": "python",
   "nbconvert_exporter": "python",
   "pygments_lexer": "ipython2",
   "version": "2.7.6"
  }
 },
 "nbformat": 4,
 "nbformat_minor": 5
}
