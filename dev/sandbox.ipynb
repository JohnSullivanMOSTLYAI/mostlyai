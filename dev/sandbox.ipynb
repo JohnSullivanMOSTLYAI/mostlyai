{
 "cells": [
  {
   "cell_type": "code",
   "execution_count": null,
   "id": "69cb91dc2f799dc1",
   "metadata": {
    "ExecuteTime": {
     "end_time": "2024-02-16T19:59:06.798956Z",
     "start_time": "2024-02-16T19:59:06.720603Z"
    },
    "collapsed": false,
    "jupyter": {
     "outputs_hidden": false
    }
   },
   "outputs": [],
   "source": [
    "# ensure that any code changes are immediately reflected\n",
    "%reload_ext autoreload\n",
    "%autoreload 2"
   ]
  },
  {
   "cell_type": "code",
   "execution_count": null,
   "id": "78ef262fde4f3055",
   "metadata": {
    "ExecuteTime": {
     "end_time": "2024-02-16T19:59:07.121510Z",
     "start_time": "2024-02-16T19:59:06.859193Z"
    },
    "collapsed": false,
    "jupyter": {
     "outputs_hidden": false
    }
   },
   "outputs": [],
   "source": [
    "from mostlyai import MostlyAI\n",
    "import pandas as pd\n",
    "import os\n",
    "os.environ['MOSTLY_AI_PASSWORD'] = 'Mostly01!'\n",
    "client = MostlyAI(\n",
    "    # api_key = 'xxx',         # or MOSTLYAI_API_KEY env var; this is bound to a single user account\n",
    "    # base_url = 'https://..'  # optional; defaults to our free version\n",
    ")"
   ]
  },
  {
   "cell_type": "markdown",
   "id": "283c7d9a-ee3d-441a-bb2d-393fe3899947",
   "metadata": {},
   "source": [
    "## CENSUS"
   ]
  },
  {
   "cell_type": "code",
   "execution_count": null,
   "id": "bb8da271-b63e-4a7f-a244-b196aa6b41f5",
   "metadata": {},
   "outputs": [],
   "source": [
    "census = pd.read_csv('/Users/mplatzer/github/public-demo-data/census/census.csv.gz').sample(n=1_000)\n",
    "g = client.generators.create(\n",
    "    name='census',\n",
    "    description='census',\n",
    "    tables=[{'name': 'census', 'data': census}],\n",
    ")"
   ]
  },
  {
   "cell_type": "code",
   "execution_count": null,
   "id": "69f5aedb-9bc8-49ec-90bf-664804c9550d",
   "metadata": {},
   "outputs": [],
   "source": [
    "sd = client.synthetic_datasets.create(generatorId=g.id)"
   ]
  },
  {
   "cell_type": "code",
   "execution_count": null,
   "id": "c0c103a7-4b0c-4c54-b6f7-ec32a557ae86",
   "metadata": {},
   "outputs": [],
   "source": [
    "dfs = sd.data()\n",
    "dfs['census']"
   ]
  },
  {
   "cell_type": "code",
   "execution_count": null,
   "id": "893d0e65-8c84-411e-a233-9906e9085713",
   "metadata": {},
   "outputs": [],
   "source": [
    "#seed = pd.DataFrame({'sex': ['Male', 'Female'] * 100, 'age': [49] * 200})\n",
    "# sd = client.synthetic_datasets.create(generatorId=g.id, tables=[{'name': 'users', 'sampleSeedData': seed}])"
   ]
  },
  {
   "cell_type": "markdown",
   "id": "1ca7fdc4-19ec-4435-a223-b67a2bbd4259",
   "metadata": {},
   "source": [
    "## CDNOW"
   ]
  },
  {
   "cell_type": "code",
   "execution_count": null,
   "id": "fa528ff3-b9d4-459e-9770-ad134f456f39",
   "metadata": {},
   "outputs": [],
   "source": [
    "# CDNOW from HTTP\n",
    "g = client.generators.create(\n",
    "    name='CDNOW',\n",
    "    tables=[\n",
    "        {'name': 'users', 'data': 'https://github.com/mostly-ai/public-demo-data/raw/dev/cdnow/users.csv.gz', 'primaryKey': 'id'}, \n",
    "        {'name': 'purchases', 'data': 'https://github.com/mostly-ai/public-demo-data/raw/dev/cdnow/purchases.csv.gz', \n",
    "         'foreignKeys': [{'column': 'users_id', 'referencedTable': 'users', 'isContext': True}]}\n",
    "    ]\n",
    ")"
   ]
  },
  {
   "cell_type": "code",
   "execution_count": null,
   "id": "976d1d7e-2672-4972-9979-0ea23cbef331",
   "metadata": {},
   "outputs": [],
   "source": [
    "acc = g.tables[0].model.metrics.accuracy.univariate\n",
    "print(f\"accuracy: {acc:.2%}\")"
   ]
  },
  {
   "cell_type": "code",
   "execution_count": null,
   "id": "b1a1b4d4-0426-4381-ae9b-0a59e718982c",
   "metadata": {},
   "outputs": [],
   "source": [
    "sd = client.synthetic_datasets.create(generatorId=g.id, tables=[{'name': 'users', 'sampleSeedData': seed}])"
   ]
  },
  {
   "cell_type": "code",
   "execution_count": null,
   "id": "845793ec-853a-442e-b066-6cdc3050be4f",
   "metadata": {},
   "outputs": [],
   "source": [
    "dfs = sd.data()\n",
    "dfs"
   ]
  },
  {
   "cell_type": "code",
   "execution_count": null,
   "id": "6083c966-8b55-4cb0-91f2-0a6566a8ea8c",
   "metadata": {},
   "outputs": [],
   "source": []
  }
 ],
 "metadata": {
  "kernelspec": {
   "display_name": "Python 3 (ipykernel)",
   "language": "python",
   "name": "python3"
  },
  "language_info": {
   "codemirror_mode": {
    "name": "ipython",
    "version": 3
   },
   "file_extension": ".py",
   "mimetype": "text/x-python",
   "name": "python",
   "nbconvert_exporter": "python",
   "pygments_lexer": "ipython3",
   "version": "3.11.7"
  }
 },
 "nbformat": 4,
 "nbformat_minor": 5
}
