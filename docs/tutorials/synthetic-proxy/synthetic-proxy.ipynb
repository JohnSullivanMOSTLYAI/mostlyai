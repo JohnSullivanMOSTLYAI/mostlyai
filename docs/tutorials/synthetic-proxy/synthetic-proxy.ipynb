{
 "cells": [
  {
   "cell_type": "markdown",
   "metadata": {
    "id": "LVzkBFce0_4x"
   },
   "source": [
    "**LLM Enrichment using a Safe Synthetic Proxy**\n",
    "\n",
    "This notebook demonstrates a privacy-first approach to enhancing sensitive datasets using Large Language Models (LLMs), without ever exposing the original data. We achieve this by introducing a synthetic proxy - a privacy-safe, high-fidelity synthetic version of your dataset. This proxy is shared with an LLM to generate enriched insights. These enriched insights are then learned by a generator, which is capable of transferring the enrichment logic back onto your real data without sharing it externally.\n",
    "\n",
    "📋 Steps\n",
    "\n",
    "1.   Create a synthetic proxy\n",
    "2.   Enrich the proxy with an LLM\n",
    "3.   Train a generator on the enriched proxy\n",
    "4.   Apply the enrichment to the sensitive data\n",
    "\n",
    "\n",
    "\n",
    "\n",
    "🔐 Key Benefits\n",
    "\n",
    "* No data exposure: Original data stays secure.\n",
    "* Enrichment at scale: LLMs enrich synthetic data; the generator brings that intelligence back.\n",
    "* Reusable logic: Once trained, the generator acts as a secure enrichment adapter - no repeated LLM calls needed.\n",
    "\n"
   ]
  },
  {
   "cell_type": "markdown",
   "metadata": {
    "id": "XyI2Ayj72OX9"
   },
   "source": [
    "**Install Required Packages**\n",
    "\n",
    "Install the Synthetic Data SDK and DataLLM."
   ]
  },
  {
   "cell_type": "code",
   "execution_count": null,
   "metadata": {
    "id": "2tc8hHbjz3aK"
   },
   "outputs": [],
   "source": [
    "# install sdk\n",
    "%pip install -U 'mostlyai[local]' mostlyai-mock"
   ]
  },
  {
   "cell_type": "markdown",
   "metadata": {
    "id": "aNa5G55nBRcL"
   },
   "source": [
    "*Remember to restart your kernel after installing new packages.*"
   ]
  },
  {
   "cell_type": "code",
   "execution_count": null,
   "metadata": {
    "id": "B-68q_oGDjef"
   },
   "outputs": [],
   "source": [
    "import os\n",
    "from concurrent.futures import ThreadPoolExecutor, as_completed\n",
    "\n",
    "import pandas as pd\n",
    "\n",
    "from mostlyai import mock\n",
    "\n",
    "# Set your OpenAI API key\n",
    "os.environ[\"OPENAI_API_KEY\"] = \"YOUR_KEY_HERE\""
   ]
  },
  {
   "cell_type": "markdown",
   "metadata": {
    "id": "B424tIf329Xv"
   },
   "source": [
    "**Load Original Data**\n",
    "\n",
    "Fetch a sample of the census dataset that will be used as our sensitive proprietary data that we want to enrich while keeping it private."
   ]
  },
  {
   "cell_type": "code",
   "execution_count": null,
   "metadata": {
    "colab": {
     "base_uri": "https://localhost:8080/"
    },
    "id": "OaaLzwJO4KFP",
    "outputId": "ec8efb89-a74b-4e39-cf4c-3512655367e3"
   },
   "outputs": [
    {
     "name": "stdout",
     "output_type": "stream",
     "text": [
      "   age         workclass  fnlwgt  education  education_num  \\\n",
      "0   39         State-gov   77516  Bachelors             13   \n",
      "1   50  Self-emp-not-inc   83311  Bachelors             13   \n",
      "2   38           Private  215646    HS-grad              9   \n",
      "3   53           Private  234721       11th              7   \n",
      "4   28           Private  338409  Bachelors             13   \n",
      "\n",
      "       marital_status         occupation   relationship   race     sex  \\\n",
      "0       Never-married       Adm-clerical  Not-in-family  White    Male   \n",
      "1  Married-civ-spouse    Exec-managerial        Husband  White    Male   \n",
      "2            Divorced  Handlers-cleaners  Not-in-family  White    Male   \n",
      "3  Married-civ-spouse  Handlers-cleaners        Husband  Black    Male   \n",
      "4  Married-civ-spouse     Prof-specialty           Wife  Black  Female   \n",
      "\n",
      "   capital_gain  capital_loss  hours_per_week native_country income  \n",
      "0          2174             0              40  United-States  <=50K  \n",
      "1             0             0              13  United-States  <=50K  \n",
      "2             0             0              40  United-States  <=50K  \n",
      "3             0             0              40  United-States  <=50K  \n",
      "4             0             0              40           Cuba  <=50K  \n"
     ]
    }
   ],
   "source": [
    "# load sample of original data\n",
    "df_od = pd.read_csv(\"https://github.com/mostly-ai/public-demo-data/raw/dev/census/census.csv.gz\", nrows=2000)\n",
    "print(df_od.head())"
   ]
  },
  {
   "cell_type": "markdown",
   "metadata": {
    "id": "9ebt84Nk4N5G"
   },
   "source": [
    "**Initialize SDK and DataLLM**\n",
    "\n",
    "The SDK will handle model training and synthetic data generation, while DataLLM will provide the LLM enrichment capabilities."
   ]
  },
  {
   "cell_type": "code",
   "execution_count": null,
   "metadata": {
    "colab": {
     "base_uri": "https://localhost:8080/",
     "height": 52
    },
    "id": "2l66fJ9p4ccz",
    "outputId": "7e3e61a0-233d-4339-a665-3d9dc7d16c04"
   },
   "outputs": [
    {
     "data": {
      "text/html": [
       "<pre style=\"white-space:pre;overflow-x:auto;line-height:normal;font-family:Menlo,'DejaVu Sans Mono',consolas,'Courier New',monospace\">Initializing <span style=\"font-weight: bold\">Synthetic Data SDK</span> <span style=\"color: #008080; text-decoration-color: #008080; font-weight: bold\">4.7</span>.<span style=\"color: #008080; text-decoration-color: #008080; font-weight: bold\">0</span> in <span style=\"font-weight: bold\">LOCAL mode</span> 🏠\n",
       "</pre>\n"
      ],
      "text/plain": [
       "Initializing \u001b[1mSynthetic Data SDK\u001b[0m \u001b[1;36m4.7\u001b[0m.\u001b[1;36m0\u001b[0m in \u001b[1mLOCAL mode\u001b[0m 🏠\n"
      ]
     },
     "metadata": {},
     "output_type": "display_data"
    },
    {
     "data": {
      "text/html": [
       "<pre style=\"white-space:pre;overflow-x:auto;line-height:normal;font-family:Menlo,'DejaVu Sans Mono',consolas,'Courier New',monospace\">Connected to <a href=\"file:///root/mostlyai\" target=\"_blank\"><span style=\"color: #005fff; text-decoration-color: #005fff; text-decoration: underline\">/root/mostlyai</span></a> with <span style=\"color: #008080; text-decoration-color: #008080; font-weight: bold\">13</span> GB RAM, <span style=\"color: #008080; text-decoration-color: #008080; font-weight: bold\">2</span> CPUs, <span style=\"color: #008080; text-decoration-color: #008080; font-weight: bold\">0</span> GPUs available\n",
       "</pre>\n"
      ],
      "text/plain": [
       "Connected to \u001b]8;id=81477;file:///root/mostlyai\u001b\\\u001b[4;38;5;27m/root/\u001b[0m\u001b]8;;\u001b\\\u001b]8;id=64768;file:///root/mostlyai\u001b\\\u001b[4;38;5;27mmostlyai\u001b[0m\u001b]8;;\u001b\\ with \u001b[1;36m13\u001b[0m GB RAM, \u001b[1;36m2\u001b[0m CPUs, \u001b[1;36m0\u001b[0m GPUs available\n"
      ]
     },
     "metadata": {},
     "output_type": "display_data"
    }
   ],
   "source": [
    "from mostlyai.sdk import MostlyAI\n",
    "\n",
    "# initialize SDK\n",
    "mostly = MostlyAI(local=True)"
   ]
  },
  {
   "cell_type": "markdown",
   "metadata": {
    "id": "3nu3GHMX5GRx"
   },
   "source": [
    "**Train a Generator**\n",
    "\n",
    "Train a generator on the sensitive original data."
   ]
  },
  {
   "cell_type": "code",
   "execution_count": null,
   "metadata": {
    "id": "kNZ_35TI5KRD"
   },
   "outputs": [],
   "source": [
    "# train generator on original data\n",
    "g = mostly.train(data=df_od)\n",
    "# g = mostly.generators.get('GENERATOR_ID')"
   ]
  },
  {
   "cell_type": "markdown",
   "metadata": {
    "id": "6NUTEH0y56Nx"
   },
   "source": [
    "**Generate Synthetic Data**\n",
    "\n",
    "Create synthetic data that will act as a proxy for our sensitive original data. This synthetic data will be shared with the LLM and enriched.\n"
   ]
  },
  {
   "cell_type": "code",
   "execution_count": null,
   "metadata": {
    "colab": {
     "base_uri": "https://localhost:8080/",
     "height": 151,
     "referenced_widgets": [
      "0d7508d3c7824a388dad8c211f06fc9e",
      "42e68ad3cc324f50bd6246dc0942988e"
     ]
    },
    "id": "XSdvVU9y6LhB",
    "outputId": "322dd567-d2ed-42e9-d632-f665697030a7"
   },
   "outputs": [
    {
     "data": {
      "text/html": [
       "<pre style=\"white-space:pre;overflow-x:auto;line-height:normal;font-family:Menlo,'DejaVu Sans Mono',consolas,'Courier New',monospace\">Created synthetic dataset <span style=\"color: #005fff; text-decoration-color: #005fff\">307ae257-0d8f-4ccd-a5f6-fa88d5bcf9e2</span> with generator <span style=\"color: #005fff; text-decoration-color: #005fff\">4c624b2f-7c5f-4fe6-bbe7-21ba8c217ef8</span>\n",
       "</pre>\n"
      ],
      "text/plain": [
       "Created synthetic dataset \u001b[38;5;27m307ae257-0d8f-4ccd-a5f6-fa88d5bcf9e2\u001b[0m with generator \u001b[38;5;27m4c624b2f-7c5f-4fe6-bbe7-21ba8c217ef8\u001b[0m\n"
      ]
     },
     "metadata": {},
     "output_type": "display_data"
    },
    {
     "data": {
      "text/html": [
       "<pre style=\"white-space:pre;overflow-x:auto;line-height:normal;font-family:Menlo,'DejaVu Sans Mono',consolas,'Courier New',monospace\">Started synthetic dataset generation\n",
       "</pre>\n"
      ],
      "text/plain": [
       "Started synthetic dataset generation\n"
      ]
     },
     "metadata": {},
     "output_type": "display_data"
    },
    {
     "data": {
      "application/vnd.jupyter.widget-view+json": {
       "model_id": "0d7508d3c7824a388dad8c211f06fc9e",
       "version_major": 2,
       "version_minor": 0
      },
      "text/plain": [
       "Output()"
      ]
     },
     "metadata": {},
     "output_type": "display_data"
    },
    {
     "data": {
      "text/html": [
       "<pre style=\"white-space:pre;overflow-x:auto;line-height:normal;font-family:Menlo,'DejaVu Sans Mono',consolas,'Courier New',monospace\"></pre>\n"
      ],
      "text/plain": []
     },
     "metadata": {},
     "output_type": "display_data"
    },
    {
     "data": {
      "text/html": [
       "<pre style=\"white-space:pre;overflow-x:auto;line-height:normal;font-family:Menlo,'DejaVu Sans Mono',consolas,'Courier New',monospace\">🎉 <span style=\"color: #008000; text-decoration-color: #008000; font-weight: bold\">Your synthetic dataset is ready!</span> Use it to consume the generated data. Publish it so others can do the same.\n",
       "</pre>\n"
      ],
      "text/plain": [
       "🎉 \u001b[1;32mYour synthetic dataset is ready!\u001b[0m Use it to consume the generated data. Publish it so others can do the same.\n"
      ]
     },
     "metadata": {},
     "output_type": "display_data"
    }
   ],
   "source": [
    "# generate synthetic data as proxy\n",
    "df_sd = mostly.generate(g, size=len(df_od)).data()"
   ]
  },
  {
   "cell_type": "markdown",
   "metadata": {
    "id": "HhJoUYoDyV9q"
   },
   "source": [
    "**Base configuration of the census table for the mock library**\n",
    "\n",
    "Add the metadata description of the existing columns of the census table to support the enrichment process."
   ]
  },
  {
   "cell_type": "code",
   "execution_count": null,
   "metadata": {
    "id": "PfLcu2RbyUsy"
   },
   "outputs": [],
   "source": [
    "tables = {\n",
    "    \"census\": {\n",
    "        \"prompt\": \"U.S. Census data with demographic and employment-related columns\",\n",
    "        \"columns\": {\n",
    "            \"age\": {\"prompt\": \"age in years (17-90)\", \"dtype\": \"integer\"},\n",
    "            \"workclass\": {\n",
    "                \"dtype\": \"category\",\n",
    "                \"values\": [\n",
    "                    \"?\",\n",
    "                    \"Federal-gov\",\n",
    "                    \"Local-gov\",\n",
    "                    \"Never-worked\",\n",
    "                    \"Private\",\n",
    "                    \"Self-emp-inc\",\n",
    "                    \"Self-emp-not-inc\",\n",
    "                    \"State-gov\",\n",
    "                    \"Without-pay\",\n",
    "                ],\n",
    "            },\n",
    "            \"education\": {\n",
    "                \"dtype\": \"category\",\n",
    "                \"values\": [\n",
    "                    \"10th\",\n",
    "                    \"11th\",\n",
    "                    \"12th\",\n",
    "                    \"1st-4th\",\n",
    "                    \"5th-6th\",\n",
    "                    \"7th-8th\",\n",
    "                    \"9th\",\n",
    "                    \"Assoc-acdm\",\n",
    "                    \"Assoc-voc\",\n",
    "                    \"Bachelors\",\n",
    "                    \"Doctorate\",\n",
    "                    \"HS-grad\",\n",
    "                    \"Masters\",\n",
    "                    \"Preschool\",\n",
    "                    \"Prof-school\",\n",
    "                    \"Some-college\",\n",
    "                ],\n",
    "            },\n",
    "            \"marital-status\": {\n",
    "                \"dtype\": \"category\",\n",
    "                \"values\": [\n",
    "                    \"Divorced\",\n",
    "                    \"Married-AF-spouse\",\n",
    "                    \"Married-civ-spouse\",\n",
    "                    \"Married-spouse-absent\",\n",
    "                    \"Never-married\",\n",
    "                    \"Separated\",\n",
    "                    \"Widowed\",\n",
    "                ],\n",
    "            },\n",
    "            \"occupation\": {\n",
    "                \"dtype\": \"category\",\n",
    "                \"values\": [\n",
    "                    \"?\",\n",
    "                    \"Adm-clerical\",\n",
    "                    \"Armed-Forces\",\n",
    "                    \"Craft-repair\",\n",
    "                    \"Exec-managerial\",\n",
    "                    \"Farming-fishing\",\n",
    "                    \"Handlers-cleaners\",\n",
    "                    \"Machine-op-inspct\",\n",
    "                    \"Other-service\",\n",
    "                    \"Priv-house-serv\",\n",
    "                    \"Prof-specialty\",\n",
    "                    \"Protective-serv\",\n",
    "                    \"Sales\",\n",
    "                    \"Tech-support\",\n",
    "                    \"Transport-moving\",\n",
    "                ],\n",
    "            },\n",
    "            \"relationship\": {\n",
    "                \"dtype\": \"category\",\n",
    "                \"values\": [\"Husband\", \"Not-in-family\", \"Other-relative\", \"Own-child\", \"Unmarried\", \"Wife\"],\n",
    "            },\n",
    "            \"race\": {\n",
    "                \"dtype\": \"category\",\n",
    "                \"values\": [\"Amer-Indian-Eskimo\", \"Asian-Pac-Islander\", \"Black\", \"Other\", \"White\"],\n",
    "            },\n",
    "            \"sex\": {\"dtype\": \"category\", \"values\": [\"Female\", \"Male\"]},\n",
    "            \"hours-per-week\": {\"prompt\": \"hours worked per week (1-99)\", \"dtype\": \"integer\", \"min\": 1, \"max\": 99},\n",
    "            \"native-country\": {\n",
    "                \"dtype\": \"category\",\n",
    "                \"values\": [\n",
    "                    \"?\",\n",
    "                    \"Cambodia\",\n",
    "                    \"Canada\",\n",
    "                    \"China\",\n",
    "                    \"Columbia\",\n",
    "                    \"Cuba\",\n",
    "                    \"Dominican-Republic\",\n",
    "                    \"Ecuador\",\n",
    "                    \"El-Salvador\",\n",
    "                    \"England\",\n",
    "                    \"France\",\n",
    "                    \"Germany\",\n",
    "                    \"Greece\",\n",
    "                    \"Guatemala\",\n",
    "                    \"Haiti\",\n",
    "                    \"Holand-Netherlands\",\n",
    "                    \"Honduras\",\n",
    "                    \"Hong\",\n",
    "                    \"Hungary\",\n",
    "                    \"India\",\n",
    "                    \"Iran\",\n",
    "                    \"Ireland\",\n",
    "                    \"Italy\",\n",
    "                    \"Jamaica\",\n",
    "                    \"Japan\",\n",
    "                    \"Laos\",\n",
    "                    \"Mexico\",\n",
    "                    \"Nicaragua\",\n",
    "                    \"Outlying-US(Guam-USVI-etc)\",\n",
    "                    \"Peru\",\n",
    "                    \"Philippines\",\n",
    "                    \"Poland\",\n",
    "                    \"Portugal\",\n",
    "                    \"Puerto-Rico\",\n",
    "                    \"Scotland\",\n",
    "                    \"South\",\n",
    "                    \"Taiwan\",\n",
    "                    \"Thailand\",\n",
    "                    \"Trinadad&Tobago\",\n",
    "                    \"United-States\",\n",
    "                    \"Vietnam\",\n",
    "                    \"Yugoslavia\",\n",
    "                ],\n",
    "            },\n",
    "            \"income\": {\"dtype\": \"category\", \"values\": [\"<=50K\", \">50K\"]},\n",
    "        },\n",
    "    }\n",
    "}"
   ]
  },
  {
   "cell_type": "markdown",
   "metadata": {
    "id": "snSNuS2F6PbT"
   },
   "source": [
    "**Enrich Synthetic Data Proxy**\n",
    "\n",
    "Use the LLM to enrich the synthetic data with 2 new columns, namely: work category, and career stage. This is where we expose data to the LLM, but only the synthetic proxy data, not our sensitive original data.\n",
    "\n",
    "**DESCRIPTION TO REVIEW**"
   ]
  },
  {
   "cell_type": "code",
   "execution_count": null,
   "metadata": {
    "id": "I8-MwAiiJiw3"
   },
   "outputs": [],
   "source": [
    "# ──────────────────────────────────────────────────────────────\n",
    "# 1.  House-keeping that only needs to run once\n",
    "# ──────────────────────────────────────────────────────────────\n",
    "batch_size = 100\n",
    "n_rows = len(df_sd)\n",
    "\n",
    "tables[\"census\"][\"columns\"][\"specific_job_title\"] = {\n",
    "    \"prompt\": (\n",
    "        \"Generate a realistic, specific job title for a person \"\n",
    "        \"based on their occupation, education, and income level. \"\n",
    "        \"The job title should be more specific than the general \"\n",
    "        \"occupation category.\"\n",
    "    ),\n",
    "    \"dtype\": \"string\",\n",
    "}\n",
    "\n",
    "# Define the categories\n",
    "categories = [\"Manual Labor\", \"Service Work\", \"Professional\", \"Management\", \"Technical\"]\n",
    "\n",
    "tables[\"census\"][\"columns\"][\"work_category\"] = {\n",
    "    \"prompt\": \"\"\"categorize the occupation into work category, considering the actual job duties and level.\n",
    "                    Examples of correct categorizations:\n",
    "                    - Handlers-cleaners → Manual Labor\n",
    "                    - Machine-op-inspct → Manual Labor\n",
    "                    - Craft-repair → Manual Labor\n",
    "                    - Transport-moving → Manual Labor\n",
    "                    - Farming-fishing → Manual Labor\n",
    "                    - Exec-managerial → Management\n",
    "                    - Prof-specialty → Professional\n",
    "                    - Tech-support → Technical\n",
    "                    - Sales → Service Work\n",
    "                    - Other-service → Service Work\n",
    "\n",
    "                    Categories and their meanings:\n",
    "                    - Manual Labor: physical work, manufacturing, construction, cleaning, transportation, farming, machine operation, craft work, manual repairs, physical labor\n",
    "                    - Service Work: customer service, retail, hospitality, food service, personal care, non-physical service roles\n",
    "                    - Professional: doctors, lawyers, engineers, scientists, specialized knowledge workers\n",
    "                    - Management: supervisors, executives, administrators, team leaders\n",
    "                    - Technical: IT, technical support, specialized technical skills, maintenance\"\"\",\n",
    "    \"dtype\": \"category\",\n",
    "    \"values\": categories,\n",
    "}\n",
    "\n",
    "\n",
    "# ──────────────────────────────────────────────────────────────\n",
    "# 2.  Helper that enriches **one** slice of rows\n",
    "#     Executed in parallel by many threads.\n",
    "# ──────────────────────────────────────────────────────────────\n",
    "def enrich_slice(start: int, end: int):\n",
    "    \"\"\"Return the enriched batch and where it belongs in the final list.\"\"\"\n",
    "    batch_df = df_sd.iloc[start:end].reset_index(drop=True)\n",
    "\n",
    "    enriched = mock.sample(\n",
    "        tables=tables,\n",
    "        existing_data={\"census\": batch_df},\n",
    "        model=\"openai/gpt-4.1-nano\",\n",
    "    )\n",
    "    print(f\"Processed rows {start}–{end - 1}\")\n",
    "    return start, enriched  # keep the start index so we can restore order\n",
    "\n",
    "\n",
    "# ──────────────────────────────────────────────────────────────\n",
    "# 3.  Dispatch every slice to the thread pool\n",
    "# ──────────────────────────────────────────────────────────────\n",
    "slices = [(s, min(s + batch_size, n_rows)) for s in range(0, n_rows, batch_size)]\n",
    "\n",
    "results_ordered = [None] * len(slices)  # preserve batch order\n",
    "\n",
    "# Tune max_workers to match your rate-limit / CPU core budget\n",
    "with ThreadPoolExecutor(max_workers=10) as pool:\n",
    "    futures = {pool.submit(enrich_slice, s, e): idx for idx, (s, e) in enumerate(slices)}\n",
    "\n",
    "    for fut in as_completed(futures):\n",
    "        idx = futures[fut]\n",
    "        try:\n",
    "            _, enriched = fut.result()\n",
    "            results_ordered[idx] = enriched\n",
    "        except Exception as err:\n",
    "            print(f\"⚠️  Batch {idx} failed: {err}\")\n",
    "\n",
    "# ──────────────────────────────────────────────────────────────\n",
    "# 4.  Combine the individual DataFrames (or whatever mock.sample returns)\n",
    "# ──────────────────────────────────────────────────────────────\n",
    "df_enriched = pd.concat(results_ordered, ignore_index=True)"
   ]
  },
  {
   "cell_type": "code",
   "execution_count": null,
   "metadata": {
    "colab": {
     "base_uri": "https://localhost:8080/",
     "height": 206
    },
    "id": "I8fGcP__1EFf",
    "outputId": "feee5ed8-7a22-4d76-ee94-03259f8f0ec4"
   },
   "outputs": [
    {
     "data": {
      "application/vnd.google.colaboratory.intrinsic+json": {
       "summary": "{\n  \"name\": \"df_enriched\",\n  \"rows\": 1000,\n  \"fields\": [\n    {\n      \"column\": \"age\",\n      \"properties\": {\n        \"dtype\": \"int64[pyarrow]\",\n        \"num_unique_values\": 57,\n        \"samples\": [\n          32,\n          25,\n          27\n        ],\n        \"semantic_type\": \"\",\n        \"description\": \"\"\n      }\n    },\n    {\n      \"column\": \"workclass\",\n      \"properties\": {\n        \"dtype\": \"category\",\n        \"num_unique_values\": 9,\n        \"samples\": [\n          \"Without-pay\",\n          \"Self-emp-not-inc\",\n          \"State-gov\"\n        ],\n        \"semantic_type\": \"\",\n        \"description\": \"\"\n      }\n    },\n    {\n      \"column\": \"education\",\n      \"properties\": {\n        \"dtype\": \"category\",\n        \"num_unique_values\": 16,\n        \"samples\": [\n          \"Some-college\",\n          \"HS-grad\",\n          \"12th\"\n        ],\n        \"semantic_type\": \"\",\n        \"description\": \"\"\n      }\n    },\n    {\n      \"column\": \"marital-status\",\n      \"properties\": {\n        \"dtype\": \"category\",\n        \"num_unique_values\": 7,\n        \"samples\": [\n          \"Divorced\",\n          \"Married-civ-spouse\",\n          \"Married-spouse-absent\"\n        ],\n        \"semantic_type\": \"\",\n        \"description\": \"\"\n      }\n    },\n    {\n      \"column\": \"occupation\",\n      \"properties\": {\n        \"dtype\": \"category\",\n        \"num_unique_values\": 13,\n        \"samples\": [\n          \"Exec-managerial\",\n          \"Sales\",\n          \"Prof-specialty\"\n        ],\n        \"semantic_type\": \"\",\n        \"description\": \"\"\n      }\n    },\n    {\n      \"column\": \"relationship\",\n      \"properties\": {\n        \"dtype\": \"category\",\n        \"num_unique_values\": 6,\n        \"samples\": [\n          \"Not-in-family\",\n          \"Husband\",\n          \"Unmarried\"\n        ],\n        \"semantic_type\": \"\",\n        \"description\": \"\"\n      }\n    },\n    {\n      \"column\": \"race\",\n      \"properties\": {\n        \"dtype\": \"category\",\n        \"num_unique_values\": 5,\n        \"samples\": [\n          \"White\",\n          \"Amer-Indian-Eskimo\",\n          \"Asian-Pac-Islander\"\n        ],\n        \"semantic_type\": \"\",\n        \"description\": \"\"\n      }\n    },\n    {\n      \"column\": \"sex\",\n      \"properties\": {\n        \"dtype\": \"category\",\n        \"num_unique_values\": 2,\n        \"samples\": [\n          \"Male\",\n          \"Female\"\n        ],\n        \"semantic_type\": \"\",\n        \"description\": \"\"\n      }\n    },\n    {\n      \"column\": \"hours-per-week\",\n      \"properties\": {\n        \"dtype\": \"int64[pyarrow]\",\n        \"num_unique_values\": 42,\n        \"samples\": [\n          33,\n          15\n        ],\n        \"semantic_type\": \"\",\n        \"description\": \"\"\n      }\n    },\n    {\n      \"column\": \"native-country\",\n      \"properties\": {\n        \"dtype\": \"category\",\n        \"num_unique_values\": 32,\n        \"samples\": [\n          \"England\",\n          \"?\"\n        ],\n        \"semantic_type\": \"\",\n        \"description\": \"\"\n      }\n    },\n    {\n      \"column\": \"income\",\n      \"properties\": {\n        \"dtype\": \"category\",\n        \"num_unique_values\": 2,\n        \"samples\": [\n          \">50K\",\n          \"<=50K\"\n        ],\n        \"semantic_type\": \"\",\n        \"description\": \"\"\n      }\n    },\n    {\n      \"column\": \"specific_job_title\",\n      \"properties\": {\n        \"dtype\": \"string\",\n        \"num_unique_values\": 390,\n        \"samples\": [\n          \"Automotive Technician\",\n          \"Fishery Technician\"\n        ],\n        \"semantic_type\": \"\",\n        \"description\": \"\"\n      }\n    },\n    {\n      \"column\": \"work_category\",\n      \"properties\": {\n        \"dtype\": \"category\",\n        \"num_unique_values\": 5,\n        \"samples\": [\n          \"Manual Labor\",\n          \"Management\"\n        ],\n        \"semantic_type\": \"\",\n        \"description\": \"\"\n      }\n    }\n  ]\n}",
       "type": "dataframe",
       "variable_name": "df_enriched"
      },
      "text/html": [
       "\n",
       "  <div id=\"df-a6b78d37-1606-474d-affa-503515bb6a47\" class=\"colab-df-container\">\n",
       "    <div>\n",
       "<style scoped>\n",
       "    .dataframe tbody tr th:only-of-type {\n",
       "        vertical-align: middle;\n",
       "    }\n",
       "\n",
       "    .dataframe tbody tr th {\n",
       "        vertical-align: top;\n",
       "    }\n",
       "\n",
       "    .dataframe thead th {\n",
       "        text-align: right;\n",
       "    }\n",
       "</style>\n",
       "<table border=\"1\" class=\"dataframe\">\n",
       "  <thead>\n",
       "    <tr style=\"text-align: right;\">\n",
       "      <th></th>\n",
       "      <th>age</th>\n",
       "      <th>workclass</th>\n",
       "      <th>education</th>\n",
       "      <th>marital-status</th>\n",
       "      <th>occupation</th>\n",
       "      <th>relationship</th>\n",
       "      <th>race</th>\n",
       "      <th>sex</th>\n",
       "      <th>hours-per-week</th>\n",
       "      <th>native-country</th>\n",
       "      <th>income</th>\n",
       "      <th>specific_job_title</th>\n",
       "      <th>work_category</th>\n",
       "    </tr>\n",
       "  </thead>\n",
       "  <tbody>\n",
       "    <tr>\n",
       "      <th>0</th>\n",
       "      <td>32</td>\n",
       "      <td>Self-emp-inc</td>\n",
       "      <td>Some-college</td>\n",
       "      <td>Divorced</td>\n",
       "      <td>Prof-specialty</td>\n",
       "      <td>Not-in-family</td>\n",
       "      <td>Other</td>\n",
       "      <td>Female</td>\n",
       "      <td>50</td>\n",
       "      <td>Mexico</td>\n",
       "      <td>&lt;=50K</td>\n",
       "      <td>Marketing Specialist</td>\n",
       "      <td>Professional</td>\n",
       "    </tr>\n",
       "    <tr>\n",
       "      <th>1</th>\n",
       "      <td>70</td>\n",
       "      <td>Self-emp-not-inc</td>\n",
       "      <td>HS-grad</td>\n",
       "      <td>Married-civ-spouse</td>\n",
       "      <td>Machine-op-inspct</td>\n",
       "      <td>Husband</td>\n",
       "      <td>White</td>\n",
       "      <td>Male</td>\n",
       "      <td>40</td>\n",
       "      <td>United-States</td>\n",
       "      <td>&gt;50K</td>\n",
       "      <td>Manufacturing Supervisor</td>\n",
       "      <td>Manual Labor</td>\n",
       "    </tr>\n",
       "    <tr>\n",
       "      <th>2</th>\n",
       "      <td>29</td>\n",
       "      <td>Private</td>\n",
       "      <td>Bachelors</td>\n",
       "      <td>Never-married</td>\n",
       "      <td>Tech-support</td>\n",
       "      <td>Not-in-family</td>\n",
       "      <td>Asian-Pac-Islander</td>\n",
       "      <td>Male</td>\n",
       "      <td>40</td>\n",
       "      <td>India</td>\n",
       "      <td>&lt;=50K</td>\n",
       "      <td>IT Support Specialist</td>\n",
       "      <td>Technical</td>\n",
       "    </tr>\n",
       "    <tr>\n",
       "      <th>3</th>\n",
       "      <td>45</td>\n",
       "      <td>Local-gov</td>\n",
       "      <td>Masters</td>\n",
       "      <td>Married-civ-spouse</td>\n",
       "      <td>Prof-specialty</td>\n",
       "      <td>Husband</td>\n",
       "      <td>White</td>\n",
       "      <td>Male</td>\n",
       "      <td>55</td>\n",
       "      <td>United-States</td>\n",
       "      <td>&gt;50K</td>\n",
       "      <td>Senior Data Scientist</td>\n",
       "      <td>Professional</td>\n",
       "    </tr>\n",
       "    <tr>\n",
       "      <th>4</th>\n",
       "      <td>40</td>\n",
       "      <td>Private</td>\n",
       "      <td>11th</td>\n",
       "      <td>Married-civ-spouse</td>\n",
       "      <td>Handlers-cleaners</td>\n",
       "      <td>Husband</td>\n",
       "      <td>Black</td>\n",
       "      <td>Male</td>\n",
       "      <td>42</td>\n",
       "      <td>Jamaica</td>\n",
       "      <td>&lt;=50K</td>\n",
       "      <td>Janitorial Supervisor</td>\n",
       "      <td>Manual Labor</td>\n",
       "    </tr>\n",
       "  </tbody>\n",
       "</table>\n",
       "</div>\n",
       "    <div class=\"colab-df-buttons\">\n",
       "\n",
       "  <div class=\"colab-df-container\">\n",
       "    <button class=\"colab-df-convert\" onclick=\"convertToInteractive('df-a6b78d37-1606-474d-affa-503515bb6a47')\"\n",
       "            title=\"Convert this dataframe to an interactive table.\"\n",
       "            style=\"display:none;\">\n",
       "\n",
       "  <svg xmlns=\"http://www.w3.org/2000/svg\" height=\"24px\" viewBox=\"0 -960 960 960\">\n",
       "    <path d=\"M120-120v-720h720v720H120Zm60-500h600v-160H180v160Zm220 220h160v-160H400v160Zm0 220h160v-160H400v160ZM180-400h160v-160H180v160Zm440 0h160v-160H620v160ZM180-180h160v-160H180v160Zm440 0h160v-160H620v160Z\"/>\n",
       "  </svg>\n",
       "    </button>\n",
       "\n",
       "  <style>\n",
       "    .colab-df-container {\n",
       "      display:flex;\n",
       "      gap: 12px;\n",
       "    }\n",
       "\n",
       "    .colab-df-convert {\n",
       "      background-color: #E8F0FE;\n",
       "      border: none;\n",
       "      border-radius: 50%;\n",
       "      cursor: pointer;\n",
       "      display: none;\n",
       "      fill: #1967D2;\n",
       "      height: 32px;\n",
       "      padding: 0 0 0 0;\n",
       "      width: 32px;\n",
       "    }\n",
       "\n",
       "    .colab-df-convert:hover {\n",
       "      background-color: #E2EBFA;\n",
       "      box-shadow: 0px 1px 2px rgba(60, 64, 67, 0.3), 0px 1px 3px 1px rgba(60, 64, 67, 0.15);\n",
       "      fill: #174EA6;\n",
       "    }\n",
       "\n",
       "    .colab-df-buttons div {\n",
       "      margin-bottom: 4px;\n",
       "    }\n",
       "\n",
       "    [theme=dark] .colab-df-convert {\n",
       "      background-color: #3B4455;\n",
       "      fill: #D2E3FC;\n",
       "    }\n",
       "\n",
       "    [theme=dark] .colab-df-convert:hover {\n",
       "      background-color: #434B5C;\n",
       "      box-shadow: 0px 1px 3px 1px rgba(0, 0, 0, 0.15);\n",
       "      filter: drop-shadow(0px 1px 2px rgba(0, 0, 0, 0.3));\n",
       "      fill: #FFFFFF;\n",
       "    }\n",
       "  </style>\n",
       "\n",
       "    <script>\n",
       "      const buttonEl =\n",
       "        document.querySelector('#df-a6b78d37-1606-474d-affa-503515bb6a47 button.colab-df-convert');\n",
       "      buttonEl.style.display =\n",
       "        google.colab.kernel.accessAllowed ? 'block' : 'none';\n",
       "\n",
       "      async function convertToInteractive(key) {\n",
       "        const element = document.querySelector('#df-a6b78d37-1606-474d-affa-503515bb6a47');\n",
       "        const dataTable =\n",
       "          await google.colab.kernel.invokeFunction('convertToInteractive',\n",
       "                                                    [key], {});\n",
       "        if (!dataTable) return;\n",
       "\n",
       "        const docLinkHtml = 'Like what you see? Visit the ' +\n",
       "          '<a target=\"_blank\" href=https://colab.research.google.com/notebooks/data_table.ipynb>data table notebook</a>'\n",
       "          + ' to learn more about interactive tables.';\n",
       "        element.innerHTML = '';\n",
       "        dataTable['output_type'] = 'display_data';\n",
       "        await google.colab.output.renderOutput(dataTable, element);\n",
       "        const docLink = document.createElement('div');\n",
       "        docLink.innerHTML = docLinkHtml;\n",
       "        element.appendChild(docLink);\n",
       "      }\n",
       "    </script>\n",
       "  </div>\n",
       "\n",
       "\n",
       "    <div id=\"df-6e971ba9-079c-4601-8d6f-70e12244083b\">\n",
       "      <button class=\"colab-df-quickchart\" onclick=\"quickchart('df-6e971ba9-079c-4601-8d6f-70e12244083b')\"\n",
       "                title=\"Suggest charts\"\n",
       "                style=\"display:none;\">\n",
       "\n",
       "<svg xmlns=\"http://www.w3.org/2000/svg\" height=\"24px\"viewBox=\"0 0 24 24\"\n",
       "     width=\"24px\">\n",
       "    <g>\n",
       "        <path d=\"M19 3H5c-1.1 0-2 .9-2 2v14c0 1.1.9 2 2 2h14c1.1 0 2-.9 2-2V5c0-1.1-.9-2-2-2zM9 17H7v-7h2v7zm4 0h-2V7h2v10zm4 0h-2v-4h2v4z\"/>\n",
       "    </g>\n",
       "</svg>\n",
       "      </button>\n",
       "\n",
       "<style>\n",
       "  .colab-df-quickchart {\n",
       "      --bg-color: #E8F0FE;\n",
       "      --fill-color: #1967D2;\n",
       "      --hover-bg-color: #E2EBFA;\n",
       "      --hover-fill-color: #174EA6;\n",
       "      --disabled-fill-color: #AAA;\n",
       "      --disabled-bg-color: #DDD;\n",
       "  }\n",
       "\n",
       "  [theme=dark] .colab-df-quickchart {\n",
       "      --bg-color: #3B4455;\n",
       "      --fill-color: #D2E3FC;\n",
       "      --hover-bg-color: #434B5C;\n",
       "      --hover-fill-color: #FFFFFF;\n",
       "      --disabled-bg-color: #3B4455;\n",
       "      --disabled-fill-color: #666;\n",
       "  }\n",
       "\n",
       "  .colab-df-quickchart {\n",
       "    background-color: var(--bg-color);\n",
       "    border: none;\n",
       "    border-radius: 50%;\n",
       "    cursor: pointer;\n",
       "    display: none;\n",
       "    fill: var(--fill-color);\n",
       "    height: 32px;\n",
       "    padding: 0;\n",
       "    width: 32px;\n",
       "  }\n",
       "\n",
       "  .colab-df-quickchart:hover {\n",
       "    background-color: var(--hover-bg-color);\n",
       "    box-shadow: 0 1px 2px rgba(60, 64, 67, 0.3), 0 1px 3px 1px rgba(60, 64, 67, 0.15);\n",
       "    fill: var(--button-hover-fill-color);\n",
       "  }\n",
       "\n",
       "  .colab-df-quickchart-complete:disabled,\n",
       "  .colab-df-quickchart-complete:disabled:hover {\n",
       "    background-color: var(--disabled-bg-color);\n",
       "    fill: var(--disabled-fill-color);\n",
       "    box-shadow: none;\n",
       "  }\n",
       "\n",
       "  .colab-df-spinner {\n",
       "    border: 2px solid var(--fill-color);\n",
       "    border-color: transparent;\n",
       "    border-bottom-color: var(--fill-color);\n",
       "    animation:\n",
       "      spin 1s steps(1) infinite;\n",
       "  }\n",
       "\n",
       "  @keyframes spin {\n",
       "    0% {\n",
       "      border-color: transparent;\n",
       "      border-bottom-color: var(--fill-color);\n",
       "      border-left-color: var(--fill-color);\n",
       "    }\n",
       "    20% {\n",
       "      border-color: transparent;\n",
       "      border-left-color: var(--fill-color);\n",
       "      border-top-color: var(--fill-color);\n",
       "    }\n",
       "    30% {\n",
       "      border-color: transparent;\n",
       "      border-left-color: var(--fill-color);\n",
       "      border-top-color: var(--fill-color);\n",
       "      border-right-color: var(--fill-color);\n",
       "    }\n",
       "    40% {\n",
       "      border-color: transparent;\n",
       "      border-right-color: var(--fill-color);\n",
       "      border-top-color: var(--fill-color);\n",
       "    }\n",
       "    60% {\n",
       "      border-color: transparent;\n",
       "      border-right-color: var(--fill-color);\n",
       "    }\n",
       "    80% {\n",
       "      border-color: transparent;\n",
       "      border-right-color: var(--fill-color);\n",
       "      border-bottom-color: var(--fill-color);\n",
       "    }\n",
       "    90% {\n",
       "      border-color: transparent;\n",
       "      border-bottom-color: var(--fill-color);\n",
       "    }\n",
       "  }\n",
       "</style>\n",
       "\n",
       "      <script>\n",
       "        async function quickchart(key) {\n",
       "          const quickchartButtonEl =\n",
       "            document.querySelector('#' + key + ' button');\n",
       "          quickchartButtonEl.disabled = true;  // To prevent multiple clicks.\n",
       "          quickchartButtonEl.classList.add('colab-df-spinner');\n",
       "          try {\n",
       "            const charts = await google.colab.kernel.invokeFunction(\n",
       "                'suggestCharts', [key], {});\n",
       "          } catch (error) {\n",
       "            console.error('Error during call to suggestCharts:', error);\n",
       "          }\n",
       "          quickchartButtonEl.classList.remove('colab-df-spinner');\n",
       "          quickchartButtonEl.classList.add('colab-df-quickchart-complete');\n",
       "        }\n",
       "        (() => {\n",
       "          let quickchartButtonEl =\n",
       "            document.querySelector('#df-6e971ba9-079c-4601-8d6f-70e12244083b button');\n",
       "          quickchartButtonEl.style.display =\n",
       "            google.colab.kernel.accessAllowed ? 'block' : 'none';\n",
       "        })();\n",
       "      </script>\n",
       "    </div>\n",
       "\n",
       "    </div>\n",
       "  </div>\n"
      ],
      "text/plain": [
       "   age         workclass     education      marital-status         occupation  \\\n",
       "0   32      Self-emp-inc  Some-college            Divorced     Prof-specialty   \n",
       "1   70  Self-emp-not-inc       HS-grad  Married-civ-spouse  Machine-op-inspct   \n",
       "2   29           Private     Bachelors       Never-married       Tech-support   \n",
       "3   45         Local-gov       Masters  Married-civ-spouse     Prof-specialty   \n",
       "4   40           Private          11th  Married-civ-spouse  Handlers-cleaners   \n",
       "\n",
       "    relationship                race     sex  hours-per-week native-country  \\\n",
       "0  Not-in-family               Other  Female              50         Mexico   \n",
       "1        Husband               White    Male              40  United-States   \n",
       "2  Not-in-family  Asian-Pac-Islander    Male              40          India   \n",
       "3        Husband               White    Male              55  United-States   \n",
       "4        Husband               Black    Male              42        Jamaica   \n",
       "\n",
       "  income        specific_job_title work_category  \n",
       "0  <=50K      Marketing Specialist  Professional  \n",
       "1   >50K  Manufacturing Supervisor  Manual Labor  \n",
       "2  <=50K     IT Support Specialist     Technical  \n",
       "3   >50K     Senior Data Scientist  Professional  \n",
       "4  <=50K     Janitorial Supervisor  Manual Labor  "
      ]
     },
     "execution_count": 12,
     "metadata": {},
     "output_type": "execute_result"
    }
   ],
   "source": [
    "df_enriched.head()"
   ]
  },
  {
   "cell_type": "markdown",
   "metadata": {
    "id": "Kur5_XxyMX8G"
   },
   "source": [
    "**Display Sample of Enriched Synthetic Data**\n",
    "\n",
    "Show a random sample of the synthetic data, including the newly generated `work_category` and `specific_job_title` columns, to inspect the results of the LLM enrichment."
   ]
  },
  {
   "cell_type": "code",
   "execution_count": null,
   "metadata": {
    "colab": {
     "base_uri": "https://localhost:8080/"
    },
    "id": "etgac_9jMYku",
    "outputId": "8eb2dce8-42ab-4550-9cc0-0bccc48975f6"
   },
   "outputs": [
    {
     "name": "stdout",
     "output_type": "stream",
     "text": [
      "     age         workclass     education      marital-status  \\\n",
      "73    23           Private           9th       Never-married   \n",
      "465   29       Federal-gov          12th       Never-married   \n",
      "916   27      Self-emp-inc  Some-college  Married-civ-spouse   \n",
      "902   40      Self-emp-inc     Doctorate  Married-civ-spouse   \n",
      "920   42         State-gov          12th            Divorced   \n",
      "178   40      Self-emp-inc     Doctorate  Married-civ-spouse   \n",
      "349   37           Private          11th  Married-civ-spouse   \n",
      "88    59         State-gov          12th             Widowed   \n",
      "377   29      Self-emp-inc  Some-college           Separated   \n",
      "134   41  Self-emp-not-inc       Masters  Married-civ-spouse   \n",
      "\n",
      "            occupation    relationship                race     sex  \\\n",
      "73               Sales   Not-in-family  Asian-Pac-Islander  Female   \n",
      "465  Handlers-cleaners       Own-child               Black    Male   \n",
      "916     Prof-specialty         Husband               White    Male   \n",
      "902      Other-service            Wife  Asian-Pac-Islander  Female   \n",
      "920      Other-service   Not-in-family  Asian-Pac-Islander    Male   \n",
      "178    Exec-managerial         Husband               White    Male   \n",
      "349   Transport-moving         Husband               White    Male   \n",
      "88       Other-service  Other-relative  Asian-Pac-Islander  Female   \n",
      "377      Other-service   Not-in-family               Black  Female   \n",
      "134     Prof-specialty         Husband               White    Male   \n",
      "\n",
      "     hours-per-week native-country income           specific_job_title  \\\n",
      "73               35        Vietnam  <=50K             Retail Associate   \n",
      "465              36        Jamaica  <=50K             Janitorial Staff   \n",
      "916              55  United-States   >50K       Senior Systems Analyst   \n",
      "902              40  United-States  <=50K     Customer Service Manager   \n",
      "920              33  United-States  <=50K  Customer Service Supervisor   \n",
      "178              50  United-States   >50K     Chief Technology Officer   \n",
      "349              40  United-States  <=50K        Logistics Coordinator   \n",
      "88               30       Thailand  <=50K     Community Service Worker   \n",
      "377              44        Jamaica  <=50K           Beauty Salon Owner   \n",
      "134              50  United-States   >50K     Senior Software Engineer   \n",
      "\n",
      "    work_category  \n",
      "73   Service Work  \n",
      "465  Manual Labor  \n",
      "916  Professional  \n",
      "902    Management  \n",
      "920  Service Work  \n",
      "178    Management  \n",
      "349    Management  \n",
      "88   Service Work  \n",
      "377  Service Work  \n",
      "134  Professional  \n"
     ]
    }
   ],
   "source": [
    "# display a random sample with the newly enriched columns\n",
    "print(df_enriched.sample(n=10))"
   ]
  },
  {
   "cell_type": "markdown",
   "metadata": {
    "id": "mJJr9yOU67Mb"
   },
   "source": [
    "**Train a fresh Generator on the newly Enriched Synthetic Data**\n",
    "\n",
    "Train a generator on the enriched synthetic data to encode the LLM intelligence into a reusable, privacy-safe enrichment model. This enables it to later apply the same intelligence to sensitive original data."
   ]
  },
  {
   "cell_type": "code",
   "execution_count": null,
   "metadata": {
    "colab": {
     "base_uri": "https://localhost:8080/",
     "height": 384,
     "referenced_widgets": [
      "dcb5bfef4ff14d1d9216d9ea39796fa1",
      "5c015acb44a24393975aa21a8b3605e5"
     ]
    },
    "id": "W2WM7dS_7JVu",
    "outputId": "2985ceae-f1fb-4689-a535-85b5077dfd63"
   },
   "outputs": [
    {
     "data": {
      "text/html": [
       "<pre style=\"white-space:pre;overflow-x:auto;line-height:normal;font-family:Menlo,'DejaVu Sans Mono',consolas,'Courier New',monospace\">Created generator <span style=\"color: #005fff; text-decoration-color: #005fff\">d221ab16-034f-404a-a6dd-77e80f66159f</span>\n",
       "</pre>\n"
      ],
      "text/plain": [
       "Created generator \u001b[38;5;27md221ab16-034f-404a-a6dd-77e80f66159f\u001b[0m\n"
      ]
     },
     "metadata": {},
     "output_type": "display_data"
    },
    {
     "data": {
      "text/html": [
       "<pre style=\"white-space:pre;overflow-x:auto;line-height:normal;font-family:Menlo,'DejaVu Sans Mono',consolas,'Courier New',monospace\">Started generator training\n",
       "</pre>\n"
      ],
      "text/plain": [
       "Started generator training\n"
      ]
     },
     "metadata": {},
     "output_type": "display_data"
    },
    {
     "data": {
      "application/vnd.jupyter.widget-view+json": {
       "model_id": "dcb5bfef4ff14d1d9216d9ea39796fa1",
       "version_major": 2,
       "version_minor": 0
      },
      "text/plain": [
       "Output()"
      ]
     },
     "metadata": {},
     "output_type": "display_data"
    },
    {
     "data": {
      "text/html": [
       "<pre style=\"white-space:pre;overflow-x:auto;line-height:normal;font-family:Menlo,'DejaVu Sans Mono',consolas,'Courier New',monospace\"></pre>\n"
      ],
      "text/plain": []
     },
     "metadata": {},
     "output_type": "display_data"
    },
    {
     "data": {
      "text/html": [
       "<pre style=\"white-space:pre;overflow-x:auto;line-height:normal;font-family:Menlo,'DejaVu Sans Mono',consolas,'Courier New',monospace\">🎉 <span style=\"color: #008000; text-decoration-color: #008000; font-weight: bold\">Your generator is ready!</span> Use it to create synthetic data. Publish it so others can do the same.\n",
       "</pre>\n"
      ],
      "text/plain": [
       "🎉 \u001b[1;32mYour generator is ready!\u001b[0m Use it to create synthetic data. Publish it so others can do the same.\n"
      ]
     },
     "metadata": {},
     "output_type": "display_data"
    }
   ],
   "source": [
    "# train generator on enriched synthetic data\n",
    "config = {\n",
    "    \"name\": \"Enriched Census\",\n",
    "    \"tables\": [\n",
    "        {\n",
    "            \"name\": \"Census\",\n",
    "            \"data\": df_enriched,\n",
    "            \"tabularModelConfiguration\": {\n",
    "                \"enableModelReport\": False,  # failing\n",
    "                \"valueProtection\": False,  # specific job types\n",
    "                \"maxTrainingTime\": 2.0,\n",
    "            },\n",
    "        }\n",
    "    ],\n",
    "}\n",
    "\n",
    "g = mostly.train(config=config)"
   ]
  },
  {
   "cell_type": "markdown",
   "metadata": {
    "id": "EInzGRFXKUr0"
   },
   "source": [
    "**Apply Enrichment to Original Data**\n",
    "\n",
    "Now we use the generator trained on enriched synthetic data to add the same new features to the original sensitive data. We do this by fixing the original data as the seed input to the generator, which then produces the enriched version with the same feature transformation. This approach ensures that the original data's structure and relationships are preserved while the new features are generated consistently with the same patterns learned from the synthetic data. Your sensitive data remains untouched - yet is now enhanced with the same intelligent enrichments, thanks to the generator’s learned transformations."
   ]
  },
  {
   "cell_type": "code",
   "execution_count": null,
   "metadata": {
    "colab": {
     "base_uri": "https://localhost:8080/",
     "height": 135,
     "referenced_widgets": [
      "bd5be9699cc74a9fabd9f8ff3b4142cb",
      "80b67ef39b164de6b37a79b28fe06c50"
     ]
    },
    "id": "xX9JfwzTKUEP",
    "outputId": "cdde6c72-9b09-4d27-8bc4-67d5374a88fd"
   },
   "outputs": [
    {
     "data": {
      "text/html": [
       "<pre style=\"white-space:pre;overflow-x:auto;line-height:normal;font-family:Menlo,'DejaVu Sans Mono',consolas,'Courier New',monospace\">Created synthetic dataset <span style=\"color: #005fff; text-decoration-color: #005fff\">9a691844-6c8c-41d5-abfa-2547cdb28ca9</span> with generator <span style=\"color: #005fff; text-decoration-color: #005fff\">d221ab16-034f-404a-a6dd-77e80f66159f</span>\n",
       "</pre>\n"
      ],
      "text/plain": [
       "Created synthetic dataset \u001b[38;5;27m9a691844-6c8c-41d5-abfa-2547cdb28ca9\u001b[0m with generator \u001b[38;5;27md221ab16-034f-404a-a6dd-77e80f66159f\u001b[0m\n"
      ]
     },
     "metadata": {},
     "output_type": "display_data"
    },
    {
     "data": {
      "text/html": [
       "<pre style=\"white-space:pre;overflow-x:auto;line-height:normal;font-family:Menlo,'DejaVu Sans Mono',consolas,'Courier New',monospace\">Started synthetic dataset generation\n",
       "</pre>\n"
      ],
      "text/plain": [
       "Started synthetic dataset generation\n"
      ]
     },
     "metadata": {},
     "output_type": "display_data"
    },
    {
     "data": {
      "application/vnd.jupyter.widget-view+json": {
       "model_id": "bd5be9699cc74a9fabd9f8ff3b4142cb",
       "version_major": 2,
       "version_minor": 0
      },
      "text/plain": [
       "Output()"
      ]
     },
     "metadata": {},
     "output_type": "display_data"
    },
    {
     "data": {
      "text/html": [
       "<pre style=\"white-space:pre;overflow-x:auto;line-height:normal;font-family:Menlo,'DejaVu Sans Mono',consolas,'Courier New',monospace\"></pre>\n"
      ],
      "text/plain": []
     },
     "metadata": {},
     "output_type": "display_data"
    },
    {
     "data": {
      "text/html": [
       "<pre style=\"white-space:pre;overflow-x:auto;line-height:normal;font-family:Menlo,'DejaVu Sans Mono',consolas,'Courier New',monospace\">🎉 <span style=\"color: #008000; text-decoration-color: #008000; font-weight: bold\">Your synthetic dataset is ready!</span> Use it to consume the generated data. Publish it so others can do the same.\n",
       "</pre>\n"
      ],
      "text/plain": [
       "🎉 \u001b[1;32mYour synthetic dataset is ready!\u001b[0m Use it to consume the generated data. Publish it so others can do the same.\n"
      ]
     },
     "metadata": {},
     "output_type": "display_data"
    }
   ],
   "source": [
    "# generate enriched original data using original data as seed\n",
    "df_od_enriched = mostly.generate(g, seed=df_od).data()"
   ]
  },
  {
   "cell_type": "markdown",
   "metadata": {
    "id": "gQUlhTKdNbwC"
   },
   "source": [
    "**Display Sample of Enriched Original Data**\n",
    "\n",
    "Show a random sample of the enriched original data, including the newly added `summary` column, to see how the learned patterns were applied to your sensitive data."
   ]
  },
  {
   "cell_type": "code",
   "execution_count": null,
   "metadata": {
    "colab": {
     "base_uri": "https://localhost:8080/"
    },
    "id": "oLbZLZhYNdpg",
    "outputId": "68ea6684-f84f-4ee1-87ff-147704617d28"
   },
   "outputs": [
    {
     "name": "stdout",
     "output_type": "stream",
     "text": [
      "     age         workclass     education      marital-status  \\\n",
      "630   47  Self-emp-not-inc  Some-college            Divorced   \n",
      "283   60           Private     Bachelors       Never-married   \n",
      "908   37  Self-emp-not-inc       HS-grad  Married-civ-spouse   \n",
      "94    34         Local-gov     Bachelors  Married-civ-spouse   \n",
      "75    27           Private       HS-grad       Never-married   \n",
      "671   17                 ?          11th       Never-married   \n",
      "757   33         Local-gov     Bachelors       Never-married   \n",
      "223   54           Private       HS-grad  Married-civ-spouse   \n",
      "427   23           Private       HS-grad       Never-married   \n",
      "378   46  Self-emp-not-inc       Masters       Never-married   \n",
      "\n",
      "            occupation   relationship   race     sex  hours-per-week  \\\n",
      "630      Other-service      Unmarried  Black  Female              40   \n",
      "283     Prof-specialty  Not-in-family  White  Female              45   \n",
      "908  Handlers-cleaners      Own-child  White    Male              45   \n",
      "94     Protective-serv        Husband  White    Male              55   \n",
      "75       Other-service      Own-child  White    Male              30   \n",
      "671                  ?      Own-child  White  Female              35   \n",
      "757     Prof-specialty  Not-in-family  White  Female              30   \n",
      "223       Adm-clerical        Husband  Black    Male              40   \n",
      "427  Handlers-cleaners  Not-in-family  White    Male              38   \n",
      "378    Exec-managerial  Not-in-family  White    Male              40   \n",
      "\n",
      "    native-country income         specific_job_title work_category  \n",
      "630  United-States  <=50K   Automotive Body Repairer  Service Work  \n",
      "283  United-States  <=50K               Data Analyst  Professional  \n",
      "908  United-States  <=50K     Maintenance Specialist  Manual Labor  \n",
      "94   United-States   >50K    Chief Executive Officer  Professional  \n",
      "75   United-States  <=50K                Housekeeper  Service Work  \n",
      "671  United-States  <=50K       Retail Store Manager  Service Work  \n",
      "757  United-States  <=50K        Senior Data Analyst  Professional  \n",
      "223  United-States  <=50K     Regional Sales Manager    Management  \n",
      "427  United-States  <=50K  Quality Control Inspector  Manual Labor  \n",
      "378  United-States  <=50K       Office Administrator  Manual Labor  \n"
     ]
    }
   ],
   "source": [
    "# display a random sample of the newly enriched column\n",
    "print(df_od_enriched.sample(n=10))"
   ]
  },
  {
   "cell_type": "markdown",
   "metadata": {
    "id": "xbe1HoQT8Gri"
   },
   "source": [
    "**Conclusion**\n",
    "\n",
    "This tutorial demonstrated how to securely enrich sensitive proprietary data by:\n",
    "1. Creating a synthetic proxy\n",
    "2. Enriching the proxy with an LLM\n",
    "3. Training a generator on the enriched proxy\n",
    "4. Applying the enrichment to the sensitive data\n",
    "\n",
    "The sensitive data never leaves your secure environment, maintaining privacy while enabling LLM-based enrichment."
   ]
  }
 ],
 "metadata": {
  "colab": {
   "provenance": []
  },
  "kernelspec": {
   "display_name": "Python 3",
   "name": "python3"
  },
  "language_info": {
   "name": "python"
  },
  "widgets": {
   "application/vnd.jupyter.widget-state+json": {
    "0d7508d3c7824a388dad8c211f06fc9e": {
     "model_module": "@jupyter-widgets/output",
     "model_module_version": "1.0.0",
     "model_name": "OutputModel",
     "state": {
      "_dom_classes": [],
      "_model_module": "@jupyter-widgets/output",
      "_model_module_version": "1.0.0",
      "_model_name": "OutputModel",
      "_view_count": null,
      "_view_module": "@jupyter-widgets/output",
      "_view_module_version": "1.0.0",
      "_view_name": "OutputView",
      "layout": "IPY_MODEL_42e68ad3cc324f50bd6246dc0942988e",
      "msg_id": "",
      "outputs": [
       {
        "data": {
         "text/html": "<pre style=\"white-space:pre;overflow-x:auto;line-height:normal;font-family:Menlo,'DejaVu Sans Mono',consolas,'Courier New',monospace\"><span style=\"font-weight: bold\">Overall job progress</span>                                 <span style=\"color: #24db95; text-decoration-color: #24db95\">━━━━━━━━━━━━━━━━━━━━━━━━━━━━━━━━━━━━━━━━</span>        <span style=\"color: #800080; text-decoration-color: #800080\">100%</span>  <span style=\"color: #808000; text-decoration-color: #808000\">0:00:20 </span>\nStep data:tabular <span style=\"color: #808080; text-decoration-color: #808080\">GENERATE_DATA_TABULAR</span>              <span style=\"color: #24db95; text-decoration-color: #24db95\">━━━━━━━━━━━━━━━━━━━━━━━━━━━━━━━━━━━━━━━━</span>        <span style=\"color: #800080; text-decoration-color: #800080\">100%</span>  <span style=\"color: #808000; text-decoration-color: #808000\">0:00:00 </span>\nStep data:tabular <span style=\"color: #808080; text-decoration-color: #808080\">CREATE_DATA_REPORT_TABULAR</span>         <span style=\"color: #24db95; text-decoration-color: #24db95\">━━━━━━━━━━━━━━━━━━━━━━━━━━━━━━━━━━━━━━━━</span>        <span style=\"color: #800080; text-decoration-color: #800080\">100%</span>  <span style=\"color: #808000; text-decoration-color: #808000\">0:00:18 </span>\nStep common <span style=\"color: #808080; text-decoration-color: #808080\">FINALIZE_GENERATION</span>                      <span style=\"color: #24db95; text-decoration-color: #24db95\">━━━━━━━━━━━━━━━━━━━━━━━━━━━━━━━━━━━━━━━━</span>        <span style=\"color: #800080; text-decoration-color: #800080\">100%</span>  <span style=\"color: #808000; text-decoration-color: #808000\">0:00:02 </span>\nStep common <span style=\"color: #808080; text-decoration-color: #808080\">DELIVER_DATA</span>                             <span style=\"color: #24db95; text-decoration-color: #24db95\">━━━━━━━━━━━━━━━━━━━━━━━━━━━━━━━━━━━━━━━━</span>        <span style=\"color: #800080; text-decoration-color: #800080\">100%</span>  <span style=\"color: #808000; text-decoration-color: #808000\">0:00:00 </span>\n</pre>\n",
         "text/plain": "\u001b[1mOverall job progress\u001b[0m                                 \u001b[38;2;36;219;149m━━━━━━━━━━━━━━━━━━━━━━━━━━━━━━━━━━━━━━━━\u001b[0m        \u001b[35m100%\u001b[0m  \u001b[33m0:00:20 \u001b[0m\nStep data:tabular \u001b[38;2;128;128;128mGENERATE_DATA_TABULAR\u001b[0m              \u001b[38;2;36;219;149m━━━━━━━━━━━━━━━━━━━━━━━━━━━━━━━━━━━━━━━━\u001b[0m        \u001b[35m100%\u001b[0m  \u001b[33m0:00:00 \u001b[0m\nStep data:tabular \u001b[38;2;128;128;128mCREATE_DATA_REPORT_TABULAR\u001b[0m         \u001b[38;2;36;219;149m━━━━━━━━━━━━━━━━━━━━━━━━━━━━━━━━━━━━━━━━\u001b[0m        \u001b[35m100%\u001b[0m  \u001b[33m0:00:18 \u001b[0m\nStep common \u001b[38;2;128;128;128mFINALIZE_GENERATION\u001b[0m                      \u001b[38;2;36;219;149m━━━━━━━━━━━━━━━━━━━━━━━━━━━━━━━━━━━━━━━━\u001b[0m        \u001b[35m100%\u001b[0m  \u001b[33m0:00:02 \u001b[0m\nStep common \u001b[38;2;128;128;128mDELIVER_DATA\u001b[0m                             \u001b[38;2;36;219;149m━━━━━━━━━━━━━━━━━━━━━━━━━━━━━━━━━━━━━━━━\u001b[0m        \u001b[35m100%\u001b[0m  \u001b[33m0:00:00 \u001b[0m\n"
        },
        "metadata": {},
        "output_type": "display_data"
       }
      ],
      "tabbable": null,
      "tooltip": null
     }
    },
    "42e68ad3cc324f50bd6246dc0942988e": {
     "model_module": "@jupyter-widgets/base",
     "model_module_version": "2.0.0",
     "model_name": "LayoutModel",
     "state": {
      "_model_module": "@jupyter-widgets/base",
      "_model_module_version": "2.0.0",
      "_model_name": "LayoutModel",
      "_view_count": null,
      "_view_module": "@jupyter-widgets/base",
      "_view_module_version": "2.0.0",
      "_view_name": "LayoutView",
      "align_content": null,
      "align_items": null,
      "align_self": null,
      "border_bottom": null,
      "border_left": null,
      "border_right": null,
      "border_top": null,
      "bottom": null,
      "display": null,
      "flex": null,
      "flex_flow": null,
      "grid_area": null,
      "grid_auto_columns": null,
      "grid_auto_flow": null,
      "grid_auto_rows": null,
      "grid_column": null,
      "grid_gap": null,
      "grid_row": null,
      "grid_template_areas": null,
      "grid_template_columns": null,
      "grid_template_rows": null,
      "height": null,
      "justify_content": null,
      "justify_items": null,
      "left": null,
      "margin": null,
      "max_height": null,
      "max_width": null,
      "min_height": null,
      "min_width": null,
      "object_fit": null,
      "object_position": null,
      "order": null,
      "overflow": null,
      "padding": null,
      "right": null,
      "top": null,
      "visibility": null,
      "width": null
     }
    },
    "5c015acb44a24393975aa21a8b3605e5": {
     "model_module": "@jupyter-widgets/base",
     "model_module_version": "2.0.0",
     "model_name": "LayoutModel",
     "state": {
      "_model_module": "@jupyter-widgets/base",
      "_model_module_version": "2.0.0",
      "_model_name": "LayoutModel",
      "_view_count": null,
      "_view_module": "@jupyter-widgets/base",
      "_view_module_version": "2.0.0",
      "_view_name": "LayoutView",
      "align_content": null,
      "align_items": null,
      "align_self": null,
      "border_bottom": null,
      "border_left": null,
      "border_right": null,
      "border_top": null,
      "bottom": null,
      "display": null,
      "flex": null,
      "flex_flow": null,
      "grid_area": null,
      "grid_auto_columns": null,
      "grid_auto_flow": null,
      "grid_auto_rows": null,
      "grid_column": null,
      "grid_gap": null,
      "grid_row": null,
      "grid_template_areas": null,
      "grid_template_columns": null,
      "grid_template_rows": null,
      "height": null,
      "justify_content": null,
      "justify_items": null,
      "left": null,
      "margin": null,
      "max_height": null,
      "max_width": null,
      "min_height": null,
      "min_width": null,
      "object_fit": null,
      "object_position": null,
      "order": null,
      "overflow": null,
      "padding": null,
      "right": null,
      "top": null,
      "visibility": null,
      "width": null
     }
    },
    "80b67ef39b164de6b37a79b28fe06c50": {
     "model_module": "@jupyter-widgets/base",
     "model_module_version": "2.0.0",
     "model_name": "LayoutModel",
     "state": {
      "_model_module": "@jupyter-widgets/base",
      "_model_module_version": "2.0.0",
      "_model_name": "LayoutModel",
      "_view_count": null,
      "_view_module": "@jupyter-widgets/base",
      "_view_module_version": "2.0.0",
      "_view_name": "LayoutView",
      "align_content": null,
      "align_items": null,
      "align_self": null,
      "border_bottom": null,
      "border_left": null,
      "border_right": null,
      "border_top": null,
      "bottom": null,
      "display": null,
      "flex": null,
      "flex_flow": null,
      "grid_area": null,
      "grid_auto_columns": null,
      "grid_auto_flow": null,
      "grid_auto_rows": null,
      "grid_column": null,
      "grid_gap": null,
      "grid_row": null,
      "grid_template_areas": null,
      "grid_template_columns": null,
      "grid_template_rows": null,
      "height": null,
      "justify_content": null,
      "justify_items": null,
      "left": null,
      "margin": null,
      "max_height": null,
      "max_width": null,
      "min_height": null,
      "min_width": null,
      "object_fit": null,
      "object_position": null,
      "order": null,
      "overflow": null,
      "padding": null,
      "right": null,
      "top": null,
      "visibility": null,
      "width": null
     }
    },
    "bd5be9699cc74a9fabd9f8ff3b4142cb": {
     "model_module": "@jupyter-widgets/output",
     "model_module_version": "1.0.0",
     "model_name": "OutputModel",
     "state": {
      "_dom_classes": [],
      "_model_module": "@jupyter-widgets/output",
      "_model_module_version": "1.0.0",
      "_model_name": "OutputModel",
      "_view_count": null,
      "_view_module": "@jupyter-widgets/output",
      "_view_module_version": "1.0.0",
      "_view_name": "OutputView",
      "layout": "IPY_MODEL_80b67ef39b164de6b37a79b28fe06c50",
      "msg_id": "",
      "outputs": [
       {
        "data": {
         "text/html": "<pre style=\"white-space:pre;overflow-x:auto;line-height:normal;font-family:Menlo,'DejaVu Sans Mono',consolas,'Courier New',monospace\"><span style=\"font-weight: bold\">Overall job progress</span>                               <span style=\"color: #24db95; text-decoration-color: #24db95\">━━━━━━━━━━━━━━━━━━━━━━━━━━━━━━━━━━━━━━━━</span>          <span style=\"color: #800080; text-decoration-color: #800080\">100%</span>  <span style=\"color: #808000; text-decoration-color: #808000\">0:00:02 </span>\nStep Census:tabular <span style=\"color: #808080; text-decoration-color: #808080\">GENERATE_DATA_TABULAR</span>          <span style=\"color: #24db95; text-decoration-color: #24db95\">━━━━━━━━━━━━━━━━━━━━━━━━━━━━━━━━━━━━━━━━</span>          <span style=\"color: #800080; text-decoration-color: #800080\">100%</span>  <span style=\"color: #808000; text-decoration-color: #808000\">0:00:00 </span>\nStep common <span style=\"color: #808080; text-decoration-color: #808080\">FINALIZE_GENERATION</span>                    <span style=\"color: #24db95; text-decoration-color: #24db95\">━━━━━━━━━━━━━━━━━━━━━━━━━━━━━━━━━━━━━━━━</span>          <span style=\"color: #800080; text-decoration-color: #800080\">100%</span>  <span style=\"color: #808000; text-decoration-color: #808000\">0:00:02 </span>\nStep common <span style=\"color: #808080; text-decoration-color: #808080\">DELIVER_DATA</span>                           <span style=\"color: #24db95; text-decoration-color: #24db95\">━━━━━━━━━━━━━━━━━━━━━━━━━━━━━━━━━━━━━━━━</span>          <span style=\"color: #800080; text-decoration-color: #800080\">100%</span>  <span style=\"color: #808000; text-decoration-color: #808000\">0:00:00 </span>\n</pre>\n",
         "text/plain": "\u001b[1mOverall job progress\u001b[0m                               \u001b[38;2;36;219;149m━━━━━━━━━━━━━━━━━━━━━━━━━━━━━━━━━━━━━━━━\u001b[0m          \u001b[35m100%\u001b[0m  \u001b[33m0:00:02 \u001b[0m\nStep Census:tabular \u001b[38;2;128;128;128mGENERATE_DATA_TABULAR\u001b[0m          \u001b[38;2;36;219;149m━━━━━━━━━━━━━━━━━━━━━━━━━━━━━━━━━━━━━━━━\u001b[0m          \u001b[35m100%\u001b[0m  \u001b[33m0:00:00 \u001b[0m\nStep common \u001b[38;2;128;128;128mFINALIZE_GENERATION\u001b[0m                    \u001b[38;2;36;219;149m━━━━━━━━━━━━━━━━━━━━━━━━━━━━━━━━━━━━━━━━\u001b[0m          \u001b[35m100%\u001b[0m  \u001b[33m0:00:02 \u001b[0m\nStep common \u001b[38;2;128;128;128mDELIVER_DATA\u001b[0m                           \u001b[38;2;36;219;149m━━━━━━━━━━━━━━━━━━━━━━━━━━━━━━━━━━━━━━━━\u001b[0m          \u001b[35m100%\u001b[0m  \u001b[33m0:00:00 \u001b[0m\n"
        },
        "metadata": {},
        "output_type": "display_data"
       }
      ],
      "tabbable": null,
      "tooltip": null
     }
    },
    "dcb5bfef4ff14d1d9216d9ea39796fa1": {
     "model_module": "@jupyter-widgets/output",
     "model_module_version": "1.0.0",
     "model_name": "OutputModel",
     "state": {
      "_dom_classes": [],
      "_model_module": "@jupyter-widgets/output",
      "_model_module_version": "1.0.0",
      "_model_name": "OutputModel",
      "_view_count": null,
      "_view_module": "@jupyter-widgets/output",
      "_view_module_version": "1.0.0",
      "_view_name": "OutputView",
      "layout": "IPY_MODEL_5c015acb44a24393975aa21a8b3605e5",
      "msg_id": "",
      "outputs": [
       {
        "data": {
         "text/html": "<pre style=\"white-space:pre;overflow-x:auto;line-height:normal;font-family:Menlo,'DejaVu Sans Mono',consolas,'Courier New',monospace\"><span style=\"font-weight: bold\">Overall job progress</span>                               <span style=\"color: #24db95; text-decoration-color: #24db95\">━━━━━━━━━━━━━━━━━━━━━━━━━━━━━━━━━━━━━━━━</span>          <span style=\"color: #800080; text-decoration-color: #800080\">100%</span>  <span style=\"color: #808000; text-decoration-color: #808000\">0:00:38 </span>\nStep Census:tabular <span style=\"color: #808080; text-decoration-color: #808080\">PULL_TRAINING_DATA</span>             <span style=\"color: #24db95; text-decoration-color: #24db95\">━━━━━━━━━━━━━━━━━━━━━━━━━━━━━━━━━━━━━━━━</span>          <span style=\"color: #800080; text-decoration-color: #800080\">100%</span>  <span style=\"color: #808000; text-decoration-color: #808000\">0:00:00 </span>\nStep Census:tabular <span style=\"color: #808080; text-decoration-color: #808080\">ANALYZE_TRAINING_DATA</span>          <span style=\"color: #24db95; text-decoration-color: #24db95\">━━━━━━━━━━━━━━━━━━━━━━━━━━━━━━━━━━━━━━━━</span>          <span style=\"color: #800080; text-decoration-color: #800080\">100%</span>  <span style=\"color: #808000; text-decoration-color: #808000\">0:00:00 </span>\nStep Census:tabular <span style=\"color: #808080; text-decoration-color: #808080\">ENCODE_TRAINING_DATA</span>           <span style=\"color: #24db95; text-decoration-color: #24db95\">━━━━━━━━━━━━━━━━━━━━━━━━━━━━━━━━━━━━━━━━</span>          <span style=\"color: #800080; text-decoration-color: #800080\">100%</span>  <span style=\"color: #808000; text-decoration-color: #808000\">0:00:00 </span>\nStep Census:tabular <span style=\"color: #808080; text-decoration-color: #808080\">TRAIN_MODEL 💎</span>                 <span style=\"color: #24db95; text-decoration-color: #24db95\">━━━━━━━━━━━━━━━━━━━━━━━━━━━━━━━━━━━━━━━━</span>          <span style=\"color: #800080; text-decoration-color: #800080\">100%</span>  <span style=\"color: #808000; text-decoration-color: #808000\">0:00:38 </span>\n                                                                                                                   \n                                                                                                                   \n                                                                                                                   \n<span style=\"font-style: italic\">                                         Training log for `Census:tabular`                                         </span>\n                                                                                                                   \n                Epochs                  Samples                           Elapsed Time                   Val Loss  \n ───────────────────────────────────────────────────────────────────────────────────────────────────────────────── \n <span style=\"color: #14b57d; text-decoration-color: #14b57d; background-color: #f0fff7\">                12.00 </span><span style=\"background-color: #f0fff7\"> </span><span style=\"color: #14b57d; text-decoration-color: #14b57d; background-color: #f0fff7\">                  9,375 </span><span style=\"background-color: #f0fff7\"> </span><span style=\"color: #14b57d; text-decoration-color: #14b57d; background-color: #f0fff7\">                                  25s </span><span style=\"background-color: #f0fff7\"> </span><span style=\"color: #14b57d; text-decoration-color: #14b57d; background-color: #f0fff7\">                  26.0087 </span> \n <span style=\"color: #808080; text-decoration-color: #808080\">                13.00 </span> <span style=\"color: #808080; text-decoration-color: #808080\">                 10,156 </span> <span style=\"color: #808080; text-decoration-color: #808080\">                                  27s </span> <span style=\"color: #808080; text-decoration-color: #808080\">                  26.1905 </span> \n <span style=\"color: #808080; text-decoration-color: #808080\">                14.00 </span> <span style=\"color: #808080; text-decoration-color: #808080\">                 10,937 </span> <span style=\"color: #808080; text-decoration-color: #808080\">                                  29s </span> <span style=\"color: #808080; text-decoration-color: #808080\">                  26.0955 </span> \n <span style=\"color: #808080; text-decoration-color: #808080\">                15.00 </span> <span style=\"color: #808080; text-decoration-color: #808080\">                 11,718 </span> <span style=\"color: #808080; text-decoration-color: #808080\">                                  31s </span> <span style=\"color: #808080; text-decoration-color: #808080\">                  26.4537 </span> \n <span style=\"color: #808080; text-decoration-color: #808080\">                16.00 </span> <span style=\"color: #808080; text-decoration-color: #808080\">                 12,499 </span> <span style=\"color: #808080; text-decoration-color: #808080\">                                  34s </span> <span style=\"color: #808080; text-decoration-color: #808080\">                  26.1656 </span> \n <span style=\"color: #808080; text-decoration-color: #808080\">                17.00 </span> <span style=\"color: #808080; text-decoration-color: #808080\">                 13,280 </span> <span style=\"color: #808080; text-decoration-color: #808080\">                                  36s </span> <span style=\"color: #808080; text-decoration-color: #808080\">                  26.6919 </span> \n                                                                                                                   \n</pre>\n",
         "text/plain": "\u001b[1mOverall job progress\u001b[0m                               \u001b[38;2;36;219;149m━━━━━━━━━━━━━━━━━━━━━━━━━━━━━━━━━━━━━━━━\u001b[0m          \u001b[35m100%\u001b[0m  \u001b[33m0:00:38 \u001b[0m\nStep Census:tabular \u001b[38;2;128;128;128mPULL_TRAINING_DATA\u001b[0m             \u001b[38;2;36;219;149m━━━━━━━━━━━━━━━━━━━━━━━━━━━━━━━━━━━━━━━━\u001b[0m          \u001b[35m100%\u001b[0m  \u001b[33m0:00:00 \u001b[0m\nStep Census:tabular \u001b[38;2;128;128;128mANALYZE_TRAINING_DATA\u001b[0m          \u001b[38;2;36;219;149m━━━━━━━━━━━━━━━━━━━━━━━━━━━━━━━━━━━━━━━━\u001b[0m          \u001b[35m100%\u001b[0m  \u001b[33m0:00:00 \u001b[0m\nStep Census:tabular \u001b[38;2;128;128;128mENCODE_TRAINING_DATA\u001b[0m           \u001b[38;2;36;219;149m━━━━━━━━━━━━━━━━━━━━━━━━━━━━━━━━━━━━━━━━\u001b[0m          \u001b[35m100%\u001b[0m  \u001b[33m0:00:00 \u001b[0m\nStep Census:tabular \u001b[38;2;128;128;128mTRAIN_MODEL 💎\u001b[0m                 \u001b[38;2;36;219;149m━━━━━━━━━━━━━━━━━━━━━━━━━━━━━━━━━━━━━━━━\u001b[0m          \u001b[35m100%\u001b[0m  \u001b[33m0:00:38 \u001b[0m\n                                                                                                                   \n                                                                                                                   \n                                                                                                                   \n\u001b[3m                                         Training log for `Census:tabular`                                         \u001b[0m\n                                                                                                                   \n                Epochs                  Samples                           Elapsed Time                   Val Loss  \n ───────────────────────────────────────────────────────────────────────────────────────────────────────────────── \n \u001b[38;2;20;181;125;48;2;240;255;247m \u001b[0m\u001b[38;2;20;181;125;48;2;240;255;247m               12.00\u001b[0m\u001b[38;2;20;181;125;48;2;240;255;247m \u001b[0m\u001b[48;2;240;255;247m \u001b[0m\u001b[38;2;20;181;125;48;2;240;255;247m \u001b[0m\u001b[38;2;20;181;125;48;2;240;255;247m                 9,375\u001b[0m\u001b[38;2;20;181;125;48;2;240;255;247m \u001b[0m\u001b[48;2;240;255;247m \u001b[0m\u001b[38;2;20;181;125;48;2;240;255;247m \u001b[0m\u001b[38;2;20;181;125;48;2;240;255;247m                                 25s\u001b[0m\u001b[38;2;20;181;125;48;2;240;255;247m \u001b[0m\u001b[48;2;240;255;247m \u001b[0m\u001b[38;2;20;181;125;48;2;240;255;247m \u001b[0m\u001b[38;2;20;181;125;48;2;240;255;247m                 26.0087\u001b[0m\u001b[38;2;20;181;125;48;2;240;255;247m \u001b[0m \n \u001b[90m \u001b[0m\u001b[90m               13.00\u001b[0m\u001b[90m \u001b[0m \u001b[90m \u001b[0m\u001b[90m                10,156\u001b[0m\u001b[90m \u001b[0m \u001b[90m \u001b[0m\u001b[90m                                 27s\u001b[0m\u001b[90m \u001b[0m \u001b[90m \u001b[0m\u001b[90m                 26.1905\u001b[0m\u001b[90m \u001b[0m \n \u001b[90m \u001b[0m\u001b[90m               14.00\u001b[0m\u001b[90m \u001b[0m \u001b[90m \u001b[0m\u001b[90m                10,937\u001b[0m\u001b[90m \u001b[0m \u001b[90m \u001b[0m\u001b[90m                                 29s\u001b[0m\u001b[90m \u001b[0m \u001b[90m \u001b[0m\u001b[90m                 26.0955\u001b[0m\u001b[90m \u001b[0m \n \u001b[90m \u001b[0m\u001b[90m               15.00\u001b[0m\u001b[90m \u001b[0m \u001b[90m \u001b[0m\u001b[90m                11,718\u001b[0m\u001b[90m \u001b[0m \u001b[90m \u001b[0m\u001b[90m                                 31s\u001b[0m\u001b[90m \u001b[0m \u001b[90m \u001b[0m\u001b[90m                 26.4537\u001b[0m\u001b[90m \u001b[0m \n \u001b[90m \u001b[0m\u001b[90m               16.00\u001b[0m\u001b[90m \u001b[0m \u001b[90m \u001b[0m\u001b[90m                12,499\u001b[0m\u001b[90m \u001b[0m \u001b[90m \u001b[0m\u001b[90m                                 34s\u001b[0m\u001b[90m \u001b[0m \u001b[90m \u001b[0m\u001b[90m                 26.1656\u001b[0m\u001b[90m \u001b[0m \n \u001b[90m \u001b[0m\u001b[90m               17.00\u001b[0m\u001b[90m \u001b[0m \u001b[90m \u001b[0m\u001b[90m                13,280\u001b[0m\u001b[90m \u001b[0m \u001b[90m \u001b[0m\u001b[90m                                 36s\u001b[0m\u001b[90m \u001b[0m \u001b[90m \u001b[0m\u001b[90m                 26.6919\u001b[0m\u001b[90m \u001b[0m \n                                                                                                                   \n"
        },
        "metadata": {},
        "output_type": "display_data"
       }
      ],
      "tabbable": null,
      "tooltip": null
     }
    }
   }
  }
 },
 "nbformat": 4,
 "nbformat_minor": 0
}
